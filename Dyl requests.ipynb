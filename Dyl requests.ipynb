{
 "metadata": {
  "name": ""
 },
 "nbformat": 3,
 "nbformat_minor": 0,
 "worksheets": [
  {
   "cells": [
    {
     "cell_type": "code",
     "collapsed": false,
     "input": [
      "import requests"
     ],
     "language": "python",
     "metadata": {},
     "outputs": []
    },
    {
     "cell_type": "code",
     "collapsed": false,
     "input": [
      "email = 'tomgreen@hotmail.com'\n",
      "pwd   = 'tomgreen'\n",
      "payload = {'email': user, 'password': pwd} # POST form params for credentials\n",
      "url = 'https://www.strava.com/session'\n",
      "\n",
      "r = requests.post(url, data=payload)\n",
      "\n",
      "# If successful, server should have set a _strava3_session cookie on response, which you can access from r.cookies\n",
      "\n",
      "# Fetch a new page\n",
      "scrape_url = 'http://www.strava.com/activities/189759505'\n",
      "r_scrape   = requests.get(url, cookies=r.cookies)"
     ],
     "language": "python",
     "metadata": {},
     "outputs": []
    }
   ],
   "metadata": {}
  }
 ]
}