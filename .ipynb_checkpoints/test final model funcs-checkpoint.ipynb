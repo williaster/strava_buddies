{
 "metadata": {
  "name": ""
 },
 "nbformat": 3,
 "nbformat_minor": 0,
 "worksheets": [
  {
   "cells": [
    {
     "cell_type": "code",
     "collapsed": false,
     "input": [
      "import app.buddies_cached as buds\n",
      "import pymysql as mdb\n",
      "import pandas as pd"
     ],
     "language": "python",
     "metadata": {},
     "outputs": [],
     "prompt_number": 1
    },
    {
     "cell_type": "code",
     "collapsed": false,
     "input": [
      "%load_ext autoreload\n",
      "%autoreload 2"
     ],
     "language": "python",
     "metadata": {},
     "outputs": [],
     "prompt_number": 2
    },
    {
     "cell_type": "code",
     "collapsed": false,
     "input": [
      "conn = mdb.connect(user=\"root\", host=\"localhost\", \n",
      "                   db=\"accts_and_apps\", charset='utf8')"
     ],
     "language": "python",
     "metadata": {},
     "outputs": [
      {
       "output_type": "stream",
       "stream": "stderr",
       "text": [
        "[autoreload of email.Message failed: Traceback (most recent call last):\n",
        "  File \"/Users/christopherwilliams/dotfiles/virtualenvs/.virtualenvs/lighttable/lib/python2.7/site-packages/IPython/extensions/autoreload.py\", line 229, in check\n",
        "    superreload(m, reload, self.old_objects)\n",
        "TypeError: reload() argument must be module\n",
        "]\n"
       ]
      }
     ],
     "prompt_number": 3
    },
    {
     "cell_type": "code",
     "collapsed": false,
     "input": [
      "me     = 1153632\n",
      "rob    = 653\n",
      "nicole = 164890\n",
      "garcia = 1744737\n",
      "dylan  = 3558557\n",
      "n_friends = buds.get_athlete_connections(conn, nicole)\n",
      "r_friends = buds.get_athlete_connections(conn, rob)\n",
      "c_friends = buds.get_athlete_connections(conn, me)\n",
      "g_friends = buds.get_athlete_connections(conn, garcia)\n"
     ],
     "language": "python",
     "metadata": {},
     "outputs": [],
     "prompt_number": 5
    },
    {
     "cell_type": "code",
     "collapsed": false,
     "input": [
      "n_act_ids = [ dct[\"id\"] for dct in buds.get_user_activity_options(conn, nicole, 5) ]\n",
      "r_act_ids = [ dct[\"id\"] for dct in buds.get_user_activity_options(conn, rob, 5) ]"
     ],
     "language": "python",
     "metadata": {},
     "outputs": [
      {
       "output_type": "stream",
       "stream": "stdout",
       "text": [
        "returning 5 activities\n",
        "returning 5 activities"
       ]
      },
      {
       "output_type": "stream",
       "stream": "stdout",
       "text": [
        "\n"
       ]
      }
     ],
     "prompt_number": 7
    },
    {
     "cell_type": "code",
     "collapsed": false,
     "input": [
      "n_buddies   = buds.get_candidate_buddies(conn, nicole, n_act_ids)\n",
      "n_buddy_ids = n_buddies.keys()\n",
      "\n",
      "r_buddies   = buds.get_candidate_buddies(conn, rob, r_act_ids)\n",
      "r_buddy_ids = r_buddies.keys()"
     ],
     "language": "python",
     "metadata": {},
     "outputs": [
      {
       "output_type": "stream",
       "stream": "stdout",
       "text": [
        "214 unique segments, 304 unique candidate buddies of 2818 total pulled for activities [191932307, 191460703, 190726534, 190358914, 189444942]\n",
        "216 unique segments, 312 unique candidate buddies of 1840 total pulled for activities [192602240, 191461002, 190805124, 188095897, 186062105]"
       ]
      },
      {
       "output_type": "stream",
       "stream": "stdout",
       "text": [
        "\n"
       ]
      }
     ],
     "prompt_number": 8
    },
    {
     "cell_type": "code",
     "collapsed": false,
     "input": [
      "n_sim_friends, n_sim_buddies,d = buds.get_similarities(conn, nicole, n_friends, n_buddy_ids)"
     ],
     "language": "python",
     "metadata": {},
     "outputs": [],
     "prompt_number": 32
    },
    {
     "cell_type": "code",
     "collapsed": false,
     "input": [
      "n_sim_buddies.head()"
     ],
     "language": "python",
     "metadata": {},
     "outputs": [
      {
       "html": [
        "<div style=\"max-height:1000px;max-width:1500px;overflow:auto;\">\n",
        "<table border=\"1\" class=\"dataframe\">\n",
        "  <thead>\n",
        "    <tr style=\"text-align: right;\">\n",
        "      <th></th>\n",
        "      <th>sim</th>\n",
        "      <th>sim_ride</th>\n",
        "      <th>sim_run</th>\n",
        "      <th>sim_dowfreqs</th>\n",
        "      <th>sim_dist</th>\n",
        "      <th>sim_var</th>\n",
        "    </tr>\n",
        "  </thead>\n",
        "  <tbody>\n",
        "    <tr>\n",
        "      <th>170499</th>\n",
        "      <td> 0.177123</td>\n",
        "      <td> 0.334279</td>\n",
        "      <td> 0.655585</td>\n",
        "      <td> 1.854155</td>\n",
        "      <td> 0.194962</td>\n",
        "      <td> 0.992953</td>\n",
        "    </tr>\n",
        "    <tr>\n",
        "      <th>1033  </th>\n",
        "      <td> 0.358379</td>\n",
        "      <td> 0.584367</td>\n",
        "      <td> 0.655585</td>\n",
        "      <td> 3.179543</td>\n",
        "      <td> 0.396098</td>\n",
        "      <td> 0.994349</td>\n",
        "    </tr>\n",
        "    <tr>\n",
        "      <th>503822</th>\n",
        "      <td> 0.157953</td>\n",
        "      <td> 0.292546</td>\n",
        "      <td> 0.904919</td>\n",
        "      <td> 2.604608</td>\n",
        "      <td> 0.174392</td>\n",
        "      <td> 0.990547</td>\n",
        "    </tr>\n",
        "    <tr>\n",
        "      <th>143888</th>\n",
        "      <td> 0.625833</td>\n",
        "      <td> 0.875464</td>\n",
        "      <td> 0.655585</td>\n",
        "      <td> 4.471989</td>\n",
        "      <td> 0.904260</td>\n",
        "      <td> 0.999425</td>\n",
        "    </tr>\n",
        "    <tr>\n",
        "      <th>43537 </th>\n",
        "      <td> 0.187550</td>\n",
        "      <td> 0.467725</td>\n",
        "      <td> 0.655585</td>\n",
        "      <td> 7.269815</td>\n",
        "      <td> 0.194389</td>\n",
        "      <td> 0.991961</td>\n",
        "    </tr>\n",
        "  </tbody>\n",
        "</table>\n",
        "</div>"
       ],
       "metadata": {},
       "output_type": "pyout",
       "prompt_number": 34,
       "text": [
        "             sim  sim_ride   sim_run  sim_dowfreqs  sim_dist   sim_var\n",
        "170499  0.177123  0.334279  0.655585      1.854155  0.194962  0.992953\n",
        "1033    0.358379  0.584367  0.655585      3.179543  0.396098  0.994349\n",
        "503822  0.157953  0.292546  0.904919      2.604608  0.174392  0.990547\n",
        "143888  0.625833  0.875464  0.655585      4.471989  0.904260  0.999425\n",
        "43537   0.187550  0.467725  0.655585      7.269815  0.194389  0.991961"
       ]
      }
     ],
     "prompt_number": 34
    },
    {
     "cell_type": "code",
     "collapsed": false,
     "input": [
      "d.head()"
     ],
     "language": "python",
     "metadata": {},
     "outputs": [
      {
       "html": [
        "<div style=\"max-height:1000px;max-width:1500px;overflow:auto;\">\n",
        "<table border=\"1\" class=\"dataframe\">\n",
        "  <thead>\n",
        "    <tr style=\"text-align: right;\">\n",
        "      <th></th>\n",
        "      <th>ride_count</th>\n",
        "      <th>run_count</th>\n",
        "      <th>mon_freq</th>\n",
        "      <th>tues_freq</th>\n",
        "      <th>wed_freq</th>\n",
        "      <th>thurs_freq</th>\n",
        "      <th>fri_freq</th>\n",
        "      <th>sat_freq</th>\n",
        "      <th>sun_freq</th>\n",
        "      <th>annual_dist_median</th>\n",
        "      <th>annual_dist_std</th>\n",
        "    </tr>\n",
        "  </thead>\n",
        "  <tbody>\n",
        "    <tr>\n",
        "      <th>170499</th>\n",
        "      <td>  7</td>\n",
        "      <td> 0</td>\n",
        "      <td> 0.000</td>\n",
        "      <td> 0.143</td>\n",
        "      <td> 0.143</td>\n",
        "      <td> 0.000</td>\n",
        "      <td> 0.143</td>\n",
        "      <td> 0.143</td>\n",
        "      <td> 0.429</td>\n",
        "      <td>  35.0</td>\n",
        "      <td> 31.8</td>\n",
        "    </tr>\n",
        "    <tr>\n",
        "      <th>1033  </th>\n",
        "      <td> 16</td>\n",
        "      <td> 0</td>\n",
        "      <td> 0.000</td>\n",
        "      <td> 0.125</td>\n",
        "      <td> 0.188</td>\n",
        "      <td> 0.125</td>\n",
        "      <td> 0.188</td>\n",
        "      <td> 0.188</td>\n",
        "      <td> 0.188</td>\n",
        "      <td> 121.1</td>\n",
        "      <td> 37.7</td>\n",
        "    </tr>\n",
        "    <tr>\n",
        "      <th>503822</th>\n",
        "      <td>  4</td>\n",
        "      <td> 6</td>\n",
        "      <td> 0.222</td>\n",
        "      <td> 0.000</td>\n",
        "      <td> 0.222</td>\n",
        "      <td> 0.000</td>\n",
        "      <td> 0.111</td>\n",
        "      <td> 0.222</td>\n",
        "      <td> 0.222</td>\n",
        "      <td>  15.0</td>\n",
        "      <td> 21.6</td>\n",
        "    </tr>\n",
        "    <tr>\n",
        "      <th>143888</th>\n",
        "      <td> 22</td>\n",
        "      <td> 0</td>\n",
        "      <td> 0.176</td>\n",
        "      <td> 0.118</td>\n",
        "      <td> 0.176</td>\n",
        "      <td> 0.118</td>\n",
        "      <td> 0.059</td>\n",
        "      <td> 0.176</td>\n",
        "      <td> 0.176</td>\n",
        "      <td> 168.0</td>\n",
        "      <td> 59.0</td>\n",
        "    </tr>\n",
        "    <tr>\n",
        "      <th>43537 </th>\n",
        "      <td> 13</td>\n",
        "      <td> 0</td>\n",
        "      <td> 0.182</td>\n",
        "      <td> 0.091</td>\n",
        "      <td> 0.182</td>\n",
        "      <td> 0.091</td>\n",
        "      <td> 0.182</td>\n",
        "      <td> 0.182</td>\n",
        "      <td> 0.091</td>\n",
        "      <td>  34.5</td>\n",
        "      <td> 27.6</td>\n",
        "    </tr>\n",
        "  </tbody>\n",
        "</table>\n",
        "</div>"
       ],
       "metadata": {},
       "output_type": "pyout",
       "prompt_number": 35,
       "text": [
        "        ride_count  run_count  mon_freq  tues_freq  wed_freq  thurs_freq  \\\n",
        "170499           7          0     0.000      0.143     0.143       0.000   \n",
        "1033            16          0     0.000      0.125     0.188       0.125   \n",
        "503822           4          6     0.222      0.000     0.222       0.000   \n",
        "143888          22          0     0.176      0.118     0.176       0.118   \n",
        "43537           13          0     0.182      0.091     0.182       0.091   \n",
        "\n",
        "        fri_freq  sat_freq  sun_freq  annual_dist_median  annual_dist_std  \n",
        "170499     0.143     0.143     0.429                35.0             31.8  \n",
        "1033       0.188     0.188     0.188               121.1             37.7  \n",
        "503822     0.111     0.222     0.222                15.0             21.6  \n",
        "143888     0.059     0.176     0.176               168.0             59.0  \n",
        "43537      0.182     0.182     0.091                34.5             27.6  "
       ]
      }
     ],
     "prompt_number": 35
    }
   ],
   "metadata": {}
  }
 ]
}