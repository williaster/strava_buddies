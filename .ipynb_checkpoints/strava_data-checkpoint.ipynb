{
 "metadata": {
  "name": ""
 },
 "nbformat": 3,
 "nbformat_minor": 0,
 "worksheets": [
  {
   "cells": [
    {
     "cell_type": "code",
     "collapsed": false,
     "input": [
      "from stravalib import Client, unithelper\n",
      "import pandas as pd\n",
      "import pymysql as mdb"
     ],
     "language": "python",
     "metadata": {},
     "outputs": [],
     "prompt_number": 1
    },
    {
     "cell_type": "code",
     "collapsed": false,
     "input": [
      "from py.strava_athlete_id_prober import get_access_token"
     ],
     "language": "python",
     "metadata": {},
     "outputs": [],
     "prompt_number": 2
    },
    {
     "cell_type": "code",
     "collapsed": false,
     "input": [
      "DB     = \"accts_and_apps\"\n",
      "conn   = mdb.connect('localhost', 'root', '', DB,\n",
      "                     autocommit=True, charset=\"utf8\") \n",
      "APP_ID = 102\n",
      "token  = get_access_token(conn, APP_ID)\n",
      "mytoken = 'e21378aea6e4971836150bab87dcfe3edc09291f' # id 1153632\n",
      "nicole_token = \"e2cbe9a4e0ee9341affc060be9826a48d699162f\" # id 164890\n",
      "robm_token   = \"b7be2858c1a9dc69b82bc8128743af7e31d475aa\" # id 653\n",
      "dylan_token  = \"cef07a0c9507188155b3337fd131fdf3d062ff0c\" # 3558557\n",
      "robz_token   = \"31ffc84e937c9e769a0a73bf02159444325508e8\"\n",
      "davidg_token = \"fe5245083a5c0c717e546a37fe20bdbbc5cdffce\" # 1744737"
     ],
     "language": "python",
     "metadata": {},
     "outputs": [],
     "prompt_number": 3
    },
    {
     "cell_type": "code",
     "collapsed": false,
     "input": [
      "client = Client()\n",
      "client.access_token = token"
     ],
     "language": "python",
     "metadata": {},
     "outputs": [],
     "prompt_number": 4
    },
    {
     "cell_type": "code",
     "collapsed": false,
     "input": [
      "token"
     ],
     "language": "python",
     "metadata": {},
     "outputs": [
      {
       "metadata": {},
       "output_type": "pyout",
       "prompt_number": 5,
       "text": [
        "u'e21378aea6e4971836150bab87dcfe3edc09291f'"
       ]
      }
     ],
     "prompt_number": 5
    },
    {
     "cell_type": "code",
     "collapsed": false,
     "input": [
      "d={1:1}\n",
      "d.pop(1)\n",
      "d.pop(0)"
     ],
     "language": "python",
     "metadata": {},
     "outputs": [
      {
       "ename": "KeyError",
       "evalue": "0",
       "output_type": "pyerr",
       "traceback": [
        "\u001b[0;31m---------------------------------------------------------------------------\u001b[0m\n\u001b[0;31mKeyError\u001b[0m                                  Traceback (most recent call last)",
        "\u001b[0;32m<ipython-input-382-1978482e292d>\u001b[0m in \u001b[0;36m<module>\u001b[0;34m()\u001b[0m\n\u001b[1;32m      1\u001b[0m \u001b[0md\u001b[0m\u001b[0;34m=\u001b[0m\u001b[0;34m{\u001b[0m\u001b[0;36m1\u001b[0m\u001b[0;34m:\u001b[0m\u001b[0;36m1\u001b[0m\u001b[0;34m}\u001b[0m\u001b[0;34m\u001b[0m\u001b[0m\n\u001b[1;32m      2\u001b[0m \u001b[0md\u001b[0m\u001b[0;34m.\u001b[0m\u001b[0mpop\u001b[0m\u001b[0;34m(\u001b[0m\u001b[0;36m1\u001b[0m\u001b[0;34m)\u001b[0m\u001b[0;34m\u001b[0m\u001b[0m\n\u001b[0;32m----> 3\u001b[0;31m \u001b[0md\u001b[0m\u001b[0;34m.\u001b[0m\u001b[0mpop\u001b[0m\u001b[0;34m(\u001b[0m\u001b[0;36m0\u001b[0m\u001b[0;34m)\u001b[0m\u001b[0;34m\u001b[0m\u001b[0m\n\u001b[0m",
        "\u001b[0;31mKeyError\u001b[0m: 0"
       ]
      }
     ],
     "prompt_number": 382
    },
    {
     "cell_type": "code",
     "collapsed": false,
     "input": [
      "athlete = client.get_athlete()"
     ],
     "language": "python",
     "metadata": {},
     "outputs": [],
     "prompt_number": 6
    },
    {
     "cell_type": "code",
     "collapsed": false,
     "input": [
      "athlete.firstname"
     ],
     "language": "python",
     "metadata": {},
     "outputs": [
      {
       "metadata": {},
       "output_type": "pyout",
       "prompt_number": 7,
       "text": [
        "u'christophee'"
       ]
      }
     ],
     "prompt_number": 7
    },
    {
     "cell_type": "code",
     "collapsed": false,
     "input": [
      "#all_activities = [activity for activity in client.get_activities()]"
     ],
     "language": "python",
     "metadata": {},
     "outputs": [],
     "prompt_number": 8
    },
    {
     "cell_type": "code",
     "collapsed": false,
     "input": [
      "#len(all_activities)"
     ],
     "language": "python",
     "metadata": {},
     "outputs": [],
     "prompt_number": 9
    },
    {
     "cell_type": "code",
     "collapsed": false,
     "input": [
      "#activities_subset = all_activities[:10]"
     ],
     "language": "python",
     "metadata": {},
     "outputs": [],
     "prompt_number": 10
    },
    {
     "cell_type": "code",
     "collapsed": false,
     "input": [
      "#activities_subset"
     ],
     "language": "python",
     "metadata": {},
     "outputs": [],
     "prompt_number": 11
    },
    {
     "cell_type": "code",
     "collapsed": false,
     "input": [
      "#activity_trainer = activities_subset[0]\n",
      "#activity_commute = activities_subset[1]\n",
      "#activity_swim    = activities_subset[2]\n",
      "#activity_ride    = activities_subset[6]"
     ],
     "language": "python",
     "metadata": {},
     "outputs": [],
     "prompt_number": 12
    },
    {
     "cell_type": "code",
     "collapsed": false,
     "input": [
      "#activity_trainer.type == \"Ride\""
     ],
     "language": "python",
     "metadata": {},
     "outputs": [],
     "prompt_number": 13
    },
    {
     "cell_type": "code",
     "collapsed": false,
     "input": [
      "%load_ext autoreload\n",
      "%autoreload 2"
     ],
     "language": "python",
     "metadata": {},
     "outputs": [],
     "prompt_number": 8
    },
    {
     "cell_type": "code",
     "collapsed": false,
     "input": [
      "import datetime\n",
      "dt = datetime.datetime(2014, 8, 1)"
     ],
     "language": "python",
     "metadata": {},
     "outputs": [
      {
       "output_type": "stream",
       "stream": "stderr",
       "text": [
        "[autoreload of email.Message failed: Traceback (most recent call last):\n",
        "  File \"/Users/christopherwilliams/dotfiles/virtualenvs/.virtualenvs/lighttable/lib/python2.7/site-packages/IPython/extensions/autoreload.py\", line 229, in check\n",
        "    superreload(m, reload, self.old_objects)\n",
        "TypeError: reload() argument must be module\n",
        "]\n"
       ]
      }
     ],
     "prompt_number": 9
    },
    {
     "cell_type": "code",
     "collapsed": false,
     "input": [
      "activities = client.get_activities(limit=40)"
     ],
     "language": "python",
     "metadata": {},
     "outputs": [],
     "prompt_number": 10
    },
    {
     "cell_type": "code",
     "collapsed": false,
     "input": [
      "from app.filters import ActivityFilter, filter_segment_efforts"
     ],
     "language": "python",
     "metadata": {},
     "outputs": [],
     "prompt_number": 11
    },
    {
     "cell_type": "code",
     "collapsed": false,
     "input": [
      "activity_filt = ActivityFilter(activities, **{\"ids\":True})"
     ],
     "language": "python",
     "metadata": {},
     "outputs": [],
     "prompt_number": 12
    },
    {
     "cell_type": "code",
     "collapsed": false,
     "input": [
      "filtered_ids = [act for act in activity_filt]\n",
      "filtered_ids"
     ],
     "language": "python",
     "metadata": {},
     "outputs": [
      {
       "output_type": "stream",
       "stream": "stderr",
       "text": [
        "WARNING:stravalib.model.Activity:No such attribute device_watts on entity <Activity id=None name=None resource_state=None>\n"
       ]
      },
      {
       "output_type": "stream",
       "stream": "stderr",
       "text": [
        "stravalib.model.Activity: WARNING  No such attribute device_watts on entity <Activity id=None name=None resource_state=None>\n"
       ]
      },
      {
       "output_type": "stream",
       "stream": "stderr",
       "text": [
        "WARNING:stravalib.model.Activity:No such attribute device_watts on entity <Activity id=None name=None resource_state=None>\n"
       ]
      },
      {
       "output_type": "stream",
       "stream": "stderr",
       "text": [
        "stravalib.model.Activity: WARNING  No such attribute device_watts on entity <Activity id=None name=None resource_state=None>\n"
       ]
      },
      {
       "output_type": "stream",
       "stream": "stderr",
       "text": [
        "WARNING:stravalib.model.Activity:No such attribute device_watts on entity <Activity id=None name=None resource_state=None>\n"
       ]
      },
      {
       "output_type": "stream",
       "stream": "stderr",
       "text": [
        "stravalib.model.Activity: WARNING  No such attribute device_watts on entity <Activity id=None name=None resource_state=None>\n"
       ]
      },
      {
       "output_type": "stream",
       "stream": "stderr",
       "text": [
        "WARNING:stravalib.model.Activity:No such attribute device_watts on entity <Activity id=None name=None resource_state=None>\n"
       ]
      },
      {
       "output_type": "stream",
       "stream": "stderr",
       "text": [
        "stravalib.model.Activity: WARNING  No such attribute device_watts on entity <Activity id=None name=None resource_state=None>\n"
       ]
      },
      {
       "output_type": "stream",
       "stream": "stderr",
       "text": [
        "WARNING:stravalib.model.Activity:No such attribute device_watts on entity <Activity id=None name=None resource_state=None>\n"
       ]
      },
      {
       "output_type": "stream",
       "stream": "stderr",
       "text": [
        "stravalib.model.Activity: WARNING  No such attribute device_watts on entity <Activity id=None name=None resource_state=None>\n"
       ]
      },
      {
       "output_type": "stream",
       "stream": "stderr",
       "text": [
        "WARNING:stravalib.model.Activity:No such attribute device_watts on entity <Activity id=None name=None resource_state=None>\n"
       ]
      },
      {
       "output_type": "stream",
       "stream": "stderr",
       "text": [
        "stravalib.model.Activity: WARNING  No such attribute device_watts on entity <Activity id=None name=None resource_state=None>\n"
       ]
      },
      {
       "output_type": "stream",
       "stream": "stderr",
       "text": [
        "WARNING:stravalib.model.Activity:No such attribute device_watts on entity <Activity id=None name=None resource_state=None>\n"
       ]
      },
      {
       "output_type": "stream",
       "stream": "stderr",
       "text": [
        "stravalib.model.Activity: WARNING  No such attribute device_watts on entity <Activity id=None name=None resource_state=None>\n"
       ]
      },
      {
       "output_type": "stream",
       "stream": "stderr",
       "text": [
        "WARNING:stravalib.model.Activity:No such attribute device_watts on entity <Activity id=None name=None resource_state=None>\n"
       ]
      },
      {
       "output_type": "stream",
       "stream": "stderr",
       "text": [
        "stravalib.model.Activity: WARNING  No such attribute device_watts on entity <Activity id=None name=None resource_state=None>\n"
       ]
      },
      {
       "output_type": "stream",
       "stream": "stderr",
       "text": [
        "WARNING:stravalib.model.Activity:No such attribute device_watts on entity <Activity id=None name=None resource_state=None>\n"
       ]
      },
      {
       "output_type": "stream",
       "stream": "stderr",
       "text": [
        "stravalib.model.Activity: WARNING  No such attribute device_watts on entity <Activity id=None name=None resource_state=None>\n"
       ]
      },
      {
       "output_type": "stream",
       "stream": "stderr",
       "text": [
        "WARNING:stravalib.model.Activity:No such attribute device_watts on entity <Activity id=None name=None resource_state=None>\n"
       ]
      },
      {
       "output_type": "stream",
       "stream": "stderr",
       "text": [
        "stravalib.model.Activity: WARNING  No such attribute device_watts on entity <Activity id=None name=None resource_state=None>\n"
       ]
      },
      {
       "output_type": "stream",
       "stream": "stderr",
       "text": [
        "WARNING:stravalib.model.Activity:No such attribute device_watts on entity <Activity id=None name=None resource_state=None>\n"
       ]
      },
      {
       "output_type": "stream",
       "stream": "stderr",
       "text": [
        "stravalib.model.Activity: WARNING  No such attribute device_watts on entity <Activity id=None name=None resource_state=None>\n"
       ]
      },
      {
       "output_type": "stream",
       "stream": "stderr",
       "text": [
        "WARNING:stravalib.model.Activity:No such attribute device_watts on entity <Activity id=None name=None resource_state=None>\n"
       ]
      },
      {
       "output_type": "stream",
       "stream": "stderr",
       "text": [
        "stravalib.model.Activity: WARNING  No such attribute device_watts on entity <Activity id=None name=None resource_state=None>\n"
       ]
      },
      {
       "output_type": "stream",
       "stream": "stderr",
       "text": [
        "WARNING:stravalib.model.Activity:No such attribute device_watts on entity <Activity id=None name=None resource_state=None>\n"
       ]
      },
      {
       "output_type": "stream",
       "stream": "stderr",
       "text": [
        "stravalib.model.Activity: WARNING  No such attribute device_watts on entity <Activity id=None name=None resource_state=None>\n"
       ]
      },
      {
       "output_type": "stream",
       "stream": "stderr",
       "text": [
        "WARNING:stravalib.model.Activity:No such attribute device_watts on entity <Activity id=None name=None resource_state=None>\n"
       ]
      },
      {
       "output_type": "stream",
       "stream": "stderr",
       "text": [
        "stravalib.model.Activity: WARNING  No such attribute device_watts on entity <Activity id=None name=None resource_state=None>\n"
       ]
      },
      {
       "output_type": "stream",
       "stream": "stderr",
       "text": [
        "WARNING:stravalib.model.Activity:No such attribute device_watts on entity <Activity id=None name=None resource_state=None>\n"
       ]
      },
      {
       "output_type": "stream",
       "stream": "stderr",
       "text": [
        "stravalib.model.Activity: WARNING  No such attribute device_watts on entity <Activity id=None name=None resource_state=None>\n"
       ]
      },
      {
       "output_type": "stream",
       "stream": "stderr",
       "text": [
        "WARNING:stravalib.model.Activity:No such attribute device_watts on entity <Activity id=None name=None resource_state=None>\n"
       ]
      },
      {
       "output_type": "stream",
       "stream": "stderr",
       "text": [
        "stravalib.model.Activity: WARNING  No such attribute device_watts on entity <Activity id=None name=None resource_state=None>\n"
       ]
      },
      {
       "output_type": "stream",
       "stream": "stderr",
       "text": [
        "WARNING:stravalib.model.Activity:No such attribute device_watts on entity <Activity id=None name=None resource_state=None>\n"
       ]
      },
      {
       "output_type": "stream",
       "stream": "stderr",
       "text": [
        "stravalib.model.Activity: WARNING  No such attribute device_watts on entity <Activity id=None name=None resource_state=None>\n"
       ]
      },
      {
       "output_type": "stream",
       "stream": "stderr",
       "text": [
        "WARNING:stravalib.model.Activity:No such attribute device_watts on entity <Activity id=None name=None resource_state=None>\n"
       ]
      },
      {
       "output_type": "stream",
       "stream": "stderr",
       "text": [
        "stravalib.model.Activity: WARNING  No such attribute device_watts on entity <Activity id=None name=None resource_state=None>\n"
       ]
      },
      {
       "output_type": "stream",
       "stream": "stderr",
       "text": [
        "WARNING:stravalib.model.Activity:No such attribute device_watts on entity <Activity id=None name=None resource_state=None>\n"
       ]
      },
      {
       "output_type": "stream",
       "stream": "stderr",
       "text": [
        "stravalib.model.Activity: WARNING  No such attribute device_watts on entity <Activity id=None name=None resource_state=None>\n"
       ]
      },
      {
       "output_type": "stream",
       "stream": "stderr",
       "text": [
        "WARNING:stravalib.model.Activity:No such attribute device_watts on entity <Activity id=None name=None resource_state=None>\n"
       ]
      },
      {
       "output_type": "stream",
       "stream": "stderr",
       "text": [
        "stravalib.model.Activity: WARNING  No such attribute device_watts on entity <Activity id=None name=None resource_state=None>\n"
       ]
      },
      {
       "output_type": "stream",
       "stream": "stderr",
       "text": [
        "WARNING:stravalib.model.Activity:No such attribute device_watts on entity <Activity id=None name=None resource_state=None>\n"
       ]
      },
      {
       "output_type": "stream",
       "stream": "stderr",
       "text": [
        "stravalib.model.Activity: WARNING  No such attribute device_watts on entity <Activity id=None name=None resource_state=None>\n"
       ]
      },
      {
       "output_type": "stream",
       "stream": "stderr",
       "text": [
        "WARNING:stravalib.model.Activity:No such attribute device_watts on entity <Activity id=None name=None resource_state=None>\n"
       ]
      },
      {
       "output_type": "stream",
       "stream": "stderr",
       "text": [
        "stravalib.model.Activity: WARNING  No such attribute device_watts on entity <Activity id=None name=None resource_state=None>\n"
       ]
      },
      {
       "output_type": "stream",
       "stream": "stderr",
       "text": [
        "WARNING:stravalib.model.Activity:No such attribute device_watts on entity <Activity id=None name=None resource_state=None>\n"
       ]
      },
      {
       "output_type": "stream",
       "stream": "stderr",
       "text": [
        "stravalib.model.Activity: WARNING  No such attribute device_watts on entity <Activity id=None name=None resource_state=None>\n"
       ]
      },
      {
       "output_type": "stream",
       "stream": "stderr",
       "text": [
        "WARNING:stravalib.model.Activity:No such attribute device_watts on entity <Activity id=None name=None resource_state=None>\n"
       ]
      },
      {
       "output_type": "stream",
       "stream": "stderr",
       "text": [
        "stravalib.model.Activity: WARNING  No such attribute device_watts on entity <Activity id=None name=None resource_state=None>\n"
       ]
      },
      {
       "output_type": "stream",
       "stream": "stderr",
       "text": [
        "WARNING:stravalib.model.Activity:No such attribute device_watts on entity <Activity id=None name=None resource_state=None>\n"
       ]
      },
      {
       "output_type": "stream",
       "stream": "stderr",
       "text": [
        "stravalib.model.Activity: WARNING  No such attribute device_watts on entity <Activity id=None name=None resource_state=None>\n"
       ]
      },
      {
       "output_type": "stream",
       "stream": "stderr",
       "text": [
        "WARNING:stravalib.model.Activity:No such attribute device_watts on entity <Activity id=None name=None resource_state=None>\n"
       ]
      },
      {
       "output_type": "stream",
       "stream": "stderr",
       "text": [
        "stravalib.model.Activity: WARNING  No such attribute device_watts on entity <Activity id=None name=None resource_state=None>\n"
       ]
      },
      {
       "output_type": "stream",
       "stream": "stderr",
       "text": [
        "WARNING:stravalib.model.Activity:No such attribute device_watts on entity <Activity id=None name=None resource_state=None>\n"
       ]
      },
      {
       "output_type": "stream",
       "stream": "stderr",
       "text": [
        "stravalib.model.Activity: WARNING  No such attribute device_watts on entity <Activity id=None name=None resource_state=None>\n"
       ]
      },
      {
       "output_type": "stream",
       "stream": "stderr",
       "text": [
        "WARNING:stravalib.model.Activity:No such attribute device_watts on entity <Activity id=None name=None resource_state=None>\n"
       ]
      },
      {
       "output_type": "stream",
       "stream": "stderr",
       "text": [
        "stravalib.model.Activity: WARNING  No such attribute device_watts on entity <Activity id=None name=None resource_state=None>\n"
       ]
      },
      {
       "output_type": "stream",
       "stream": "stderr",
       "text": [
        "WARNING:stravalib.model.Activity:No such attribute device_watts on entity <Activity id=None name=None resource_state=None>\n"
       ]
      },
      {
       "output_type": "stream",
       "stream": "stderr",
       "text": [
        "stravalib.model.Activity: WARNING  No such attribute device_watts on entity <Activity id=None name=None resource_state=None>\n"
       ]
      },
      {
       "output_type": "stream",
       "stream": "stderr",
       "text": [
        "WARNING:stravalib.model.Activity:No such attribute device_watts on entity <Activity id=None name=None resource_state=None>\n"
       ]
      },
      {
       "output_type": "stream",
       "stream": "stderr",
       "text": [
        "stravalib.model.Activity: WARNING  No such attribute device_watts on entity <Activity id=None name=None resource_state=None>\n"
       ]
      },
      {
       "output_type": "stream",
       "stream": "stderr",
       "text": [
        "WARNING:stravalib.model.Activity:No such attribute device_watts on entity <Activity id=None name=None resource_state=None>\n"
       ]
      },
      {
       "output_type": "stream",
       "stream": "stderr",
       "text": [
        "stravalib.model.Activity: WARNING  No such attribute device_watts on entity <Activity id=None name=None resource_state=None>\n"
       ]
      },
      {
       "output_type": "stream",
       "stream": "stderr",
       "text": [
        "WARNING:stravalib.model.Activity:No such attribute device_watts on entity <Activity id=None name=None resource_state=None>\n"
       ]
      },
      {
       "output_type": "stream",
       "stream": "stderr",
       "text": [
        "stravalib.model.Activity: WARNING  No such attribute device_watts on entity <Activity id=None name=None resource_state=None>\n"
       ]
      },
      {
       "output_type": "stream",
       "stream": "stderr",
       "text": [
        "WARNING:stravalib.model.Activity:No such attribute device_watts on entity <Activity id=None name=None resource_state=None>\n"
       ]
      },
      {
       "output_type": "stream",
       "stream": "stderr",
       "text": [
        "stravalib.model.Activity: WARNING  No such attribute device_watts on entity <Activity id=None name=None resource_state=None>\n"
       ]
      },
      {
       "output_type": "stream",
       "stream": "stderr",
       "text": [
        "WARNING:stravalib.model.Activity:No such attribute device_watts on entity <Activity id=None name=None resource_state=None>\n"
       ]
      },
      {
       "output_type": "stream",
       "stream": "stderr",
       "text": [
        "stravalib.model.Activity: WARNING  No such attribute device_watts on entity <Activity id=None name=None resource_state=None>\n"
       ]
      },
      {
       "output_type": "stream",
       "stream": "stderr",
       "text": [
        "WARNING:stravalib.model.Activity:No such attribute device_watts on entity <Activity id=None name=None resource_state=None>\n"
       ]
      },
      {
       "output_type": "stream",
       "stream": "stderr",
       "text": [
        "stravalib.model.Activity: WARNING  No such attribute device_watts on entity <Activity id=None name=None resource_state=None>\n"
       ]
      },
      {
       "output_type": "stream",
       "stream": "stderr",
       "text": [
        "WARNING:stravalib.model.Activity:No such attribute device_watts on entity <Activity id=None name=None resource_state=None>\n"
       ]
      },
      {
       "output_type": "stream",
       "stream": "stderr",
       "text": [
        "stravalib.model.Activity: WARNING  No such attribute device_watts on entity <Activity id=None name=None resource_state=None>\n"
       ]
      },
      {
       "output_type": "stream",
       "stream": "stderr",
       "text": [
        "WARNING:stravalib.model.Activity:No such attribute device_watts on entity <Activity id=None name=None resource_state=None>\n"
       ]
      },
      {
       "output_type": "stream",
       "stream": "stderr",
       "text": [
        "stravalib.model.Activity: WARNING  No such attribute device_watts on entity <Activity id=None name=None resource_state=None>\n"
       ]
      },
      {
       "output_type": "stream",
       "stream": "stderr",
       "text": [
        "WARNING:stravalib.model.Activity:No such attribute device_watts on entity <Activity id=None name=None resource_state=None>\n"
       ]
      },
      {
       "output_type": "stream",
       "stream": "stderr",
       "text": [
        "stravalib.model.Activity: WARNING  No such attribute device_watts on entity <Activity id=None name=None resource_state=None>\n"
       ]
      },
      {
       "output_type": "stream",
       "stream": "stderr",
       "text": [
        "WARNING:stravalib.model.Activity:No such attribute device_watts on entity <Activity id=None name=None resource_state=None>\n"
       ]
      },
      {
       "output_type": "stream",
       "stream": "stderr",
       "text": [
        "stravalib.model.Activity: WARNING  No such attribute device_watts on entity <Activity id=None name=None resource_state=None>\n"
       ]
      },
      {
       "output_type": "stream",
       "stream": "stderr",
       "text": [
        "WARNING:stravalib.model.Activity:No such attribute device_watts on entity <Activity id=None name=None resource_state=None>\n"
       ]
      },
      {
       "output_type": "stream",
       "stream": "stderr",
       "text": [
        "stravalib.model.Activity: WARNING  No such attribute device_watts on entity <Activity id=None name=None resource_state=None>\n"
       ]
      },
      {
       "output_type": "stream",
       "stream": "stderr",
       "text": [
        "WARNING:stravalib.model.Activity:No such attribute device_watts on entity <Activity id=None name=None resource_state=None>\n"
       ]
      },
      {
       "output_type": "stream",
       "stream": "stderr",
       "text": [
        "stravalib.model.Activity: WARNING  No such attribute device_watts on entity <Activity id=None name=None resource_state=None>\n"
       ]
      },
      {
       "output_type": "stream",
       "stream": "stderr",
       "text": [
        "WARNING:stravalib.model.Activity:No such attribute device_watts on entity <Activity id=None name=None resource_state=None>\n"
       ]
      },
      {
       "output_type": "stream",
       "stream": "stderr",
       "text": [
        "stravalib.model.Activity: WARNING  No such attribute device_watts on entity <Activity id=None name=None resource_state=None>\n"
       ]
      },
      {
       "output_type": "stream",
       "stream": "stderr",
       "text": [
        "WARNING:stravalib.model.Activity:No such attribute device_watts on entity <Activity id=None name=None resource_state=None>\n"
       ]
      },
      {
       "output_type": "stream",
       "stream": "stderr",
       "text": [
        "stravalib.model.Activity: WARNING  No such attribute device_watts on entity <Activity id=None name=None resource_state=None>\n"
       ]
      },
      {
       "output_type": "stream",
       "stream": "stderr",
       "text": [
        "WARNING:stravalib.model.Activity:No such attribute device_watts on entity <Activity id=None name=None resource_state=None>\n"
       ]
      },
      {
       "output_type": "stream",
       "stream": "stderr",
       "text": [
        "stravalib.model.Activity: WARNING  No such attribute device_watts on entity <Activity id=None name=None resource_state=None>\n"
       ]
      },
      {
       "output_type": "stream",
       "stream": "stderr",
       "text": [
        "WARNING:stravalib.model.Activity:No such attribute device_watts on entity <Activity id=None name=None resource_state=None>\n"
       ]
      },
      {
       "output_type": "stream",
       "stream": "stderr",
       "text": [
        "stravalib.model.Activity: WARNING  No such attribute device_watts on entity <Activity id=None name=None resource_state=None>\n"
       ]
      },
      {
       "output_type": "stream",
       "stream": "stderr",
       "text": [
        "WARNING:stravalib.model.Activity:No such attribute device_watts on entity <Activity id=None name=None resource_state=None>\n"
       ]
      },
      {
       "output_type": "stream",
       "stream": "stderr",
       "text": [
        "stravalib.model.Activity: WARNING  No such attribute device_watts on entity <Activity id=None name=None resource_state=None>\n"
       ]
      },
      {
       "output_type": "stream",
       "stream": "stderr",
       "text": [
        "WARNING:stravalib.model.Activity:No such attribute device_watts on entity <Activity id=None name=None resource_state=None>\n"
       ]
      },
      {
       "output_type": "stream",
       "stream": "stderr",
       "text": [
        "stravalib.model.Activity: WARNING  No such attribute device_watts on entity <Activity id=None name=None resource_state=None>\n"
       ]
      },
      {
       "output_type": "stream",
       "stream": "stderr",
       "text": [
        "WARNING:stravalib.model.Activity:No such attribute device_watts on entity <Activity id=None name=None resource_state=None>\n"
       ]
      },
      {
       "output_type": "stream",
       "stream": "stderr",
       "text": [
        "stravalib.model.Activity: WARNING  No such attribute device_watts on entity <Activity id=None name=None resource_state=None>\n"
       ]
      },
      {
       "output_type": "stream",
       "stream": "stderr",
       "text": [
        "WARNING:stravalib.model.Activity:No such attribute device_watts on entity <Activity id=None name=None resource_state=None>\n"
       ]
      },
      {
       "output_type": "stream",
       "stream": "stderr",
       "text": [
        "stravalib.model.Activity: WARNING  No such attribute device_watts on entity <Activity id=None name=None resource_state=None>\n"
       ]
      },
      {
       "output_type": "stream",
       "stream": "stderr",
       "text": [
        "WARNING:stravalib.model.Activity:No such attribute device_watts on entity <Activity id=None name=None resource_state=None>\n"
       ]
      },
      {
       "output_type": "stream",
       "stream": "stderr",
       "text": [
        "stravalib.model.Activity: WARNING  No such attribute device_watts on entity <Activity id=None name=None resource_state=None>\n"
       ]
      },
      {
       "output_type": "stream",
       "stream": "stderr",
       "text": [
        "WARNING:stravalib.model.Activity:No such attribute device_watts on entity <Activity id=None name=None resource_state=None>\n"
       ]
      },
      {
       "output_type": "stream",
       "stream": "stderr",
       "text": [
        "stravalib.model.Activity: WARNING  No such attribute device_watts on entity <Activity id=None name=None resource_state=None>\n"
       ]
      },
      {
       "output_type": "stream",
       "stream": "stderr",
       "text": [
        "WARNING:stravalib.model.Activity:No such attribute device_watts on entity <Activity id=None name=None resource_state=None>\n"
       ]
      },
      {
       "output_type": "stream",
       "stream": "stderr",
       "text": [
        "stravalib.model.Activity: WARNING  No such attribute device_watts on entity <Activity id=None name=None resource_state=None>\n"
       ]
      },
      {
       "output_type": "stream",
       "stream": "stderr",
       "text": [
        "WARNING:stravalib.model.Activity:No such attribute device_watts on entity <Activity id=None name=None resource_state=None>\n"
       ]
      },
      {
       "output_type": "stream",
       "stream": "stderr",
       "text": [
        "stravalib.model.Activity: WARNING  No such attribute device_watts on entity <Activity id=None name=None resource_state=None>\n"
       ]
      },
      {
       "output_type": "stream",
       "stream": "stderr",
       "text": [
        "WARNING:stravalib.model.Activity:No such attribute device_watts on entity <Activity id=None name=None resource_state=None>\n"
       ]
      },
      {
       "output_type": "stream",
       "stream": "stderr",
       "text": [
        "stravalib.model.Activity: WARNING  No such attribute device_watts on entity <Activity id=None name=None resource_state=None>\n"
       ]
      },
      {
       "output_type": "stream",
       "stream": "stderr",
       "text": [
        "WARNING:stravalib.model.Activity:No such attribute device_watts on entity <Activity id=None name=None resource_state=None>\n"
       ]
      },
      {
       "output_type": "stream",
       "stream": "stderr",
       "text": [
        "stravalib.model.Activity: WARNING  No such attribute device_watts on entity <Activity id=None name=None resource_state=None>\n"
       ]
      },
      {
       "output_type": "stream",
       "stream": "stderr",
       "text": [
        "WARNING:stravalib.model.Activity:No such attribute device_watts on entity <Activity id=None name=None resource_state=None>\n"
       ]
      },
      {
       "output_type": "stream",
       "stream": "stderr",
       "text": [
        "stravalib.model.Activity: WARNING  No such attribute device_watts on entity <Activity id=None name=None resource_state=None>\n"
       ]
      },
      {
       "output_type": "stream",
       "stream": "stderr",
       "text": [
        "WARNING:stravalib.model.Activity:No such attribute device_watts on entity <Activity id=None name=None resource_state=None>\n"
       ]
      },
      {
       "output_type": "stream",
       "stream": "stderr",
       "text": [
        "stravalib.model.Activity: WARNING  No such attribute device_watts on entity <Activity id=None name=None resource_state=None>\n"
       ]
      },
      {
       "output_type": "stream",
       "stream": "stderr",
       "text": [
        "WARNING:stravalib.model.Activity:No such attribute device_watts on entity <Activity id=None name=None resource_state=None>\n"
       ]
      },
      {
       "output_type": "stream",
       "stream": "stderr",
       "text": [
        "stravalib.model.Activity: WARNING  No such attribute device_watts on entity <Activity id=None name=None resource_state=None>\n"
       ]
      },
      {
       "output_type": "stream",
       "stream": "stderr",
       "text": [
        "WARNING:stravalib.model.Activity:No such attribute device_watts on entity <Activity id=None name=None resource_state=None>\n"
       ]
      },
      {
       "output_type": "stream",
       "stream": "stderr",
       "text": [
        "stravalib.model.Activity: WARNING  No such attribute device_watts on entity <Activity id=None name=None resource_state=None>\n"
       ]
      },
      {
       "output_type": "stream",
       "stream": "stderr",
       "text": [
        "WARNING:stravalib.model.Activity:No such attribute device_watts on entity <Activity id=None name=None resource_state=None>\n"
       ]
      },
      {
       "output_type": "stream",
       "stream": "stderr",
       "text": [
        "stravalib.model.Activity: WARNING  No such attribute device_watts on entity <Activity id=None name=None resource_state=None>\n"
       ]
      },
      {
       "output_type": "stream",
       "stream": "stderr",
       "text": [
        "WARNING:stravalib.model.Activity:No such attribute device_watts on entity <Activity id=None name=None resource_state=None>\n"
       ]
      },
      {
       "output_type": "stream",
       "stream": "stderr",
       "text": [
        "stravalib.model.Activity: WARNING  No such attribute device_watts on entity <Activity id=None name=None resource_state=None>\n"
       ]
      },
      {
       "output_type": "stream",
       "stream": "stderr",
       "text": [
        "WARNING:stravalib.model.Activity:No such attribute device_watts on entity <Activity id=None name=None resource_state=None>\n"
       ]
      },
      {
       "output_type": "stream",
       "stream": "stderr",
       "text": [
        "stravalib.model.Activity: WARNING  No such attribute device_watts on entity <Activity id=None name=None resource_state=None>\n"
       ]
      },
      {
       "output_type": "stream",
       "stream": "stderr",
       "text": [
        "WARNING:stravalib.model.Activity:No such attribute device_watts on entity <Activity id=None name=None resource_state=None>\n"
       ]
      },
      {
       "output_type": "stream",
       "stream": "stderr",
       "text": [
        "stravalib.model.Activity: WARNING  No such attribute device_watts on entity <Activity id=None name=None resource_state=None>\n"
       ]
      },
      {
       "output_type": "stream",
       "stream": "stderr",
       "text": [
        "WARNING:stravalib.model.Activity:No such attribute device_watts on entity <Activity id=None name=None resource_state=None>\n"
       ]
      },
      {
       "output_type": "stream",
       "stream": "stderr",
       "text": [
        "stravalib.model.Activity: WARNING  No such attribute device_watts on entity <Activity id=None name=None resource_state=None>\n"
       ]
      },
      {
       "output_type": "stream",
       "stream": "stderr",
       "text": [
        "WARNING:stravalib.model.Activity:No such attribute device_watts on entity <Activity id=None name=None resource_state=None>\n"
       ]
      },
      {
       "output_type": "stream",
       "stream": "stderr",
       "text": [
        "stravalib.model.Activity: WARNING  No such attribute device_watts on entity <Activity id=None name=None resource_state=None>\n"
       ]
      },
      {
       "output_type": "stream",
       "stream": "stderr",
       "text": [
        "WARNING:stravalib.model.Activity:No such attribute device_watts on entity <Activity id=None name=None resource_state=None>\n"
       ]
      },
      {
       "output_type": "stream",
       "stream": "stderr",
       "text": [
        "stravalib.model.Activity: WARNING  No such attribute device_watts on entity <Activity id=None name=None resource_state=None>\n"
       ]
      },
      {
       "output_type": "stream",
       "stream": "stderr",
       "text": [
        "WARNING:stravalib.model.Activity:No such attribute device_watts on entity <Activity id=None name=None resource_state=None>\n"
       ]
      },
      {
       "output_type": "stream",
       "stream": "stderr",
       "text": [
        "stravalib.model.Activity: WARNING  No such attribute device_watts on entity <Activity id=None name=None resource_state=None>\n"
       ]
      },
      {
       "output_type": "stream",
       "stream": "stderr",
       "text": [
        "WARNING:stravalib.model.Activity:No such attribute device_watts on entity <Activity id=None name=None resource_state=None>\n"
       ]
      },
      {
       "output_type": "stream",
       "stream": "stderr",
       "text": [
        "stravalib.model.Activity: WARNING  No such attribute device_watts on entity <Activity id=None name=None resource_state=None>\n"
       ]
      },
      {
       "output_type": "stream",
       "stream": "stderr",
       "text": [
        "WARNING:stravalib.model.Activity:No such attribute device_watts on entity <Activity id=None name=None resource_state=None>\n"
       ]
      },
      {
       "output_type": "stream",
       "stream": "stderr",
       "text": [
        "stravalib.model.Activity: WARNING  No such attribute device_watts on entity <Activity id=None name=None resource_state=None>\n"
       ]
      },
      {
       "output_type": "stream",
       "stream": "stderr",
       "text": [
        "WARNING:stravalib.model.Activity:No such attribute device_watts on entity <Activity id=None name=None resource_state=None>\n"
       ]
      },
      {
       "output_type": "stream",
       "stream": "stderr",
       "text": [
        "stravalib.model.Activity: WARNING  No such attribute device_watts on entity <Activity id=None name=None resource_state=None>\n"
       ]
      },
      {
       "output_type": "stream",
       "stream": "stderr",
       "text": [
        "WARNING:stravalib.model.Activity:No such attribute device_watts on entity <Activity id=None name=None resource_state=None>\n"
       ]
      },
      {
       "output_type": "stream",
       "stream": "stderr",
       "text": [
        "stravalib.model.Activity: WARNING  No such attribute device_watts on entity <Activity id=None name=None resource_state=None>\n"
       ]
      },
      {
       "output_type": "stream",
       "stream": "stderr",
       "text": [
        "WARNING:stravalib.model.Activity:No such attribute device_watts on entity <Activity id=None name=None resource_state=None>\n"
       ]
      },
      {
       "output_type": "stream",
       "stream": "stderr",
       "text": [
        "stravalib.model.Activity: WARNING  No such attribute device_watts on entity <Activity id=None name=None resource_state=None>\n"
       ]
      },
      {
       "output_type": "stream",
       "stream": "stderr",
       "text": [
        "WARNING:stravalib.model.Activity:No such attribute device_watts on entity <Activity id=None name=None resource_state=None>\n"
       ]
      },
      {
       "output_type": "stream",
       "stream": "stderr",
       "text": [
        "stravalib.model.Activity: WARNING  No such attribute device_watts on entity <Activity id=None name=None resource_state=None>\n"
       ]
      },
      {
       "output_type": "stream",
       "stream": "stderr",
       "text": [
        "WARNING:stravalib.model.Activity:No such attribute device_watts on entity <Activity id=None name=None resource_state=None>\n"
       ]
      },
      {
       "output_type": "stream",
       "stream": "stderr",
       "text": [
        "stravalib.model.Activity: WARNING  No such attribute device_watts on entity <Activity id=None name=None resource_state=None>\n"
       ]
      },
      {
       "output_type": "stream",
       "stream": "stderr",
       "text": [
        "WARNING:stravalib.model.Activity:No such attribute device_watts on entity <Activity id=None name=None resource_state=None>\n"
       ]
      },
      {
       "output_type": "stream",
       "stream": "stderr",
       "text": [
        "stravalib.model.Activity: WARNING  No such attribute device_watts on entity <Activity id=None name=None resource_state=None>\n"
       ]
      },
      {
       "output_type": "stream",
       "stream": "stderr",
       "text": [
        "WARNING:stravalib.model.Activity:No such attribute device_watts on entity <Activity id=None name=None resource_state=None>\n"
       ]
      },
      {
       "output_type": "stream",
       "stream": "stderr",
       "text": [
        "stravalib.model.Activity: WARNING  No such attribute device_watts on entity <Activity id=None name=None resource_state=None>\n"
       ]
      },
      {
       "output_type": "stream",
       "stream": "stderr",
       "text": [
        "WARNING:stravalib.model.Activity:No such attribute device_watts on entity <Activity id=None name=None resource_state=None>\n"
       ]
      },
      {
       "output_type": "stream",
       "stream": "stderr",
       "text": [
        "stravalib.model.Activity: WARNING  No such attribute device_watts on entity <Activity id=None name=None resource_state=None>\n"
       ]
      },
      {
       "output_type": "stream",
       "stream": "stderr",
       "text": [
        "WARNING:stravalib.model.Activity:No such attribute device_watts on entity <Activity id=None name=None resource_state=None>\n"
       ]
      },
      {
       "output_type": "stream",
       "stream": "stderr",
       "text": [
        "stravalib.model.Activity: WARNING  No such attribute device_watts on entity <Activity id=None name=None resource_state=None>\n"
       ]
      },
      {
       "output_type": "stream",
       "stream": "stderr",
       "text": [
        "WARNING:stravalib.model.Activity:No such attribute device_watts on entity <Activity id=None name=None resource_state=None>\n"
       ]
      },
      {
       "output_type": "stream",
       "stream": "stderr",
       "text": [
        "stravalib.model.Activity: WARNING  No such attribute device_watts on entity <Activity id=None name=None resource_state=None>\n"
       ]
      },
      {
       "output_type": "stream",
       "stream": "stderr",
       "text": [
        "WARNING:stravalib.model.Activity:No such attribute device_watts on entity <Activity id=None name=None resource_state=None>\n"
       ]
      },
      {
       "output_type": "stream",
       "stream": "stderr",
       "text": [
        "stravalib.model.Activity: WARNING  No such attribute device_watts on entity <Activity id=None name=None resource_state=None>\n"
       ]
      },
      {
       "output_type": "stream",
       "stream": "stderr",
       "text": [
        "WARNING:stravalib.model.Activity:No such attribute device_watts on entity <Activity id=None name=None resource_state=None>\n"
       ]
      },
      {
       "output_type": "stream",
       "stream": "stderr",
       "text": [
        "stravalib.model.Activity: WARNING  No such attribute device_watts on entity <Activity id=None name=None resource_state=None>\n"
       ]
      },
      {
       "output_type": "stream",
       "stream": "stderr",
       "text": [
        "WARNING:stravalib.model.Activity:No such attribute device_watts on entity <Activity id=None name=None resource_state=None>\n"
       ]
      },
      {
       "output_type": "stream",
       "stream": "stderr",
       "text": [
        "stravalib.model.Activity: WARNING  No such attribute device_watts on entity <Activity id=None name=None resource_state=None>\n"
       ]
      },
      {
       "output_type": "stream",
       "stream": "stderr",
       "text": [
        "WARNING:stravalib.model.Activity:No such attribute device_watts on entity <Activity id=None name=None resource_state=None>\n"
       ]
      },
      {
       "output_type": "stream",
       "stream": "stderr",
       "text": [
        "stravalib.model.Activity: WARNING  No such attribute device_watts on entity <Activity id=None name=None resource_state=None>\n"
       ]
      },
      {
       "output_type": "stream",
       "stream": "stderr",
       "text": [
        "WARNING:stravalib.model.Activity:No such attribute device_watts on entity <Activity id=None name=None resource_state=None>\n"
       ]
      },
      {
       "output_type": "stream",
       "stream": "stderr",
       "text": [
        "stravalib.model.Activity: WARNING  No such attribute device_watts on entity <Activity id=None name=None resource_state=None>\n"
       ]
      },
      {
       "output_type": "stream",
       "stream": "stderr",
       "text": [
        "WARNING:stravalib.model.Activity:No such attribute device_watts on entity <Activity id=None name=None resource_state=None>\n"
       ]
      },
      {
       "output_type": "stream",
       "stream": "stderr",
       "text": [
        "stravalib.model.Activity: WARNING  No such attribute device_watts on entity <Activity id=None name=None resource_state=None>\n"
       ]
      },
      {
       "output_type": "stream",
       "stream": "stderr",
       "text": [
        "WARNING:stravalib.model.Activity:No such attribute device_watts on entity <Activity id=None name=None resource_state=None>\n"
       ]
      },
      {
       "output_type": "stream",
       "stream": "stderr",
       "text": [
        "stravalib.model.Activity: WARNING  No such attribute device_watts on entity <Activity id=None name=None resource_state=None>\n"
       ]
      },
      {
       "output_type": "stream",
       "stream": "stderr",
       "text": [
        "WARNING:stravalib.model.Activity:No such attribute device_watts on entity <Activity id=None name=None resource_state=None>\n"
       ]
      },
      {
       "output_type": "stream",
       "stream": "stderr",
       "text": [
        "stravalib.model.Activity: WARNING  No such attribute device_watts on entity <Activity id=None name=None resource_state=None>\n"
       ]
      },
      {
       "output_type": "stream",
       "stream": "stderr",
       "text": [
        "WARNING:stravalib.model.Activity:No such attribute device_watts on entity <Activity id=None name=None resource_state=None>\n"
       ]
      },
      {
       "output_type": "stream",
       "stream": "stderr",
       "text": [
        "stravalib.model.Activity: WARNING  No such attribute device_watts on entity <Activity id=None name=None resource_state=None>\n"
       ]
      },
      {
       "output_type": "stream",
       "stream": "stderr",
       "text": [
        "WARNING:stravalib.model.Activity:No such attribute device_watts on entity <Activity id=None name=None resource_state=None>\n"
       ]
      },
      {
       "output_type": "stream",
       "stream": "stderr",
       "text": [
        "stravalib.model.Activity: WARNING  No such attribute device_watts on entity <Activity id=None name=None resource_state=None>\n"
       ]
      },
      {
       "output_type": "stream",
       "stream": "stderr",
       "text": [
        "WARNING:stravalib.model.Activity:No such attribute device_watts on entity <Activity id=None name=None resource_state=None>\n"
       ]
      },
      {
       "output_type": "stream",
       "stream": "stderr",
       "text": [
        "stravalib.model.Activity: WARNING  No such attribute device_watts on entity <Activity id=None name=None resource_state=None>\n"
       ]
      },
      {
       "output_type": "stream",
       "stream": "stderr",
       "text": [
        "WARNING:stravalib.model.Activity:No such attribute device_watts on entity <Activity id=None name=None resource_state=None>\n"
       ]
      },
      {
       "output_type": "stream",
       "stream": "stderr",
       "text": [
        "stravalib.model.Activity: WARNING  No such attribute device_watts on entity <Activity id=None name=None resource_state=None>\n"
       ]
      },
      {
       "output_type": "stream",
       "stream": "stderr",
       "text": [
        "WARNING:stravalib.model.Activity:No such attribute device_watts on entity <Activity id=None name=None resource_state=None>\n"
       ]
      },
      {
       "output_type": "stream",
       "stream": "stderr",
       "text": [
        "stravalib.model.Activity: WARNING  No such attribute device_watts on entity <Activity id=None name=None resource_state=None>\n"
       ]
      },
      {
       "output_type": "stream",
       "stream": "stderr",
       "text": [
        "WARNING:stravalib.model.Activity:No such attribute device_watts on entity <Activity id=None name=None resource_state=None>\n"
       ]
      },
      {
       "output_type": "stream",
       "stream": "stderr",
       "text": [
        "stravalib.model.Activity: WARNING  No such attribute device_watts on entity <Activity id=None name=None resource_state=None>\n"
       ]
      },
      {
       "output_type": "stream",
       "stream": "stderr",
       "text": [
        "WARNING:stravalib.model.Activity:No such attribute device_watts on entity <Activity id=None name=None resource_state=None>\n"
       ]
      },
      {
       "output_type": "stream",
       "stream": "stderr",
       "text": [
        "stravalib.model.Activity: WARNING  No such attribute device_watts on entity <Activity id=None name=None resource_state=None>\n"
       ]
      },
      {
       "output_type": "stream",
       "stream": "stderr",
       "text": [
        "WARNING:stravalib.model.Activity:No such attribute device_watts on entity <Activity id=None name=None resource_state=None>\n"
       ]
      },
      {
       "output_type": "stream",
       "stream": "stderr",
       "text": [
        "stravalib.model.Activity: WARNING  No such attribute device_watts on entity <Activity id=None name=None resource_state=None>\n"
       ]
      },
      {
       "output_type": "stream",
       "stream": "stderr",
       "text": [
        "WARNING:stravalib.model.Activity:No such attribute device_watts on entity <Activity id=None name=None resource_state=None>\n"
       ]
      },
      {
       "output_type": "stream",
       "stream": "stderr",
       "text": [
        "stravalib.model.Activity: WARNING  No such attribute device_watts on entity <Activity id=None name=None resource_state=None>\n"
       ]
      },
      {
       "output_type": "stream",
       "stream": "stderr",
       "text": [
        "WARNING:stravalib.model.Activity:No such attribute device_watts on entity <Activity id=None name=None resource_state=None>\n"
       ]
      },
      {
       "output_type": "stream",
       "stream": "stderr",
       "text": [
        "stravalib.model.Activity: WARNING  No such attribute device_watts on entity <Activity id=None name=None resource_state=None>\n"
       ]
      },
      {
       "output_type": "stream",
       "stream": "stderr",
       "text": [
        "WARNING:stravalib.model.Activity:No such attribute device_watts on entity <Activity id=None name=None resource_state=None>\n"
       ]
      },
      {
       "output_type": "stream",
       "stream": "stderr",
       "text": [
        "stravalib.model.Activity: WARNING  No such attribute device_watts on entity <Activity id=None name=None resource_state=None>\n"
       ]
      },
      {
       "output_type": "stream",
       "stream": "stderr",
       "text": [
        "WARNING:stravalib.model.Activity:No such attribute device_watts on entity <Activity id=None name=None resource_state=None>\n"
       ]
      },
      {
       "output_type": "stream",
       "stream": "stderr",
       "text": [
        "stravalib.model.Activity: WARNING  No such attribute device_watts on entity <Activity id=None name=None resource_state=None>\n"
       ]
      },
      {
       "output_type": "stream",
       "stream": "stderr",
       "text": [
        "WARNING:stravalib.model.Activity:No such attribute device_watts on entity <Activity id=None name=None resource_state=None>\n"
       ]
      },
      {
       "output_type": "stream",
       "stream": "stderr",
       "text": [
        "stravalib.model.Activity: WARNING  No such attribute device_watts on entity <Activity id=None name=None resource_state=None>\n"
       ]
      },
      {
       "output_type": "stream",
       "stream": "stderr",
       "text": [
        "WARNING:stravalib.model.Activity:No such attribute device_watts on entity <Activity id=None name=None resource_state=None>\n"
       ]
      },
      {
       "output_type": "stream",
       "stream": "stderr",
       "text": [
        "stravalib.model.Activity: WARNING  No such attribute device_watts on entity <Activity id=None name=None resource_state=None>\n"
       ]
      },
      {
       "output_type": "stream",
       "stream": "stderr",
       "text": [
        "WARNING:stravalib.model.Activity:No such attribute device_watts on entity <Activity id=None name=None resource_state=None>\n"
       ]
      },
      {
       "output_type": "stream",
       "stream": "stderr",
       "text": [
        "stravalib.model.Activity: WARNING  No such attribute device_watts on entity <Activity id=None name=None resource_state=None>\n"
       ]
      },
      {
       "output_type": "stream",
       "stream": "stderr",
       "text": [
        "WARNING:stravalib.model.Activity:No such attribute device_watts on entity <Activity id=None name=None resource_state=None>\n"
       ]
      },
      {
       "output_type": "stream",
       "stream": "stderr",
       "text": [
        "stravalib.model.Activity: WARNING  No such attribute device_watts on entity <Activity id=None name=None resource_state=None>\n"
       ]
      },
      {
       "output_type": "stream",
       "stream": "stderr",
       "text": [
        "WARNING:stravalib.model.Activity:No such attribute device_watts on entity <Activity id=None name=None resource_state=None>\n"
       ]
      },
      {
       "output_type": "stream",
       "stream": "stderr",
       "text": [
        "stravalib.model.Activity: WARNING  No such attribute device_watts on entity <Activity id=None name=None resource_state=None>\n"
       ]
      },
      {
       "output_type": "stream",
       "stream": "stderr",
       "text": [
        "WARNING:stravalib.model.Activity:No such attribute device_watts on entity <Activity id=None name=None resource_state=None>\n"
       ]
      },
      {
       "output_type": "stream",
       "stream": "stderr",
       "text": [
        "stravalib.model.Activity: WARNING  No such attribute device_watts on entity <Activity id=None name=None resource_state=None>\n"
       ]
      },
      {
       "output_type": "stream",
       "stream": "stderr",
       "text": [
        "WARNING:stravalib.model.Activity:No such attribute device_watts on entity <Activity id=None name=None resource_state=None>\n"
       ]
      },
      {
       "output_type": "stream",
       "stream": "stderr",
       "text": [
        "stravalib.model.Activity: WARNING  No such attribute device_watts on entity <Activity id=None name=None resource_state=None>\n"
       ]
      },
      {
       "output_type": "stream",
       "stream": "stderr",
       "text": [
        "WARNING:stravalib.model.Activity:No such attribute device_watts on entity <Activity id=None name=None resource_state=None>\n"
       ]
      },
      {
       "output_type": "stream",
       "stream": "stderr",
       "text": [
        "stravalib.model.Activity: WARNING  No such attribute device_watts on entity <Activity id=None name=None resource_state=None>\n"
       ]
      },
      {
       "output_type": "stream",
       "stream": "stderr",
       "text": [
        "WARNING:stravalib.model.Activity:No such attribute device_watts on entity <Activity id=None name=None resource_state=None>\n"
       ]
      },
      {
       "output_type": "stream",
       "stream": "stderr",
       "text": [
        "stravalib.model.Activity: WARNING  No such attribute device_watts on entity <Activity id=None name=None resource_state=None>\n"
       ]
      },
      {
       "output_type": "stream",
       "stream": "stderr",
       "text": [
        "WARNING:stravalib.model.Activity:No such attribute device_watts on entity <Activity id=None name=None resource_state=None>\n"
       ]
      },
      {
       "output_type": "stream",
       "stream": "stderr",
       "text": [
        "stravalib.model.Activity: WARNING  No such attribute device_watts on entity <Activity id=None name=None resource_state=None>\n"
       ]
      },
      {
       "output_type": "stream",
       "stream": "stderr",
       "text": [
        "WARNING:stravalib.model.Activity:No such attribute device_watts on entity <Activity id=None name=None resource_state=None>\n"
       ]
      },
      {
       "output_type": "stream",
       "stream": "stderr",
       "text": [
        "stravalib.model.Activity: WARNING  No such attribute device_watts on entity <Activity id=None name=None resource_state=None>\n"
       ]
      },
      {
       "output_type": "stream",
       "stream": "stderr",
       "text": [
        "WARNING:stravalib.model.Activity:No such attribute device_watts on entity <Activity id=None name=None resource_state=None>\n"
       ]
      },
      {
       "output_type": "stream",
       "stream": "stderr",
       "text": [
        "stravalib.model.Activity: WARNING  No such attribute device_watts on entity <Activity id=None name=None resource_state=None>\n"
       ]
      },
      {
       "output_type": "stream",
       "stream": "stderr",
       "text": [
        "WARNING:stravalib.model.Activity:No such attribute device_watts on entity <Activity id=None name=None resource_state=None>\n"
       ]
      },
      {
       "output_type": "stream",
       "stream": "stderr",
       "text": [
        "stravalib.model.Activity: WARNING  No such attribute device_watts on entity <Activity id=None name=None resource_state=None>\n"
       ]
      },
      {
       "output_type": "stream",
       "stream": "stderr",
       "text": [
        "WARNING:stravalib.model.Activity:No such attribute device_watts on entity <Activity id=None name=None resource_state=None>\n"
       ]
      },
      {
       "output_type": "stream",
       "stream": "stderr",
       "text": [
        "stravalib.model.Activity: WARNING  No such attribute device_watts on entity <Activity id=None name=None resource_state=None>\n"
       ]
      },
      {
       "output_type": "stream",
       "stream": "stderr",
       "text": [
        "WARNING:stravalib.model.Activity:No such attribute device_watts on entity <Activity id=None name=None resource_state=None>\n"
       ]
      },
      {
       "output_type": "stream",
       "stream": "stderr",
       "text": [
        "stravalib.model.Activity: WARNING  No such attribute device_watts on entity <Activity id=None name=None resource_state=None>\n"
       ]
      },
      {
       "output_type": "stream",
       "stream": "stderr",
       "text": [
        "WARNING:stravalib.model.Activity:No such attribute device_watts on entity <Activity id=None name=None resource_state=None>\n"
       ]
      },
      {
       "output_type": "stream",
       "stream": "stderr",
       "text": [
        "stravalib.model.Activity: WARNING  No such attribute device_watts on entity <Activity id=None name=None resource_state=None>\n"
       ]
      },
      {
       "output_type": "stream",
       "stream": "stderr",
       "text": [
        "WARNING:stravalib.model.Activity:No such attribute device_watts on entity <Activity id=None name=None resource_state=None>\n"
       ]
      },
      {
       "output_type": "stream",
       "stream": "stderr",
       "text": [
        "stravalib.model.Activity: WARNING  No such attribute device_watts on entity <Activity id=None name=None resource_state=None>\n"
       ]
      },
      {
       "output_type": "stream",
       "stream": "stderr",
       "text": [
        "WARNING:stravalib.model.Activity:No such attribute device_watts on entity <Activity id=None name=None resource_state=None>\n"
       ]
      },
      {
       "output_type": "stream",
       "stream": "stderr",
       "text": [
        "stravalib.model.Activity: WARNING  No such attribute device_watts on entity <Activity id=None name=None resource_state=None>\n"
       ]
      },
      {
       "output_type": "stream",
       "stream": "stderr",
       "text": [
        "WARNING:stravalib.model.Activity:No such attribute device_watts on entity <Activity id=None name=None resource_state=None>\n"
       ]
      },
      {
       "output_type": "stream",
       "stream": "stderr",
       "text": [
        "stravalib.model.Activity: WARNING  No such attribute device_watts on entity <Activity id=None name=None resource_state=None>\n"
       ]
      },
      {
       "output_type": "stream",
       "stream": "stderr",
       "text": [
        "WARNING:stravalib.model.Activity:No such attribute device_watts on entity <Activity id=None name=None resource_state=None>\n"
       ]
      },
      {
       "output_type": "stream",
       "stream": "stderr",
       "text": [
        "stravalib.model.Activity: WARNING  No such attribute device_watts on entity <Activity id=None name=None resource_state=None>\n"
       ]
      },
      {
       "output_type": "stream",
       "stream": "stderr",
       "text": [
        "WARNING:stravalib.model.Activity:No such attribute device_watts on entity <Activity id=None name=None resource_state=None>\n"
       ]
      },
      {
       "output_type": "stream",
       "stream": "stderr",
       "text": [
        "stravalib.model.Activity: WARNING  No such attribute device_watts on entity <Activity id=None name=None resource_state=None>\n"
       ]
      },
      {
       "output_type": "stream",
       "stream": "stderr",
       "text": [
        "WARNING:stravalib.model.Activity:No such attribute device_watts on entity <Activity id=None name=None resource_state=None>\n"
       ]
      },
      {
       "output_type": "stream",
       "stream": "stderr",
       "text": [
        "stravalib.model.Activity: WARNING  No such attribute device_watts on entity <Activity id=None name=None resource_state=None>\n"
       ]
      },
      {
       "output_type": "stream",
       "stream": "stderr",
       "text": [
        "WARNING:stravalib.model.Activity:No such attribute device_watts on entity <Activity id=None name=None resource_state=None>\n"
       ]
      },
      {
       "output_type": "stream",
       "stream": "stderr",
       "text": [
        "stravalib.model.Activity: WARNING  No such attribute device_watts on entity <Activity id=None name=None resource_state=None>\n"
       ]
      },
      {
       "output_type": "stream",
       "stream": "stderr",
       "text": [
        "WARNING:stravalib.model.Activity:No such attribute device_watts on entity <Activity id=None name=None resource_state=None>\n"
       ]
      },
      {
       "output_type": "stream",
       "stream": "stderr",
       "text": [
        "stravalib.model.Activity: WARNING  No such attribute device_watts on entity <Activity id=None name=None resource_state=None>\n"
       ]
      },
      {
       "output_type": "stream",
       "stream": "stderr",
       "text": [
        "WARNING:stravalib.model.Activity:No such attribute device_watts on entity <Activity id=None name=None resource_state=None>\n"
       ]
      },
      {
       "output_type": "stream",
       "stream": "stderr",
       "text": [
        "stravalib.model.Activity: WARNING  No such attribute device_watts on entity <Activity id=None name=None resource_state=None>\n"
       ]
      },
      {
       "output_type": "stream",
       "stream": "stderr",
       "text": [
        "WARNING:stravalib.model.Activity:No such attribute device_watts on entity <Activity id=None name=None resource_state=None>\n"
       ]
      },
      {
       "output_type": "stream",
       "stream": "stderr",
       "text": [
        "stravalib.model.Activity: WARNING  No such attribute device_watts on entity <Activity id=None name=None resource_state=None>\n"
       ]
      },
      {
       "output_type": "stream",
       "stream": "stderr",
       "text": [
        "WARNING:stravalib.model.Activity:No such attribute device_watts on entity <Activity id=None name=None resource_state=None>\n"
       ]
      },
      {
       "output_type": "stream",
       "stream": "stderr",
       "text": [
        "stravalib.model.Activity: WARNING  No such attribute device_watts on entity <Activity id=None name=None resource_state=None>\n"
       ]
      },
      {
       "output_type": "stream",
       "stream": "stderr",
       "text": [
        "WARNING:stravalib.model.Activity:No such attribute device_watts on entity <Activity id=None name=None resource_state=None>\n"
       ]
      },
      {
       "output_type": "stream",
       "stream": "stderr",
       "text": [
        "stravalib.model.Activity: WARNING  No such attribute device_watts on entity <Activity id=None name=None resource_state=None>\n"
       ]
      },
      {
       "output_type": "stream",
       "stream": "stderr",
       "text": [
        "WARNING:stravalib.model.Activity:No such attribute device_watts on entity <Activity id=None name=None resource_state=None>\n"
       ]
      },
      {
       "output_type": "stream",
       "stream": "stderr",
       "text": [
        "stravalib.model.Activity: WARNING  No such attribute device_watts on entity <Activity id=None name=None resource_state=None>\n"
       ]
      },
      {
       "output_type": "stream",
       "stream": "stderr",
       "text": [
        "WARNING:stravalib.model.Activity:No such attribute device_watts on entity <Activity id=None name=None resource_state=None>\n"
       ]
      },
      {
       "output_type": "stream",
       "stream": "stderr",
       "text": [
        "stravalib.model.Activity: WARNING  No such attribute device_watts on entity <Activity id=None name=None resource_state=None>\n"
       ]
      },
      {
       "output_type": "stream",
       "stream": "stderr",
       "text": [
        "WARNING:stravalib.model.Activity:No such attribute device_watts on entity <Activity id=None name=None resource_state=None>\n"
       ]
      },
      {
       "output_type": "stream",
       "stream": "stderr",
       "text": [
        "stravalib.model.Activity: WARNING  No such attribute device_watts on entity <Activity id=None name=None resource_state=None>\n"
       ]
      },
      {
       "output_type": "stream",
       "stream": "stderr",
       "text": [
        "WARNING:stravalib.model.Activity:No such attribute device_watts on entity <Activity id=None name=None resource_state=None>\n"
       ]
      },
      {
       "output_type": "stream",
       "stream": "stderr",
       "text": [
        "stravalib.model.Activity: WARNING  No such attribute device_watts on entity <Activity id=None name=None resource_state=None>\n"
       ]
      },
      {
       "output_type": "stream",
       "stream": "stderr",
       "text": [
        "WARNING:stravalib.model.Activity:No such attribute device_watts on entity <Activity id=None name=None resource_state=None>\n"
       ]
      },
      {
       "output_type": "stream",
       "stream": "stderr",
       "text": [
        "stravalib.model.Activity: WARNING  No such attribute device_watts on entity <Activity id=None name=None resource_state=None>\n"
       ]
      },
      {
       "output_type": "stream",
       "stream": "stderr",
       "text": [
        "WARNING:stravalib.model.Activity:No such attribute device_watts on entity <Activity id=None name=None resource_state=None>\n"
       ]
      },
      {
       "output_type": "stream",
       "stream": "stderr",
       "text": [
        "stravalib.model.Activity: WARNING  No such attribute device_watts on entity <Activity id=None name=None resource_state=None>\n"
       ]
      },
      {
       "output_type": "stream",
       "stream": "stderr",
       "text": [
        "WARNING:stravalib.model.Activity:No such attribute device_watts on entity <Activity id=None name=None resource_state=None>\n"
       ]
      },
      {
       "output_type": "stream",
       "stream": "stderr",
       "text": [
        "stravalib.model.Activity: WARNING  No such attribute device_watts on entity <Activity id=None name=None resource_state=None>\n"
       ]
      },
      {
       "output_type": "stream",
       "stream": "stderr",
       "text": [
        "WARNING:stravalib.model.Activity:No such attribute device_watts on entity <Activity id=None name=None resource_state=None>\n"
       ]
      },
      {
       "output_type": "stream",
       "stream": "stderr",
       "text": [
        "stravalib.model.Activity: WARNING  No such attribute device_watts on entity <Activity id=None name=None resource_state=None>\n"
       ]
      },
      {
       "output_type": "stream",
       "stream": "stderr",
       "text": [
        "WARNING:stravalib.model.Activity:No such attribute device_watts on entity <Activity id=None name=None resource_state=None>\n"
       ]
      },
      {
       "output_type": "stream",
       "stream": "stderr",
       "text": [
        "stravalib.model.Activity: WARNING  No such attribute device_watts on entity <Activity id=None name=None resource_state=None>\n"
       ]
      },
      {
       "output_type": "stream",
       "stream": "stderr",
       "text": [
        "WARNING:stravalib.model.Activity:No such attribute device_watts on entity <Activity id=None name=None resource_state=None>\n"
       ]
      },
      {
       "output_type": "stream",
       "stream": "stderr",
       "text": [
        "stravalib.model.Activity: WARNING  No such attribute device_watts on entity <Activity id=None name=None resource_state=None>\n"
       ]
      },
      {
       "output_type": "stream",
       "stream": "stderr",
       "text": [
        "WARNING:stravalib.model.Activity:No such attribute device_watts on entity <Activity id=None name=None resource_state=None>\n"
       ]
      },
      {
       "output_type": "stream",
       "stream": "stderr",
       "text": [
        "stravalib.model.Activity: WARNING  No such attribute device_watts on entity <Activity id=None name=None resource_state=None>\n"
       ]
      },
      {
       "output_type": "stream",
       "stream": "stderr",
       "text": [
        "WARNING:stravalib.model.Activity:No such attribute device_watts on entity <Activity id=None name=None resource_state=None>\n"
       ]
      },
      {
       "output_type": "stream",
       "stream": "stderr",
       "text": [
        "stravalib.model.Activity: WARNING  No such attribute device_watts on entity <Activity id=None name=None resource_state=None>\n"
       ]
      },
      {
       "output_type": "stream",
       "stream": "stderr",
       "text": [
        "WARNING:stravalib.model.Activity:No such attribute device_watts on entity <Activity id=None name=None resource_state=None>\n"
       ]
      },
      {
       "output_type": "stream",
       "stream": "stderr",
       "text": [
        "stravalib.model.Activity: WARNING  No such attribute device_watts on entity <Activity id=None name=None resource_state=None>\n"
       ]
      },
      {
       "output_type": "stream",
       "stream": "stderr",
       "text": [
        "WARNING:stravalib.model.Activity:No such attribute device_watts on entity <Activity id=None name=None resource_state=None>\n"
       ]
      },
      {
       "output_type": "stream",
       "stream": "stderr",
       "text": [
        "stravalib.model.Activity: WARNING  No such attribute device_watts on entity <Activity id=None name=None resource_state=None>\n"
       ]
      },
      {
       "output_type": "stream",
       "stream": "stderr",
       "text": [
        "WARNING:stravalib.model.Activity:No such attribute device_watts on entity <Activity id=None name=None resource_state=None>\n"
       ]
      },
      {
       "output_type": "stream",
       "stream": "stderr",
       "text": [
        "stravalib.model.Activity: WARNING  No such attribute device_watts on entity <Activity id=None name=None resource_state=None>\n"
       ]
      },
      {
       "output_type": "stream",
       "stream": "stderr",
       "text": [
        "WARNING:stravalib.model.Activity:No such attribute device_watts on entity <Activity id=None name=None resource_state=None>\n"
       ]
      },
      {
       "output_type": "stream",
       "stream": "stderr",
       "text": [
        "stravalib.model.Activity: WARNING  No such attribute device_watts on entity <Activity id=None name=None resource_state=None>\n"
       ]
      },
      {
       "output_type": "stream",
       "stream": "stderr",
       "text": [
        "WARNING:stravalib.model.Activity:No such attribute device_watts on entity <Activity id=None name=None resource_state=None>\n"
       ]
      },
      {
       "output_type": "stream",
       "stream": "stderr",
       "text": [
        "stravalib.model.Activity: WARNING  No such attribute device_watts on entity <Activity id=None name=None resource_state=None>\n"
       ]
      },
      {
       "output_type": "stream",
       "stream": "stderr",
       "text": [
        "WARNING:stravalib.model.Activity:No such attribute device_watts on entity <Activity id=None name=None resource_state=None>\n"
       ]
      },
      {
       "output_type": "stream",
       "stream": "stderr",
       "text": [
        "stravalib.model.Activity: WARNING  No such attribute device_watts on entity <Activity id=None name=None resource_state=None>\n"
       ]
      },
      {
       "output_type": "stream",
       "stream": "stderr",
       "text": [
        "WARNING:stravalib.model.Activity:No such attribute device_watts on entity <Activity id=None name=None resource_state=None>\n"
       ]
      },
      {
       "output_type": "stream",
       "stream": "stderr",
       "text": [
        "stravalib.model.Activity: WARNING  No such attribute device_watts on entity <Activity id=None name=None resource_state=None>\n"
       ]
      },
      {
       "output_type": "stream",
       "stream": "stderr",
       "text": [
        "WARNING:stravalib.model.Activity:No such attribute device_watts on entity <Activity id=None name=None resource_state=None>\n"
       ]
      },
      {
       "output_type": "stream",
       "stream": "stderr",
       "text": [
        "stravalib.model.Activity: WARNING  No such attribute device_watts on entity <Activity id=None name=None resource_state=None>\n"
       ]
      },
      {
       "output_type": "stream",
       "stream": "stderr",
       "text": [
        "WARNING:stravalib.model.Activity:No such attribute device_watts on entity <Activity id=None name=None resource_state=None>\n"
       ]
      },
      {
       "output_type": "stream",
       "stream": "stderr",
       "text": [
        "stravalib.model.Activity: WARNING  No such attribute device_watts on entity <Activity id=None name=None resource_state=None>\n"
       ]
      },
      {
       "output_type": "stream",
       "stream": "stderr",
       "text": [
        "WARNING:stravalib.model.Activity:No such attribute device_watts on entity <Activity id=None name=None resource_state=None>\n"
       ]
      },
      {
       "output_type": "stream",
       "stream": "stderr",
       "text": [
        "stravalib.model.Activity: WARNING  No such attribute device_watts on entity <Activity id=None name=None resource_state=None>\n"
       ]
      },
      {
       "output_type": "stream",
       "stream": "stderr",
       "text": [
        "WARNING:stravalib.model.Activity:No such attribute device_watts on entity <Activity id=None name=None resource_state=None>\n"
       ]
      },
      {
       "output_type": "stream",
       "stream": "stderr",
       "text": [
        "stravalib.model.Activity: WARNING  No such attribute device_watts on entity <Activity id=None name=None resource_state=None>\n"
       ]
      },
      {
       "output_type": "stream",
       "stream": "stderr",
       "text": [
        "WARNING:stravalib.model.Activity:No such attribute device_watts on entity <Activity id=None name=None resource_state=None>\n"
       ]
      },
      {
       "output_type": "stream",
       "stream": "stderr",
       "text": [
        "stravalib.model.Activity: WARNING  No such attribute device_watts on entity <Activity id=None name=None resource_state=None>\n"
       ]
      },
      {
       "output_type": "stream",
       "stream": "stderr",
       "text": [
        "WARNING:stravalib.model.Activity:No such attribute device_watts on entity <Activity id=None name=None resource_state=None>\n"
       ]
      },
      {
       "output_type": "stream",
       "stream": "stderr",
       "text": [
        "stravalib.model.Activity: WARNING  No such attribute device_watts on entity <Activity id=None name=None resource_state=None>\n"
       ]
      },
      {
       "output_type": "stream",
       "stream": "stderr",
       "text": [
        "WARNING:stravalib.model.Activity:No such attribute device_watts on entity <Activity id=None name=None resource_state=None>\n"
       ]
      },
      {
       "output_type": "stream",
       "stream": "stderr",
       "text": [
        "stravalib.model.Activity: WARNING  No such attribute device_watts on entity <Activity id=None name=None resource_state=None>\n"
       ]
      },
      {
       "output_type": "stream",
       "stream": "stderr",
       "text": [
        "WARNING:stravalib.model.Activity:No such attribute device_watts on entity <Activity id=None name=None resource_state=None>\n"
       ]
      },
      {
       "output_type": "stream",
       "stream": "stderr",
       "text": [
        "stravalib.model.Activity: WARNING  No such attribute device_watts on entity <Activity id=None name=None resource_state=None>\n"
       ]
      },
      {
       "output_type": "stream",
       "stream": "stderr",
       "text": [
        "WARNING:stravalib.model.Activity:No such attribute device_watts on entity <Activity id=None name=None resource_state=None>\n"
       ]
      },
      {
       "output_type": "stream",
       "stream": "stderr",
       "text": [
        "stravalib.model.Activity: WARNING  No such attribute device_watts on entity <Activity id=None name=None resource_state=None>\n"
       ]
      },
      {
       "output_type": "stream",
       "stream": "stderr",
       "text": [
        "WARNING:stravalib.model.Activity:No such attribute device_watts on entity <Activity id=None name=None resource_state=None>\n"
       ]
      },
      {
       "output_type": "stream",
       "stream": "stderr",
       "text": [
        "stravalib.model.Activity: WARNING  No such attribute device_watts on entity <Activity id=None name=None resource_state=None>\n"
       ]
      },
      {
       "output_type": "stream",
       "stream": "stderr",
       "text": [
        "WARNING:stravalib.model.Activity:No such attribute device_watts on entity <Activity id=None name=None resource_state=None>\n"
       ]
      },
      {
       "output_type": "stream",
       "stream": "stderr",
       "text": [
        "stravalib.model.Activity: WARNING  No such attribute device_watts on entity <Activity id=None name=None resource_state=None>\n"
       ]
      },
      {
       "output_type": "stream",
       "stream": "stderr",
       "text": [
        "WARNING:stravalib.model.Activity:No such attribute device_watts on entity <Activity id=None name=None resource_state=None>\n"
       ]
      },
      {
       "output_type": "stream",
       "stream": "stderr",
       "text": [
        "stravalib.model.Activity: WARNING  No such attribute device_watts on entity <Activity id=None name=None resource_state=None>\n"
       ]
      },
      {
       "output_type": "stream",
       "stream": "stderr",
       "text": [
        "WARNING:stravalib.model.Activity:No such attribute device_watts on entity <Activity id=None name=None resource_state=None>\n"
       ]
      },
      {
       "output_type": "stream",
       "stream": "stderr",
       "text": [
        "stravalib.model.Activity: WARNING  No such attribute device_watts on entity <Activity id=None name=None resource_state=None>\n"
       ]
      },
      {
       "output_type": "stream",
       "stream": "stderr",
       "text": [
        "WARNING:stravalib.model.Activity:No such attribute device_watts on entity <Activity id=None name=None resource_state=None>\n"
       ]
      },
      {
       "output_type": "stream",
       "stream": "stderr",
       "text": [
        "stravalib.model.Activity: WARNING  No such attribute device_watts on entity <Activity id=None name=None resource_state=None>\n"
       ]
      },
      {
       "output_type": "stream",
       "stream": "stderr",
       "text": [
        "WARNING:stravalib.model.Activity:No such attribute device_watts on entity <Activity id=None name=None resource_state=None>\n"
       ]
      },
      {
       "output_type": "stream",
       "stream": "stderr",
       "text": [
        "stravalib.model.Activity: WARNING  No such attribute device_watts on entity <Activity id=None name=None resource_state=None>\n"
       ]
      },
      {
       "output_type": "stream",
       "stream": "stderr",
       "text": [
        "WARNING:stravalib.model.Activity:No such attribute device_watts on entity <Activity id=None name=None resource_state=None>\n"
       ]
      },
      {
       "output_type": "stream",
       "stream": "stderr",
       "text": [
        "stravalib.model.Activity: WARNING  No such attribute device_watts on entity <Activity id=None name=None resource_state=None>\n"
       ]
      },
      {
       "output_type": "stream",
       "stream": "stderr",
       "text": [
        "WARNING:stravalib.model.Activity:No such attribute device_watts on entity <Activity id=None name=None resource_state=None>\n"
       ]
      },
      {
       "output_type": "stream",
       "stream": "stderr",
       "text": [
        "stravalib.model.Activity: WARNING  No such attribute device_watts on entity <Activity id=None name=None resource_state=None>\n"
       ]
      },
      {
       "output_type": "stream",
       "stream": "stderr",
       "text": [
        "WARNING:stravalib.model.Activity:No such attribute device_watts on entity <Activity id=None name=None resource_state=None>\n"
       ]
      },
      {
       "output_type": "stream",
       "stream": "stderr",
       "text": [
        "stravalib.model.Activity: WARNING  No such attribute device_watts on entity <Activity id=None name=None resource_state=None>\n"
       ]
      },
      {
       "output_type": "stream",
       "stream": "stderr",
       "text": [
        "WARNING:stravalib.model.Activity:No such attribute device_watts on entity <Activity id=None name=None resource_state=None>\n"
       ]
      },
      {
       "output_type": "stream",
       "stream": "stderr",
       "text": [
        "stravalib.model.Activity: WARNING  No such attribute device_watts on entity <Activity id=None name=None resource_state=None>\n"
       ]
      },
      {
       "output_type": "stream",
       "stream": "stderr",
       "text": [
        "WARNING:stravalib.model.Activity:No such attribute device_watts on entity <Activity id=None name=None resource_state=None>\n"
       ]
      },
      {
       "output_type": "stream",
       "stream": "stderr",
       "text": [
        "stravalib.model.Activity: WARNING  No such attribute device_watts on entity <Activity id=None name=None resource_state=None>\n"
       ]
      },
      {
       "output_type": "stream",
       "stream": "stderr",
       "text": [
        "WARNING:stravalib.model.Activity:No such attribute device_watts on entity <Activity id=None name=None resource_state=None>\n"
       ]
      },
      {
       "output_type": "stream",
       "stream": "stderr",
       "text": [
        "stravalib.model.Activity: WARNING  No such attribute device_watts on entity <Activity id=None name=None resource_state=None>\n"
       ]
      },
      {
       "output_type": "stream",
       "stream": "stderr",
       "text": [
        "WARNING:stravalib.model.Activity:No such attribute device_watts on entity <Activity id=None name=None resource_state=None>\n"
       ]
      },
      {
       "output_type": "stream",
       "stream": "stderr",
       "text": [
        "stravalib.model.Activity: WARNING  No such attribute device_watts on entity <Activity id=None name=None resource_state=None>\n"
       ]
      },
      {
       "output_type": "stream",
       "stream": "stderr",
       "text": [
        "WARNING:stravalib.model.Activity:No such attribute device_watts on entity <Activity id=None name=None resource_state=None>\n"
       ]
      },
      {
       "output_type": "stream",
       "stream": "stderr",
       "text": [
        "stravalib.model.Activity: WARNING  No such attribute device_watts on entity <Activity id=None name=None resource_state=None>\n"
       ]
      },
      {
       "output_type": "stream",
       "stream": "stderr",
       "text": [
        "WARNING:stravalib.model.Activity:No such attribute device_watts on entity <Activity id=None name=None resource_state=None>\n"
       ]
      },
      {
       "output_type": "stream",
       "stream": "stderr",
       "text": [
        "stravalib.model.Activity: WARNING  No such attribute device_watts on entity <Activity id=None name=None resource_state=None>\n"
       ]
      },
      {
       "output_type": "stream",
       "stream": "stderr",
       "text": [
        "WARNING:stravalib.model.Activity:No such attribute device_watts on entity <Activity id=None name=None resource_state=None>\n"
       ]
      },
      {
       "output_type": "stream",
       "stream": "stderr",
       "text": [
        "stravalib.model.Activity: WARNING  No such attribute device_watts on entity <Activity id=None name=None resource_state=None>\n"
       ]
      },
      {
       "output_type": "stream",
       "stream": "stderr",
       "text": [
        "WARNING:stravalib.model.Activity:No such attribute device_watts on entity <Activity id=None name=None resource_state=None>\n"
       ]
      },
      {
       "output_type": "stream",
       "stream": "stderr",
       "text": [
        "stravalib.model.Activity: WARNING  No such attribute device_watts on entity <Activity id=None name=None resource_state=None>\n"
       ]
      },
      {
       "output_type": "stream",
       "stream": "stderr",
       "text": [
        "WARNING:stravalib.model.Activity:No such attribute device_watts on entity <Activity id=None name=None resource_state=None>\n"
       ]
      },
      {
       "output_type": "stream",
       "stream": "stderr",
       "text": [
        "stravalib.model.Activity: WARNING  No such attribute device_watts on entity <Activity id=None name=None resource_state=None>\n"
       ]
      },
      {
       "output_type": "stream",
       "stream": "stderr",
       "text": [
        "WARNING:stravalib.model.Activity:No such attribute device_watts on entity <Activity id=None name=None resource_state=None>\n"
       ]
      },
      {
       "output_type": "stream",
       "stream": "stderr",
       "text": [
        "stravalib.model.Activity: WARNING  No such attribute device_watts on entity <Activity id=None name=None resource_state=None>\n"
       ]
      },
      {
       "output_type": "stream",
       "stream": "stderr",
       "text": [
        "WARNING:stravalib.model.Activity:No such attribute device_watts on entity <Activity id=None name=None resource_state=None>\n"
       ]
      },
      {
       "output_type": "stream",
       "stream": "stderr",
       "text": [
        "stravalib.model.Activity: WARNING  No such attribute device_watts on entity <Activity id=None name=None resource_state=None>\n"
       ]
      },
      {
       "output_type": "stream",
       "stream": "stderr",
       "text": [
        "WARNING:stravalib.model.Activity:No such attribute device_watts on entity <Activity id=None name=None resource_state=None>\n"
       ]
      },
      {
       "output_type": "stream",
       "stream": "stderr",
       "text": [
        "stravalib.model.Activity: WARNING  No such attribute device_watts on entity <Activity id=None name=None resource_state=None>\n"
       ]
      },
      {
       "output_type": "stream",
       "stream": "stderr",
       "text": [
        "WARNING:stravalib.model.Activity:No such attribute device_watts on entity <Activity id=None name=None resource_state=None>\n"
       ]
      },
      {
       "output_type": "stream",
       "stream": "stderr",
       "text": [
        "stravalib.model.Activity: WARNING  No such attribute device_watts on entity <Activity id=None name=None resource_state=None>\n"
       ]
      },
      {
       "output_type": "stream",
       "stream": "stderr",
       "text": [
        "WARNING:stravalib.model.Activity:No such attribute device_watts on entity <Activity id=None name=None resource_state=None>\n"
       ]
      },
      {
       "output_type": "stream",
       "stream": "stderr",
       "text": [
        "stravalib.model.Activity: WARNING  No such attribute device_watts on entity <Activity id=None name=None resource_state=None>\n"
       ]
      },
      {
       "output_type": "stream",
       "stream": "stderr",
       "text": [
        "WARNING:stravalib.model.Activity:No such attribute device_watts on entity <Activity id=None name=None resource_state=None>\n"
       ]
      },
      {
       "output_type": "stream",
       "stream": "stderr",
       "text": [
        "stravalib.model.Activity: WARNING  No such attribute device_watts on entity <Activity id=None name=None resource_state=None>\n"
       ]
      },
      {
       "output_type": "stream",
       "stream": "stderr",
       "text": [
        "WARNING:stravalib.model.Activity:No such attribute device_watts on entity <Activity id=None name=None resource_state=None>\n"
       ]
      },
      {
       "output_type": "stream",
       "stream": "stderr",
       "text": [
        "stravalib.model.Activity: WARNING  No such attribute device_watts on entity <Activity id=None name=None resource_state=None>\n"
       ]
      },
      {
       "output_type": "stream",
       "stream": "stderr",
       "text": [
        "WARNING:stravalib.model.Activity:No such attribute device_watts on entity <Activity id=None name=None resource_state=None>\n"
       ]
      },
      {
       "output_type": "stream",
       "stream": "stderr",
       "text": [
        "stravalib.model.Activity: WARNING  No such attribute device_watts on entity <Activity id=None name=None resource_state=None>\n"
       ]
      },
      {
       "output_type": "stream",
       "stream": "stderr",
       "text": [
        "WARNING:stravalib.model.Activity:No such attribute device_watts on entity <Activity id=None name=None resource_state=None>\n"
       ]
      },
      {
       "output_type": "stream",
       "stream": "stderr",
       "text": [
        "stravalib.model.Activity: WARNING  No such attribute device_watts on entity <Activity id=None name=None resource_state=None>\n"
       ]
      },
      {
       "output_type": "stream",
       "stream": "stderr",
       "text": [
        "WARNING:stravalib.model.Activity:No such attribute device_watts on entity <Activity id=None name=None resource_state=None>\n"
       ]
      },
      {
       "output_type": "stream",
       "stream": "stderr",
       "text": [
        "stravalib.model.Activity: WARNING  No such attribute device_watts on entity <Activity id=None name=None resource_state=None>\n"
       ]
      },
      {
       "output_type": "stream",
       "stream": "stderr",
       "text": [
        "WARNING:stravalib.model.Activity:No such attribute device_watts on entity <Activity id=None name=None resource_state=None>\n"
       ]
      },
      {
       "output_type": "stream",
       "stream": "stderr",
       "text": [
        "stravalib.model.Activity: WARNING  No such attribute device_watts on entity <Activity id=None name=None resource_state=None>\n"
       ]
      },
      {
       "output_type": "stream",
       "stream": "stderr",
       "text": [
        "WARNING:stravalib.model.Activity:No such attribute device_watts on entity <Activity id=None name=None resource_state=None>\n"
       ]
      },
      {
       "output_type": "stream",
       "stream": "stderr",
       "text": [
        "stravalib.model.Activity: WARNING  No such attribute device_watts on entity <Activity id=None name=None resource_state=None>\n"
       ]
      },
      {
       "output_type": "stream",
       "stream": "stderr",
       "text": [
        "WARNING:stravalib.model.Activity:No such attribute device_watts on entity <Activity id=None name=None resource_state=None>\n"
       ]
      },
      {
       "output_type": "stream",
       "stream": "stderr",
       "text": [
        "stravalib.model.Activity: WARNING  No such attribute device_watts on entity <Activity id=None name=None resource_state=None>\n"
       ]
      },
      {
       "output_type": "stream",
       "stream": "stderr",
       "text": [
        "WARNING:stravalib.model.Activity:No such attribute device_watts on entity <Activity id=None name=None resource_state=None>\n"
       ]
      },
      {
       "output_type": "stream",
       "stream": "stderr",
       "text": [
        "stravalib.model.Activity: WARNING  No such attribute device_watts on entity <Activity id=None name=None resource_state=None>\n"
       ]
      },
      {
       "output_type": "stream",
       "stream": "stderr",
       "text": [
        "WARNING:stravalib.model.Activity:No such attribute device_watts on entity <Activity id=None name=None resource_state=None>\n"
       ]
      },
      {
       "output_type": "stream",
       "stream": "stderr",
       "text": [
        "stravalib.model.Activity: WARNING  No such attribute device_watts on entity <Activity id=None name=None resource_state=None>\n"
       ]
      },
      {
       "output_type": "stream",
       "stream": "stderr",
       "text": [
        "WARNING:stravalib.model.Activity:No such attribute device_watts on entity <Activity id=None name=None resource_state=None>\n"
       ]
      },
      {
       "output_type": "stream",
       "stream": "stderr",
       "text": [
        "stravalib.model.Activity: WARNING  No such attribute device_watts on entity <Activity id=None name=None resource_state=None>\n"
       ]
      },
      {
       "output_type": "stream",
       "stream": "stderr",
       "text": [
        "WARNING:stravalib.model.Activity:No such attribute device_watts on entity <Activity id=None name=None resource_state=None>\n"
       ]
      },
      {
       "output_type": "stream",
       "stream": "stderr",
       "text": [
        "stravalib.model.Activity: WARNING  No such attribute device_watts on entity <Activity id=None name=None resource_state=None>\n"
       ]
      },
      {
       "output_type": "stream",
       "stream": "stderr",
       "text": [
        "WARNING:stravalib.model.Activity:No such attribute device_watts on entity <Activity id=None name=None resource_state=None>\n"
       ]
      },
      {
       "output_type": "stream",
       "stream": "stderr",
       "text": [
        "stravalib.model.Activity: WARNING  No such attribute device_watts on entity <Activity id=None name=None resource_state=None>\n"
       ]
      },
      {
       "output_type": "stream",
       "stream": "stderr",
       "text": [
        "WARNING:stravalib.model.Activity:No such attribute device_watts on entity <Activity id=None name=None resource_state=None>\n"
       ]
      },
      {
       "output_type": "stream",
       "stream": "stderr",
       "text": [
        "stravalib.model.Activity: WARNING  No such attribute device_watts on entity <Activity id=None name=None resource_state=None>\n"
       ]
      },
      {
       "output_type": "stream",
       "stream": "stderr",
       "text": [
        "WARNING:stravalib.model.Activity:No such attribute device_watts on entity <Activity id=None name=None resource_state=None>\n"
       ]
      },
      {
       "output_type": "stream",
       "stream": "stderr",
       "text": [
        "stravalib.model.Activity: WARNING  No such attribute device_watts on entity <Activity id=None name=None resource_state=None>\n"
       ]
      },
      {
       "output_type": "stream",
       "stream": "stderr",
       "text": [
        "WARNING:stravalib.model.Activity:No such attribute device_watts on entity <Activity id=None name=None resource_state=None>\n"
       ]
      },
      {
       "output_type": "stream",
       "stream": "stderr",
       "text": [
        "stravalib.model.Activity: WARNING  No such attribute device_watts on entity <Activity id=None name=None resource_state=None>\n"
       ]
      },
      {
       "output_type": "stream",
       "stream": "stderr",
       "text": [
        "WARNING:stravalib.model.Activity:No such attribute device_watts on entity <Activity id=None name=None resource_state=None>\n"
       ]
      },
      {
       "output_type": "stream",
       "stream": "stderr",
       "text": [
        "stravalib.model.Activity: WARNING  No such attribute device_watts on entity <Activity id=None name=None resource_state=None>\n"
       ]
      },
      {
       "metadata": {},
       "output_type": "pyout",
       "prompt_number": 13,
       "text": [
        "[184416264,\n",
        " 184000910,\n",
        " 184000908,\n",
        " 178588161,\n",
        " 174577746,\n",
        " 172338246,\n",
        " 172338173,\n",
        " 168689897,\n",
        " 165016597,\n",
        " 165016728,\n",
        " 165016596,\n",
        " 159348922]"
       ]
      }
     ],
     "prompt_number": 13
    },
    {
     "cell_type": "code",
     "collapsed": false,
     "input": [
      "print len(filtered_ids)\n",
      "print len(activity_filt.filtered)"
     ],
     "language": "python",
     "metadata": {},
     "outputs": [
      {
       "output_type": "stream",
       "stream": "stdout",
       "text": [
        "12\n",
        "28"
       ]
      },
      {
       "output_type": "stream",
       "stream": "stdout",
       "text": [
        "\n"
       ]
      }
     ],
     "prompt_number": 14
    },
    {
     "cell_type": "code",
     "collapsed": false,
     "input": [
      "filtered = [client.get_activity(id) for id in filtered_ids] "
     ],
     "language": "python",
     "metadata": {},
     "outputs": [
      {
       "output_type": "stream",
       "stream": "stderr",
       "text": [
        "WARNING:stravalib.model.Activity:No such attribute device_watts on entity <Activity id=None name=None resource_state=None>\n"
       ]
      },
      {
       "output_type": "stream",
       "stream": "stderr",
       "text": [
        "stravalib.model.Activity: WARNING  No such attribute device_watts on entity <Activity id=None name=None resource_state=None>\n"
       ]
      },
      {
       "output_type": "stream",
       "stream": "stderr",
       "text": [
        "WARNING:stravalib.model.Activity:No such attribute device_watts on entity <Activity id=None name=None resource_state=None>\n"
       ]
      },
      {
       "output_type": "stream",
       "stream": "stderr",
       "text": [
        "stravalib.model.Activity: WARNING  No such attribute device_watts on entity <Activity id=None name=None resource_state=None>\n"
       ]
      },
      {
       "output_type": "stream",
       "stream": "stderr",
       "text": [
        "WARNING:stravalib.model.Activity:No such attribute device_watts on entity <Activity id=None name=None resource_state=None>\n"
       ]
      },
      {
       "output_type": "stream",
       "stream": "stderr",
       "text": [
        "stravalib.model.Activity: WARNING  No such attribute device_watts on entity <Activity id=None name=None resource_state=None>\n"
       ]
      },
      {
       "output_type": "stream",
       "stream": "stderr",
       "text": [
        "WARNING:stravalib.model.Activity:No such attribute device_watts on entity <Activity id=None name=None resource_state=None>\n"
       ]
      },
      {
       "output_type": "stream",
       "stream": "stderr",
       "text": [
        "stravalib.model.Activity: WARNING  No such attribute device_watts on entity <Activity id=None name=None resource_state=None>\n"
       ]
      },
      {
       "output_type": "stream",
       "stream": "stderr",
       "text": [
        "WARNING:stravalib.model.Activity:No such attribute device_watts on entity <Activity id=None name=None resource_state=None>\n"
       ]
      },
      {
       "output_type": "stream",
       "stream": "stderr",
       "text": [
        "stravalib.model.Activity: WARNING  No such attribute device_watts on entity <Activity id=None name=None resource_state=None>\n"
       ]
      },
      {
       "output_type": "stream",
       "stream": "stderr",
       "text": [
        "WARNING:stravalib.model.Activity:No such attribute device_watts on entity <Activity id=None name=None resource_state=None>\n"
       ]
      },
      {
       "output_type": "stream",
       "stream": "stderr",
       "text": [
        "stravalib.model.Activity: WARNING  No such attribute device_watts on entity <Activity id=None name=None resource_state=None>\n"
       ]
      },
      {
       "output_type": "stream",
       "stream": "stderr",
       "text": [
        "WARNING:stravalib.model.Activity:No such attribute device_watts on entity <Activity id=None name=None resource_state=None>\n"
       ]
      },
      {
       "output_type": "stream",
       "stream": "stderr",
       "text": [
        "stravalib.model.Activity: WARNING  No such attribute device_watts on entity <Activity id=None name=None resource_state=None>\n"
       ]
      },
      {
       "output_type": "stream",
       "stream": "stderr",
       "text": [
        "WARNING:stravalib.model.Activity:No such attribute device_watts on entity <Activity id=None name=None resource_state=None>\n"
       ]
      },
      {
       "output_type": "stream",
       "stream": "stderr",
       "text": [
        "stravalib.model.Activity: WARNING  No such attribute device_watts on entity <Activity id=None name=None resource_state=None>\n"
       ]
      },
      {
       "output_type": "stream",
       "stream": "stderr",
       "text": [
        "WARNING:stravalib.model.Activity:No such attribute device_watts on entity <Activity id=None name=None resource_state=None>\n"
       ]
      },
      {
       "output_type": "stream",
       "stream": "stderr",
       "text": [
        "stravalib.model.Activity: WARNING  No such attribute device_watts on entity <Activity id=None name=None resource_state=None>\n"
       ]
      },
      {
       "output_type": "stream",
       "stream": "stderr",
       "text": [
        "WARNING:stravalib.model.Activity:No such attribute device_watts on entity <Activity id=None name=None resource_state=None>\n"
       ]
      },
      {
       "output_type": "stream",
       "stream": "stderr",
       "text": [
        "stravalib.model.Activity: WARNING  No such attribute device_watts on entity <Activity id=None name=None resource_state=None>\n"
       ]
      },
      {
       "output_type": "stream",
       "stream": "stderr",
       "text": [
        "WARNING:stravalib.model.Activity:No such attribute device_watts on entity <Activity id=None name=None resource_state=None>\n"
       ]
      },
      {
       "output_type": "stream",
       "stream": "stderr",
       "text": [
        "stravalib.model.Activity: WARNING  No such attribute device_watts on entity <Activity id=None name=None resource_state=None>\n"
       ]
      },
      {
       "output_type": "stream",
       "stream": "stderr",
       "text": [
        "WARNING:stravalib.model.Activity:No such attribute device_watts on entity <Activity id=None name=None resource_state=None>\n"
       ]
      },
      {
       "output_type": "stream",
       "stream": "stderr",
       "text": [
        "stravalib.model.Activity: WARNING  No such attribute device_watts on entity <Activity id=None name=None resource_state=None>\n"
       ]
      }
     ],
     "prompt_number": 15
    },
    {
     "cell_type": "code",
     "collapsed": false,
     "input": [
      "print len(filtered)\n",
      "act1 = filtered[0]\n",
      "filtered"
     ],
     "language": "python",
     "metadata": {},
     "outputs": [
      {
       "output_type": "stream",
       "stream": "stdout",
       "text": [
        "12\n"
       ]
      },
      {
       "metadata": {},
       "output_type": "pyout",
       "prompt_number": 17,
       "text": [
        "[<Activity id=184416264 name=u'rough. because of drinking.' resource_state=3>,\n",
        " <Activity id=184000910 name=u'08/20/2014 San Francisco, CA' resource_state=3>,\n",
        " <Activity id=184000908 name=u'08/18/2014 San Francisco, CA' resource_state=3>,\n",
        " <Activity id=178588161 name=u'tourists, mostly out of the way #win' resource_state=3>,\n",
        " <Activity id=174577746 name=u\"I've definitely done more leisurely things on Saturdays\" resource_state=3>,\n",
        " <Activity id=172338246 name=u'HH -> fairfax -> 8 mi mtn bike -> fairfax -> HH, aka ass kicking' resource_state=3>,\n",
        " <Activity id=172338173 name=u'8 days until pain' resource_state=3>,\n",
        " <Activity id=168689897 name=u'dodging flock bombs' resource_state=3>,\n",
        " <Activity id=165016597 name=u'2 girls walking their pinarellos up hawk hill. tsk tsk.' resource_state=3>,\n",
        " <Activity id=165016728 name=u'mt tam + old bike = bad' resource_state=3>,\n",
        " <Activity id=165016596 name=u\"bike 'bout to break\" resource_state=3>,\n",
        " <Activity id=159348922 name=u\"ron vale's pool cleaner\" resource_state=3>]"
       ]
      }
     ],
     "prompt_number": 17
    },
    {
     "cell_type": "code",
     "collapsed": false,
     "input": [],
     "language": "python",
     "metadata": {},
     "outputs": [],
     "prompt_number": 17
    },
    {
     "cell_type": "code",
     "collapsed": false,
     "input": [
      "segment_efforts = act1.segment_efforts\n",
      "seg_effort1 = segment_efforts[0]\n",
      "seg_effort1"
     ],
     "language": "python",
     "metadata": {},
     "outputs": [
      {
       "metadata": {},
       "output_type": "pyout",
       "prompt_number": 18,
       "text": [
        "<SegmentEffort id=4315479227 name=u'Conservatory Dr. West Climb' resource_state=2>"
       ]
      }
     ],
     "prompt_number": 18
    },
    {
     "cell_type": "code",
     "collapsed": false,
     "input": [
      "activities_unique = [ filtered[i] for i in [0,4,7,8,11] ]\n",
      "activities_unique"
     ],
     "language": "python",
     "metadata": {},
     "outputs": [
      {
       "metadata": {},
       "output_type": "pyout",
       "prompt_number": 19,
       "text": [
        "[<Activity id=184416264 name=u'rough. because of drinking.' resource_state=3>,\n",
        " <Activity id=174577746 name=u\"I've definitely done more leisurely things on Saturdays\" resource_state=3>,\n",
        " <Activity id=168689897 name=u'dodging flock bombs' resource_state=3>,\n",
        " <Activity id=165016597 name=u'2 girls walking their pinarellos up hawk hill. tsk tsk.' resource_state=3>,\n",
        " <Activity id=159348922 name=u\"ron vale's pool cleaner\" resource_state=3>]"
       ]
      }
     ],
     "prompt_number": 19
    },
    {
     "cell_type": "code",
     "collapsed": false,
     "input": [
      "from dateutil import tz\n",
      "tz_local = tz.tzlocal()\n",
      "def get_activity_summary(activity, tz_local):\n",
      "    \"\"\"Pulls activity metrics and returns an html <option> elment \n",
      "       with summary metric text\n",
      "    \"\"\"\n",
      "    text = \"%s, distance: %i miles (on %s)\" % \\\n",
      "        (activity.name, \n",
      "         unithelper.miles(activity.distance),\n",
      "         activity.start_date.replace(tzinfo=tz_local).strftime(\"%m/%d\"))\n",
      "        \n",
      "    return \"<option>%s</option>\" % text"
     ],
     "language": "python",
     "metadata": {},
     "outputs": [],
     "prompt_number": 20
    },
    {
     "cell_type": "code",
     "collapsed": false,
     "input": [
      "for activity in activities_unique:\n",
      "    print get_activity_summary(activity, tz_local)"
     ],
     "language": "python",
     "metadata": {},
     "outputs": [
      {
       "output_type": "stream",
       "stream": "stdout",
       "text": [
        "<option>rough. because of drinking., distance: 48 miles (on 08/23)</option>\n",
        "<option>I've definitely done more leisurely things on Saturdays, distance: 131 miles (on 08/02)</option>\n",
        "<option>dodging flock bombs, distance: 42 miles (on 07/20)</option>\n",
        "<option>2 girls walking their pinarellos up hawk hill. tsk tsk., distance: 26 miles (on 07/12)</option>\n",
        "<option>ron vale's pool cleaner, distance: 51 miles (on 06/28)</option>\n"
       ]
      }
     ],
     "prompt_number": 21
    },
    {
     "cell_type": "code",
     "collapsed": false,
     "input": [
      "segments = [ seg_effort.segment for seg_effort in segment_efforts]\n",
      "seg1 = segments[0]\n",
      "seg1"
     ],
     "language": "python",
     "metadata": {},
     "outputs": [
      {
       "metadata": {},
       "output_type": "pyout",
       "prompt_number": 22,
       "text": [
        "<Segment id=808129 name=u'Conservatory Dr. West Climb' resource_state=2>"
       ]
      }
     ],
     "prompt_number": 22
    },
    {
     "cell_type": "code",
     "collapsed": false,
     "input": [
      "seg1.average_grade"
     ],
     "language": "python",
     "metadata": {},
     "outputs": [
      {
       "metadata": {},
       "output_type": "pyout",
       "prompt_number": 23,
       "text": [
        "2.6"
       ]
      }
     ],
     "prompt_number": 23
    },
    {
     "cell_type": "code",
     "collapsed": false,
     "input": [],
     "language": "python",
     "metadata": {},
     "outputs": [],
     "prompt_number": 30
    },
    {
     "cell_type": "code",
     "collapsed": false,
     "input": [
      "def get_all_segments(activities):\n",
      "    segs = []\n",
      "    for activity in activities:\n",
      "        for segment_effort in activity.segment_efforts:\n",
      "            segs.append( segment_effort.segment )\n",
      "    return segs\n",
      "\n",
      "def get_all_segment_ids(activities):\n",
      "    seg_ids = []\n",
      "    for activity in activities:\n",
      "        for segment_effort in activity.segment_efforts:\n",
      "            seg_ids.append( segment_effort.segment.id )\n",
      "    return seg_ids\n",
      "\n",
      "def get_all_segment_dists(activities, unique=True):\n",
      "    \"\"\"Unique ensures unique segment ids\n",
      "    \"\"\"\n",
      "    dists = []\n",
      "    ids   = set()\n",
      "    for activity in activities:\n",
      "        for segment_effort in activity.segment_efforts:\n",
      "            if unique and segment_effort.segment.id in ids: \n",
      "                continue\n",
      "            else:\n",
      "                dists.append(float( unithelper.miles( segment_effort.segment.distance ) ))\n",
      "                ids.add(segment_effort.segment.id)\n",
      "    return dists \n",
      "\n",
      "def get_all_segment_grades(activities, unique=True):\n",
      "    \"\"\"Unique ensures unique segment ids\n",
      "    \"\"\"\n",
      "    grades = []\n",
      "    ids    = set()\n",
      "    for activity in activities:\n",
      "        for segment_effort in activity.segment_efforts:\n",
      "            if unique and segment_effort.segment.id in ids: \n",
      "                continue\n",
      "            else:\n",
      "                grades.append( segment_effort.segment.average_grade )\n",
      "                ids.add(segment_effort.segment.id)\n",
      "    return grades "
     ],
     "language": "python",
     "metadata": {},
     "outputs": [],
     "prompt_number": 24
    },
    {
     "cell_type": "code",
     "collapsed": false,
     "input": [
      "all_seg_ids = get_all_segment_ids( filtered )\n",
      "unique_seg_ids = set(all_seg_ids)\n",
      "\n",
      "print filtered\n",
      "print \"total segs:\", len(all_seg_ids)\n",
      "print \"unique segs:\", len(unique_seg_ids)\n",
      "print \"unique segs / activity:\", len(unique_seg_ids) / float(len(filtered))"
     ],
     "language": "python",
     "metadata": {},
     "outputs": [
      {
       "output_type": "stream",
       "stream": "stdout",
       "text": [
        "[<Activity id=184416264 name=u'rough. because of drinking.' resource_state=3>, <Activity id=184000910 name=u'08/20/2014 San Francisco, CA' resource_state=3>, <Activity id=184000908 name=u'08/18/2014 San Francisco, CA' resource_state=3>, <Activity id=178588161 name=u'tourists, mostly out of the way #win' resource_state=3>, <Activity id=174577746 name=u\"I've definitely done more leisurely things on Saturdays\" resource_state=3>, <Activity id=172338246 name=u'HH -> fairfax -> 8 mi mtn bike -> fairfax -> HH, aka ass kicking' resource_state=3>, <Activity id=172338173 name=u'8 days until pain' resource_state=3>, <Activity id=168689897 name=u'dodging flock bombs' resource_state=3>, <Activity id=165016597 name=u'2 girls walking their pinarellos up hawk hill. tsk tsk.' resource_state=3>, <Activity id=165016728 name=u'mt tam + old bike = bad' resource_state=3>, <Activity id=165016596 name=u\"bike 'bout to break\" resource_state=3>, <Activity id=159348922 name=u\"ron vale's pool cleaner\" resource_state=3>]\n",
        "total segs:"
       ]
      },
      {
       "output_type": "stream",
       "stream": "stdout",
       "text": [
        " 1045\n",
        "unique segs:"
       ]
      },
      {
       "output_type": "stream",
       "stream": "stdout",
       "text": [
        " 496\n",
        "unique segs / activity:"
       ]
      },
      {
       "output_type": "stream",
       "stream": "stdout",
       "text": [
        " 41.3333333333\n"
       ]
      }
     ],
     "prompt_number": 34
    },
    {
     "cell_type": "code",
     "collapsed": false,
     "input": [
      "# look at avg distance of segments (cycling), \n",
      "# each of these rides should be unique route\n",
      "for activity in activities_unique:\n",
      "    plt.figure()\n",
      "    dists = pd.Series( get_all_segment_dists( [activity] ) )\n",
      "    dists.hist(bins=50)\n",
      "    print len(dists[dists >= 1]), len(dists[dists >= 1])*4\n",
      "    "
     ],
     "language": "python",
     "metadata": {},
     "outputs": [
      {
       "output_type": "stream",
       "stream": "stdout",
       "text": [
        "55 220\n",
        "79"
       ]
      },
      {
       "output_type": "stream",
       "stream": "stdout",
       "text": [
        " 316\n",
        "35"
       ]
      },
      {
       "output_type": "stream",
       "stream": "stdout",
       "text": [
        " 140\n",
        "26"
       ]
      },
      {
       "output_type": "stream",
       "stream": "stdout",
       "text": [
        " 104\n",
        "38"
       ]
      },
      {
       "output_type": "stream",
       "stream": "stdout",
       "text": [
        " 152\n"
       ]
      },
      {
       "metadata": {},
       "output_type": "display_data",
       "png": "[encoded data removed]",
       "text": [
        "<matplotlib.figure.Figure at 0x10532b150>"
       ]
      },
      {
       "metadata": {},
       "output_type": "display_data",
       "png": "[encoded data removed]",
       "text": [
        "<matplotlib.figure.Figure at 0x105159f10>"
       ]
      },
      {
       "metadata": {},
       "output_type": "display_data",
       "png": "[encoded data removed]",
       "text": [
        "<matplotlib.figure.Figure at 0x1050fe490>"
       ]
      },
      {
       "metadata": {},
       "output_type": "display_data",
       "png": "[encoded data removed]",
       "text": [
        "<matplotlib.figure.Figure at 0x105140350>"
       ]
      },
      {
       "metadata": {},
       "output_type": "display_data",
       "png": "[encoded data removed]",
       "text": [
        "<matplotlib.figure.Figure at 0x105491d90>"
       ]
      }
     ],
     "prompt_number": 63
    },
    {
     "cell_type": "code",
     "collapsed": false,
     "input": [
      "# look at avg grade of segments (cycling)\n",
      "for activity in activities_unique:\n",
      "    plt.figure()\n",
      "    grades = pd.Series( get_all_segment_grades([activity]) )\n",
      "    grades.hist(bins=50)\n",
      " "
     ],
     "language": "python",
     "metadata": {},
     "outputs": [
      {
       "metadata": {},
       "output_type": "display_data",
       "png": "[encoded data removed]",
       "text": [
        "<matplotlib.figure.Figure at 0x105175b10>"
       ]
      },
      {
       "metadata": {},
       "output_type": "display_data",
       "png": "[encoded data removed]",
       "text": [
        "<matplotlib.figure.Figure at 0x105147f50>"
       ]
      },
      {
       "metadata": {},
       "output_type": "display_data",
       "png": "[encoded data removed]",
       "text": [
        "<matplotlib.figure.Figure at 0x1053f2810>"
       ]
      },
      {
       "metadata": {},
       "output_type": "display_data",
       "png": "[encoded data removed]",
       "text": [
        "<matplotlib.figure.Figure at 0x105154cd0>"
       ]
      },
      {
       "metadata": {},
       "output_type": "display_data",
       "png": "[encoded data removed]",
       "text": [
        "<matplotlib.figure.Figure at 0x105133f90>"
       ]
      }
     ],
     "prompt_number": 71
    },
    {
     "cell_type": "code",
     "collapsed": false,
     "input": [
      "short_pos = segment_efforts[0] # <1mi, +grade\n",
      "print short_pos.segment.id\n",
      "print short_pos.segment.average_grade\n",
      "print unithelper.miles( short_pos.segment.distance )"
     ],
     "language": "python",
     "metadata": {},
     "outputs": [
      {
       "output_type": "stream",
       "stream": "stdout",
       "text": [
        "808129\n",
        "2.6"
       ]
      },
      {
       "output_type": "stream",
       "stream": "stdout",
       "text": [
        "\n",
        "0.19 mi"
       ]
      },
      {
       "output_type": "stream",
       "stream": "stdout",
       "text": [
        "\n"
       ]
      }
     ],
     "prompt_number": 25
    },
    {
     "cell_type": "code",
     "collapsed": false,
     "input": [
      "long_neg = segment_efforts[11] # <1mi, +grade\n",
      "print long_neg.segment.id\n",
      "print long_neg.segment.average_grade\n",
      "print unithelper.miles( long_neg.segment.distance )"
     ],
     "language": "python",
     "metadata": {},
     "outputs": [
      {
       "output_type": "stream",
       "stream": "stdout",
       "text": [
        "5517300\n",
        "-1.3"
       ]
      },
      {
       "output_type": "stream",
       "stream": "stdout",
       "text": [
        "\n",
        "3.77 mi"
       ]
      },
      {
       "output_type": "stream",
       "stream": "stdout",
       "text": [
        "\n"
       ]
      }
     ],
     "prompt_number": 26
    },
    {
     "cell_type": "code",
     "collapsed": false,
     "input": [
      "# test variations \n",
      "print [ id for id in filter_segment_efforts([short_pos, long_neg], unithelper, ids_only=True) ] # none\n",
      "print [ id for id in filter_segment_efforts([short_pos, long_neg], unithelper, min_grade=-10, ids_only=True) ] # long\n",
      "print [ id for id in filter_segment_efforts([short_pos, long_neg], unithelper, min_miles=0, ids_only=True) ] # neg\n",
      "print [ id for id in filter_segment_efforts([short_pos, long_neg], unithelper, min_miles=0, min_grade=-2, ids_only=True) ] # both"
     ],
     "language": "python",
     "metadata": {},
     "outputs": [
      {
       "output_type": "stream",
       "stream": "stdout",
       "text": [
        "[]\n",
        "[5517300]"
       ]
      },
      {
       "output_type": "stream",
       "stream": "stdout",
       "text": [
        "\n",
        "[808129]"
       ]
      },
      {
       "output_type": "stream",
       "stream": "stdout",
       "text": [
        "\n",
        "[808129, 5517300]"
       ]
      },
      {
       "output_type": "stream",
       "stream": "stdout",
       "text": [
        "\n"
       ]
      }
     ],
     "prompt_number": 27
    },
    {
     "cell_type": "code",
     "collapsed": false,
     "input": [
      "seg_id  = long_neg.segment.id\n",
      "seg_ids = [ segeff.segment.id for segeff in segment_efforts[-10:] ]"
     ],
     "language": "python",
     "metadata": {},
     "outputs": [],
     "prompt_number": 28
    },
    {
     "cell_type": "code",
     "collapsed": false,
     "input": [
      "leaderboard = client.get_segment_leaderboard(seg_id)\n",
      "leaderboard.entries"
     ],
     "language": "python",
     "metadata": {},
     "outputs": [
      {
       "metadata": {},
       "output_type": "pyout",
       "prompt_number": 29,
       "text": [
        "[<SegmentLeaderboardEntry rank=1 athlete_name=u'Joe Lambe'>,\n",
        " <SegmentLeaderboardEntry rank=1 athlete_name=u'Bremner Morris'>,\n",
        " <SegmentLeaderboardEntry rank=3 athlete_name=u'Crosby Freeman'>,\n",
        " <SegmentLeaderboardEntry rank=4 athlete_name=u'R B'>,\n",
        " <SegmentLeaderboardEntry rank=4 athlete_name=u'Z Gingnar'>,\n",
        " <SegmentLeaderboardEntry rank=6 athlete_name=u'Bingo .'>,\n",
        " <SegmentLeaderboardEntry rank=6 athlete_name=u'Ryan Toohey'>,\n",
        " <SegmentLeaderboardEntry rank=8 athlete_name=u'Pigoor  .'>,\n",
        " <SegmentLeaderboardEntry rank=9 athlete_name=u'Herb Bool'>,\n",
        " <SegmentLeaderboardEntry rank=10 athlete_name=u'Scott McKinley'>,\n",
        " <SegmentLeaderboardEntry rank=836 athlete_name=u'christophee williama'>,\n",
        " <SegmentLeaderboardEntry rank=836 athlete_name=u'Ryan LaBarre'>,\n",
        " <SegmentLeaderboardEntry rank=836 athlete_name=u'Matt Leo'>,\n",
        " <SegmentLeaderboardEntry rank=836 athlete_name=u'Christopher Smith'>,\n",
        " <SegmentLeaderboardEntry rank=836 athlete_name=u'Tom Haggerty'>]"
       ]
      }
     ],
     "prompt_number": 29
    },
    {
     "cell_type": "code",
     "collapsed": false,
     "input": [],
     "language": "python",
     "metadata": {},
     "outputs": []
    },
    {
     "cell_type": "code",
     "collapsed": false,
     "input": [
      "leaderboard_limit20 = client.get_segment_leaderboard(seg_id, top_results_limit=20)\n",
      "leaderboard_limit20.entries"
     ],
     "language": "python",
     "metadata": {},
     "outputs": [
      {
       "metadata": {},
       "output_type": "pyout",
       "prompt_number": 45,
       "text": [
        "[<SegmentLeaderboardEntry rank=1 athlete_name=u'Joe Lambe'>,\n",
        " <SegmentLeaderboardEntry rank=1 athlete_name=u'Bremner Morris'>,\n",
        " <SegmentLeaderboardEntry rank=3 athlete_name=u'Crosby Freeman'>,\n",
        " <SegmentLeaderboardEntry rank=4 athlete_name=u'Z Gingnar'>,\n",
        " <SegmentLeaderboardEntry rank=4 athlete_name=u'R B'>,\n",
        " <SegmentLeaderboardEntry rank=6 athlete_name=u'Ryan Toohey'>,\n",
        " <SegmentLeaderboardEntry rank=6 athlete_name=u'Bingo .'>,\n",
        " <SegmentLeaderboardEntry rank=8 athlete_name=u'Pigoor  .'>,\n",
        " <SegmentLeaderboardEntry rank=9 athlete_name=u'Herb Bool'>,\n",
        " <SegmentLeaderboardEntry rank=10 athlete_name=u'Jason Lokkesmoe'>,\n",
        " <SegmentLeaderboardEntry rank=10 athlete_name=u'Scott McKinley'>,\n",
        " <SegmentLeaderboardEntry rank=12 athlete_name=u'Mark Smethers'>,\n",
        " <SegmentLeaderboardEntry rank=13 athlete_name=u'Owen McGrath'>,\n",
        " <SegmentLeaderboardEntry rank=13 athlete_name=u'Paul Veugen'>,\n",
        " <SegmentLeaderboardEntry rank=15 athlete_name=u'Kyle Bockwoldt'>,\n",
        " <SegmentLeaderboardEntry rank=15 athlete_name=u'Adriano Castro'>,\n",
        " <SegmentLeaderboardEntry rank=17 athlete_name=u'Michael Rycroft'>,\n",
        " <SegmentLeaderboardEntry rank=18 athlete_name=u'Henry (Hank) Scholz'>,\n",
        " <SegmentLeaderboardEntry rank=19 athlete_name=u'Caleb Bushner'>,\n",
        " <SegmentLeaderboardEntry rank=20 athlete_name=u'Andreas B-H'>,\n",
        " <SegmentLeaderboardEntry rank=836 athlete_name=u'christophee williama'>,\n",
        " <SegmentLeaderboardEntry rank=836 athlete_name=u'Ryan LaBarre'>,\n",
        " <SegmentLeaderboardEntry rank=836 athlete_name=u'Matt Leo'>,\n",
        " <SegmentLeaderboardEntry rank=836 athlete_name=u'Christopher Smith'>,\n",
        " <SegmentLeaderboardEntry rank=836 athlete_name=u'Tom Haggerty'>]"
       ]
      }
     ],
     "prompt_number": 45
    },
    {
     "cell_type": "code",
     "collapsed": false,
     "input": [
      "leaderboard_limit1 = client.get_segment_leaderboard(seg_id, top_results_limit=1)\n",
      "leaderboard_limit1.entries"
     ],
     "language": "python",
     "metadata": {},
     "outputs": [
      {
       "metadata": {},
       "output_type": "pyout",
       "prompt_number": 30,
       "text": [
        "[<SegmentLeaderboardEntry rank=1 athlete_name=u'Joe Lambe'>,\n",
        " <SegmentLeaderboardEntry rank=836 athlete_name=u'christophee williama'>,\n",
        " <SegmentLeaderboardEntry rank=836 athlete_name=u'Ryan LaBarre'>,\n",
        " <SegmentLeaderboardEntry rank=836 athlete_name=u'Matt Leo'>,\n",
        " <SegmentLeaderboardEntry rank=836 athlete_name=u'Christopher Smith'>,\n",
        " <SegmentLeaderboardEntry rank=836 athlete_name=u'Tom Haggerty'>]"
       ]
      }
     ],
     "prompt_number": 30
    },
    {
     "cell_type": "code",
     "collapsed": false,
     "input": [
      "leaderboard_limit1[0]"
     ],
     "language": "python",
     "metadata": {},
     "outputs": [
      {
       "metadata": {},
       "output_type": "pyout",
       "prompt_number": 375,
       "text": [
        "<SegmentLeaderboardEntry rank=1 athlete_name=u'Joe Lambe'>"
       ]
      }
     ],
     "prompt_number": 375
    },
    {
     "cell_type": "code",
     "collapsed": false,
     "input": [
      "leader_ids = [ entry.athlete_id for entry in leaderboard_limit1 ]\n",
      "leader_ids"
     ],
     "language": "python",
     "metadata": {},
     "outputs": [
      {
       "metadata": {},
       "output_type": "pyout",
       "prompt_number": 32,
       "text": [
        "[4568, 1153632, 1163267, 1241417, 1102898, 114173]"
       ]
      }
     ],
     "prompt_number": 32
    },
    {
     "cell_type": "code",
     "collapsed": false,
     "input": [
      "leaderboards = [ client.get_segment_leaderboard(seg_id, top_results_limit=1) for seg_id in seg_ids ]"
     ],
     "language": "python",
     "metadata": {},
     "outputs": [],
     "prompt_number": 33
    },
    {
     "cell_type": "code",
     "collapsed": false,
     "input": [
      "entries = [ board.entries for board in leaderboards ]\n",
      "entries"
     ],
     "language": "python",
     "metadata": {},
     "outputs": [
      {
       "metadata": {},
       "output_type": "pyout",
       "prompt_number": 35,
       "text": [
        "[[<SegmentLeaderboardEntry rank=1 athlete_name=u'Kyle Wong'>,\n",
        "  <SegmentLeaderboardEntry rank=367 athlete_name=u'Daniel Mark\\xf3'>,\n",
        "  <SegmentLeaderboardEntry rank=367 athlete_name=u'Mateo A. Ortega'>,\n",
        "  <SegmentLeaderboardEntry rank=367 athlete_name=u'jeff louie'>,\n",
        "  <SegmentLeaderboardEntry rank=367 athlete_name=u'Jim Whimpey'>,\n",
        "  <SegmentLeaderboardEntry rank=367 athlete_name=u'christophee williama'>],\n",
        " [<SegmentLeaderboardEntry rank=1 athlete_name=u'Robby Welch     III'>,\n",
        "  <SegmentLeaderboardEntry rank=89 athlete_name=u'Kevin LaKritz'>,\n",
        "  <SegmentLeaderboardEntry rank=89 athlete_name=u'Chris Merola'>,\n",
        "  <SegmentLeaderboardEntry rank=93 athlete_name=u'Jared \\u0651'>,\n",
        "  <SegmentLeaderboardEntry rank=93 athlete_name=u'Michael Baushke'>,\n",
        "  <SegmentLeaderboardEntry rank=93 athlete_name=u'christophee williama'>],\n",
        " [<SegmentLeaderboardEntry rank=1 athlete_name=u'Joe Lambe'>,\n",
        "  <SegmentLeaderboardEntry rank=171 athlete_name=u'Doug Hanson'>,\n",
        "  <SegmentLeaderboardEntry rank=171 athlete_name=u'Mike Haggerty'>,\n",
        "  <SegmentLeaderboardEntry rank=171 athlete_name=u'Alex De Simone'>,\n",
        "  <SegmentLeaderboardEntry rank=171 athlete_name=u'Roger Thomas'>,\n",
        "  <SegmentLeaderboardEntry rank=171 athlete_name=u'christophee williama'>],\n",
        " [<SegmentLeaderboardEntry rank=1 athlete_name=u'Wayne Rickenbacker'>,\n",
        "  <SegmentLeaderboardEntry rank=168 athlete_name=u'Wade Hall'>,\n",
        "  <SegmentLeaderboardEntry rank=168 athlete_name=u'Chris Voltz'>,\n",
        "  <SegmentLeaderboardEntry rank=168 athlete_name=u'christophee williama'>,\n",
        "  <SegmentLeaderboardEntry rank=168 athlete_name=u'Seth Sternberg'>,\n",
        "  <SegmentLeaderboardEntry rank=168 athlete_name=u'Bryan Davis'>],\n",
        " [<SegmentLeaderboardEntry rank=1 athlete_name=u'Cliff Goldstein'>,\n",
        "  <SegmentLeaderboardEntry rank=317 athlete_name=u'Neil McKay'>,\n",
        "  <SegmentLeaderboardEntry rank=317 athlete_name=u'Youenn _'>,\n",
        "  <SegmentLeaderboardEntry rank=317 athlete_name=u'Tyler Swartz'>,\n",
        "  <SegmentLeaderboardEntry rank=317 athlete_name=u'christophee williama'>,\n",
        "  <SegmentLeaderboardEntry rank=317 athlete_name=u'Bryan Davis'>],\n",
        " [<SegmentLeaderboardEntry rank=1 athlete_name=u'Randy  Bramblett'>,\n",
        "  <SegmentLeaderboardEntry rank=422 athlete_name=u'Michael Kopp'>,\n",
        "  <SegmentLeaderboardEntry rank=422 athlete_name=u'Carlin Eng'>,\n",
        "  <SegmentLeaderboardEntry rank=422 athlete_name=u'christophee williama'>,\n",
        "  <SegmentLeaderboardEntry rank=422 athlete_name=u'Eugene Berson'>,\n",
        "  <SegmentLeaderboardEntry rank=422 athlete_name=u'Alex Leanse'>],\n",
        " [<SegmentLeaderboardEntry rank=1 athlete_name=u'Kyle Mach'>,\n",
        "  <SegmentLeaderboardEntry rank=2 athlete_name=u'Chris Furgiuele'>,\n",
        "  <SegmentLeaderboardEntry rank=4 athlete_name=u'Justin Lawrance'>,\n",
        "  <SegmentLeaderboardEntry rank=4 athlete_name=u'christophee williama'>,\n",
        "  <SegmentLeaderboardEntry rank=6 athlete_name=u'Erik Tomasson'>,\n",
        "  <SegmentLeaderboardEntry rank=6 athlete_name=u'Robert Easley'>],\n",
        " [<SegmentLeaderboardEntry rank=1 athlete_name=u'Mike Skalnik'>,\n",
        "  <SegmentLeaderboardEntry rank=1016 athlete_name=u'christophee williama'>,\n",
        "  <SegmentLeaderboardEntry rank=1016 athlete_name=u'tim bezold'>,\n",
        "  <SegmentLeaderboardEntry rank=1016 athlete_name=u'martin stadtmueller'>,\n",
        "  <SegmentLeaderboardEntry rank=1016 athlete_name=u'Marcel Appelman'>,\n",
        "  <SegmentLeaderboardEntry rank=1016 athlete_name=u'Julian Bill'>],\n",
        " [<SegmentLeaderboardEntry rank=1 athlete_name=u'Raja Bisharat'>,\n",
        "  <SegmentLeaderboardEntry rank=370 athlete_name=u'Marcel Appelman'>,\n",
        "  <SegmentLeaderboardEntry rank=370 athlete_name=u'christophee williama'>,\n",
        "  <SegmentLeaderboardEntry rank=370 athlete_name=u'John-Paul Rutledge'>,\n",
        "  <SegmentLeaderboardEntry rank=370 athlete_name=u'Seth Callahan'>,\n",
        "  <SegmentLeaderboardEntry rank=370 athlete_name=u'Matt K'>],\n",
        " [<SegmentLeaderboardEntry rank=1 athlete_name=u'Jared \\u0651'>,\n",
        "  <SegmentLeaderboardEntry rank=11 athlete_name=u'Evana Massey'>,\n",
        "  <SegmentLeaderboardEntry rank=11 athlete_name=u'Darren Key'>,\n",
        "  <SegmentLeaderboardEntry rank=13 athlete_name=u'christophee williama'>,\n",
        "  <SegmentLeaderboardEntry rank=13 athlete_name=u'Nathaniel Ng'>,\n",
        "  <SegmentLeaderboardEntry rank=15 athlete_name=u'Patrick Briney'>]]"
       ]
      }
     ],
     "prompt_number": 35
    },
    {
     "cell_type": "code",
     "collapsed": false,
     "input": [
      "t = []\n",
      "for entry_list in entries:\n",
      "    t.extend(entry_list[1:])\n",
      "t"
     ],
     "language": "python",
     "metadata": {},
     "outputs": [
      {
       "metadata": {},
       "output_type": "pyout",
       "prompt_number": 36,
       "text": [
        "[<SegmentLeaderboardEntry rank=367 athlete_name=u'Daniel Mark\\xf3'>,\n",
        " <SegmentLeaderboardEntry rank=367 athlete_name=u'Mateo A. Ortega'>,\n",
        " <SegmentLeaderboardEntry rank=367 athlete_name=u'jeff louie'>,\n",
        " <SegmentLeaderboardEntry rank=367 athlete_name=u'Jim Whimpey'>,\n",
        " <SegmentLeaderboardEntry rank=367 athlete_name=u'christophee williama'>,\n",
        " <SegmentLeaderboardEntry rank=89 athlete_name=u'Kevin LaKritz'>,\n",
        " <SegmentLeaderboardEntry rank=89 athlete_name=u'Chris Merola'>,\n",
        " <SegmentLeaderboardEntry rank=93 athlete_name=u'Jared \\u0651'>,\n",
        " <SegmentLeaderboardEntry rank=93 athlete_name=u'Michael Baushke'>,\n",
        " <SegmentLeaderboardEntry rank=93 athlete_name=u'christophee williama'>,\n",
        " <SegmentLeaderboardEntry rank=171 athlete_name=u'Doug Hanson'>,\n",
        " <SegmentLeaderboardEntry rank=171 athlete_name=u'Mike Haggerty'>,\n",
        " <SegmentLeaderboardEntry rank=171 athlete_name=u'Alex De Simone'>,\n",
        " <SegmentLeaderboardEntry rank=171 athlete_name=u'Roger Thomas'>,\n",
        " <SegmentLeaderboardEntry rank=171 athlete_name=u'christophee williama'>,\n",
        " <SegmentLeaderboardEntry rank=168 athlete_name=u'Wade Hall'>,\n",
        " <SegmentLeaderboardEntry rank=168 athlete_name=u'Chris Voltz'>,\n",
        " <SegmentLeaderboardEntry rank=168 athlete_name=u'christophee williama'>,\n",
        " <SegmentLeaderboardEntry rank=168 athlete_name=u'Seth Sternberg'>,\n",
        " <SegmentLeaderboardEntry rank=168 athlete_name=u'Bryan Davis'>,\n",
        " <SegmentLeaderboardEntry rank=317 athlete_name=u'Neil McKay'>,\n",
        " <SegmentLeaderboardEntry rank=317 athlete_name=u'Youenn _'>,\n",
        " <SegmentLeaderboardEntry rank=317 athlete_name=u'Tyler Swartz'>,\n",
        " <SegmentLeaderboardEntry rank=317 athlete_name=u'christophee williama'>,\n",
        " <SegmentLeaderboardEntry rank=317 athlete_name=u'Bryan Davis'>,\n",
        " <SegmentLeaderboardEntry rank=422 athlete_name=u'Michael Kopp'>,\n",
        " <SegmentLeaderboardEntry rank=422 athlete_name=u'Carlin Eng'>,\n",
        " <SegmentLeaderboardEntry rank=422 athlete_name=u'christophee williama'>,\n",
        " <SegmentLeaderboardEntry rank=422 athlete_name=u'Eugene Berson'>,\n",
        " <SegmentLeaderboardEntry rank=422 athlete_name=u'Alex Leanse'>,\n",
        " <SegmentLeaderboardEntry rank=2 athlete_name=u'Chris Furgiuele'>,\n",
        " <SegmentLeaderboardEntry rank=4 athlete_name=u'Justin Lawrance'>,\n",
        " <SegmentLeaderboardEntry rank=4 athlete_name=u'christophee williama'>,\n",
        " <SegmentLeaderboardEntry rank=6 athlete_name=u'Erik Tomasson'>,\n",
        " <SegmentLeaderboardEntry rank=6 athlete_name=u'Robert Easley'>,\n",
        " <SegmentLeaderboardEntry rank=1016 athlete_name=u'christophee williama'>,\n",
        " <SegmentLeaderboardEntry rank=1016 athlete_name=u'tim bezold'>,\n",
        " <SegmentLeaderboardEntry rank=1016 athlete_name=u'martin stadtmueller'>,\n",
        " <SegmentLeaderboardEntry rank=1016 athlete_name=u'Marcel Appelman'>,\n",
        " <SegmentLeaderboardEntry rank=1016 athlete_name=u'Julian Bill'>,\n",
        " <SegmentLeaderboardEntry rank=370 athlete_name=u'Marcel Appelman'>,\n",
        " <SegmentLeaderboardEntry rank=370 athlete_name=u'christophee williama'>,\n",
        " <SegmentLeaderboardEntry rank=370 athlete_name=u'John-Paul Rutledge'>,\n",
        " <SegmentLeaderboardEntry rank=370 athlete_name=u'Seth Callahan'>,\n",
        " <SegmentLeaderboardEntry rank=370 athlete_name=u'Matt K'>,\n",
        " <SegmentLeaderboardEntry rank=11 athlete_name=u'Evana Massey'>,\n",
        " <SegmentLeaderboardEntry rank=11 athlete_name=u'Darren Key'>,\n",
        " <SegmentLeaderboardEntry rank=13 athlete_name=u'christophee williama'>,\n",
        " <SegmentLeaderboardEntry rank=13 athlete_name=u'Nathaniel Ng'>,\n",
        " <SegmentLeaderboardEntry rank=15 athlete_name=u'Patrick Briney'>]"
       ]
      }
     ],
     "prompt_number": 36
    },
    {
     "cell_type": "code",
     "collapsed": false,
     "input": [
      "entry = t[0]\n",
      "entry."
     ],
     "language": "python",
     "metadata": {},
     "outputs": [],
     "prompt_number": 37
    },
    {
     "cell_type": "code",
     "collapsed": false,
     "input": [
      "seg = long_neg.segment"
     ],
     "language": "python",
     "metadata": {},
     "outputs": [],
     "prompt_number": 50
    },
    {
     "cell_type": "code",
     "collapsed": false,
     "input": [
      "seg.athlete_count"
     ],
     "language": "python",
     "metadata": {},
     "outputs": [],
     "prompt_number": 51
    },
    {
     "cell_type": "code",
     "collapsed": false,
     "input": [
      "# get friend ids\n",
      "friends = [ friend for friend in client.get_athlete) ]\n",
      "friends"
     ],
     "language": "python",
     "metadata": {},
     "outputs": [
      {
       "metadata": {},
       "output_type": "pyout",
       "prompt_number": 44,
       "text": [
        "[<Athlete id=29126 firstname=James lastname=Partridge>,\n",
        " <Athlete id=164890 firstname=Nicole lastname=Olson>,\n",
        " <Athlete id=47654 firstname=calvin lastname=jan>,\n",
        " <Athlete id=377902 firstname=Anders lastname=Ahlberg>,\n",
        " <Athlete id=1049190 firstname=Rand lastname=Miller>,\n",
        " <Athlete id=1756227 firstname=Melanie lastname=Smith>,\n",
        " <Athlete id=110910 firstname=Frank lastname=Teng>,\n",
        " <Athlete id=1744737 firstname=David lastname=Garcia>,\n",
        " <Athlete id=1510255 firstname=Jordan lastname=Carelli>,\n",
        " <Athlete id=4833 firstname=Daniel lastname=Kaplan>,\n",
        " <Athlete id=653 firstname=Rob lastname=Meyer>,\n",
        " <Athlete id=1839128 firstname=Kade lastname=Southard>,\n",
        " <Athlete id=2958112 firstname=Becca lastname=Levin>,\n",
        " <Athlete id=2309040 firstname=kendra lastname=swain>,\n",
        " <Athlete id=4005137 firstname=Geoff lastname=Fong>,\n",
        " <Athlete id=4638408 firstname=Rob lastname=Zyskowski>,\n",
        " <Athlete id=346950 firstname=Alexandre lastname=Bolze>,\n",
        " <Athlete id=10352 firstname=Charlie lastname=Morgan>,\n",
        " <Athlete id=2457773 firstname=Daniel lastname=Elnatan>,\n",
        " <Athlete id=3558557 firstname=Dylan lastname=Sather>,\n",
        " <Athlete id=4317793 firstname=Michael lastname=Fischbach>,\n",
        " <Athlete id=2822682 firstname=Mikel lastname=Shybut>,\n",
        " <Athlete id=985644 firstname=Neil lastname=Martin>,\n",
        " <Athlete id=3082274 firstname=Nick lastname=Carchedi>,\n",
        " <Athlete id=30666 firstname=Venkat lastname=Udayasankar>,\n",
        " <Athlete id=1246803 firstname=brandon lastname=wong>]"
       ]
      }
     ],
     "prompt_number": 44
    },
    {
     "cell_type": "code",
     "collapsed": false,
     "input": [
      "client.get_segment_leaderboard(612804, top_results_limit=1).entries"
     ],
     "language": "python",
     "metadata": {},
     "outputs": [
      {
       "metadata": {},
       "output_type": "pyout",
       "prompt_number": 380,
       "text": [
        "[<SegmentLeaderboardEntry rank=1 athlete_name=u'Greg  Hillson : Bar Fly'>,\n",
        " <SegmentLeaderboardEntry rank=112 athlete_name=u'Yon Perullo'>,\n",
        " <SegmentLeaderboardEntry rank=123 athlete_name=u'Tyler Swartz'>,\n",
        " <SegmentLeaderboardEntry rank=123 athlete_name=u'Stephen Lambe'>,\n",
        " <SegmentLeaderboardEntry rank=123 athlete_name=u'Dakota Schaeffer'>,\n",
        " <SegmentLeaderboardEntry rank=123 athlete_name=u'christophee williama'>]"
       ]
      }
     ],
     "prompt_number": 380
    },
    {
     "cell_type": "code",
     "collapsed": false,
     "input": [
      "195/5"
     ],
     "language": "python",
     "metadata": {},
     "outputs": [
      {
       "metadata": {},
       "output_type": "pyout",
       "prompt_number": 381,
       "text": [
        "39"
       ]
      }
     ],
     "prompt_number": 381
    },
    {
     "cell_type": "code",
     "collapsed": false,
     "input": [
      "np.random.choice(range(100), size=10, replace=False)"
     ],
     "language": "python",
     "metadata": {},
     "outputs": [
      {
       "metadata": {},
       "output_type": "pyout",
       "prompt_number": 46,
       "text": [
        "array([31, 92,  2, 58, 72, 36, 57, 83, 68, 73])"
       ]
      }
     ],
     "prompt_number": 46
    },
    {
     "cell_type": "code",
     "collapsed": false,
     "input": [
      "from app.buddies import get_candidate_buddies"
     ],
     "language": "python",
     "metadata": {},
     "outputs": [],
     "prompt_number": 53
    },
    {
     "cell_type": "code",
     "collapsed": false,
     "input": [
      "activities_unique"
     ],
     "language": "python",
     "metadata": {},
     "outputs": [
      {
       "metadata": {},
       "output_type": "pyout",
       "prompt_number": 145,
       "text": [
        "[<Activity id=184416264 name=u'rough. because of drinking.' resource_state=3>,\n",
        " <Activity id=174577746 name=u\"I've definitely done more leisurely things on Saturdays\" resource_state=3>,\n",
        " <Activity id=168689897 name=u'dodging flock bombs' resource_state=3>,\n",
        " <Activity id=165016597 name=u'2 girls walking their pinarellos up hawk hill. tsk tsk.' resource_state=3>,\n",
        " <Activity id=159348922 name=u\"ron vale's pool cleaner\" resource_state=3>]"
       ]
      }
     ],
     "prompt_number": 145
    },
    {
     "cell_type": "code",
     "collapsed": false,
     "input": [
      "type(act1.segment_efforts[0].segment.average_grade)"
     ],
     "language": "python",
     "metadata": {},
     "outputs": [
      {
       "metadata": {},
       "output_type": "pyout",
       "prompt_number": 379,
       "text": [
        "float"
       ]
      }
     ],
     "prompt_number": 379
    },
    {
     "cell_type": "code",
     "collapsed": false,
     "input": [
      "ids, uniq_segs = get_candidate_buddies(client, [ activities_unique[0].id,  activities_unique[1].id,  activities_unique[3].id ])"
     ],
     "language": "python",
     "metadata": {},
     "outputs": [
      {
       "output_type": "stream",
       "stream": "stderr",
       "text": [
        "WARNING:stravalib.model.Activity:No such attribute device_watts on entity <Activity id=None name=None resource_state=None>\n"
       ]
      },
      {
       "output_type": "stream",
       "stream": "stderr",
       "text": [
        "stravalib.model.Activity: WARNING  No such attribute device_watts on entity <Activity id=None name=None resource_state=None>\n"
       ]
      },
      {
       "output_type": "stream",
       "stream": "stderr",
       "text": [
        "stravalib.model.Activity: WARNING  No such attribute device_watts on entity <Activity id=None name=None resource_state=None>\n"
       ]
      },
      {
       "output_type": "stream",
       "stream": "stderr",
       "text": [
        "stravalib.model.Activity: WARNING  No such attribute device_watts on entity <Activity id=None name=None resource_state=None>\n"
       ]
      },
      {
       "output_type": "stream",
       "stream": "stderr",
       "text": [
        "stravalib.model.Activity: WARNING  No such attribute device_watts on entity <Activity id=None name=None resource_state=None>\n"
       ]
      },
      {
       "output_type": "stream",
       "stream": "stderr",
       "text": [
        "stravalib.model.Activity: WARNING  No such attribute device_watts on entity <Activity id=None name=None resource_state=None>\n"
       ]
      },
      {
       "output_type": "stream",
       "stream": "stderr",
       "text": [
        "stravalib.model.Activity: WARNING  No such attribute device_watts on entity <Activity id=None name=None resource_state=None>\n"
       ]
      },
      {
       "output_type": "stream",
       "stream": "stderr",
       "text": [
        "stravalib.model.Activity: WARNING  No such attribute device_watts on entity <Activity id=None name=None resource_state=None>\n"
       ]
      },
      {
       "output_type": "stream",
       "stream": "stderr",
       "text": [
        "stravalib.model.Activity: WARNING  No such attribute device_watts on entity <Activity id=None name=None resource_state=None>\n"
       ]
      },
      {
       "output_type": "stream",
       "stream": "stderr",
       "text": [
        "stravalib.model.Activity: WARNING  No such attribute device_watts on entity <Activity id=None name=None resource_state=None>\n"
       ]
      },
      {
       "output_type": "stream",
       "stream": "stderr",
       "text": [
        "stravalib.model.Activity: WARNING  No such attribute device_watts on entity <Activity id=None name=None resource_state=None>\n"
       ]
      },
      {
       "output_type": "stream",
       "stream": "stderr",
       "text": [
        "stravalib.model.Activity: WARNING  No such attribute device_watts on entity <Activity id=None name=None resource_state=None>\n"
       ]
      },
      {
       "output_type": "stream",
       "stream": "stderr",
       "text": [
        "stravalib.model.Activity: WARNING  No such attribute device_watts on entity <Activity id=None name=None resource_state=None>\n"
       ]
      },
      {
       "output_type": "stream",
       "stream": "stderr",
       "text": [
        "stravalib.model.Activity: WARNING  No such attribute device_watts on entity <Activity id=None name=None resource_state=None>\n"
       ]
      },
      {
       "output_type": "stream",
       "stream": "stderr",
       "text": [
        "stravalib.model.Activity: WARNING  No such attribute device_watts on entity <Activity id=None name=None resource_state=None>\n"
       ]
      },
      {
       "output_type": "stream",
       "stream": "stderr",
       "text": [
        "stravalib.model.Activity: WARNING  No such attribute device_watts on entity <Activity id=None name=None resource_state=None>\n"
       ]
      },
      {
       "output_type": "stream",
       "stream": "stderr",
       "text": [
        "stravalib.model.Activity: WARNING  No such attribute device_watts on entity <Activity id=None name=None resource_state=None>\n"
       ]
      },
      {
       "output_type": "stream",
       "stream": "stderr",
       "text": [
        "WARNING:stravalib.model.Activity:No such attribute device_watts on entity <Activity id=None name=None resource_state=None>\n"
       ]
      },
      {
       "output_type": "stream",
       "stream": "stderr",
       "text": [
        "stravalib.model.Activity: WARNING  No such attribute device_watts on entity <Activity id=None name=None resource_state=None>\n"
       ]
      },
      {
       "output_type": "stream",
       "stream": "stderr",
       "text": [
        "stravalib.model.Activity: WARNING  No such attribute device_watts on entity <Activity id=None name=None resource_state=None>\n"
       ]
      },
      {
       "output_type": "stream",
       "stream": "stderr",
       "text": [
        "stravalib.model.Activity: WARNING  No such attribute device_watts on entity <Activity id=None name=None resource_state=None>\n"
       ]
      },
      {
       "output_type": "stream",
       "stream": "stderr",
       "text": [
        "stravalib.model.Activity: WARNING  No such attribute device_watts on entity <Activity id=None name=None resource_state=None>\n"
       ]
      },
      {
       "output_type": "stream",
       "stream": "stderr",
       "text": [
        "stravalib.model.Activity: WARNING  No such attribute device_watts on entity <Activity id=None name=None resource_state=None>\n"
       ]
      },
      {
       "output_type": "stream",
       "stream": "stderr",
       "text": [
        "stravalib.model.Activity: WARNING  No such attribute device_watts on entity <Activity id=None name=None resource_state=None>\n"
       ]
      },
      {
       "output_type": "stream",
       "stream": "stderr",
       "text": [
        "stravalib.model.Activity: WARNING  No such attribute device_watts on entity <Activity id=None name=None resource_state=None>\n"
       ]
      },
      {
       "output_type": "stream",
       "stream": "stderr",
       "text": [
        "stravalib.model.Activity: WARNING  No such attribute device_watts on entity <Activity id=None name=None resource_state=None>\n"
       ]
      },
      {
       "output_type": "stream",
       "stream": "stderr",
       "text": [
        "stravalib.model.Activity: WARNING  No such attribute device_watts on entity <Activity id=None name=None resource_state=None>\n"
       ]
      },
      {
       "output_type": "stream",
       "stream": "stderr",
       "text": [
        "stravalib.model.Activity: WARNING  No such attribute device_watts on entity <Activity id=None name=None resource_state=None>\n"
       ]
      },
      {
       "output_type": "stream",
       "stream": "stderr",
       "text": [
        "stravalib.model.Activity: WARNING  No such attribute device_watts on entity <Activity id=None name=None resource_state=None>\n"
       ]
      },
      {
       "output_type": "stream",
       "stream": "stderr",
       "text": [
        "stravalib.model.Activity: WARNING  No such attribute device_watts on entity <Activity id=None name=None resource_state=None>\n"
       ]
      },
      {
       "output_type": "stream",
       "stream": "stderr",
       "text": [
        "stravalib.model.Activity: WARNING  No such attribute device_watts on entity <Activity id=None name=None resource_state=None>\n"
       ]
      },
      {
       "output_type": "stream",
       "stream": "stderr",
       "text": [
        "stravalib.model.Activity: WARNING  No such attribute device_watts on entity <Activity id=None name=None resource_state=None>\n"
       ]
      },
      {
       "output_type": "stream",
       "stream": "stderr",
       "text": [
        "stravalib.model.Activity: WARNING  No such attribute device_watts on entity <Activity id=None name=None resource_state=None>\n"
       ]
      },
      {
       "output_type": "stream",
       "stream": "stderr",
       "text": [
        "stravalib.model.Activity: WARNING  No such attribute device_watts on entity <Activity id=None name=None resource_state=None>\n"
       ]
      },
      {
       "output_type": "stream",
       "stream": "stderr",
       "text": [
        "WARNING:stravalib.model.Activity:No such attribute device_watts on entity <Activity id=None name=None resource_state=None>\n"
       ]
      },
      {
       "output_type": "stream",
       "stream": "stderr",
       "text": [
        "stravalib.model.Activity: WARNING  No such attribute device_watts on entity <Activity id=None name=None resource_state=None>\n"
       ]
      },
      {
       "output_type": "stream",
       "stream": "stderr",
       "text": [
        "stravalib.model.Activity: WARNING  No such attribute device_watts on entity <Activity id=None name=None resource_state=None>\n"
       ]
      },
      {
       "output_type": "stream",
       "stream": "stderr",
       "text": [
        "stravalib.model.Activity: WARNING  No such attribute device_watts on entity <Activity id=None name=None resource_state=None>\n"
       ]
      },
      {
       "output_type": "stream",
       "stream": "stderr",
       "text": [
        "stravalib.model.Activity: WARNING  No such attribute device_watts on entity <Activity id=None name=None resource_state=None>\n"
       ]
      },
      {
       "output_type": "stream",
       "stream": "stderr",
       "text": [
        "stravalib.model.Activity: WARNING  No such attribute device_watts on entity <Activity id=None name=None resource_state=None>\n"
       ]
      },
      {
       "output_type": "stream",
       "stream": "stderr",
       "text": [
        "stravalib.model.Activity: WARNING  No such attribute device_watts on entity <Activity id=None name=None resource_state=None>\n"
       ]
      },
      {
       "output_type": "stream",
       "stream": "stderr",
       "text": [
        "stravalib.model.Activity: WARNING  No such attribute device_watts on entity <Activity id=None name=None resource_state=None>\n"
       ]
      },
      {
       "output_type": "stream",
       "stream": "stderr",
       "text": [
        "stravalib.model.Activity: WARNING  No such attribute device_watts on entity <Activity id=None name=None resource_state=None>\n"
       ]
      },
      {
       "output_type": "stream",
       "stream": "stderr",
       "text": [
        "stravalib.model.Activity: WARNING  No such attribute device_watts on entity <Activity id=None name=None resource_state=None>\n"
       ]
      },
      {
       "output_type": "stream",
       "stream": "stderr",
       "text": [
        "stravalib.model.Activity: WARNING  No such attribute device_watts on entity <Activity id=None name=None resource_state=None>\n"
       ]
      },
      {
       "output_type": "stream",
       "stream": "stderr",
       "text": [
        "stravalib.model.Activity: WARNING  No such attribute device_watts on entity <Activity id=None name=None resource_state=None>\n"
       ]
      },
      {
       "output_type": "stream",
       "stream": "stderr",
       "text": [
        "stravalib.model.Activity: WARNING  No such attribute device_watts on entity <Activity id=None name=None resource_state=None>\n"
       ]
      },
      {
       "output_type": "stream",
       "stream": "stderr",
       "text": [
        "stravalib.model.Activity: WARNING  No such attribute device_watts on entity <Activity id=None name=None resource_state=None>\n"
       ]
      },
      {
       "output_type": "stream",
       "stream": "stderr",
       "text": [
        "stravalib.model.Activity: WARNING  No such attribute device_watts on entity <Activity id=None name=None resource_state=None>\n"
       ]
      },
      {
       "output_type": "stream",
       "stream": "stderr",
       "text": [
        "stravalib.model.Activity: WARNING  No such attribute device_watts on entity <Activity id=None name=None resource_state=None>\n"
       ]
      },
      {
       "output_type": "stream",
       "stream": "stderr",
       "text": [
        "stravalib.model.Activity: WARNING  No such attribute device_watts on entity <Activity id=None name=None resource_state=None>\n"
       ]
      },
      {
       "output_type": "stream",
       "stream": "stdout",
       "text": [
        "Fetching 3 detailed activities\n",
        "Returning 105/293 filtered unique segments"
       ]
      },
      {
       "output_type": "stream",
       "stream": "stdout",
       "text": [
        "\n",
        "Error with segment_id 7166778, error: 404 Client Error: Not Found [Record Not Found: []]"
       ]
      },
      {
       "output_type": "stream",
       "stream": "stdout",
       "text": [
        "\n",
        "Error with segment_id 7290133, error: 404 Client Error: Not Found [Record Not Found: []]"
       ]
      },
      {
       "output_type": "stream",
       "stream": "stdout",
       "text": [
        "\n",
        "Returning 412 positive and 103 negative athlete_id's"
       ]
      },
      {
       "output_type": "stream",
       "stream": "stdout",
       "text": [
        "\n"
       ]
      }
     ],
     "prompt_number": 147
    },
    {
     "cell_type": "code",
     "collapsed": false,
     "input": [
      "# look at number of buddies, neg controls, and unique in both cats\n",
      "print len(uniq_segs[\"ids\"])\n",
      "print \"pos\", len(ids[\"positive\"])\n",
      "print \"pos unique\", len(set( ids[\"positive\"] ))\n",
      "print \"frac\", len(set( ids[\"positive\"] )) / float(len(ids[\"positive\"]))\n",
      "\n",
      "print \"neg\", len(ids[\"negative\"])\n",
      "print \"neg unique\", len(set( ids[\"negative\"] ))\n",
      "print \"fract\", len(set( ids[\"negative\"] )) / float(len(ids[\"negative\"]))"
     ],
     "language": "python",
     "metadata": {},
     "outputs": [
      {
       "output_type": "stream",
       "stream": "stdout",
       "text": [
        "105\n",
        "pos"
       ]
      },
      {
       "output_type": "stream",
       "stream": "stdout",
       "text": [
        " 412\n",
        "pos unique"
       ]
      },
      {
       "output_type": "stream",
       "stream": "stdout",
       "text": [
        " 368\n",
        "frac"
       ]
      },
      {
       "output_type": "stream",
       "stream": "stdout",
       "text": [
        " 0.893203883495\n",
        "neg"
       ]
      },
      {
       "output_type": "stream",
       "stream": "stdout",
       "text": [
        " 103\n",
        "neg unique"
       ]
      },
      {
       "output_type": "stream",
       "stream": "stdout",
       "text": [
        " 42\n",
        "fract"
       ]
      },
      {
       "output_type": "stream",
       "stream": "stdout",
       "text": [
        " 0.407766990291\n"
       ]
      }
     ],
     "prompt_number": 148
    },
    {
     "cell_type": "code",
     "collapsed": false,
     "input": [
      "act1.seg"
     ],
     "language": "python",
     "metadata": {},
     "outputs": [
      {
       "metadata": {},
       "output_type": "pyout",
       "prompt_number": 363,
       "text": [
        "datetime.datetime(2014, 8, 23, 19, 52, 5, tzinfo=<UTC>)"
       ]
      }
     ],
     "prompt_number": 363
    },
    {
     "cell_type": "code",
     "collapsed": false,
     "input": [
      "# distribution of ranks, cannot get percentile from summary segments\n",
      "pd.Series(ids[\"ranks\"]).hist(bins=50)"
     ],
     "language": "python",
     "metadata": {},
     "outputs": [
      {
       "metadata": {},
       "output_type": "pyout",
       "prompt_number": 149,
       "text": [
        "<matplotlib.axes.AxesSubplot at 0x112316d90>"
       ]
      },
      {
       "metadata": {},
       "output_type": "display_data",
       "png": "[encoded data removed]",
       "text": [
        "<matplotlib.figure.Figure at 0x110eb7e10>"
       ]
      }
     ],
     "prompt_number": 149
    },
    {
     "cell_type": "code",
     "collapsed": false,
     "input": [
      "# connect to db to get data\n",
      "import pymysql as mdb\n",
      "conn = mdb.connect(user=\"root\", host=\"localhost\",\n",
      "                   db=\"accts_and_apps\", charset='utf8')"
     ],
     "language": "python",
     "metadata": {},
     "outputs": [],
     "prompt_number": 75
    },
    {
     "cell_type": "code",
     "collapsed": false,
     "input": [
      "statement = \"SELECT * FROM athletes_data;\"\n",
      "statement_active = \"SELECT * FROM athletes_data WHERE run_count > 0 OR ride_count > 0;\" # MAU"
     ],
     "language": "python",
     "metadata": {},
     "outputs": [],
     "prompt_number": 81
    },
    {
     "cell_type": "code",
     "collapsed": false,
     "input": [
      "#athletes     = pd.io.sql.read_sql(statement, conn)\n",
      "#athletes_act = pd.io.sql.read_sql(statement_active, conn)\n",
      "\n",
      "print athletes.head()\n",
      "print athletes.shape\n",
      "\n",
      "#print athletes_act.head()\n",
      "print athletes_act.shape"
     ],
     "language": "python",
     "metadata": {},
     "outputs": [
      {
       "output_type": "stream",
       "stream": "stdout",
       "text": [
        "   athlete_id first_name last_name           city       state  ride_count  \\\n",
        "0           8      David    Belden  San Francisco          CA          10   \n",
        "1          17      Craig    Dalton  San Francisco          CA          10   \n",
        "2          19      Chris   Donahue  San Francisco          CA           3   \n",
        "3          20       John   Seybold      Palo Alto          CA          11   \n",
        "4          21       Mark      Shaw    Mill Valley  California          18   \n",
        "\n",
        "   run_count  mon_freq  tues_freq  wed_freq  thurs_freq  fri_freq  sat_freq  \\\n",
        "0          2     0.250      0.000     0.375       0.000     0.125     0.250   \n",
        "1          0     0.125      0.250     0.000       0.250     0.250     0.125   \n",
        "2         16     0.118      0.118     0.176       0.059     0.176     0.176   \n",
        "3          0     0.375      0.250     0.125       0.000     0.125     0.000   \n",
        "4          0     0.200      0.200     0.300       0.000     0.200     0.000   \n",
        "\n",
        "   sun_freq  annual_dist_median  annual_dist_std  \\\n",
        "0     0.000                  35             18.1   \n",
        "1     0.000                  50             40.1   \n",
        "2     0.176                  36             16.8   \n",
        "3     0.125                  16             52.1   \n",
        "4     0.100                  94             33.4   \n",
        "\n",
        "                                          avatar_url  \n",
        "0  http://dgalywyr863hv.cloudfront.net/pictures/a...  \n",
        "1  http://dgalywyr863hv.cloudfront.net/pictures/a...  \n",
        "2  http://dgalywyr863hv.cloudfront.net/pictures/a...  \n",
        "3  http://dgalywyr863hv.cloudfront.net/pictures/a...  \n",
        "4  http://dgalywyr863hv.cloudfront.net/pictures/a...  \n",
        "(49255, 17)"
       ]
      },
      {
       "output_type": "stream",
       "stream": "stdout",
       "text": [
        "\n",
        "(14981, 17)"
       ]
      },
      {
       "output_type": "stream",
       "stream": "stdout",
       "text": [
        "\n"
       ]
      }
     ],
     "prompt_number": 136
    },
    {
     "cell_type": "code",
     "collapsed": false,
     "input": [
      "athletes_act.shape[0] /float( athletes.shape[0] )"
     ],
     "language": "python",
     "metadata": {},
     "outputs": [
      {
       "metadata": {},
       "output_type": "pyout",
       "prompt_number": 346,
       "text": [
        "0.30415186275505024"
       ]
      }
     ],
     "prompt_number": 346
    },
    {
     "cell_type": "code",
     "collapsed": false,
     "input": [
      "2700 / 600"
     ],
     "language": "python",
     "metadata": {},
     "outputs": [
      {
       "metadata": {},
       "output_type": "pyout",
       "prompt_number": 347,
       "text": [
        "4"
       ]
      }
     ],
     "prompt_number": 347
    },
    {
     "cell_type": "code",
     "collapsed": false,
     "input": [
      "from scipy.spatial import distance # distance metrics"
     ],
     "language": "python",
     "metadata": {},
     "outputs": [],
     "prompt_number": 68
    },
    {
     "cell_type": "code",
     "collapsed": false,
     "input": [
      "pos = pd.DataFrame({ \"athlete_id\" : list(set(ids[\"positive\"])), \"class\" : \"positive\"})\n",
      "neg = pd.DataFrame({ \"athlete_id\" : list(set(ids[\"negative\"])), \"class\" : \"negative\"})\n",
      "vals = pd.concat([pos, neg])\n",
      "\n",
      "print vals.head()\n",
      "print vals.tail()"
     ],
     "language": "python",
     "metadata": {},
     "outputs": [
      {
       "output_type": "stream",
       "stream": "stdout",
       "text": [
        "   athlete_id     class\n",
        "0     1163267  positive\n",
        "1      161801  positive\n",
        "2     1193996  positive\n",
        "3     1323023  positive\n",
        "4      262164  positive\n",
        "    athlete_id     class\n",
        "37      261232  negative\n",
        "38      148593  negative\n",
        "39        4210  negative\n",
        "40      810486  negative\n",
        "41       10553  negative\n"
       ]
      }
     ],
     "prompt_number": 150
    },
    {
     "cell_type": "code",
     "collapsed": false,
     "input": [],
     "language": "python",
     "metadata": {},
     "outputs": [],
     "prompt_number": 128
    },
    {
     "cell_type": "code",
     "collapsed": false,
     "input": [
      "# merge with all athletes and active athletes\n",
      "# get estimate for number of missing vals\n",
      "merge_all_left  = pd.merge(vals, athletes, how=\"left\")\n",
      "merge_all_inner = pd.merge(vals, athletes, how=\"inner\")\n",
      "\n",
      "merge_act_left  = pd.merge(vals, athletes_act, how=\"left\")\n",
      "merge_act_inner = pd.merge(vals, athletes_act, how=\"inner\")"
     ],
     "language": "python",
     "metadata": {},
     "outputs": [],
     "prompt_number": 151
    },
    {
     "cell_type": "code",
     "collapsed": false,
     "input": [
      "print \"all left\", merge_all_left.shape\n",
      "print \"all inner\", merge_all_inner.shape \n",
      "\n",
      "print \"act left\", merge_act_left.shape\n",
      "print \"act inner\", merge_act_inner.shape # use this, 0 ride/run cts = 0 freq also\n",
      "                                         # will "
     ],
     "language": "python",
     "metadata": {},
     "outputs": [
      {
       "output_type": "stream",
       "stream": "stdout",
       "text": [
        "all left (410, 18)\n",
        "all inner"
       ]
      },
      {
       "output_type": "stream",
       "stream": "stdout",
       "text": [
        " (212, 18)\n",
        "act left"
       ]
      },
      {
       "output_type": "stream",
       "stream": "stdout",
       "text": [
        " (410, 18)\n",
        "act inner"
       ]
      },
      {
       "output_type": "stream",
       "stream": "stdout",
       "text": [
        " (168, 18)\n"
       ]
      }
     ],
     "prompt_number": 152
    },
    {
     "cell_type": "code",
     "collapsed": false,
     "input": [
      "merge_act_inner"
     ],
     "language": "python",
     "metadata": {},
     "outputs": [
      {
       "html": [
        "<div style=\"max-height:1000px;max-width:1500px;overflow:auto;\">\n",
        "<table border=\"1\" class=\"dataframe\">\n",
        "  <thead>\n",
        "    <tr style=\"text-align: right;\">\n",
        "      <th></th>\n",
        "      <th>athlete_id</th>\n",
        "      <th>class</th>\n",
        "      <th>first_name</th>\n",
        "      <th>last_name</th>\n",
        "      <th>city</th>\n",
        "      <th>state</th>\n",
        "      <th>ride_count</th>\n",
        "      <th>run_count</th>\n",
        "      <th>mon_freq</th>\n",
        "      <th>tues_freq</th>\n",
        "      <th>wed_freq</th>\n",
        "      <th>thurs_freq</th>\n",
        "      <th>fri_freq</th>\n",
        "      <th>sat_freq</th>\n",
        "      <th>sun_freq</th>\n",
        "      <th>annual_dist_median</th>\n",
        "      <th>annual_dist_std</th>\n",
        "      <th>avatar_url</th>\n",
        "    </tr>\n",
        "  </thead>\n",
        "  <tbody>\n",
        "    <tr>\n",
        "      <th>0  </th>\n",
        "      <td> 1163267</td>\n",
        "      <td> positive</td>\n",
        "      <td>            Ryan</td>\n",
        "      <td>      LaBarre</td>\n",
        "      <td> San Francisco</td>\n",
        "      <td>         CA</td>\n",
        "      <td> 16</td>\n",
        "      <td>  0</td>\n",
        "      <td> 0.250</td>\n",
        "      <td> 0.000</td>\n",
        "      <td> 0.250</td>\n",
        "      <td> 0.000</td>\n",
        "      <td> 0.000</td>\n",
        "      <td> 0.375</td>\n",
        "      <td> 0.125</td>\n",
        "      <td>  44.7</td>\n",
        "      <td>  32.3</td>\n",
        "      <td> http://dgalywyr863hv.cloudfront.net/pictures/a...</td>\n",
        "    </tr>\n",
        "    <tr>\n",
        "      <th>1  </th>\n",
        "      <td> 1193996</td>\n",
        "      <td> positive</td>\n",
        "      <td>            Anna</td>\n",
        "      <td>            M</td>\n",
        "      <td> San Francisco</td>\n",
        "      <td>         CA</td>\n",
        "      <td>  4</td>\n",
        "      <td>  8</td>\n",
        "      <td> 0.000</td>\n",
        "      <td> 0.000</td>\n",
        "      <td> 0.143</td>\n",
        "      <td> 0.286</td>\n",
        "      <td> 0.143</td>\n",
        "      <td> 0.429</td>\n",
        "      <td> 0.000</td>\n",
        "      <td>  16.0</td>\n",
        "      <td>  26.9</td>\n",
        "      <td> http://dgalywyr863hv.cloudfront.net/pictures/a...</td>\n",
        "    </tr>\n",
        "    <tr>\n",
        "      <th>2  </th>\n",
        "      <td> 1323023</td>\n",
        "      <td> positive</td>\n",
        "      <td>           Moses</td>\n",
        "      <td>           sf</td>\n",
        "      <td> San Francisco</td>\n",
        "      <td>         CA</td>\n",
        "      <td>  1</td>\n",
        "      <td>  0</td>\n",
        "      <td> 0.000</td>\n",
        "      <td> 0.000</td>\n",
        "      <td> 0.000</td>\n",
        "      <td> 0.000</td>\n",
        "      <td> 0.000</td>\n",
        "      <td> 0.000</td>\n",
        "      <td> 1.000</td>\n",
        "      <td>   0.0</td>\n",
        "      <td>  45.3</td>\n",
        "      <td> http://dgalywyr863hv.cloudfront.net/pictures/a...</td>\n",
        "    </tr>\n",
        "    <tr>\n",
        "      <th>3  </th>\n",
        "      <td>  108566</td>\n",
        "      <td> positive</td>\n",
        "      <td>             Max</td>\n",
        "      <td>         Hill</td>\n",
        "      <td> San Francisco</td>\n",
        "      <td> California</td>\n",
        "      <td>  3</td>\n",
        "      <td>  0</td>\n",
        "      <td> 0.500</td>\n",
        "      <td> 0.000</td>\n",
        "      <td> 0.000</td>\n",
        "      <td> 0.000</td>\n",
        "      <td> 0.000</td>\n",
        "      <td> 0.500</td>\n",
        "      <td> 0.000</td>\n",
        "      <td>  22.5</td>\n",
        "      <td>  24.5</td>\n",
        "      <td> http://d3nn82uaxijpm6.cloudfront.net/assets/av...</td>\n",
        "    </tr>\n",
        "    <tr>\n",
        "      <th>4  </th>\n",
        "      <td>   10308</td>\n",
        "      <td> positive</td>\n",
        "      <td>           Peter</td>\n",
        "      <td>       Colijn</td>\n",
        "      <td> San Francisco</td>\n",
        "      <td>         CA</td>\n",
        "      <td> 20</td>\n",
        "      <td>  0</td>\n",
        "      <td> 0.154</td>\n",
        "      <td> 0.231</td>\n",
        "      <td> 0.231</td>\n",
        "      <td> 0.154</td>\n",
        "      <td> 0.231</td>\n",
        "      <td> 0.000</td>\n",
        "      <td> 0.000</td>\n",
        "      <td> 121.1</td>\n",
        "      <td>  69.1</td>\n",
        "      <td> http://dgalywyr863hv.cloudfront.net/pictures/a...</td>\n",
        "    </tr>\n",
        "    <tr>\n",
        "      <th>5  </th>\n",
        "      <td>  249931</td>\n",
        "      <td> positive</td>\n",
        "      <td>            R.J.</td>\n",
        "      <td>         Rabe</td>\n",
        "      <td> San Francisco</td>\n",
        "      <td> California</td>\n",
        "      <td>  6</td>\n",
        "      <td>  0</td>\n",
        "      <td> 0.000</td>\n",
        "      <td> 0.400</td>\n",
        "      <td> 0.000</td>\n",
        "      <td> 0.400</td>\n",
        "      <td> 0.000</td>\n",
        "      <td> 0.200</td>\n",
        "      <td> 0.000</td>\n",
        "      <td>  72.0</td>\n",
        "      <td>  43.4</td>\n",
        "      <td> http://dgalywyr863hv.cloudfront.net/pictures/a...</td>\n",
        "    </tr>\n",
        "    <tr>\n",
        "      <th>6  </th>\n",
        "      <td>  143444</td>\n",
        "      <td> positive</td>\n",
        "      <td>           Steve</td>\n",
        "      <td>    Markovich</td>\n",
        "      <td>  Corte Madera</td>\n",
        "      <td>         CA</td>\n",
        "      <td> 20</td>\n",
        "      <td>  0</td>\n",
        "      <td> 0.182</td>\n",
        "      <td> 0.182</td>\n",
        "      <td> 0.091</td>\n",
        "      <td> 0.273</td>\n",
        "      <td> 0.182</td>\n",
        "      <td> 0.000</td>\n",
        "      <td> 0.091</td>\n",
        "      <td> 112.5</td>\n",
        "      <td>  53.8</td>\n",
        "      <td> http://dgalywyr863hv.cloudfront.net/pictures/a...</td>\n",
        "    </tr>\n",
        "    <tr>\n",
        "      <th>7  </th>\n",
        "      <td>  360543</td>\n",
        "      <td> positive</td>\n",
        "      <td>            Beth</td>\n",
        "      <td>      Daggert</td>\n",
        "      <td>       Belmont</td>\n",
        "      <td>         CA</td>\n",
        "      <td>  6</td>\n",
        "      <td>  0</td>\n",
        "      <td> 0.000</td>\n",
        "      <td> 0.250</td>\n",
        "      <td> 0.000</td>\n",
        "      <td> 0.250</td>\n",
        "      <td> 0.000</td>\n",
        "      <td> 0.500</td>\n",
        "      <td> 0.000</td>\n",
        "      <td>  28.5</td>\n",
        "      <td>  32.7</td>\n",
        "      <td> http://dgalywyr863hv.cloudfront.net/pictures/a...</td>\n",
        "    </tr>\n",
        "    <tr>\n",
        "      <th>8  </th>\n",
        "      <td>  917603</td>\n",
        "      <td> positive</td>\n",
        "      <td>             Joe</td>\n",
        "      <td>       Barton</td>\n",
        "      <td>  Corte Madera</td>\n",
        "      <td> California</td>\n",
        "      <td>  3</td>\n",
        "      <td>  0</td>\n",
        "      <td> 0.333</td>\n",
        "      <td> 0.000</td>\n",
        "      <td> 0.333</td>\n",
        "      <td> 0.000</td>\n",
        "      <td> 0.333</td>\n",
        "      <td> 0.000</td>\n",
        "      <td> 0.000</td>\n",
        "      <td>  72.0</td>\n",
        "      <td>  39.0</td>\n",
        "      <td> http://dgalywyr863hv.cloudfront.net/pictures/a...</td>\n",
        "    </tr>\n",
        "    <tr>\n",
        "      <th>9  </th>\n",
        "      <td>  122983</td>\n",
        "      <td> positive</td>\n",
        "      <td>             Dan</td>\n",
        "      <td>    Leaverton</td>\n",
        "      <td>      Berkeley</td>\n",
        "      <td>         CA</td>\n",
        "      <td>  8</td>\n",
        "      <td>  1</td>\n",
        "      <td> 0.000</td>\n",
        "      <td> 0.000</td>\n",
        "      <td> 0.143</td>\n",
        "      <td> 0.143</td>\n",
        "      <td> 0.286</td>\n",
        "      <td> 0.000</td>\n",
        "      <td> 0.429</td>\n",
        "      <td>  26.1</td>\n",
        "      <td>  26.0</td>\n",
        "      <td> http://dgalywyr863hv.cloudfront.net/pictures/a...</td>\n",
        "    </tr>\n",
        "    <tr>\n",
        "      <th>10 </th>\n",
        "      <td>    4210</td>\n",
        "      <td> positive</td>\n",
        "      <td>              or</td>\n",
        "      <td>       Donkey</td>\n",
        "      <td>  Corte Madera</td>\n",
        "      <td>         CA</td>\n",
        "      <td> 13</td>\n",
        "      <td>  0</td>\n",
        "      <td> 0.091</td>\n",
        "      <td> 0.091</td>\n",
        "      <td> 0.182</td>\n",
        "      <td> 0.000</td>\n",
        "      <td> 0.182</td>\n",
        "      <td> 0.182</td>\n",
        "      <td> 0.273</td>\n",
        "      <td> 135.0</td>\n",
        "      <td>  54.3</td>\n",
        "      <td> http://dgalywyr863hv.cloudfront.net/pictures/a...</td>\n",
        "    </tr>\n",
        "    <tr>\n",
        "      <th>11 </th>\n",
        "      <td>    4210</td>\n",
        "      <td> negative</td>\n",
        "      <td>              or</td>\n",
        "      <td>       Donkey</td>\n",
        "      <td>  Corte Madera</td>\n",
        "      <td>         CA</td>\n",
        "      <td> 13</td>\n",
        "      <td>  0</td>\n",
        "      <td> 0.091</td>\n",
        "      <td> 0.091</td>\n",
        "      <td> 0.182</td>\n",
        "      <td> 0.000</td>\n",
        "      <td> 0.182</td>\n",
        "      <td> 0.182</td>\n",
        "      <td> 0.273</td>\n",
        "      <td> 135.0</td>\n",
        "      <td>  54.3</td>\n",
        "      <td> http://dgalywyr863hv.cloudfront.net/pictures/a...</td>\n",
        "    </tr>\n",
        "    <tr>\n",
        "      <th>12 </th>\n",
        "      <td> 1179816</td>\n",
        "      <td> positive</td>\n",
        "      <td>         weewell</td>\n",
        "      <td>       wilier</td>\n",
        "      <td>     San Mateo</td>\n",
        "      <td> California</td>\n",
        "      <td>  8</td>\n",
        "      <td>  0</td>\n",
        "      <td> 0.000</td>\n",
        "      <td> 0.250</td>\n",
        "      <td> 0.125</td>\n",
        "      <td> 0.250</td>\n",
        "      <td> 0.125</td>\n",
        "      <td> 0.125</td>\n",
        "      <td> 0.125</td>\n",
        "      <td>  87.5</td>\n",
        "      <td>  40.7</td>\n",
        "      <td> http://dgalywyr863hv.cloudfront.net/pictures/a...</td>\n",
        "    </tr>\n",
        "    <tr>\n",
        "      <th>13 </th>\n",
        "      <td>   12464</td>\n",
        "      <td> positive</td>\n",
        "      <td>           Josie</td>\n",
        "      <td>      Douglas</td>\n",
        "      <td> San Francisco</td>\n",
        "      <td>         CA</td>\n",
        "      <td> 10</td>\n",
        "      <td>  0</td>\n",
        "      <td> 0.111</td>\n",
        "      <td> 0.111</td>\n",
        "      <td> 0.111</td>\n",
        "      <td> 0.111</td>\n",
        "      <td> 0.222</td>\n",
        "      <td> 0.111</td>\n",
        "      <td> 0.222</td>\n",
        "      <td>  80.0</td>\n",
        "      <td>  78.7</td>\n",
        "      <td> http://dgalywyr863hv.cloudfront.net/pictures/a...</td>\n",
        "    </tr>\n",
        "    <tr>\n",
        "      <th>14 </th>\n",
        "      <td> 1185974</td>\n",
        "      <td> positive</td>\n",
        "      <td>            Kyle</td>\n",
        "      <td>         Mach</td>\n",
        "      <td> San Francisco</td>\n",
        "      <td>         CA</td>\n",
        "      <td>  2</td>\n",
        "      <td>  0</td>\n",
        "      <td> 0.000</td>\n",
        "      <td> 0.000</td>\n",
        "      <td> 0.000</td>\n",
        "      <td> 0.000</td>\n",
        "      <td> 0.000</td>\n",
        "      <td> 1.000</td>\n",
        "      <td> 0.000</td>\n",
        "      <td>  27.0</td>\n",
        "      <td>  27.8</td>\n",
        "      <td> http://d3nn82uaxijpm6.cloudfront.net/assets/av...</td>\n",
        "    </tr>\n",
        "    <tr>\n",
        "      <th>15 </th>\n",
        "      <td>  340155</td>\n",
        "      <td> positive</td>\n",
        "      <td>            Anne</td>\n",
        "      <td>     Spalding</td>\n",
        "      <td> San Francisco</td>\n",
        "      <td>         CA</td>\n",
        "      <td>  2</td>\n",
        "      <td>  0</td>\n",
        "      <td> 0.000</td>\n",
        "      <td> 0.000</td>\n",
        "      <td> 0.500</td>\n",
        "      <td> 0.000</td>\n",
        "      <td> 0.000</td>\n",
        "      <td> 0.000</td>\n",
        "      <td> 0.500</td>\n",
        "      <td>  42.0</td>\n",
        "      <td>  33.2</td>\n",
        "      <td> http://dgalywyr863hv.cloudfront.net/pictures/a...</td>\n",
        "    </tr>\n",
        "    <tr>\n",
        "      <th>16 </th>\n",
        "      <td>    6336</td>\n",
        "      <td> positive</td>\n",
        "      <td>            Bill</td>\n",
        "      <td>           L.</td>\n",
        "      <td>    San Carlos</td>\n",
        "      <td> California</td>\n",
        "      <td> 20</td>\n",
        "      <td>  3</td>\n",
        "      <td> 0.000</td>\n",
        "      <td> 0.143</td>\n",
        "      <td> 0.143</td>\n",
        "      <td> 0.214</td>\n",
        "      <td> 0.214</td>\n",
        "      <td> 0.214</td>\n",
        "      <td> 0.071</td>\n",
        "      <td> 125.0</td>\n",
        "      <td>  58.9</td>\n",
        "      <td> http://dgalywyr863hv.cloudfront.net/pictures/a...</td>\n",
        "    </tr>\n",
        "    <tr>\n",
        "      <th>17 </th>\n",
        "      <td>     721</td>\n",
        "      <td> positive</td>\n",
        "      <td>         Michael</td>\n",
        "      <td>       Gaiman</td>\n",
        "      <td> San Francisco</td>\n",
        "      <td> California</td>\n",
        "      <td>  0</td>\n",
        "      <td> 13</td>\n",
        "      <td> 0.167</td>\n",
        "      <td> 0.083</td>\n",
        "      <td> 0.250</td>\n",
        "      <td> 0.167</td>\n",
        "      <td> 0.250</td>\n",
        "      <td> 0.000</td>\n",
        "      <td> 0.083</td>\n",
        "      <td>  40.0</td>\n",
        "      <td>  74.3</td>\n",
        "      <td> http://dgalywyr863hv.cloudfront.net/pictures/a...</td>\n",
        "    </tr>\n",
        "    <tr>\n",
        "      <th>18 </th>\n",
        "      <td>  100609</td>\n",
        "      <td> positive</td>\n",
        "      <td>     Christopher</td>\n",
        "      <td>  Coppersmith</td>\n",
        "      <td> San Francisco</td>\n",
        "      <td>         CA</td>\n",
        "      <td>  7</td>\n",
        "      <td>  0</td>\n",
        "      <td> 0.400</td>\n",
        "      <td> 0.000</td>\n",
        "      <td> 0.200</td>\n",
        "      <td> 0.200</td>\n",
        "      <td> 0.000</td>\n",
        "      <td> 0.000</td>\n",
        "      <td> 0.200</td>\n",
        "      <td> 140.0</td>\n",
        "      <td> 102.1</td>\n",
        "      <td> http://dgalywyr863hv.cloudfront.net/pictures/a...</td>\n",
        "    </tr>\n",
        "    <tr>\n",
        "      <th>19 </th>\n",
        "      <td> 1462543</td>\n",
        "      <td> positive</td>\n",
        "      <td>          Joanna</td>\n",
        "      <td>         Dahl</td>\n",
        "      <td>      Berkeley</td>\n",
        "      <td>         CA</td>\n",
        "      <td>  4</td>\n",
        "      <td>  0</td>\n",
        "      <td> 0.000</td>\n",
        "      <td> 0.000</td>\n",
        "      <td> 0.000</td>\n",
        "      <td> 0.250</td>\n",
        "      <td> 0.250</td>\n",
        "      <td> 0.250</td>\n",
        "      <td> 0.250</td>\n",
        "      <td>  87.5</td>\n",
        "      <td>  49.7</td>\n",
        "      <td> http://dgalywyr863hv.cloudfront.net/pictures/a...</td>\n",
        "    </tr>\n",
        "    <tr>\n",
        "      <th>20 </th>\n",
        "      <td>  624917</td>\n",
        "      <td> positive</td>\n",
        "      <td>             Ben</td>\n",
        "      <td>       Wright</td>\n",
        "      <td>   Mill Valley</td>\n",
        "      <td> California</td>\n",
        "      <td>  9</td>\n",
        "      <td>  2</td>\n",
        "      <td> 0.091</td>\n",
        "      <td> 0.273</td>\n",
        "      <td> 0.273</td>\n",
        "      <td> 0.091</td>\n",
        "      <td> 0.091</td>\n",
        "      <td> 0.091</td>\n",
        "      <td> 0.091</td>\n",
        "      <td>  30.0</td>\n",
        "      <td>  44.3</td>\n",
        "      <td> http://dgalywyr863hv.cloudfront.net/pictures/a...</td>\n",
        "    </tr>\n",
        "    <tr>\n",
        "      <th>21 </th>\n",
        "      <td>  293159</td>\n",
        "      <td> positive</td>\n",
        "      <td>           scott</td>\n",
        "      <td>        cowan</td>\n",
        "      <td> San Francisco</td>\n",
        "      <td>         CA</td>\n",
        "      <td>  2</td>\n",
        "      <td>  0</td>\n",
        "      <td> 0.000</td>\n",
        "      <td> 0.000</td>\n",
        "      <td> 0.500</td>\n",
        "      <td> 0.500</td>\n",
        "      <td> 0.000</td>\n",
        "      <td> 0.000</td>\n",
        "      <td> 0.000</td>\n",
        "      <td>   0.0</td>\n",
        "      <td>  86.1</td>\n",
        "      <td> http://d3nn82uaxijpm6.cloudfront.net/assets/av...</td>\n",
        "    </tr>\n",
        "    <tr>\n",
        "      <th>22 </th>\n",
        "      <td>  141620</td>\n",
        "      <td> positive</td>\n",
        "      <td>            John</td>\n",
        "      <td>     Gronberg</td>\n",
        "      <td> San Francisco</td>\n",
        "      <td>         CA</td>\n",
        "      <td>  5</td>\n",
        "      <td>  0</td>\n",
        "      <td> 0.000</td>\n",
        "      <td> 0.000</td>\n",
        "      <td> 0.000</td>\n",
        "      <td> 0.200</td>\n",
        "      <td> 0.000</td>\n",
        "      <td> 0.400</td>\n",
        "      <td> 0.400</td>\n",
        "      <td>  45.0</td>\n",
        "      <td>  31.5</td>\n",
        "      <td> http://dgalywyr863hv.cloudfront.net/pictures/a...</td>\n",
        "    </tr>\n",
        "    <tr>\n",
        "      <th>23 </th>\n",
        "      <td>  201019</td>\n",
        "      <td> positive</td>\n",
        "      <td>           Jaron</td>\n",
        "      <td>         Ness</td>\n",
        "      <td> San Francisco</td>\n",
        "      <td>         CA</td>\n",
        "      <td>  2</td>\n",
        "      <td> 10</td>\n",
        "      <td> 0.182</td>\n",
        "      <td> 0.182</td>\n",
        "      <td> 0.182</td>\n",
        "      <td> 0.091</td>\n",
        "      <td> 0.182</td>\n",
        "      <td> 0.091</td>\n",
        "      <td> 0.091</td>\n",
        "      <td>   6.8</td>\n",
        "      <td>  12.7</td>\n",
        "      <td> http://dgalywyr863hv.cloudfront.net/pictures/a...</td>\n",
        "    </tr>\n",
        "    <tr>\n",
        "      <th>24 </th>\n",
        "      <td>  274759</td>\n",
        "      <td> positive</td>\n",
        "      <td>            Erik</td>\n",
        "      <td>        Joule</td>\n",
        "      <td> San Francisco</td>\n",
        "      <td>         CA</td>\n",
        "      <td> 12</td>\n",
        "      <td>  3</td>\n",
        "      <td> 0.214</td>\n",
        "      <td> 0.000</td>\n",
        "      <td> 0.214</td>\n",
        "      <td> 0.071</td>\n",
        "      <td> 0.214</td>\n",
        "      <td> 0.143</td>\n",
        "      <td> 0.143</td>\n",
        "      <td> 192.0</td>\n",
        "      <td>  57.9</td>\n",
        "      <td> http://dgalywyr863hv.cloudfront.net/pictures/a...</td>\n",
        "    </tr>\n",
        "    <tr>\n",
        "      <th>25 </th>\n",
        "      <td>     373</td>\n",
        "      <td> positive</td>\n",
        "      <td>         Matthew</td>\n",
        "      <td>     Sessions</td>\n",
        "      <td>   Mill Valley</td>\n",
        "      <td>         CA</td>\n",
        "      <td>  5</td>\n",
        "      <td>  0</td>\n",
        "      <td> 0.000</td>\n",
        "      <td> 0.200</td>\n",
        "      <td> 0.200</td>\n",
        "      <td> 0.000</td>\n",
        "      <td> 0.400</td>\n",
        "      <td> 0.000</td>\n",
        "      <td> 0.200</td>\n",
        "      <td>  36.0</td>\n",
        "      <td>  29.9</td>\n",
        "      <td> http://dgalywyr863hv.cloudfront.net/pictures/a...</td>\n",
        "    </tr>\n",
        "    <tr>\n",
        "      <th>26 </th>\n",
        "      <td>   27006</td>\n",
        "      <td> positive</td>\n",
        "      <td>            Brad</td>\n",
        "      <td>         Taft</td>\n",
        "      <td> San Francisco</td>\n",
        "      <td>         CA</td>\n",
        "      <td> 61</td>\n",
        "      <td>  0</td>\n",
        "      <td> 0.150</td>\n",
        "      <td> 0.150</td>\n",
        "      <td> 0.150</td>\n",
        "      <td> 0.150</td>\n",
        "      <td> 0.150</td>\n",
        "      <td> 0.100</td>\n",
        "      <td> 0.150</td>\n",
        "      <td> 107.5</td>\n",
        "      <td>  42.0</td>\n",
        "      <td> http://dgalywyr863hv.cloudfront.net/pictures/a...</td>\n",
        "    </tr>\n",
        "    <tr>\n",
        "      <th>27 </th>\n",
        "      <td> 1016197</td>\n",
        "      <td> positive</td>\n",
        "      <td>            Mark</td>\n",
        "      <td>     Schrumpf</td>\n",
        "      <td>     Sausalito</td>\n",
        "      <td>         CA</td>\n",
        "      <td>  2</td>\n",
        "      <td>  5</td>\n",
        "      <td> 0.286</td>\n",
        "      <td> 0.000</td>\n",
        "      <td> 0.143</td>\n",
        "      <td> 0.286</td>\n",
        "      <td> 0.000</td>\n",
        "      <td> 0.143</td>\n",
        "      <td> 0.143</td>\n",
        "      <td>  19.0</td>\n",
        "      <td>  18.9</td>\n",
        "      <td> http://d3nn82uaxijpm6.cloudfront.net/assets/av...</td>\n",
        "    </tr>\n",
        "    <tr>\n",
        "      <th>28 </th>\n",
        "      <td>   12679</td>\n",
        "      <td> positive</td>\n",
        "      <td>          Taylor</td>\n",
        "      <td>         Cody</td>\n",
        "      <td>      Berkeley</td>\n",
        "      <td>         CA</td>\n",
        "      <td>  4</td>\n",
        "      <td>  1</td>\n",
        "      <td> 0.000</td>\n",
        "      <td> 0.400</td>\n",
        "      <td> 0.400</td>\n",
        "      <td> 0.000</td>\n",
        "      <td> 0.200</td>\n",
        "      <td> 0.000</td>\n",
        "      <td> 0.000</td>\n",
        "      <td> 117.0</td>\n",
        "      <td>  69.2</td>\n",
        "      <td> http://dgalywyr863hv.cloudfront.net/pictures/a...</td>\n",
        "    </tr>\n",
        "    <tr>\n",
        "      <th>29 </th>\n",
        "      <td>   10655</td>\n",
        "      <td> positive</td>\n",
        "      <td>         michael</td>\n",
        "      <td>     anderson</td>\n",
        "      <td> San Francisco</td>\n",
        "      <td> California</td>\n",
        "      <td> 17</td>\n",
        "      <td>  0</td>\n",
        "      <td> 0.091</td>\n",
        "      <td> 0.273</td>\n",
        "      <td> 0.091</td>\n",
        "      <td> 0.182</td>\n",
        "      <td> 0.182</td>\n",
        "      <td> 0.091</td>\n",
        "      <td> 0.091</td>\n",
        "      <td>  60.0</td>\n",
        "      <td>  56.7</td>\n",
        "      <td> http://dgalywyr863hv.cloudfront.net/pictures/a...</td>\n",
        "    </tr>\n",
        "    <tr>\n",
        "      <th>...</th>\n",
        "      <td>...</td>\n",
        "      <td>...</td>\n",
        "      <td>...</td>\n",
        "      <td>...</td>\n",
        "      <td>...</td>\n",
        "      <td>...</td>\n",
        "      <td>...</td>\n",
        "      <td>...</td>\n",
        "      <td>...</td>\n",
        "      <td>...</td>\n",
        "      <td>...</td>\n",
        "      <td>...</td>\n",
        "      <td>...</td>\n",
        "      <td>...</td>\n",
        "      <td>...</td>\n",
        "      <td>...</td>\n",
        "      <td>...</td>\n",
        "      <td>...</td>\n",
        "    </tr>\n",
        "    <tr>\n",
        "      <th>138</th>\n",
        "      <td> 1632062</td>\n",
        "      <td> positive</td>\n",
        "      <td>          Robert</td>\n",
        "      <td>       Easley</td>\n",
        "      <td> San Francisco</td>\n",
        "      <td>         CA</td>\n",
        "      <td> 14</td>\n",
        "      <td>  0</td>\n",
        "      <td> 0.083</td>\n",
        "      <td> 0.000</td>\n",
        "      <td> 0.167</td>\n",
        "      <td> 0.250</td>\n",
        "      <td> 0.167</td>\n",
        "      <td> 0.250</td>\n",
        "      <td> 0.083</td>\n",
        "      <td> 126.0</td>\n",
        "      <td>  73.5</td>\n",
        "      <td> http://d3nn82uaxijpm6.cloudfront.net/assets/av...</td>\n",
        "    </tr>\n",
        "    <tr>\n",
        "      <th>139</th>\n",
        "      <td>   12096</td>\n",
        "      <td> positive</td>\n",
        "      <td>           James</td>\n",
        "      <td>        Sabry</td>\n",
        "      <td> San Francisco</td>\n",
        "      <td>         CA</td>\n",
        "      <td> 13</td>\n",
        "      <td>  0</td>\n",
        "      <td> 0.000</td>\n",
        "      <td> 0.125</td>\n",
        "      <td> 0.000</td>\n",
        "      <td> 0.250</td>\n",
        "      <td> 0.250</td>\n",
        "      <td> 0.125</td>\n",
        "      <td> 0.250</td>\n",
        "      <td>  85.0</td>\n",
        "      <td>  49.0</td>\n",
        "      <td> http://dgalywyr863hv.cloudfront.net/pictures/a...</td>\n",
        "    </tr>\n",
        "    <tr>\n",
        "      <th>140</th>\n",
        "      <td>    2019</td>\n",
        "      <td> positive</td>\n",
        "      <td>           scott</td>\n",
        "      <td>       engler</td>\n",
        "      <td> San Francisco</td>\n",
        "      <td>         CA</td>\n",
        "      <td>  5</td>\n",
        "      <td>  4</td>\n",
        "      <td> 0.222</td>\n",
        "      <td> 0.222</td>\n",
        "      <td> 0.111</td>\n",
        "      <td> 0.222</td>\n",
        "      <td> 0.111</td>\n",
        "      <td> 0.111</td>\n",
        "      <td> 0.000</td>\n",
        "      <td>  18.0</td>\n",
        "      <td>  51.3</td>\n",
        "      <td> http://dgalywyr863hv.cloudfront.net/pictures/a...</td>\n",
        "    </tr>\n",
        "    <tr>\n",
        "      <th>141</th>\n",
        "      <td> 1300318</td>\n",
        "      <td> positive</td>\n",
        "      <td>             Tim</td>\n",
        "      <td>       Wallen</td>\n",
        "      <td> San Francisco</td>\n",
        "      <td>         CA</td>\n",
        "      <td>  1</td>\n",
        "      <td> 28</td>\n",
        "      <td> 0.100</td>\n",
        "      <td> 0.150</td>\n",
        "      <td> 0.150</td>\n",
        "      <td> 0.150</td>\n",
        "      <td> 0.150</td>\n",
        "      <td> 0.150</td>\n",
        "      <td> 0.150</td>\n",
        "      <td>  44.0</td>\n",
        "      <td>  16.9</td>\n",
        "      <td> http://d3nn82uaxijpm6.cloudfront.net/assets/av...</td>\n",
        "    </tr>\n",
        "    <tr>\n",
        "      <th>142</th>\n",
        "      <td>  282463</td>\n",
        "      <td> positive</td>\n",
        "      <td>           Kevin</td>\n",
        "      <td>     Mihovich</td>\n",
        "      <td> San Francisco</td>\n",
        "      <td>         CA</td>\n",
        "      <td>  5</td>\n",
        "      <td>  0</td>\n",
        "      <td> 0.400</td>\n",
        "      <td> 0.000</td>\n",
        "      <td> 0.200</td>\n",
        "      <td> 0.000</td>\n",
        "      <td> 0.400</td>\n",
        "      <td> 0.000</td>\n",
        "      <td> 0.000</td>\n",
        "      <td>   0.0</td>\n",
        "      <td>  25.3</td>\n",
        "      <td> http://dgalywyr863hv.cloudfront.net/pictures/a...</td>\n",
        "    </tr>\n",
        "    <tr>\n",
        "      <th>143</th>\n",
        "      <td>  118680</td>\n",
        "      <td> positive</td>\n",
        "      <td>           Katie</td>\n",
        "      <td>        Evans</td>\n",
        "      <td> San Francisco</td>\n",
        "      <td>         CA</td>\n",
        "      <td> 22</td>\n",
        "      <td>  0</td>\n",
        "      <td> 0.150</td>\n",
        "      <td> 0.150</td>\n",
        "      <td> 0.150</td>\n",
        "      <td> 0.150</td>\n",
        "      <td> 0.100</td>\n",
        "      <td> 0.150</td>\n",
        "      <td> 0.150</td>\n",
        "      <td> 270.0</td>\n",
        "      <td>  69.8</td>\n",
        "      <td> http://dgalywyr863hv.cloudfront.net/pictures/a...</td>\n",
        "    </tr>\n",
        "    <tr>\n",
        "      <th>144</th>\n",
        "      <td>  982950</td>\n",
        "      <td> positive</td>\n",
        "      <td>         Natalie</td>\n",
        "      <td>        Stoll</td>\n",
        "      <td> San Francisco</td>\n",
        "      <td>         CA</td>\n",
        "      <td>  5</td>\n",
        "      <td>  0</td>\n",
        "      <td> 0.000</td>\n",
        "      <td> 0.000</td>\n",
        "      <td> 0.000</td>\n",
        "      <td> 0.000</td>\n",
        "      <td> 0.200</td>\n",
        "      <td> 0.400</td>\n",
        "      <td> 0.400</td>\n",
        "      <td>   0.0</td>\n",
        "      <td>  30.6</td>\n",
        "      <td> http://dgalywyr863hv.cloudfront.net/pictures/a...</td>\n",
        "    </tr>\n",
        "    <tr>\n",
        "      <th>145</th>\n",
        "      <td>    4018</td>\n",
        "      <td> positive</td>\n",
        "      <td>           Kevin</td>\n",
        "      <td>      LaKritz</td>\n",
        "      <td> San Francisco</td>\n",
        "      <td>         CA</td>\n",
        "      <td>  8</td>\n",
        "      <td>  0</td>\n",
        "      <td> 0.000</td>\n",
        "      <td> 0.200</td>\n",
        "      <td> 0.000</td>\n",
        "      <td> 0.200</td>\n",
        "      <td> 0.200</td>\n",
        "      <td> 0.400</td>\n",
        "      <td> 0.000</td>\n",
        "      <td>  42.0</td>\n",
        "      <td>  35.8</td>\n",
        "      <td> http://dgalywyr863hv.cloudfront.net/pictures/a...</td>\n",
        "    </tr>\n",
        "    <tr>\n",
        "      <th>146</th>\n",
        "      <td>    6097</td>\n",
        "      <td> positive</td>\n",
        "      <td>          Darrin</td>\n",
        "      <td>         Ward</td>\n",
        "      <td> San Francisco</td>\n",
        "      <td>         CA</td>\n",
        "      <td> 36</td>\n",
        "      <td>  0</td>\n",
        "      <td> 0.125</td>\n",
        "      <td> 0.188</td>\n",
        "      <td> 0.188</td>\n",
        "      <td> 0.188</td>\n",
        "      <td> 0.188</td>\n",
        "      <td> 0.125</td>\n",
        "      <td> 0.000</td>\n",
        "      <td> 120.0</td>\n",
        "      <td>  60.9</td>\n",
        "      <td> http://dgalywyr863hv.cloudfront.net/pictures/a...</td>\n",
        "    </tr>\n",
        "    <tr>\n",
        "      <th>147</th>\n",
        "      <td> 3862484</td>\n",
        "      <td> positive</td>\n",
        "      <td>           Caleb</td>\n",
        "      <td>       Braley</td>\n",
        "      <td> San Francisco</td>\n",
        "      <td> California</td>\n",
        "      <td>  1</td>\n",
        "      <td>  0</td>\n",
        "      <td> 1.000</td>\n",
        "      <td> 0.000</td>\n",
        "      <td> 0.000</td>\n",
        "      <td> 0.000</td>\n",
        "      <td> 0.000</td>\n",
        "      <td> 0.000</td>\n",
        "      <td> 0.000</td>\n",
        "      <td>  28.5</td>\n",
        "      <td>  29.9</td>\n",
        "      <td> http://dgalywyr863hv.cloudfront.net/pictures/a...</td>\n",
        "    </tr>\n",
        "    <tr>\n",
        "      <th>148</th>\n",
        "      <td>   71651</td>\n",
        "      <td> positive</td>\n",
        "      <td>          Jeremy</td>\n",
        "      <td>      Solomon</td>\n",
        "      <td> San Francisco</td>\n",
        "      <td>         CA</td>\n",
        "      <td>  5</td>\n",
        "      <td>  0</td>\n",
        "      <td> 0.000</td>\n",
        "      <td> 0.200</td>\n",
        "      <td> 0.200</td>\n",
        "      <td> 0.200</td>\n",
        "      <td> 0.000</td>\n",
        "      <td> 0.200</td>\n",
        "      <td> 0.200</td>\n",
        "      <td>  63.0</td>\n",
        "      <td>  38.0</td>\n",
        "      <td> http://d3nn82uaxijpm6.cloudfront.net/assets/av...</td>\n",
        "    </tr>\n",
        "    <tr>\n",
        "      <th>149</th>\n",
        "      <td>  122857</td>\n",
        "      <td> positive</td>\n",
        "      <td>           Scott</td>\n",
        "      <td>        Rossi</td>\n",
        "      <td> San Francisco</td>\n",
        "      <td>         CA</td>\n",
        "      <td> 13</td>\n",
        "      <td>  0</td>\n",
        "      <td> 0.000</td>\n",
        "      <td> 0.333</td>\n",
        "      <td> 0.111</td>\n",
        "      <td> 0.000</td>\n",
        "      <td> 0.111</td>\n",
        "      <td> 0.222</td>\n",
        "      <td> 0.222</td>\n",
        "      <td>  54.0</td>\n",
        "      <td>  50.9</td>\n",
        "      <td> http://dgalywyr863hv.cloudfront.net/pictures/a...</td>\n",
        "    </tr>\n",
        "    <tr>\n",
        "      <th>150</th>\n",
        "      <td>    6124</td>\n",
        "      <td> positive</td>\n",
        "      <td>            will</td>\n",
        "      <td> riffelmacher</td>\n",
        "      <td> San Francisco</td>\n",
        "      <td>         CA</td>\n",
        "      <td> 17</td>\n",
        "      <td>  7</td>\n",
        "      <td> 0.125</td>\n",
        "      <td> 0.188</td>\n",
        "      <td> 0.188</td>\n",
        "      <td> 0.125</td>\n",
        "      <td> 0.125</td>\n",
        "      <td> 0.125</td>\n",
        "      <td> 0.125</td>\n",
        "      <td> 122.5</td>\n",
        "      <td>  81.8</td>\n",
        "      <td> http://dgalywyr863hv.cloudfront.net/pictures/a...</td>\n",
        "    </tr>\n",
        "    <tr>\n",
        "      <th>151</th>\n",
        "      <td>    8178</td>\n",
        "      <td> positive</td>\n",
        "      <td>            Jeff</td>\n",
        "      <td>     Jungsten</td>\n",
        "      <td>   Mill Valley</td>\n",
        "      <td>         CA</td>\n",
        "      <td>  5</td>\n",
        "      <td>  0</td>\n",
        "      <td> 0.200</td>\n",
        "      <td> 0.200</td>\n",
        "      <td> 0.000</td>\n",
        "      <td> 0.000</td>\n",
        "      <td> 0.000</td>\n",
        "      <td> 0.400</td>\n",
        "      <td> 0.200</td>\n",
        "      <td>  66.0</td>\n",
        "      <td>  35.7</td>\n",
        "      <td> http://dgalywyr863hv.cloudfront.net/pictures/a...</td>\n",
        "    </tr>\n",
        "    <tr>\n",
        "      <th>152</th>\n",
        "      <td>  174077</td>\n",
        "      <td> positive</td>\n",
        "      <td>          jarret</td>\n",
        "      <td>         weis</td>\n",
        "      <td> San Francisco</td>\n",
        "      <td>         CA</td>\n",
        "      <td>  7</td>\n",
        "      <td>  0</td>\n",
        "      <td> 0.000</td>\n",
        "      <td> 0.000</td>\n",
        "      <td> 0.000</td>\n",
        "      <td> 0.167</td>\n",
        "      <td> 0.000</td>\n",
        "      <td> 0.500</td>\n",
        "      <td> 0.333</td>\n",
        "      <td>  63.0</td>\n",
        "      <td>  49.0</td>\n",
        "      <td> http://dgalywyr863hv.cloudfront.net/pictures/a...</td>\n",
        "    </tr>\n",
        "    <tr>\n",
        "      <th>153</th>\n",
        "      <td>    1921</td>\n",
        "      <td> negative</td>\n",
        "      <td>             Rob</td>\n",
        "      <td>         Webb</td>\n",
        "      <td> San Francisco</td>\n",
        "      <td>         CA</td>\n",
        "      <td>  5</td>\n",
        "      <td>  0</td>\n",
        "      <td> 0.200</td>\n",
        "      <td> 0.000</td>\n",
        "      <td> 0.600</td>\n",
        "      <td> 0.000</td>\n",
        "      <td> 0.000</td>\n",
        "      <td> 0.000</td>\n",
        "      <td> 0.200</td>\n",
        "      <td>  12.2</td>\n",
        "      <td>  17.1</td>\n",
        "      <td> http://dgalywyr863hv.cloudfront.net/pictures/a...</td>\n",
        "    </tr>\n",
        "    <tr>\n",
        "      <th>154</th>\n",
        "      <td>  395397</td>\n",
        "      <td> negative</td>\n",
        "      <td>           Bingo</td>\n",
        "      <td>            .</td>\n",
        "      <td>   Mill Valley</td>\n",
        "      <td>         CA</td>\n",
        "      <td>  7</td>\n",
        "      <td>  7</td>\n",
        "      <td> 0.000</td>\n",
        "      <td> 0.250</td>\n",
        "      <td> 0.167</td>\n",
        "      <td> 0.167</td>\n",
        "      <td> 0.000</td>\n",
        "      <td> 0.167</td>\n",
        "      <td> 0.250</td>\n",
        "      <td> 132.0</td>\n",
        "      <td>  89.6</td>\n",
        "      <td> http://dgalywyr863hv.cloudfront.net/pictures/a...</td>\n",
        "    </tr>\n",
        "    <tr>\n",
        "      <th>155</th>\n",
        "      <td> 3039625</td>\n",
        "      <td> negative</td>\n",
        "      <td>           Ariel</td>\n",
        "      <td>     Herrmann</td>\n",
        "      <td> San Francisco</td>\n",
        "      <td>         CA</td>\n",
        "      <td> 14</td>\n",
        "      <td>  0</td>\n",
        "      <td> 0.182</td>\n",
        "      <td> 0.091</td>\n",
        "      <td> 0.000</td>\n",
        "      <td> 0.091</td>\n",
        "      <td> 0.182</td>\n",
        "      <td> 0.182</td>\n",
        "      <td> 0.273</td>\n",
        "      <td>  66.6</td>\n",
        "      <td>  67.7</td>\n",
        "      <td> http://dgalywyr863hv.cloudfront.net/pictures/a...</td>\n",
        "    </tr>\n",
        "    <tr>\n",
        "      <th>156</th>\n",
        "      <td>  283662</td>\n",
        "      <td> negative</td>\n",
        "      <td>           Peter</td>\n",
        "      <td>    Cracknell</td>\n",
        "      <td>   Mill Valley</td>\n",
        "      <td> California</td>\n",
        "      <td> 22</td>\n",
        "      <td>  0</td>\n",
        "      <td> 0.062</td>\n",
        "      <td> 0.125</td>\n",
        "      <td> 0.188</td>\n",
        "      <td> 0.062</td>\n",
        "      <td> 0.188</td>\n",
        "      <td> 0.188</td>\n",
        "      <td> 0.188</td>\n",
        "      <td> 130.0</td>\n",
        "      <td>  85.1</td>\n",
        "      <td> http://dgalywyr863hv.cloudfront.net/pictures/a...</td>\n",
        "    </tr>\n",
        "    <tr>\n",
        "      <th>157</th>\n",
        "      <td> 1113112</td>\n",
        "      <td> negative</td>\n",
        "      <td>             Rob</td>\n",
        "      <td>   Manchester</td>\n",
        "      <td> San Francisco</td>\n",
        "      <td>         CA</td>\n",
        "      <td>  3</td>\n",
        "      <td>  0</td>\n",
        "      <td> 0.000</td>\n",
        "      <td> 0.000</td>\n",
        "      <td> 0.333</td>\n",
        "      <td> 0.333</td>\n",
        "      <td> 0.000</td>\n",
        "      <td> 0.333</td>\n",
        "      <td> 0.000</td>\n",
        "      <td> 189.0</td>\n",
        "      <td> 115.9</td>\n",
        "      <td> http://dgalywyr863hv.cloudfront.net/pictures/a...</td>\n",
        "    </tr>\n",
        "    <tr>\n",
        "      <th>158</th>\n",
        "      <td>   12790</td>\n",
        "      <td> negative</td>\n",
        "      <td>           Brian</td>\n",
        "      <td>        Wedge</td>\n",
        "      <td>   Mill Valley</td>\n",
        "      <td> California</td>\n",
        "      <td>  5</td>\n",
        "      <td>  0</td>\n",
        "      <td> 0.250</td>\n",
        "      <td> 0.000</td>\n",
        "      <td> 0.250</td>\n",
        "      <td> 0.000</td>\n",
        "      <td> 0.000</td>\n",
        "      <td> 0.250</td>\n",
        "      <td> 0.250</td>\n",
        "      <td>  54.0</td>\n",
        "      <td>  40.8</td>\n",
        "      <td> http://dgalywyr863hv.cloudfront.net/pictures/a...</td>\n",
        "    </tr>\n",
        "    <tr>\n",
        "      <th>159</th>\n",
        "      <td>    7966</td>\n",
        "      <td> negative</td>\n",
        "      <td>               R</td>\n",
        "      <td>            B</td>\n",
        "      <td> San Francisco</td>\n",
        "      <td>         CA</td>\n",
        "      <td> 22</td>\n",
        "      <td>  5</td>\n",
        "      <td> 0.167</td>\n",
        "      <td> 0.167</td>\n",
        "      <td> 0.111</td>\n",
        "      <td> 0.111</td>\n",
        "      <td> 0.167</td>\n",
        "      <td> 0.111</td>\n",
        "      <td> 0.167</td>\n",
        "      <td>  98.0</td>\n",
        "      <td>  46.2</td>\n",
        "      <td> http://dgalywyr863hv.cloudfront.net/pictures/a...</td>\n",
        "    </tr>\n",
        "    <tr>\n",
        "      <th>160</th>\n",
        "      <td> 1338919</td>\n",
        "      <td> negative</td>\n",
        "      <td> Robby Welch    </td>\n",
        "      <td>          III</td>\n",
        "      <td> San Francisco</td>\n",
        "      <td>         CA</td>\n",
        "      <td> 18</td>\n",
        "      <td>  0</td>\n",
        "      <td> 0.200</td>\n",
        "      <td> 0.133</td>\n",
        "      <td> 0.133</td>\n",
        "      <td> 0.200</td>\n",
        "      <td> 0.133</td>\n",
        "      <td> 0.133</td>\n",
        "      <td> 0.067</td>\n",
        "      <td> 115.0</td>\n",
        "      <td>  48.6</td>\n",
        "      <td> http://dgalywyr863hv.cloudfront.net/pictures/a...</td>\n",
        "    </tr>\n",
        "    <tr>\n",
        "      <th>161</th>\n",
        "      <td>  145075</td>\n",
        "      <td> negative</td>\n",
        "      <td>               C</td>\n",
        "      <td>            W</td>\n",
        "      <td> San Francisco</td>\n",
        "      <td>         CA</td>\n",
        "      <td> 16</td>\n",
        "      <td>  0</td>\n",
        "      <td> 0.200</td>\n",
        "      <td> 0.133</td>\n",
        "      <td> 0.067</td>\n",
        "      <td> 0.067</td>\n",
        "      <td> 0.133</td>\n",
        "      <td> 0.200</td>\n",
        "      <td> 0.200</td>\n",
        "      <td>  49.5</td>\n",
        "      <td>  22.3</td>\n",
        "      <td> http://dgalywyr863hv.cloudfront.net/pictures/a...</td>\n",
        "    </tr>\n",
        "    <tr>\n",
        "      <th>162</th>\n",
        "      <td>  123529</td>\n",
        "      <td> negative</td>\n",
        "      <td>             Jim</td>\n",
        "      <td>      Whimpey</td>\n",
        "      <td> San Francisco</td>\n",
        "      <td> California</td>\n",
        "      <td> 22</td>\n",
        "      <td>  0</td>\n",
        "      <td> 0.125</td>\n",
        "      <td> 0.125</td>\n",
        "      <td> 0.188</td>\n",
        "      <td> 0.125</td>\n",
        "      <td> 0.125</td>\n",
        "      <td> 0.188</td>\n",
        "      <td> 0.125</td>\n",
        "      <td> 110.8</td>\n",
        "      <td>  44.1</td>\n",
        "      <td> http://dgalywyr863hv.cloudfront.net/pictures/a...</td>\n",
        "    </tr>\n",
        "    <tr>\n",
        "      <th>163</th>\n",
        "      <td>   54339</td>\n",
        "      <td> negative</td>\n",
        "      <td>           Tyler</td>\n",
        "      <td>       Brandt</td>\n",
        "      <td>      Berkeley</td>\n",
        "      <td> California</td>\n",
        "      <td>  9</td>\n",
        "      <td>  0</td>\n",
        "      <td> 0.286</td>\n",
        "      <td> 0.143</td>\n",
        "      <td> 0.143</td>\n",
        "      <td> 0.143</td>\n",
        "      <td> 0.143</td>\n",
        "      <td> 0.143</td>\n",
        "      <td> 0.000</td>\n",
        "      <td> 292.5</td>\n",
        "      <td> 129.5</td>\n",
        "      <td> http://dgalywyr863hv.cloudfront.net/pictures/a...</td>\n",
        "    </tr>\n",
        "    <tr>\n",
        "      <th>164</th>\n",
        "      <td>    7109</td>\n",
        "      <td> negative</td>\n",
        "      <td>           Chris</td>\n",
        "      <td>       Phipps</td>\n",
        "      <td> San Francisco</td>\n",
        "      <td>         CA</td>\n",
        "      <td> 27</td>\n",
        "      <td>  0</td>\n",
        "      <td> 0.056</td>\n",
        "      <td> 0.167</td>\n",
        "      <td> 0.167</td>\n",
        "      <td> 0.167</td>\n",
        "      <td> 0.167</td>\n",
        "      <td> 0.167</td>\n",
        "      <td> 0.111</td>\n",
        "      <td> 104.3</td>\n",
        "      <td>  36.0</td>\n",
        "      <td> http://dgalywyr863hv.cloudfront.net/pictures/a...</td>\n",
        "    </tr>\n",
        "    <tr>\n",
        "      <th>165</th>\n",
        "      <td>  407045</td>\n",
        "      <td> negative</td>\n",
        "      <td>           Steve</td>\n",
        "      <td>        Fancy</td>\n",
        "      <td> San Francisco</td>\n",
        "      <td> California</td>\n",
        "      <td>  9</td>\n",
        "      <td>  0</td>\n",
        "      <td> 0.000</td>\n",
        "      <td> 0.125</td>\n",
        "      <td> 0.000</td>\n",
        "      <td> 0.125</td>\n",
        "      <td> 0.125</td>\n",
        "      <td> 0.250</td>\n",
        "      <td> 0.375</td>\n",
        "      <td>  46.0</td>\n",
        "      <td>  52.9</td>\n",
        "      <td> http://dgalywyr863hv.cloudfront.net/pictures/a...</td>\n",
        "    </tr>\n",
        "    <tr>\n",
        "      <th>166</th>\n",
        "      <td>   74337</td>\n",
        "      <td> negative</td>\n",
        "      <td>             Big</td>\n",
        "      <td>        Broom</td>\n",
        "      <td> San Francisco</td>\n",
        "      <td>         CA</td>\n",
        "      <td>  7</td>\n",
        "      <td>  0</td>\n",
        "      <td> 0.143</td>\n",
        "      <td> 0.000</td>\n",
        "      <td> 0.000</td>\n",
        "      <td> 0.000</td>\n",
        "      <td> 0.000</td>\n",
        "      <td> 0.429</td>\n",
        "      <td> 0.429</td>\n",
        "      <td> 171.0</td>\n",
        "      <td> 127.2</td>\n",
        "      <td> http://d3nn82uaxijpm6.cloudfront.net/assets/av...</td>\n",
        "    </tr>\n",
        "    <tr>\n",
        "      <th>167</th>\n",
        "      <td>   10553</td>\n",
        "      <td> negative</td>\n",
        "      <td>            Hans</td>\n",
        "      <td>      Gouwens</td>\n",
        "      <td>  Corte Madera</td>\n",
        "      <td>         CA</td>\n",
        "      <td> 12</td>\n",
        "      <td>  0</td>\n",
        "      <td> 0.000</td>\n",
        "      <td> 0.250</td>\n",
        "      <td> 0.000</td>\n",
        "      <td> 0.125</td>\n",
        "      <td> 0.250</td>\n",
        "      <td> 0.250</td>\n",
        "      <td> 0.125</td>\n",
        "      <td> 117.0</td>\n",
        "      <td> 122.1</td>\n",
        "      <td> http://dgalywyr863hv.cloudfront.net/pictures/a...</td>\n",
        "    </tr>\n",
        "  </tbody>\n",
        "</table>\n",
        "<p>168 rows \u00d7 18 columns</p>\n",
        "</div>"
       ],
       "metadata": {},
       "output_type": "pyout",
       "prompt_number": 210,
       "text": [
        "     athlete_id     class       first_name     last_name           city  \\\n",
        "0       1163267  positive             Ryan       LaBarre  San Francisco   \n",
        "1       1193996  positive             Anna             M  San Francisco   \n",
        "2       1323023  positive            Moses            sf  San Francisco   \n",
        "3        108566  positive              Max          Hill  San Francisco   \n",
        "4         10308  positive            Peter        Colijn  San Francisco   \n",
        "5        249931  positive             R.J.          Rabe  San Francisco   \n",
        "6        143444  positive            Steve     Markovich   Corte Madera   \n",
        "7        360543  positive             Beth       Daggert        Belmont   \n",
        "8        917603  positive              Joe        Barton   Corte Madera   \n",
        "9        122983  positive              Dan     Leaverton       Berkeley   \n",
        "10         4210  positive               or        Donkey   Corte Madera   \n",
        "11         4210  negative               or        Donkey   Corte Madera   \n",
        "12      1179816  positive          weewell        wilier      San Mateo   \n",
        "13        12464  positive            Josie       Douglas  San Francisco   \n",
        "14      1185974  positive             Kyle          Mach  San Francisco   \n",
        "15       340155  positive             Anne      Spalding  San Francisco   \n",
        "16         6336  positive             Bill            L.     San Carlos   \n",
        "17          721  positive          Michael        Gaiman  San Francisco   \n",
        "18       100609  positive      Christopher   Coppersmith  San Francisco   \n",
        "19      1462543  positive           Joanna          Dahl       Berkeley   \n",
        "20       624917  positive              Ben        Wright    Mill Valley   \n",
        "21       293159  positive            scott         cowan  San Francisco   \n",
        "22       141620  positive             John      Gronberg  San Francisco   \n",
        "23       201019  positive            Jaron          Ness  San Francisco   \n",
        "24       274759  positive             Erik         Joule  San Francisco   \n",
        "25          373  positive          Matthew      Sessions    Mill Valley   \n",
        "26        27006  positive             Brad          Taft  San Francisco   \n",
        "27      1016197  positive             Mark      Schrumpf      Sausalito   \n",
        "28        12679  positive           Taylor          Cody       Berkeley   \n",
        "29        10655  positive          michael      anderson  San Francisco   \n",
        "..          ...       ...              ...           ...            ...   \n",
        "138     1632062  positive           Robert        Easley  San Francisco   \n",
        "139       12096  positive            James         Sabry  San Francisco   \n",
        "140        2019  positive            scott        engler  San Francisco   \n",
        "141     1300318  positive              Tim        Wallen  San Francisco   \n",
        "142      282463  positive            Kevin      Mihovich  San Francisco   \n",
        "143      118680  positive            Katie         Evans  San Francisco   \n",
        "144      982950  positive          Natalie         Stoll  San Francisco   \n",
        "145        4018  positive            Kevin       LaKritz  San Francisco   \n",
        "146        6097  positive           Darrin          Ward  San Francisco   \n",
        "147     3862484  positive            Caleb        Braley  San Francisco   \n",
        "148       71651  positive           Jeremy       Solomon  San Francisco   \n",
        "149      122857  positive            Scott         Rossi  San Francisco   \n",
        "150        6124  positive             will  riffelmacher  San Francisco   \n",
        "151        8178  positive             Jeff      Jungsten    Mill Valley   \n",
        "152      174077  positive           jarret          weis  San Francisco   \n",
        "153        1921  negative              Rob          Webb  San Francisco   \n",
        "154      395397  negative            Bingo             .    Mill Valley   \n",
        "155     3039625  negative            Ariel      Herrmann  San Francisco   \n",
        "156      283662  negative            Peter     Cracknell    Mill Valley   \n",
        "157     1113112  negative              Rob    Manchester  San Francisco   \n",
        "158       12790  negative            Brian         Wedge    Mill Valley   \n",
        "159        7966  negative                R             B  San Francisco   \n",
        "160     1338919  negative  Robby Welch               III  San Francisco   \n",
        "161      145075  negative                C             W  San Francisco   \n",
        "162      123529  negative              Jim       Whimpey  San Francisco   \n",
        "163       54339  negative            Tyler        Brandt       Berkeley   \n",
        "164        7109  negative            Chris        Phipps  San Francisco   \n",
        "165      407045  negative            Steve         Fancy  San Francisco   \n",
        "166       74337  negative              Big         Broom  San Francisco   \n",
        "167       10553  negative             Hans       Gouwens   Corte Madera   \n",
        "\n",
        "          state  ride_count  run_count  mon_freq  tues_freq  wed_freq  \\\n",
        "0            CA          16          0     0.250      0.000     0.250   \n",
        "1            CA           4          8     0.000      0.000     0.143   \n",
        "2            CA           1          0     0.000      0.000     0.000   \n",
        "3    California           3          0     0.500      0.000     0.000   \n",
        "4            CA          20          0     0.154      0.231     0.231   \n",
        "5    California           6          0     0.000      0.400     0.000   \n",
        "6            CA          20          0     0.182      0.182     0.091   \n",
        "7            CA           6          0     0.000      0.250     0.000   \n",
        "8    California           3          0     0.333      0.000     0.333   \n",
        "9            CA           8          1     0.000      0.000     0.143   \n",
        "10           CA          13          0     0.091      0.091     0.182   \n",
        "11           CA          13          0     0.091      0.091     0.182   \n",
        "12   California           8          0     0.000      0.250     0.125   \n",
        "13           CA          10          0     0.111      0.111     0.111   \n",
        "14           CA           2          0     0.000      0.000     0.000   \n",
        "15           CA           2          0     0.000      0.000     0.500   \n",
        "16   California          20          3     0.000      0.143     0.143   \n",
        "17   California           0         13     0.167      0.083     0.250   \n",
        "18           CA           7          0     0.400      0.000     0.200   \n",
        "19           CA           4          0     0.000      0.000     0.000   \n",
        "20   California           9          2     0.091      0.273     0.273   \n",
        "21           CA           2          0     0.000      0.000     0.500   \n",
        "22           CA           5          0     0.000      0.000     0.000   \n",
        "23           CA           2         10     0.182      0.182     0.182   \n",
        "24           CA          12          3     0.214      0.000     0.214   \n",
        "25           CA           5          0     0.000      0.200     0.200   \n",
        "26           CA          61          0     0.150      0.150     0.150   \n",
        "27           CA           2          5     0.286      0.000     0.143   \n",
        "28           CA           4          1     0.000      0.400     0.400   \n",
        "29   California          17          0     0.091      0.273     0.091   \n",
        "..          ...         ...        ...       ...        ...       ...   \n",
        "138          CA          14          0     0.083      0.000     0.167   \n",
        "139          CA          13          0     0.000      0.125     0.000   \n",
        "140          CA           5          4     0.222      0.222     0.111   \n",
        "141          CA           1         28     0.100      0.150     0.150   \n",
        "142          CA           5          0     0.400      0.000     0.200   \n",
        "143          CA          22          0     0.150      0.150     0.150   \n",
        "144          CA           5          0     0.000      0.000     0.000   \n",
        "145          CA           8          0     0.000      0.200     0.000   \n",
        "146          CA          36          0     0.125      0.188     0.188   \n",
        "147  California           1          0     1.000      0.000     0.000   \n",
        "148          CA           5          0     0.000      0.200     0.200   \n",
        "149          CA          13          0     0.000      0.333     0.111   \n",
        "150          CA          17          7     0.125      0.188     0.188   \n",
        "151          CA           5          0     0.200      0.200     0.000   \n",
        "152          CA           7          0     0.000      0.000     0.000   \n",
        "153          CA           5          0     0.200      0.000     0.600   \n",
        "154          CA           7          7     0.000      0.250     0.167   \n",
        "155          CA          14          0     0.182      0.091     0.000   \n",
        "156  California          22          0     0.062      0.125     0.188   \n",
        "157          CA           3          0     0.000      0.000     0.333   \n",
        "158  California           5          0     0.250      0.000     0.250   \n",
        "159          CA          22          5     0.167      0.167     0.111   \n",
        "160          CA          18          0     0.200      0.133     0.133   \n",
        "161          CA          16          0     0.200      0.133     0.067   \n",
        "162  California          22          0     0.125      0.125     0.188   \n",
        "163  California           9          0     0.286      0.143     0.143   \n",
        "164          CA          27          0     0.056      0.167     0.167   \n",
        "165  California           9          0     0.000      0.125     0.000   \n",
        "166          CA           7          0     0.143      0.000     0.000   \n",
        "167          CA          12          0     0.000      0.250     0.000   \n",
        "\n",
        "     thurs_freq  fri_freq  sat_freq  sun_freq  annual_dist_median  \\\n",
        "0         0.000     0.000     0.375     0.125                44.7   \n",
        "1         0.286     0.143     0.429     0.000                16.0   \n",
        "2         0.000     0.000     0.000     1.000                 0.0   \n",
        "3         0.000     0.000     0.500     0.000                22.5   \n",
        "4         0.154     0.231     0.000     0.000               121.1   \n",
        "5         0.400     0.000     0.200     0.000                72.0   \n",
        "6         0.273     0.182     0.000     0.091               112.5   \n",
        "7         0.250     0.000     0.500     0.000                28.5   \n",
        "8         0.000     0.333     0.000     0.000                72.0   \n",
        "9         0.143     0.286     0.000     0.429                26.1   \n",
        "10        0.000     0.182     0.182     0.273               135.0   \n",
        "11        0.000     0.182     0.182     0.273               135.0   \n",
        "12        0.250     0.125     0.125     0.125                87.5   \n",
        "13        0.111     0.222     0.111     0.222                80.0   \n",
        "14        0.000     0.000     1.000     0.000                27.0   \n",
        "15        0.000     0.000     0.000     0.500                42.0   \n",
        "16        0.214     0.214     0.214     0.071               125.0   \n",
        "17        0.167     0.250     0.000     0.083                40.0   \n",
        "18        0.200     0.000     0.000     0.200               140.0   \n",
        "19        0.250     0.250     0.250     0.250                87.5   \n",
        "20        0.091     0.091     0.091     0.091                30.0   \n",
        "21        0.500     0.000     0.000     0.000                 0.0   \n",
        "22        0.200     0.000     0.400     0.400                45.0   \n",
        "23        0.091     0.182     0.091     0.091                 6.8   \n",
        "24        0.071     0.214     0.143     0.143               192.0   \n",
        "25        0.000     0.400     0.000     0.200                36.0   \n",
        "26        0.150     0.150     0.100     0.150               107.5   \n",
        "27        0.286     0.000     0.143     0.143                19.0   \n",
        "28        0.000     0.200     0.000     0.000               117.0   \n",
        "29        0.182     0.182     0.091     0.091                60.0   \n",
        "..          ...       ...       ...       ...                 ...   \n",
        "138       0.250     0.167     0.250     0.083               126.0   \n",
        "139       0.250     0.250     0.125     0.250                85.0   \n",
        "140       0.222     0.111     0.111     0.000                18.0   \n",
        "141       0.150     0.150     0.150     0.150                44.0   \n",
        "142       0.000     0.400     0.000     0.000                 0.0   \n",
        "143       0.150     0.100     0.150     0.150               270.0   \n",
        "144       0.000     0.200     0.400     0.400                 0.0   \n",
        "145       0.200     0.200     0.400     0.000                42.0   \n",
        "146       0.188     0.188     0.125     0.000               120.0   \n",
        "147       0.000     0.000     0.000     0.000                28.5   \n",
        "148       0.200     0.000     0.200     0.200                63.0   \n",
        "149       0.000     0.111     0.222     0.222                54.0   \n",
        "150       0.125     0.125     0.125     0.125               122.5   \n",
        "151       0.000     0.000     0.400     0.200                66.0   \n",
        "152       0.167     0.000     0.500     0.333                63.0   \n",
        "153       0.000     0.000     0.000     0.200                12.2   \n",
        "154       0.167     0.000     0.167     0.250               132.0   \n",
        "155       0.091     0.182     0.182     0.273                66.6   \n",
        "156       0.062     0.188     0.188     0.188               130.0   \n",
        "157       0.333     0.000     0.333     0.000               189.0   \n",
        "158       0.000     0.000     0.250     0.250                54.0   \n",
        "159       0.111     0.167     0.111     0.167                98.0   \n",
        "160       0.200     0.133     0.133     0.067               115.0   \n",
        "161       0.067     0.133     0.200     0.200                49.5   \n",
        "162       0.125     0.125     0.188     0.125               110.8   \n",
        "163       0.143     0.143     0.143     0.000               292.5   \n",
        "164       0.167     0.167     0.167     0.111               104.3   \n",
        "165       0.125     0.125     0.250     0.375                46.0   \n",
        "166       0.000     0.000     0.429     0.429               171.0   \n",
        "167       0.125     0.250     0.250     0.125               117.0   \n",
        "\n",
        "     annual_dist_std                                         avatar_url  \n",
        "0               32.3  http://dgalywyr863hv.cloudfront.net/pictures/a...  \n",
        "1               26.9  http://dgalywyr863hv.cloudfront.net/pictures/a...  \n",
        "2               45.3  http://dgalywyr863hv.cloudfront.net/pictures/a...  \n",
        "3               24.5  http://d3nn82uaxijpm6.cloudfront.net/assets/av...  \n",
        "4               69.1  http://dgalywyr863hv.cloudfront.net/pictures/a...  \n",
        "5               43.4  http://dgalywyr863hv.cloudfront.net/pictures/a...  \n",
        "6               53.8  http://dgalywyr863hv.cloudfront.net/pictures/a...  \n",
        "7               32.7  http://dgalywyr863hv.cloudfront.net/pictures/a...  \n",
        "8               39.0  http://dgalywyr863hv.cloudfront.net/pictures/a...  \n",
        "9               26.0  http://dgalywyr863hv.cloudfront.net/pictures/a...  \n",
        "10              54.3  http://dgalywyr863hv.cloudfront.net/pictures/a...  \n",
        "11              54.3  http://dgalywyr863hv.cloudfront.net/pictures/a...  \n",
        "12              40.7  http://dgalywyr863hv.cloudfront.net/pictures/a...  \n",
        "13              78.7  http://dgalywyr863hv.cloudfront.net/pictures/a...  \n",
        "14              27.8  http://d3nn82uaxijpm6.cloudfront.net/assets/av...  \n",
        "15              33.2  http://dgalywyr863hv.cloudfront.net/pictures/a...  \n",
        "16              58.9  http://dgalywyr863hv.cloudfront.net/pictures/a...  \n",
        "17              74.3  http://dgalywyr863hv.cloudfront.net/pictures/a...  \n",
        "18             102.1  http://dgalywyr863hv.cloudfront.net/pictures/a...  \n",
        "19              49.7  http://dgalywyr863hv.cloudfront.net/pictures/a...  \n",
        "20              44.3  http://dgalywyr863hv.cloudfront.net/pictures/a...  \n",
        "21              86.1  http://d3nn82uaxijpm6.cloudfront.net/assets/av...  \n",
        "22              31.5  http://dgalywyr863hv.cloudfront.net/pictures/a...  \n",
        "23              12.7  http://dgalywyr863hv.cloudfront.net/pictures/a...  \n",
        "24              57.9  http://dgalywyr863hv.cloudfront.net/pictures/a...  \n",
        "25              29.9  http://dgalywyr863hv.cloudfront.net/pictures/a...  \n",
        "26              42.0  http://dgalywyr863hv.cloudfront.net/pictures/a...  \n",
        "27              18.9  http://d3nn82uaxijpm6.cloudfront.net/assets/av...  \n",
        "28              69.2  http://dgalywyr863hv.cloudfront.net/pictures/a...  \n",
        "29              56.7  http://dgalywyr863hv.cloudfront.net/pictures/a...  \n",
        "..               ...                                                ...  \n",
        "138             73.5  http://d3nn82uaxijpm6.cloudfront.net/assets/av...  \n",
        "139             49.0  http://dgalywyr863hv.cloudfront.net/pictures/a...  \n",
        "140             51.3  http://dgalywyr863hv.cloudfront.net/pictures/a...  \n",
        "141             16.9  http://d3nn82uaxijpm6.cloudfront.net/assets/av...  \n",
        "142             25.3  http://dgalywyr863hv.cloudfront.net/pictures/a...  \n",
        "143             69.8  http://dgalywyr863hv.cloudfront.net/pictures/a...  \n",
        "144             30.6  http://dgalywyr863hv.cloudfront.net/pictures/a...  \n",
        "145             35.8  http://dgalywyr863hv.cloudfront.net/pictures/a...  \n",
        "146             60.9  http://dgalywyr863hv.cloudfront.net/pictures/a...  \n",
        "147             29.9  http://dgalywyr863hv.cloudfront.net/pictures/a...  \n",
        "148             38.0  http://d3nn82uaxijpm6.cloudfront.net/assets/av...  \n",
        "149             50.9  http://dgalywyr863hv.cloudfront.net/pictures/a...  \n",
        "150             81.8  http://dgalywyr863hv.cloudfront.net/pictures/a...  \n",
        "151             35.7  http://dgalywyr863hv.cloudfront.net/pictures/a...  \n",
        "152             49.0  http://dgalywyr863hv.cloudfront.net/pictures/a...  \n",
        "153             17.1  http://dgalywyr863hv.cloudfront.net/pictures/a...  \n",
        "154             89.6  http://dgalywyr863hv.cloudfront.net/pictures/a...  \n",
        "155             67.7  http://dgalywyr863hv.cloudfront.net/pictures/a...  \n",
        "156             85.1  http://dgalywyr863hv.cloudfront.net/pictures/a...  \n",
        "157            115.9  http://dgalywyr863hv.cloudfront.net/pictures/a...  \n",
        "158             40.8  http://dgalywyr863hv.cloudfront.net/pictures/a...  \n",
        "159             46.2  http://dgalywyr863hv.cloudfront.net/pictures/a...  \n",
        "160             48.6  http://dgalywyr863hv.cloudfront.net/pictures/a...  \n",
        "161             22.3  http://dgalywyr863hv.cloudfront.net/pictures/a...  \n",
        "162             44.1  http://dgalywyr863hv.cloudfront.net/pictures/a...  \n",
        "163            129.5  http://dgalywyr863hv.cloudfront.net/pictures/a...  \n",
        "164             36.0  http://dgalywyr863hv.cloudfront.net/pictures/a...  \n",
        "165             52.9  http://dgalywyr863hv.cloudfront.net/pictures/a...  \n",
        "166            127.2  http://d3nn82uaxijpm6.cloudfront.net/assets/av...  \n",
        "167            122.1  http://dgalywyr863hv.cloudfront.net/pictures/a...  \n",
        "\n",
        "[168 rows x 18 columns]"
       ]
      }
     ],
     "prompt_number": 210
    },
    {
     "cell_type": "code",
     "collapsed": false,
     "input": [
      "from app.buddies import get_user_connection_ids"
     ],
     "language": "python",
     "metadata": {},
     "outputs": [],
     "prompt_number": 156
    },
    {
     "cell_type": "code",
     "collapsed": false,
     "input": [
      "my_id = client.get_athlete().id\n",
      "connect_ids = get_user_connection_ids(client)"
     ],
     "language": "python",
     "metadata": {},
     "outputs": [],
     "prompt_number": 165
    },
    {
     "cell_type": "code",
     "collapsed": false,
     "input": [
      "data = merge_act_inner\n",
      "#data.head()"
     ],
     "language": "python",
     "metadata": {},
     "outputs": [],
     "prompt_number": 172
    },
    {
     "cell_type": "code",
     "collapsed": false,
     "input": [
      "subset_connections = merge_all_left[ merge_all_left['athlete_id'].isin( connect_ids )]\n",
      "\n",
      "print subset_connections\n",
      "print \"pos friends\", sum( [ id in connect_ids for id in ids[\"positive\"]  ] ) # discrepancy with above = active vs not\n",
      "print \"neg friends\", sum( [ id in connect_ids for id in ids[\"negative\"]  ] )"
     ],
     "language": "python",
     "metadata": {},
     "outputs": [
      {
       "output_type": "stream",
       "stream": "stdout",
       "text": [
        "     athlete_id     class first_name  last_name           city       state  \\\n",
        "87        29126  positive      James  Partridge  San Francisco          CA   \n",
        "241       47654  positive     calvin        jan  San Francisco  California   \n",
        "\n",
        "     ride_count  run_count  mon_freq  tues_freq  wed_freq  thurs_freq  \\\n",
        "87            0          0         0          0         0           0   \n",
        "241           0          0         0          0         0           0   \n",
        "\n",
        "     fri_freq  sat_freq  sun_freq  annual_dist_median  annual_dist_std  \\\n",
        "87          0         0         0                 0.0             41.4   \n",
        "241         0         0         0                17.4             27.4   \n",
        "\n",
        "                                            avatar_url  \n",
        "87   http://dgalywyr863hv.cloudfront.net/pictures/a...  \n",
        "241  http://dgalywyr863hv.cloudfront.net/pictures/a...  \n",
        "pos friends"
       ]
      },
      {
       "output_type": "stream",
       "stream": "stdout",
       "text": [
        " 4\n",
        "neg friends"
       ]
      },
      {
       "output_type": "stream",
       "stream": "stdout",
       "text": [
        " 0\n"
       ]
      }
     ],
     "prompt_number": 184
    },
    {
     "cell_type": "code",
     "collapsed": false,
     "input": [
      "d = data[\"class\"]\n",
      "d.describe()"
     ],
     "language": "python",
     "metadata": {},
     "outputs": [
      {
       "metadata": {},
       "output_type": "pyout",
       "prompt_number": 208,
       "text": [
        "count          168\n",
        "unique           2\n",
        "top       positive\n",
        "freq           150\n",
        "dtype: object"
       ]
      }
     ],
     "prompt_number": 208
    },
    {
     "cell_type": "code",
     "collapsed": false,
     "input": [
      "my_metrics = athletes[athletes[\"athlete_id\"] == my_id].ix[:,\"ride_count\":\"run_count\"]\n",
      "my_metrics"
     ],
     "language": "python",
     "metadata": {},
     "outputs": [
      {
       "html": [
        "<div style=\"max-height:1000px;max-width:1500px;overflow:auto;\">\n",
        "<table border=\"1\" class=\"dataframe\">\n",
        "  <thead>\n",
        "    <tr style=\"text-align: right;\">\n",
        "      <th></th>\n",
        "      <th>ride_count</th>\n",
        "      <th>run_count</th>\n",
        "    </tr>\n",
        "  </thead>\n",
        "  <tbody>\n",
        "    <tr>\n",
        "      <th>17608</th>\n",
        "      <td> 9</td>\n",
        "      <td> 0</td>\n",
        "    </tr>\n",
        "  </tbody>\n",
        "</table>\n",
        "</div>"
       ],
       "metadata": {},
       "output_type": "pyout",
       "prompt_number": 311,
       "text": [
        "       ride_count  run_count\n",
        "17608           9          0"
       ]
      }
     ],
     "prompt_number": 311
    },
    {
     "cell_type": "code",
     "collapsed": false,
     "input": [
      "other_metrics = data.ix[:, \"ride_count\":\"annual_dist_std\"]\n",
      "other_metrics.head"
     ],
     "language": "python",
     "metadata": {},
     "outputs": [
      {
       "html": [
        "<div style=\"max-height:1000px;max-width:1500px;overflow:auto;\">\n",
        "<table border=\"1\" class=\"dataframe\">\n",
        "  <thead>\n",
        "    <tr style=\"text-align: right;\">\n",
        "      <th></th>\n",
        "      <th>ride_count</th>\n",
        "      <th>run_count</th>\n",
        "      <th>mon_freq</th>\n",
        "      <th>tues_freq</th>\n",
        "      <th>wed_freq</th>\n",
        "      <th>thurs_freq</th>\n",
        "      <th>fri_freq</th>\n",
        "      <th>sat_freq</th>\n",
        "      <th>sun_freq</th>\n",
        "      <th>annual_dist_median</th>\n",
        "    </tr>\n",
        "  </thead>\n",
        "  <tbody>\n",
        "    <tr>\n",
        "      <th>0</th>\n",
        "      <td> 16</td>\n",
        "      <td> 0</td>\n",
        "      <td> 0.250</td>\n",
        "      <td> 0.000</td>\n",
        "      <td> 0.250</td>\n",
        "      <td> 0.000</td>\n",
        "      <td> 0.000</td>\n",
        "      <td> 0.375</td>\n",
        "      <td> 0.125</td>\n",
        "      <td>  44.7</td>\n",
        "    </tr>\n",
        "    <tr>\n",
        "      <th>1</th>\n",
        "      <td>  4</td>\n",
        "      <td> 8</td>\n",
        "      <td> 0.000</td>\n",
        "      <td> 0.000</td>\n",
        "      <td> 0.143</td>\n",
        "      <td> 0.286</td>\n",
        "      <td> 0.143</td>\n",
        "      <td> 0.429</td>\n",
        "      <td> 0.000</td>\n",
        "      <td>  16.0</td>\n",
        "    </tr>\n",
        "    <tr>\n",
        "      <th>2</th>\n",
        "      <td>  1</td>\n",
        "      <td> 0</td>\n",
        "      <td> 0.000</td>\n",
        "      <td> 0.000</td>\n",
        "      <td> 0.000</td>\n",
        "      <td> 0.000</td>\n",
        "      <td> 0.000</td>\n",
        "      <td> 0.000</td>\n",
        "      <td> 1.000</td>\n",
        "      <td>   0.0</td>\n",
        "    </tr>\n",
        "    <tr>\n",
        "      <th>3</th>\n",
        "      <td>  3</td>\n",
        "      <td> 0</td>\n",
        "      <td> 0.500</td>\n",
        "      <td> 0.000</td>\n",
        "      <td> 0.000</td>\n",
        "      <td> 0.000</td>\n",
        "      <td> 0.000</td>\n",
        "      <td> 0.500</td>\n",
        "      <td> 0.000</td>\n",
        "      <td>  22.5</td>\n",
        "    </tr>\n",
        "    <tr>\n",
        "      <th>4</th>\n",
        "      <td> 20</td>\n",
        "      <td> 0</td>\n",
        "      <td> 0.154</td>\n",
        "      <td> 0.231</td>\n",
        "      <td> 0.231</td>\n",
        "      <td> 0.154</td>\n",
        "      <td> 0.231</td>\n",
        "      <td> 0.000</td>\n",
        "      <td> 0.000</td>\n",
        "      <td> 121.1</td>\n",
        "    </tr>\n",
        "  </tbody>\n",
        "</table>\n",
        "</div>"
       ],
       "metadata": {},
       "output_type": "pyout",
       "prompt_number": 301,
       "text": [
        "   ride_count  run_count  mon_freq  tues_freq  wed_freq  thurs_freq  fri_freq  \\\n",
        "0          16          0     0.250      0.000     0.250       0.000     0.000   \n",
        "1           4          8     0.000      0.000     0.143       0.286     0.143   \n",
        "2           1          0     0.000      0.000     0.000       0.000     0.000   \n",
        "3           3          0     0.500      0.000     0.000       0.000     0.000   \n",
        "4          20          0     0.154      0.231     0.231       0.154     0.231   \n",
        "\n",
        "   sat_freq  sun_freq  annual_dist_median  \n",
        "0     0.375     0.125                44.7  \n",
        "1     0.429     0.000                16.0  \n",
        "2     0.000     1.000                 0.0  \n",
        "3     0.500     0.000                22.5  \n",
        "4     0.000     0.000               121.1  "
       ]
      }
     ],
     "prompt_number": 301
    },
    {
     "cell_type": "code",
     "collapsed": false,
     "input": [
      "def euclidian(other):\n",
      "    return pd.Series([other.ix[\"athlete_id\"], \n",
      "                      other.ix[\"class\"],   \n",
      "                      distance.euclidean(other.ix[\"ride_count\":\"annual_dist_std\"], my_metrics)],\n",
      "                     index=[\"athlete_id\", \"class\", \"similarity\"])\n",
      "\n",
      "def cosine(other):\n",
      "    return pd.Series([other.ix[\"athlete_id\"], \n",
      "                      other.ix[\"class\"],   \n",
      "                      distance.cosine(other.ix[\"ride_count\":\"annual_dist_std\"], my_metrics)],\n",
      "                     index=[\"athlete_id\", \"class\", \"similarity\"])\n",
      "\n",
      "def inv_euclidian(other):\n",
      "    return pd.Series([other.ix[\"athlete_id\"], \n",
      "                      other.ix[\"class\"],   \n",
      "                      1/distance.euclidean(other.ix[\"ride_count\":\"annual_dist_std\"], my_metrics)],\n",
      "                     index=[\"athlete_id\", \"class\", \"similarity\"])\n",
      "\n",
      "def inv_cosine(other):\n",
      "    return pd.Series([other.ix[\"athlete_id\"], \n",
      "                      other.ix[\"class\"],   \n",
      "                      1/distance.cosine(other.ix[\"ride_count\":\"annual_dist_std\"], my_metrics)],\n",
      "                     index=[\"athlete_id\", \"class\", \"similarity\"])\n",
      "\n",
      "\n",
      "def add(other):\n",
      "    return pd.Series([other.ix[\"athlete_id\"], \n",
      "                      other.ix[\"class\"],   \n",
      "                      distance.euclidean(other.ix[\"ride_count\":\"annual_dist_std\"], my_metrics) + \\\n",
      "                      distance.cosine(other.ix[\"ride_count\":\"annual_dist_std\"], my_metrics)],\n",
      "                      index=[\"athlete_id\", \"class\", \"similarity\"])\n",
      "\n",
      "def product(other):\n",
      "    return pd.Series([other.ix[\"athlete_id\"], \n",
      "                      other.ix[\"class\"],   \n",
      "                      distance.euclidean(other.ix[\"ride_count\":\"annual_dist_std\"], my_metrics) * \\\n",
      "                      distance.cosine(other.ix[\"ride_count\":\"annual_dist_std\"], my_metrics)],\n",
      "                      index=[\"athlete_id\", \"class\", \"similarity\"])\n",
      "\n",
      "\n",
      "def quotient(other):\n",
      "        return pd.Series([other.ix[\"athlete_id\"], \n",
      "                      other.ix[\"class\"],   \n",
      "                      distance.cosine(other.ix[\"ride_count\":\"annual_dist_std\"], my_metrics) / \\\n",
      "                      distance.euclidean(other.ix[\"ride_count\":\"annual_dist_std\"], my_metrics)],\n",
      "                      index=[\"athlete_id\", \"class\", \"similarity\"])\n",
      "\n",
      "def log2_quotient(other):\n",
      "    return pd.Series([other.ix[\"athlete_id\"], \n",
      "                  other.ix[\"class\"],   \n",
      "                  log2(distance.cosine(other.ix[\"ride_count\":\"annual_dist_std\"], my_metrics) / \\\n",
      "                  distance.euclidean(other.ix[\"ride_count\":\"annual_dist_std\"], my_metrics))],\n",
      "                  index=[\"athlete_id\", \"class\", \"similarity\"])\n",
      "\n",
      "\n",
      "def log10_inv_euclidian(other):\n",
      "    return pd.Series([other.ix[\"athlete_id\"], \n",
      "                      other.ix[\"class\"],   \n",
      "                      log10( 1/distance.euclidean(other.ix[\"ride_count\":\"annual_dist_std\"], my_metrics))],\n",
      "                     index=[\"athlete_id\", \"class\", \"similarity\"])\n",
      "\n",
      "def log2_inv_euclidian(other):\n",
      "    return pd.Series([other.ix[\"athlete_id\"], \n",
      "                      other.ix[\"class\"],   \n",
      "                      log2( 1/distance.euclidean(other.ix[\"ride_count\":\"annual_dist_std\"], my_metrics))],\n",
      "                     index=[\"athlete_id\", \"class\", \"similarity\"])\n",
      "\n",
      "def ride_run_euclid(other):\n",
      "    return pd.Series([other.ix[\"athlete_id\"], \n",
      "                      other.ix[\"class\"],\n",
      "                      distance.euclidean(other.ix[\"ride_count\":\"run_count\"], my_metrics)],\n",
      "                  index=[\"athlete_id\", \"class\", \"similarity\"])\n",
      "\n",
      "def ride_run_inv_euclid(other):\n",
      "    return pd.Series([other.ix[\"athlete_id\"], \n",
      "                      other.ix[\"class\"],\n",
      "                      1/distance.euclidean(other.ix[\"ride_count\":\"run_count\"], my_metrics)],\n",
      "                  index=[\"athlete_id\", \"class\", \"similarity\"])"
     ],
     "language": "python",
     "metadata": {},
     "outputs": [],
     "prompt_number": 316
    },
    {
     "cell_type": "code",
     "collapsed": false,
     "input": [
      "result_euclid = data.apply(euclidian, axis=1) \n",
      "result_cosine = data.apply(cosine, axis=1) \n",
      "\n",
      "result_inv_euclid = data.apply(inv_euclidian, axis=1) \n",
      "result_inv_cosine = data.apply(inv_cosine, axis=1)\n",
      "\n",
      "result_add      = data.apply(add, axis=1)\n",
      "result_product  = data.apply(product, axis=1)\n",
      "result_quotient = data.apply(quotient, axis=1)"
     ],
     "language": "python",
     "metadata": {},
     "outputs": [],
     "prompt_number": 304
    },
    {
     "cell_type": "code",
     "collapsed": false,
     "input": [
      "result_log10_inv_euclid = data.apply(log10_inv_euclidian, axis=1)\n",
      "result_log2_inv_euclid = data.apply(log2_inv_euclidian, axis=1)"
     ],
     "language": "python",
     "metadata": {},
     "outputs": [],
     "prompt_number": 306
    },
    {
     "cell_type": "code",
     "collapsed": false,
     "input": [
      "result_log2_quotient = data.apply(log2_quotient, axis=1)"
     ],
     "language": "python",
     "metadata": {},
     "outputs": [],
     "prompt_number": 307
    },
    {
     "cell_type": "code",
     "collapsed": false,
     "input": [
      "#result_ride_run_euclid = data.apply(ride_run_euclid, axis=1)\n",
      "#result_ride_run_inv_euclid = data.apply(ride_run_inv_euclid, axis=1)"
     ],
     "language": "python",
     "metadata": {},
     "outputs": [],
     "prompt_number": 317
    },
    {
     "cell_type": "code",
     "collapsed": false,
     "input": [
      "result_euclid.hist(column=\"similarity\", by=\"class\", bins=25)"
     ],
     "language": "python",
     "metadata": {},
     "outputs": [
      {
       "metadata": {},
       "output_type": "pyout",
       "prompt_number": 267,
       "text": [
        "array([<matplotlib.axes.AxesSubplot object at 0x11b3e3150>,\n",
        "       <matplotlib.axes.AxesSubplot object at 0x1181f6d90>], dtype=object)"
       ]
      },
      {
       "metadata": {},
       "output_type": "display_data",
       "png": "[encoded data removed]",
       "text": [
        "<matplotlib.figure.Figure at 0x1125f3a50>"
       ]
      }
     ],
     "prompt_number": 267
    },
    {
     "cell_type": "code",
     "collapsed": false,
     "input": [
      "result_inv_euclid.hist(column=\"similarity\", by=\"class\", bins=35)"
     ],
     "language": "python",
     "metadata": {},
     "outputs": [
      {
       "metadata": {},
       "output_type": "pyout",
       "prompt_number": 269,
       "text": [
        "array([<matplotlib.axes.AxesSubplot object at 0x118141950>,\n",
        "       <matplotlib.axes.AxesSubplot object at 0x117a07410>], dtype=object)"
       ]
      },
      {
       "metadata": {},
       "output_type": "display_data",
       "png": "[encoded data removed]",
       "text": [
        "<matplotlib.figure.Figure at 0x118087b10>"
       ]
      }
     ],
     "prompt_number": 269
    },
    {
     "cell_type": "code",
     "collapsed": false,
     "input": [
      "result_cosine.hist(column=\"similarity\", by=\"class\", bins=25)"
     ],
     "language": "python",
     "metadata": {},
     "outputs": [
      {
       "metadata": {},
       "output_type": "pyout",
       "prompt_number": 270,
       "text": [
        "array([<matplotlib.axes.AxesSubplot object at 0x11821c990>,\n",
        "       <matplotlib.axes.AxesSubplot object at 0x11781a510>], dtype=object)"
       ]
      },
      {
       "metadata": {},
       "output_type": "display_data",
       "png": "[encoded data removed]",
       "text": [
        "<matplotlib.figure.Figure at 0x1176b55d0>"
       ]
      }
     ],
     "prompt_number": 270
    },
    {
     "cell_type": "code",
     "collapsed": false,
     "input": [
      "result_inv_cosine.hist(column=\"similarity\", by=\"class\", bins=25)"
     ],
     "language": "python",
     "metadata": {},
     "outputs": [
      {
       "metadata": {},
       "output_type": "pyout",
       "prompt_number": 271,
       "text": [
        "array([<matplotlib.axes.AxesSubplot object at 0x118054f10>,\n",
        "       <matplotlib.axes.AxesSubplot object at 0x11a6eb090>], dtype=object)"
       ]
      },
      {
       "metadata": {},
       "output_type": "display_data",
       "png": "[encoded data removed]",
       "text": [
        "<matplotlib.figure.Figure at 0x117aa7810>"
       ]
      }
     ],
     "prompt_number": 271
    },
    {
     "cell_type": "code",
     "collapsed": false,
     "input": [
      "result_add.hist(column=\"similarity\", by=\"class\", bins=25)"
     ],
     "language": "python",
     "metadata": {},
     "outputs": [
      {
       "metadata": {},
       "output_type": "pyout",
       "prompt_number": 272,
       "text": [
        "array([<matplotlib.axes.AxesSubplot object at 0x114647d50>,\n",
        "       <matplotlib.axes.AxesSubplot object at 0x1154a3810>], dtype=object)"
       ]
      },
      {
       "metadata": {},
       "output_type": "display_data",
       "png": "[encoded data removed]",
       "text": [
        "<matplotlib.figure.Figure at 0x11ca36910>"
       ]
      }
     ],
     "prompt_number": 272
    },
    {
     "cell_type": "code",
     "collapsed": false,
     "input": [
      "result_product.hist(column=\"similarity\", by=\"class\", bins=50)"
     ],
     "language": "python",
     "metadata": {},
     "outputs": [
      {
       "metadata": {},
       "output_type": "pyout",
       "prompt_number": 273,
       "text": [
        "array([<matplotlib.axes.AxesSubplot object at 0x11ca40a10>,\n",
        "       <matplotlib.axes.AxesSubplot object at 0x1148168d0>], dtype=object)"
       ]
      },
      {
       "metadata": {},
       "output_type": "display_data",
       "png": "[encoded data removed]",
       "text": [
        "<matplotlib.figure.Figure at 0x117828a50>"
       ]
      }
     ],
     "prompt_number": 273
    },
    {
     "cell_type": "code",
     "collapsed": false,
     "input": [
      "result_quotient.hist(column=\"similarity\", by=\"class\", bins=50)"
     ],
     "language": "python",
     "metadata": {},
     "outputs": [
      {
       "metadata": {},
       "output_type": "pyout",
       "prompt_number": 274,
       "text": [
        "array([<matplotlib.axes.AxesSubplot object at 0x1154f1fd0>,\n",
        "       <matplotlib.axes.AxesSubplot object at 0x11544d110>], dtype=object)"
       ]
      },
      {
       "metadata": {},
       "output_type": "display_data",
       "png": "[encoded data removed]",
       "text": [
        "<matplotlib.figure.Figure at 0x1155ae850>"
       ]
      }
     ],
     "prompt_number": 274
    },
    {
     "cell_type": "code",
     "collapsed": false,
     "input": [
      "result_log10_inv_euclid.hist(column=\"similarity\", by=\"class\", bins=25)"
     ],
     "language": "python",
     "metadata": {},
     "outputs": [
      {
       "metadata": {},
       "output_type": "pyout",
       "prompt_number": 275,
       "text": [
        "array([<matplotlib.axes.AxesSubplot object at 0x11486b250>,\n",
        "       <matplotlib.axes.AxesSubplot object at 0x11475ca10>], dtype=object)"
       ]
      },
      {
       "metadata": {},
       "output_type": "display_data",
       "png": "[encoded data removed]",
       "text": [
        "<matplotlib.figure.Figure at 0x119a5da10>"
       ]
      }
     ],
     "prompt_number": 275
    },
    {
     "cell_type": "code",
     "collapsed": false,
     "input": [
      "result_log2_inv_euclid.hist(column=\"similarity\", by=\"class\", bins=25)"
     ],
     "language": "python",
     "metadata": {},
     "outputs": [
      {
       "metadata": {},
       "output_type": "pyout",
       "prompt_number": 276,
       "text": [
        "array([<matplotlib.axes.AxesSubplot object at 0x113ab6cd0>,\n",
        "       <matplotlib.axes.AxesSubplot object at 0x11533ac90>], dtype=object)"
       ]
      },
      {
       "metadata": {},
       "output_type": "display_data",
       "png": "[encoded data removed]",
       "text": [
        "<matplotlib.figure.Figure at 0x113abbd10>"
       ]
      }
     ],
     "prompt_number": 276
    },
    {
     "cell_type": "code",
     "collapsed": false,
     "input": [
      "result_log2_quotient.hist(column=\"similarity\", by=\"class\", bins=25)"
     ],
     "language": "python",
     "metadata": {},
     "outputs": [
      {
       "metadata": {},
       "output_type": "pyout",
       "prompt_number": 277,
       "text": [
        "array([<matplotlib.axes.AxesSubplot object at 0x1154ff390>,\n",
        "       <matplotlib.axes.AxesSubplot object at 0x11494a490>], dtype=object)"
       ]
      },
      {
       "metadata": {},
       "output_type": "display_data",
       "png": "[encoded data removed]",
       "text": [
        "<matplotlib.figure.Figure at 0x11514d850>"
       ]
      }
     ],
     "prompt_number": 277
    },
    {
     "cell_type": "code",
     "collapsed": false,
     "input": [
      "result_ride_run_euclid.hist(column=\"similarity\", by=\"class\", bins=35)"
     ],
     "language": "python",
     "metadata": {},
     "outputs": [
      {
       "metadata": {},
       "output_type": "pyout",
       "prompt_number": 315,
       "text": [
        "array([<matplotlib.axes.AxesSubplot object at 0x115213b90>,\n",
        "       <matplotlib.axes.AxesSubplot object at 0x113e28810>], dtype=object)"
       ]
      },
      {
       "metadata": {},
       "output_type": "display_data",
       "png": "[encoded data removed]",
       "text": [
        "<matplotlib.figure.Figure at 0x119c38b10>"
       ]
      }
     ],
     "prompt_number": 315
    },
    {
     "cell_type": "code",
     "collapsed": false,
     "input": [
      "# pairwise distances"
     ],
     "language": "python",
     "metadata": {},
     "outputs": [
      {
       "ename": "AttributeError",
       "evalue": "'DataFrame' object has no attribute 'nonnull'",
       "output_type": "pyerr",
       "traceback": [
        "\u001b[0;31m---------------------------------------------------------------------------\u001b[0m\n\u001b[0;31mAttributeError\u001b[0m                            Traceback (most recent call last)",
        "\u001b[0;32m<ipython-input-325-bf46dc7ba368>\u001b[0m in \u001b[0;36m<module>\u001b[0;34m()\u001b[0m\n\u001b[0;32m----> 1\u001b[0;31m \u001b[0mresult_ride_run_inv_euclid\u001b[0m\u001b[0;34m.\u001b[0m\u001b[0mnonnull\u001b[0m\u001b[0;34m(\u001b[0m\u001b[0;34m)\u001b[0m\u001b[0;34m\u001b[0m\u001b[0m\n\u001b[0m",
        "\u001b[0;32m/Users/christopherwilliams/dotfiles/virtualenvs/.virtualenvs/lighttable/lib/python2.7/site-packages/pandas/core/generic.pyc\u001b[0m in \u001b[0;36m__getattr__\u001b[0;34m(self, name)\u001b[0m\n\u001b[1;32m   1841\u001b[0m                 \u001b[0;32mreturn\u001b[0m \u001b[0mself\u001b[0m\u001b[0;34m[\u001b[0m\u001b[0mname\u001b[0m\u001b[0;34m]\u001b[0m\u001b[0;34m\u001b[0m\u001b[0m\n\u001b[1;32m   1842\u001b[0m             raise AttributeError(\"'%s' object has no attribute '%s'\" %\n\u001b[0;32m-> 1843\u001b[0;31m                                  (type(self).__name__, name))\n\u001b[0m\u001b[1;32m   1844\u001b[0m \u001b[0;34m\u001b[0m\u001b[0m\n\u001b[1;32m   1845\u001b[0m     \u001b[0;32mdef\u001b[0m \u001b[0m__setattr__\u001b[0m\u001b[0;34m(\u001b[0m\u001b[0mself\u001b[0m\u001b[0;34m,\u001b[0m \u001b[0mname\u001b[0m\u001b[0;34m,\u001b[0m \u001b[0mvalue\u001b[0m\u001b[0;34m)\u001b[0m\u001b[0;34m:\u001b[0m\u001b[0;34m\u001b[0m\u001b[0m\n",
        "\u001b[0;31mAttributeError\u001b[0m: 'DataFrame' object has no attribute 'nonnull'"
       ]
      }
     ],
     "prompt_number": 325
    },
    {
     "cell_type": "code",
     "collapsed": false,
     "input": [
      "athletes_act.ix[:,\"mon_freq\":\"sun_freq\"].mean().plot()"
     ],
     "language": "python",
     "metadata": {},
     "outputs": [
      {
       "metadata": {},
       "output_type": "pyout",
       "prompt_number": 287,
       "text": [
        "<matplotlib.axes.AxesSubplot at 0x1149f9590>"
       ]
      },
      {
       "metadata": {},
       "output_type": "display_data",
       "png": "[encoded data removed]",
       "text": [
        "<matplotlib.figure.Figure at 0x114a0b650>"
       ]
      }
     ],
     "prompt_number": 287
    },
    {
     "cell_type": "code",
     "collapsed": false,
     "input": [
      "athletes_act.plot(x=\"run_count\", y=\"ride_count\", kind=\"scatter\")"
     ],
     "language": "python",
     "metadata": {},
     "outputs": [
      {
       "metadata": {},
       "output_type": "pyout",
       "prompt_number": 349,
       "text": [
        "<matplotlib.axes.AxesSubplot at 0x118d32ed0>"
       ]
      },
      {
       "metadata": {},
       "output_type": "display_data",
       "png": "[encoded data removed]",
       "text": [
        "<matplotlib.figure.Figure at 0x115756990>"
       ]
      }
     ],
     "prompt_number": 349
    },
    {
     "cell_type": "code",
     "collapsed": false,
     "input": [
      "athletes_act.plot(x=\"annual_dist_median\", y=\"annual_dist_std\", kind=\"scatter\", ylim=[0,500])"
     ],
     "language": "python",
     "metadata": {},
     "outputs": [
      {
       "metadata": {},
       "output_type": "pyout",
       "prompt_number": 297,
       "text": [
        "<matplotlib.axes.AxesSubplot at 0x1148dadd0>"
       ]
      },
      {
       "metadata": {},
       "output_type": "display_data",
       "png": "[encoded data removed]",
       "text": [
        "<matplotlib.figure.Figure at 0x119ace750>"
       ]
      }
     ],
     "prompt_number": 297
    },
    {
     "cell_type": "code",
     "collapsed": false,
     "input": [
      "# surrogate for growth\n",
      "athletes[\"athlete_id\"].plot()"
     ],
     "language": "python",
     "metadata": {},
     "outputs": [
      {
       "metadata": {},
       "output_type": "pyout",
       "prompt_number": 332,
       "text": [
        "<matplotlib.axes.AxesSubplot at 0x11573fcd0>"
       ]
      },
      {
       "metadata": {},
       "output_type": "display_data",
       "png": "[encoded data removed]",
       "text": [
        "<matplotlib.figure.Figure at 0x119e79b10>"
       ]
      }
     ],
     "prompt_number": 332
    },
    {
     "cell_type": "code",
     "collapsed": false,
     "input": [
      "friends = [ friend for friend in client.get_athlete_friends()]\n",
      "friends"
     ],
     "language": "python",
     "metadata": {},
     "outputs": [
      {
       "metadata": {},
       "output_type": "pyout",
       "prompt_number": 352,
       "text": [
        "[<Athlete id=29126 firstname=James lastname=Partridge>,\n",
        " <Athlete id=164890 firstname=Nicole lastname=Olson>,\n",
        " <Athlete id=47654 firstname=calvin lastname=jan>,\n",
        " <Athlete id=377902 firstname=Anders lastname=Ahlberg>,\n",
        " <Athlete id=1049190 firstname=Rand lastname=Miller>,\n",
        " <Athlete id=1756227 firstname=Melanie lastname=Smith>,\n",
        " <Athlete id=110910 firstname=Frank lastname=Teng>,\n",
        " <Athlete id=1744737 firstname=David lastname=Garcia>,\n",
        " <Athlete id=1510255 firstname=Jordan lastname=Carelli>,\n",
        " <Athlete id=4833 firstname=Daniel lastname=Kaplan>,\n",
        " <Athlete id=653 firstname=Rob lastname=Meyer>,\n",
        " <Athlete id=1839128 firstname=Kade lastname=Southard>,\n",
        " <Athlete id=2958112 firstname=Becca lastname=Levin>,\n",
        " <Athlete id=2309040 firstname=kendra lastname=swain>,\n",
        " <Athlete id=4005137 firstname=Geoff lastname=Fong>,\n",
        " <Athlete id=4638408 firstname=Rob lastname=Zyskowski>,\n",
        " <Athlete id=346950 firstname=Alexandre lastname=Bolze>,\n",
        " <Athlete id=10352 firstname=Charlie lastname=Morgan>,\n",
        " <Athlete id=2457773 firstname=Daniel lastname=Elnatan>,\n",
        " <Athlete id=3558557 firstname=Dylan lastname=Sather>,\n",
        " <Athlete id=4317793 firstname=Michael lastname=Fischbach>,\n",
        " <Athlete id=2822682 firstname=Mikel lastname=Shybut>,\n",
        " <Athlete id=985644 firstname=Neil lastname=Martin>,\n",
        " <Athlete id=3082274 firstname=Nick lastname=Carchedi>,\n",
        " <Athlete id=30666 firstname=Venkat lastname=Udayasankar>,\n",
        " <Athlete id=1246803 firstname=brandon lastname=wong>]"
       ]
      }
     ],
     "prompt_number": 352
    },
    {
     "cell_type": "code",
     "collapsed": false,
     "input": [
      "friends[0].id"
     ],
     "language": "python",
     "metadata": {},
     "outputs": [
      {
       "metadata": {},
       "output_type": "pyout",
       "prompt_number": 353,
       "text": [
        "29126"
       ]
      }
     ],
     "prompt_number": 353
    },
    {
     "cell_type": "code",
     "collapsed": false,
     "input": [
      "\"%.3f\" % float(1/3.)"
     ],
     "language": "python",
     "metadata": {},
     "outputs": [
      {
       "metadata": {},
       "output_type": "pyout",
       "prompt_number": 356,
       "text": [
        "'0.333'"
       ]
      }
     ],
     "prompt_number": 356
    }
   ],
   "metadata": {}
  }
 ]
}