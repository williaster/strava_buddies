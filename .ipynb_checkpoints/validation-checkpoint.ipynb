{
 "metadata": {
  "name": ""
 },
 "nbformat": 3,
 "nbformat_minor": 0,
 "worksheets": [
  {
   "cells": [
    {
     "cell_type": "code",
     "collapsed": false,
     "input": [
      "import app.buddies_cached as buds\n",
      "import pymysql as mdb\n",
      "import pandas as pd\n",
      "\n",
      "%load_ext autoreload\n",
      "%autoreload 2"
     ],
     "language": "python",
     "metadata": {},
     "outputs": [],
     "prompt_number": 1
    },
    {
     "cell_type": "code",
     "collapsed": false,
     "input": [
      "conn = mdb.connect(user=\"root\", host=\"localhost\", \n",
      "                   db=\"accts_and_apps\", charset='utf8')"
     ],
     "language": "python",
     "metadata": {},
     "outputs": [
      {
       "output_type": "stream",
       "stream": "stderr",
       "text": [
        "[autoreload of email.Message failed: Traceback (most recent call last):\n",
        "  File \"/Users/christopherwilliams/dotfiles/virtualenvs/.virtualenvs/lighttable/lib/python2.7/site-packages/IPython/extensions/autoreload.py\", line 229, in check\n",
        "    superreload(m, reload, self.old_objects)\n",
        "TypeError: reload() argument must be module\n",
        "]\n"
       ]
      }
     ],
     "prompt_number": 2
    },
    {
     "cell_type": "code",
     "collapsed": false,
     "input": [
      "me     = 1153632\n",
      "rob    = 653\n",
      "nicole = 164890"
     ],
     "language": "python",
     "metadata": {},
     "outputs": [],
     "prompt_number": 3
    },
    {
     "cell_type": "code",
     "collapsed": false,
     "input": [
      "# get friends\n",
      "n_friends = buds.get_athlete_connections(conn, nicole)\n",
      "r_friends = buds.get_athlete_connections(conn, rob)\n",
      "c_friends = buds.get_athlete_connections(conn, me)"
     ],
     "language": "python",
     "metadata": {},
     "outputs": [],
     "prompt_number": 4
    },
    {
     "cell_type": "code",
     "collapsed": false,
     "input": [
      "# get normalized data\n",
      "data, ndata, data_athlete_info = buds.get_data_norm_data_athlete_info(conn)\n",
      "ndata.head()"
     ],
     "language": "python",
     "metadata": {},
     "outputs": [
      {
       "output_type": "stream",
       "stream": "stdout",
       "text": [
        "returning data for 14979 athletes\n"
       ]
      },
      {
       "html": [
        "<div style=\"max-height:1000px;max-width:1500px;overflow:auto;\">\n",
        "<table border=\"1\" class=\"dataframe\">\n",
        "  <thead>\n",
        "    <tr style=\"text-align: right;\">\n",
        "      <th></th>\n",
        "      <th>ride_count</th>\n",
        "      <th>run_count</th>\n",
        "      <th>mon_freq</th>\n",
        "      <th>tues_freq</th>\n",
        "      <th>wed_freq</th>\n",
        "      <th>thurs_freq</th>\n",
        "      <th>fri_freq</th>\n",
        "      <th>sat_freq</th>\n",
        "      <th>sun_freq</th>\n",
        "      <th>annual_dist_median</th>\n",
        "      <th>annual_dist_std</th>\n",
        "    </tr>\n",
        "    <tr>\n",
        "      <th>athlete_id</th>\n",
        "      <th></th>\n",
        "      <th></th>\n",
        "      <th></th>\n",
        "      <th></th>\n",
        "      <th></th>\n",
        "      <th></th>\n",
        "      <th></th>\n",
        "      <th></th>\n",
        "      <th></th>\n",
        "      <th></th>\n",
        "      <th></th>\n",
        "    </tr>\n",
        "  </thead>\n",
        "  <tbody>\n",
        "    <tr>\n",
        "      <th>8 </th>\n",
        "      <td> 0.888208</td>\n",
        "      <td>-0.073594</td>\n",
        "      <td> 0.578677</td>\n",
        "      <td>-0.638547</td>\n",
        "      <td> 1.309426</td>\n",
        "      <td>-0.636816</td>\n",
        "      <td> 0.133495</td>\n",
        "      <td> 0.218964</td>\n",
        "      <td>-0.741368</td>\n",
        "      <td> 0.417050</td>\n",
        "      <td>-0.013217</td>\n",
        "    </tr>\n",
        "    <tr>\n",
        "      <th>17</th>\n",
        "      <td> 0.888208</td>\n",
        "      <td>-0.552781</td>\n",
        "      <td>-0.028393</td>\n",
        "      <td> 0.660357</td>\n",
        "      <td>-0.660492</td>\n",
        "      <td> 0.736638</td>\n",
        "      <td> 0.840921</td>\n",
        "      <td>-0.263641</td>\n",
        "      <td>-0.741368</td>\n",
        "      <td> 0.870818</td>\n",
        "      <td>-0.005757</td>\n",
        "    </tr>\n",
        "    <tr>\n",
        "      <th>19</th>\n",
        "      <td>-0.219799</td>\n",
        "      <td> 3.280715</td>\n",
        "      <td>-0.062389</td>\n",
        "      <td>-0.025464</td>\n",
        "      <td> 0.264056</td>\n",
        "      <td>-0.312681</td>\n",
        "      <td> 0.422125</td>\n",
        "      <td>-0.066738</td>\n",
        "      <td>-0.073771</td>\n",
        "      <td> 0.447301</td>\n",
        "      <td>-0.013658</td>\n",
        "    </tr>\n",
        "    <tr>\n",
        "      <th>20</th>\n",
        "      <td> 1.046495</td>\n",
        "      <td>-0.552781</td>\n",
        "      <td> 1.185748</td>\n",
        "      <td> 0.660357</td>\n",
        "      <td>-0.003853</td>\n",
        "      <td>-0.636816</td>\n",
        "      <td> 0.133495</td>\n",
        "      <td>-0.746246</td>\n",
        "      <td>-0.267223</td>\n",
        "      <td>-0.157723</td>\n",
        "      <td>-0.001688</td>\n",
        "    </tr>\n",
        "    <tr>\n",
        "      <th>21</th>\n",
        "      <td> 2.154501</td>\n",
        "      <td>-0.552781</td>\n",
        "      <td> 0.335849</td>\n",
        "      <td> 0.400576</td>\n",
        "      <td> 0.915443</td>\n",
        "      <td>-0.636816</td>\n",
        "      <td> 0.557950</td>\n",
        "      <td>-0.746246</td>\n",
        "      <td>-0.362052</td>\n",
        "      <td> 2.201870</td>\n",
        "      <td>-0.008029</td>\n",
        "    </tr>\n",
        "  </tbody>\n",
        "</table>\n",
        "</div>"
       ],
       "metadata": {},
       "output_type": "pyout",
       "prompt_number": 5,
       "text": [
        "            ride_count  run_count  mon_freq  tues_freq  wed_freq  thurs_freq  \\\n",
        "athlete_id                                                                     \n",
        "8             0.888208  -0.073594  0.578677  -0.638547  1.309426   -0.636816   \n",
        "17            0.888208  -0.552781 -0.028393   0.660357 -0.660492    0.736638   \n",
        "19           -0.219799   3.280715 -0.062389  -0.025464  0.264056   -0.312681   \n",
        "20            1.046495  -0.552781  1.185748   0.660357 -0.003853   -0.636816   \n",
        "21            2.154501  -0.552781  0.335849   0.400576  0.915443   -0.636816   \n",
        "\n",
        "            fri_freq  sat_freq  sun_freq  annual_dist_median  annual_dist_std  \n",
        "athlete_id                                                                     \n",
        "8           0.133495  0.218964 -0.741368            0.417050        -0.013217  \n",
        "17          0.840921 -0.263641 -0.741368            0.870818        -0.005757  \n",
        "19          0.422125 -0.066738 -0.073771            0.447301        -0.013658  \n",
        "20          0.133495 -0.746246 -0.267223           -0.157723        -0.001688  \n",
        "21          0.557950 -0.746246 -0.362052            2.201870        -0.008029  "
       ]
      }
     ],
     "prompt_number": 5
    },
    {
     "cell_type": "code",
     "collapsed": false,
     "input": [
      "all_similarities_n = buds.get_all_similarities(conn, data, ndata, nicole)\n",
      "all_similarities_c = buds.get_all_similarities(conn, data, ndata, me)\n",
      "all_similarities_r = buds.get_all_similarities(conn, data, ndata, rob)"
     ],
     "language": "python",
     "metadata": {},
     "outputs": [],
     "prompt_number": 16
    },
    {
     "cell_type": "code",
     "collapsed": false,
     "input": [
      "all_similarities_n[\"sim\"].min()"
     ],
     "language": "python",
     "metadata": {},
     "outputs": [
      {
       "metadata": {},
       "output_type": "pyout",
       "prompt_number": 36,
       "text": [
        "0.015552042897454141"
       ]
      }
     ],
     "prompt_number": 36
    },
    {
     "cell_type": "code",
     "collapsed": false,
     "input": [
      "df_activities_n = pd.DataFrame(buds.get_user_activity_options(conn, nicole, 200))[[\"id\",\"distance\", \"type\"]]\n",
      "df_activities_c = pd.DataFrame(buds.get_user_activity_options(conn, me, 200))[[\"id\",\"distance\", \"type\"]]\n",
      "df_activities_r = pd.DataFrame(buds.get_user_activity_options(conn, rob, 200))[[\"id\",\"distance\", \"type\"]]\n",
      "\n",
      "df_activities_n.index = df_activities_n[\"id\"]"
     ],
     "language": "python",
     "metadata": {},
     "outputs": [
      {
       "output_type": "stream",
       "stream": "stdout",
       "text": [
        "returning 132 activities\n",
        "returning 89 activities"
       ]
      },
      {
       "output_type": "stream",
       "stream": "stdout",
       "text": [
        "\n",
        "returning 144 activities"
       ]
      },
      {
       "output_type": "stream",
       "stream": "stdout",
       "text": [
        "\n"
       ]
      }
     ],
     "prompt_number": 67
    },
    {
     "cell_type": "code",
     "collapsed": false,
     "input": [
      "\"%.0f\" % 31.2"
     ],
     "language": "python",
     "metadata": {},
     "outputs": [
      {
       "metadata": {},
       "output_type": "pyout",
       "prompt_number": 120,
       "text": [
        "'31'"
       ]
      }
     ],
     "prompt_number": 120
    },
    {
     "cell_type": "code",
     "collapsed": false,
     "input": [
      "random_mins, random_medians, random_fraction_belows = [], [], []\n",
      "\n",
      "all_ids = all_similarities_n.index.values\n",
      "for i in range(500):\n",
      "    ids = np.random.choice(all_ids, 20, replace=False)\n",
      "    sim_random     = all_similarities_n.ix[ids, \"sim\"]\n",
      "    sim_min        = sim_random.min()\n",
      "    sim_median     = sim_random.median()\n",
      "    fraction_below = all_similarities_n[\"sim\"][ all_similarities_n[\"sim\"] <  sim_min ].shape[0] / \\\n",
      "                     float(all_similarities_n.shape[0])    \n",
      "    \n",
      "    random_mins.append(sim_min)\n",
      "    random_medians.append(sim_median)\n",
      "    random_fraction_belows.append(fraction_below)"
     ],
     "language": "python",
     "metadata": {},
     "outputs": [],
     "prompt_number": 57
    },
    {
     "cell_type": "code",
     "collapsed": false,
     "input": [
      "t = random_mins[:5]\n",
      "for i in range(len(t)):\n",
      "    print all_similarities_n[\"sim\"][ all_similarities_n[\"sim\"] <  t[i] ].shape[0]"
     ],
     "language": "python",
     "metadata": {},
     "outputs": [
      {
       "output_type": "stream",
       "stream": "stdout",
       "text": [
        "94\n",
        "47\n",
        "69\n",
        "7\n",
        "111\n"
       ]
      }
     ],
     "prompt_number": 63
    },
    {
     "cell_type": "code",
     "collapsed": false,
     "input": [
      "pd.Series(random_medians).to_csv(\"random_similarities.csv\")"
     ],
     "language": "python",
     "metadata": {},
     "outputs": [],
     "prompt_number": 119
    },
    {
     "cell_type": "code",
     "collapsed": false,
     "input": [
      "pd.Series(random_medians).hist(bins=20)"
     ],
     "language": "python",
     "metadata": {},
     "outputs": [
      {
       "metadata": {},
       "output_type": "pyout",
       "prompt_number": 118,
       "text": [
        "<matplotlib.axes.AxesSubplot at 0x10e2e0f50>"
       ]
      },
      {
       "metadata": {},
       "output_type": "display_data",
       "png": "[encoded data removed]",
       "text": [
        "<matplotlib.figure.Figure at 0x10d6f9b90>"
       ]
      }
     ],
     "prompt_number": 118
    },
    {
     "cell_type": "code",
     "collapsed": false,
     "input": [
      "random_min            = np.median(random_mins)\n",
      "random_median         = np.median(random_medians)\n",
      "random_fraction_below = np.median(random_fraction_belows)\n",
      "\n",
      "print \"min\", random_min\n",
      "print \"median\", random_median\n",
      "print \"below\", random_fraction_below"
     ],
     "language": "python",
     "metadata": {},
     "outputs": [
      {
       "output_type": "stream",
       "stream": "stdout",
       "text": [
        "min 0.138161470217\n",
        "median 0.148997898114\n",
        "below"
       ]
      },
      {
       "output_type": "stream",
       "stream": "stdout",
       "text": [
        " 0.0345506743223\n"
       ]
      }
     ],
     "prompt_number": 58
    },
    {
     "cell_type": "code",
     "collapsed": false,
     "input": [
      "# need activity_id as index for this\n",
      "def one_buddy_round(conn, athlete_id, ndata, df_activities, activity_ids,\n",
      "                    random_min, random_median, random_fraction_below):\n",
      "    \n",
      "    candidate_ids    = buds.get_candidate_buddies(conn, athlete_id, activity_ids)[0].keys()\n",
      "    ndata_candidates = ndata.ix[candidate_ids, :].dropna()\n",
      "    ndata_buddies    = ndata_candidates.sort(\"sim\", ascending=False)[:20]\n",
      "    \n",
      "    sim_min        = ndata_buddies[\"sim\"].min()\n",
      "    sim_median     = ndata_buddies[\"sim\"].median()\n",
      "    fraction_below = ndata[\"sim\"][ ndata[\"sim\"] <  sim_min ].shape[0] / \\\n",
      "                     float(ndata.shape[0])      \n",
      "    miles          = df_activities.ix[activity_ids, \"distance\"].sum()\n",
      "    \n",
      "    result = pd.Series([len(activity_ids), miles, sim_min, sim_median, fraction_below,\n",
      "                        random_min, random_median, random_fraction_below],\n",
      "                        index=[\"n_activities\", \"miles\", \"min\", \"median\", \"fract_below\", \n",
      "                              \"min_random\", \"median_random\", \"fract_below_random\"])\n",
      "    return result"
     ],
     "language": "python",
     "metadata": {},
     "outputs": [],
     "prompt_number": 80
    },
    {
     "cell_type": "code",
     "collapsed": false,
     "input": [
      "# simulate 25 samplings per each bins size\n",
      "activity_bins = { i+1 : [] for i in range(15) }\n",
      "all_activity_ids = df_activities_n.index.values\n",
      "\n",
      "for n_activities in activity_bins.keys():\n",
      "    for i in range(25):\n",
      "        sample = np.random.choice(all_activity_ids, n_activities, replace=False)\n",
      "        activity_bins[n_activities].append( sample )"
     ],
     "language": "python",
     "metadata": {},
     "outputs": [],
     "prompt_number": 68
    },
    {
     "cell_type": "code",
     "collapsed": false,
     "input": [],
     "language": "python",
     "metadata": {},
     "outputs": [],
     "prompt_number": 71
    },
    {
     "cell_type": "code",
     "collapsed": false,
     "input": [
      "activity_bins[1][0]"
     ],
     "language": "python",
     "metadata": {},
     "outputs": [
      {
       "metadata": {},
       "output_type": "pyout",
       "prompt_number": 75,
       "text": [
        "array([170921074])"
       ]
      }
     ],
     "prompt_number": 75
    },
    {
     "cell_type": "code",
     "collapsed": false,
     "input": [
      "s = one_buddy_round(conn, nicole, all_similarities_n, df_activities_n, activity_bins[5][0],\n",
      "                       random_min, random_median, random_fraction_below)"
     ],
     "language": "python",
     "metadata": {},
     "outputs": [
      {
       "output_type": "stream",
       "stream": "stdout",
       "text": [
        "232 unique segments, 399 unique candidate buddies of 3700 total pulled for activities [157577381 139628924 153989258 144299566 161288656]\n"
       ]
      }
     ],
     "prompt_number": 83
    },
    {
     "cell_type": "code",
     "collapsed": false,
     "input": [
      "s"
     ],
     "language": "python",
     "metadata": {},
     "outputs": [
      {
       "metadata": {},
       "output_type": "pyout",
       "prompt_number": 91,
       "text": [
        "n_activities            5.000000\n",
        "miles                 178.270000\n",
        "min                     0.349703\n",
        "median                  0.412146\n",
        "fract_below             0.985712\n",
        "min_random              0.138161\n",
        "median_random           0.148998\n",
        "fract_below_random      0.034551\n",
        "dtype: float64"
       ]
      }
     ],
     "prompt_number": 91
    },
    {
     "cell_type": "code",
     "collapsed": false,
     "input": [
      "d = pd.DataFrame()\n",
      "d = d.append(s, ignore_index=True)\n",
      "print d"
     ],
     "language": "python",
     "metadata": {},
     "outputs": [
      {
       "output_type": "stream",
       "stream": "stdout",
       "text": [
        "   fract_below  fract_below_random    median  median_random   miles       min  \\\n",
        "0     0.985712            0.034551  0.412146       0.148998  178.27  0.349703   \n",
        "\n",
        "   min_random  n_activities  \n",
        "0    0.138161             5  \n"
       ]
      }
     ],
     "prompt_number": 100
    },
    {
     "cell_type": "code",
     "collapsed": false,
     "input": [
      "result = pd.DataFrame()\n",
      "for n_bin, activity_id_lists in activity_bins.iteritems():\n",
      "    for activity_ids in activity_id_lists:\n",
      "        series = one_buddy_round(conn, nicole, all_similarities_n, df_activities_n, activity_ids,\n",
      "                                 random_min, random_median, random_fraction_below)\n",
      "        result = result.append(series, ignore_index=True)\n"
     ],
     "language": "python",
     "metadata": {},
     "outputs": [
      {
       "output_type": "stream",
       "stream": "stdout",
       "text": [
        "4 unique segments, 0 unique candidate buddies of 0 total pulled for activities [170921074]\n",
        "35 unique segments, 72 unique candidate buddies of 1324 total pulled for activities [185877350]"
       ]
      },
      {
       "output_type": "stream",
       "stream": "stdout",
       "text": [
        "\n",
        "85 unique segments, 154 unique candidate buddies of 1228 total pulled for activities [167355325]"
       ]
      },
      {
       "output_type": "stream",
       "stream": "stdout",
       "text": [
        "\n",
        "8 unique segments, 0 unique candidate buddies of 0 total pulled for activities [139628863]"
       ]
      },
      {
       "output_type": "stream",
       "stream": "stdout",
       "text": [
        "\n",
        "71 unique segments, 114 unique candidate buddies of 1344 total pulled for activities [157577381]"
       ]
      },
      {
       "output_type": "stream",
       "stream": "stdout",
       "text": [
        "\n",
        "61 unique segments, 94 unique candidate buddies of 1328 total pulled for activities [144299566]"
       ]
      },
      {
       "output_type": "stream",
       "stream": "stdout",
       "text": [
        "\n",
        "74 unique segments, 171 unique candidate buddies of 1468 total pulled for activities [190726534]"
       ]
      },
      {
       "output_type": "stream",
       "stream": "stdout",
       "text": [
        "\n",
        "2 unique segments, 0 unique candidate buddies of 0 total pulled for activities [150709501]"
       ]
      },
      {
       "output_type": "stream",
       "stream": "stdout",
       "text": [
        "\n",
        "5 unique segments, 7 unique candidate buddies of 8 total pulled for activities [176904268]"
       ]
      },
      {
       "output_type": "stream",
       "stream": "stdout",
       "text": [
        "\n",
        "45 unique segments, 55 unique candidate buddies of 56 total pulled for activities [133707249]"
       ]
      },
      {
       "output_type": "stream",
       "stream": "stdout",
       "text": [
        "\n",
        "2 unique segments, 0 unique candidate buddies of 0 total pulled for activities [185170358]"
       ]
      },
      {
       "output_type": "stream",
       "stream": "stdout",
       "text": [
        "\n",
        "48 unique segments, 92 unique candidate buddies of 96 total pulled for activities [153557549]"
       ]
      },
      {
       "output_type": "stream",
       "stream": "stdout",
       "text": [
        "\n",
        "40 unique segments, 85 unique candidate buddies of 1232 total pulled for activities [180274516]"
       ]
      },
      {
       "output_type": "stream",
       "stream": "stdout",
       "text": [
        "\n",
        "61 unique segments, 94 unique candidate buddies of 1328 total pulled for activities [144299566]"
       ]
      },
      {
       "output_type": "stream",
       "stream": "stdout",
       "text": [
        "\n",
        "3 unique segments, 3 unique candidate buddies of 3 total pulled for activities [190358914]"
       ]
      },
      {
       "output_type": "stream",
       "stream": "stdout",
       "text": [
        "\n",
        "59 unique segments, 92 unique candidate buddies of 1632 total pulled for activities [156948195]"
       ]
      },
      {
       "output_type": "stream",
       "stream": "stdout",
       "text": [
        "\n",
        "90 unique segments, 187 unique candidate buddies of 2208 total pulled for activities [153989258]"
       ]
      },
      {
       "output_type": "stream",
       "stream": "stdout",
       "text": [
        "\n",
        "36 unique segments, 72 unique candidate buddies of 1324 total pulled for activities [191932307]"
       ]
      },
      {
       "output_type": "stream",
       "stream": "stdout",
       "text": [
        "\n",
        "53 unique segments, 116 unique candidate buddies of 152 total pulled for activities [145614445]"
       ]
      },
      {
       "output_type": "stream",
       "stream": "stdout",
       "text": [
        "\n",
        "74 unique segments, 171 unique candidate buddies of 1468 total pulled for activities [190726534]"
       ]
      },
      {
       "output_type": "stream",
       "stream": "stdout",
       "text": [
        "\n",
        "17 unique segments, 11 unique candidate buddies of 344 total pulled for activities [181138761]"
       ]
      },
      {
       "output_type": "stream",
       "stream": "stdout",
       "text": [
        "\n",
        "60 unique segments, 95 unique candidate buddies of 996 total pulled for activities [139048684]"
       ]
      },
      {
       "output_type": "stream",
       "stream": "stdout",
       "text": [
        "\n",
        "86 unique segments, 129 unique candidate buddies of 144 total pulled for activities [164605315]"
       ]
      },
      {
       "output_type": "stream",
       "stream": "stdout",
       "text": [
        "\n",
        "63 unique segments, 105 unique candidate buddies of 1836 total pulled for activities [158066624]"
       ]
      },
      {
       "output_type": "stream",
       "stream": "stdout",
       "text": [
        "\n",
        "29 unique segments, 45 unique candidate buddies of 824 total pulled for activities [183958958]"
       ]
      },
      {
       "output_type": "stream",
       "stream": "stdout",
       "text": [
        "\n",
        "82 unique segments, 171 unique candidate buddies of 1468 total pulled for activities [190726534 139628863]"
       ]
      },
      {
       "output_type": "stream",
       "stream": "stdout",
       "text": [
        "\n",
        "113 unique segments, 173 unique candidate buddies of 2036 total pulled for activities [159193656 165641562]"
       ]
      },
      {
       "output_type": "stream",
       "stream": "stdout",
       "text": [
        "\n",
        "69 unique segments, 126 unique candidate buddies of 2076 total pulled for activities [171619894 170748389]"
       ]
      },
      {
       "output_type": "stream",
       "stream": "stdout",
       "text": [
        "\n",
        "151 unique segments, 234 unique candidate buddies of 1048 total pulled for activities [164605315 188094846]"
       ]
      },
      {
       "output_type": "stream",
       "stream": "stdout",
       "text": [
        "\n",
        "38 unique segments, 58 unique candidate buddies of 76 total pulled for activities [184426519 165641558]"
       ]
      },
      {
       "output_type": "stream",
       "stream": "stdout",
       "text": [
        "\n",
        "38 unique segments, 49 unique candidate buddies of 760 total pulled for activities [170921074 161288656]"
       ]
      },
      {
       "output_type": "stream",
       "stream": "stdout",
       "text": [
        "\n",
        "91 unique segments, 188 unique candidate buddies of 1988 total pulled for activities [141048529 151470230]"
       ]
      },
      {
       "output_type": "stream",
       "stream": "stdout",
       "text": [
        "\n",
        "102 unique segments, 147 unique candidate buddies of 1656 total pulled for activities [159724740 186133752]"
       ]
      },
      {
       "output_type": "stream",
       "stream": "stdout",
       "text": [
        "\n",
        "13 unique segments, 30 unique candidate buddies of 32 total pulled for activities [165824356 155824031]"
       ]
      },
      {
       "output_type": "stream",
       "stream": "stdout",
       "text": [
        "\n",
        "41 unique segments, 89 unique candidate buddies of 1236 total pulled for activities [180274516 142395575]"
       ]
      },
      {
       "output_type": "stream",
       "stream": "stdout",
       "text": [
        "\n",
        "149 unique segments, 203 unique candidate buddies of 1348 total pulled for activities [155134130 164605315]"
       ]
      },
      {
       "output_type": "stream",
       "stream": "stdout",
       "text": [
        "\n",
        "132 unique segments, 201 unique candidate buddies of 2256 total pulled for activities [155134130 176446726]"
       ]
      },
      {
       "output_type": "stream",
       "stream": "stdout",
       "text": [
        "\n",
        "106 unique segments, 232 unique candidate buddies of 1756 total pulled for activities [139628924 168742625]"
       ]
      },
      {
       "output_type": "stream",
       "stream": "stdout",
       "text": [
        "\n",
        "67 unique segments, 109 unique candidate buddies of 908 total pulled for activities [188094846 142897914]"
       ]
      },
      {
       "output_type": "stream",
       "stream": "stdout",
       "text": [
        "\n",
        "67 unique segments, 106 unique candidate buddies of 1308 total pulled for activities [180595398 170855494]"
       ]
      },
      {
       "output_type": "stream",
       "stream": "stdout",
       "text": [
        "\n",
        "55 unique segments, 100 unique candidate buddies of 1392 total pulled for activities [180274516 158395136]"
       ]
      },
      {
       "output_type": "stream",
       "stream": "stdout",
       "text": [
        "\n",
        "103 unique segments, 141 unique candidate buddies of 1976 total pulled for activities [169998421 161288656]"
       ]
      },
      {
       "output_type": "stream",
       "stream": "stdout",
       "text": [
        "\n",
        "108 unique segments, 151 unique candidate buddies of 2096 total pulled for activities [163520175 148325894]"
       ]
      },
      {
       "output_type": "stream",
       "stream": "stdout",
       "text": [
        "\n",
        "163 unique segments, 284 unique candidate buddies of 3820 total pulled for activities [179784258 153989258]"
       ]
      },
      {
       "output_type": "stream",
       "stream": "stdout",
       "text": [
        "\n",
        "96 unique segments, 180 unique candidate buddies of 1776 total pulled for activities [156948195 171314195]"
       ]
      },
      {
       "output_type": "stream",
       "stream": "stdout",
       "text": [
        "\n",
        "52 unique segments, 69 unique candidate buddies of 1032 total pulled for activities [181138761 139267236]"
       ]
      },
      {
       "output_type": "stream",
       "stream": "stdout",
       "text": [
        "\n",
        "78 unique segments, 118 unique candidate buddies of 1348 total pulled for activities [139048684 148790344]"
       ]
      },
      {
       "output_type": "stream",
       "stream": "stdout",
       "text": [
        "\n",
        "61 unique segments, 103 unique candidate buddies of 1112 total pulled for activities [166518389 171619894]"
       ]
      },
      {
       "output_type": "stream",
       "stream": "stdout",
       "text": [
        "\n",
        "78 unique segments, 175 unique candidate buddies of 1444 total pulled for activities [158766211 142897914]"
       ]
      },
      {
       "output_type": "stream",
       "stream": "stdout",
       "text": [
        "\n",
        "196 unique segments, 333 unique candidate buddies of 2220 total pulled for activities [160937630 133555755]"
       ]
      },
      {
       "output_type": "stream",
       "stream": "stdout",
       "text": [
        "\n",
        "23 unique segments, 30 unique candidate buddies of 88 total pulled for activities [183483625 183834358 180684561]"
       ]
      },
      {
       "output_type": "stream",
       "stream": "stdout",
       "text": [
        "\n",
        "171 unique segments, 286 unique candidate buddies of 2516 total pulled for activities [186133752 167355325 183483625]"
       ]
      },
      {
       "output_type": "stream",
       "stream": "stdout",
       "text": [
        "\n",
        "107 unique segments, 183 unique candidate buddies of 1704 total pulled for activities [138712026 165641541 137120141]"
       ]
      },
      {
       "output_type": "stream",
       "stream": "stdout",
       "text": [
        "\n",
        "70 unique segments, 124 unique candidate buddies of 1596 total pulled for activities [185170358 148790344 165641562]"
       ]
      },
      {
       "output_type": "stream",
       "stream": "stdout",
       "text": [
        "\n",
        "126 unique segments, 231 unique candidate buddies of 296 total pulled for activities [133555755 183521140 142395565]"
       ]
      },
      {
       "output_type": "stream",
       "stream": "stdout",
       "text": [
        "\n",
        "134 unique segments, 245 unique candidate buddies of 1892 total pulled for activities [177101392 133707249 150709546]"
       ]
      },
      {
       "output_type": "stream",
       "stream": "stdout",
       "text": [
        "\n",
        "126 unique segments, 254 unique candidate buddies of 2308 total pulled for activities [183211751 190726534 165824356]"
       ]
      },
      {
       "output_type": "stream",
       "stream": "stdout",
       "text": [
        "\n",
        "82 unique segments, 130 unique candidate buddies of 672 total pulled for activities [177776859 174548540 174050208]"
       ]
      },
      {
       "output_type": "stream",
       "stream": "stdout",
       "text": [
        "\n",
        "97 unique segments, 148 unique candidate buddies of 1872 total pulled for activities [166518389 187131382 165641558]"
       ]
      },
      {
       "output_type": "stream",
       "stream": "stdout",
       "text": [
        "\n",
        "149 unique segments, 290 unique candidate buddies of 3316 total pulled for activities [174548540 190726534 170748389]"
       ]
      },
      {
       "output_type": "stream",
       "stream": "stdout",
       "text": [
        "\n",
        "209 unique segments, 357 unique candidate buddies of 2700 total pulled for activities [173712297 145067224 153207765]"
       ]
      },
      {
       "output_type": "stream",
       "stream": "stdout",
       "text": [
        "\n",
        "223 unique segments, 351 unique candidate buddies of 1492 total pulled for activities [175057732 164605315 167355325]"
       ]
      },
      {
       "output_type": "stream",
       "stream": "stdout",
       "text": [
        "\n",
        "132 unique segments, 276 unique candidate buddies of 1620 total pulled for activities [134522741 151470230 171314195]"
       ]
      },
      {
       "output_type": "stream",
       "stream": "stdout",
       "text": [
        "\n",
        "146 unique segments, 288 unique candidate buddies of 2116 total pulled for activities [163520175 147834570 165641558]"
       ]
      },
      {
       "output_type": "stream",
       "stream": "stdout",
       "text": [
        "\n",
        "78 unique segments, 112 unique candidate buddies of 2044 total pulled for activities [149606943 162084530 158395136]"
       ]
      },
      {
       "output_type": "stream",
       "stream": "stdout",
       "text": [
        "\n",
        "74 unique segments, 128 unique candidate buddies of 1296 total pulled for activities [178769147 176904268 183834358]"
       ]
      },
      {
       "output_type": "stream",
       "stream": "stdout",
       "text": [
        "\n",
        "91 unique segments, 156 unique candidate buddies of 1476 total pulled for activities [180595398 134522741 191932307]"
       ]
      },
      {
       "output_type": "stream",
       "stream": "stdout",
       "text": [
        "\n",
        "69 unique segments, 88 unique candidate buddies of 1188 total pulled for activities [163520175 165824356 183521140]"
       ]
      },
      {
       "output_type": "stream",
       "stream": "stdout",
       "text": [
        "\n",
        "105 unique segments, 164 unique candidate buddies of 892 total pulled for activities [180780690 132399253 181138778]"
       ]
      },
      {
       "output_type": "stream",
       "stream": "stdout",
       "text": [
        "\n",
        "141 unique segments, 240 unique candidate buddies of 2148 total pulled for activities [181138761 166518389 167355325]"
       ]
      },
      {
       "output_type": "stream",
       "stream": "stdout",
       "text": [
        "\n",
        "169 unique segments, 305 unique candidate buddies of 2736 total pulled for activities [151470230 180274516 134925051]"
       ]
      },
      {
       "output_type": "stream",
       "stream": "stdout",
       "text": [
        "\n",
        "192 unique segments, 318 unique candidate buddies of 3480 total pulled for activities [167355325 139990426 157577381]"
       ]
      },
      {
       "output_type": "stream",
       "stream": "stdout",
       "text": [
        "\n",
        "101 unique segments, 154 unique candidate buddies of 2076 total pulled for activities [183483625 160583561 139990426]"
       ]
      },
      {
       "output_type": "stream",
       "stream": "stdout",
       "text": [
        "\n",
        "68 unique segments, 118 unique candidate buddies of 928 total pulled for activities [142897914 165641562 180780690]"
       ]
      },
      {
       "output_type": "stream",
       "stream": "stdout",
       "text": [
        "\n",
        "46 unique segments, 60 unique candidate buddies of 880 total pulled for activities [183521140 181138778 173712297]"
       ]
      },
      {
       "output_type": "stream",
       "stream": "stdout",
       "text": [
        "\n",
        "184 unique segments, 268 unique candidate buddies of 1296 total pulled for activities [165641541 153207765 133195370 140491602]"
       ]
      },
      {
       "output_type": "stream",
       "stream": "stdout",
       "text": [
        "\n",
        "173 unique segments, 268 unique candidate buddies of 3140 total pulled for activities [137956514 184426519 140491602 158066624]"
       ]
      },
      {
       "output_type": "stream",
       "stream": "stdout",
       "text": [
        "\n",
        "190 unique segments, 353 unique candidate buddies of 2780 total pulled for activities [183958958 138363842 147834570 150709546]"
       ]
      },
      {
       "output_type": "stream",
       "stream": "stdout",
       "text": [
        "\n",
        "84 unique segments, 161 unique candidate buddies of 1720 total pulled for activities [182695592 155824031 177101392 170921074]"
       ]
      },
      {
       "output_type": "stream",
       "stream": "stdout",
       "text": [
        "\n",
        "118 unique segments, 179 unique candidate buddies of 2812 total pulled for activities [189444942 141048529 159724740 158395136]"
       ]
      },
      {
       "output_type": "stream",
       "stream": "stdout",
       "text": [
        "\n",
        "137 unique segments, 239 unique candidate buddies of 2920 total pulled for activities [139990426 152672369 141657997 148325894]"
       ]
      },
      {
       "output_type": "stream",
       "stream": "stdout",
       "text": [
        "\n",
        "127 unique segments, 232 unique candidate buddies of 2252 total pulled for activities [150229099 139628924 181138778 149761369]"
       ]
      },
      {
       "output_type": "stream",
       "stream": "stdout",
       "text": [
        "\n",
        "153 unique segments, 260 unique candidate buddies of 1204 total pulled for activities [174050208 173712297 179466327 135859327]"
       ]
      },
      {
       "output_type": "stream",
       "stream": "stdout",
       "text": [
        "\n",
        "187 unique segments, 320 unique candidate buddies of 3444 total pulled for activities [159804673 188094846 149761369 144299566]"
       ]
      },
      {
       "output_type": "stream",
       "stream": "stdout",
       "text": [
        "\n",
        "159 unique segments, 255 unique candidate buddies of 3220 total pulled for activities [182695592 161765732 183873674 174548540]"
       ]
      },
      {
       "output_type": "stream",
       "stream": "stdout",
       "text": [
        "\n",
        "153 unique segments, 221 unique candidate buddies of 2868 total pulled for activities [142395565 160937630 140491602 188624089]"
       ]
      },
      {
       "output_type": "stream",
       "stream": "stdout",
       "text": [
        "\n",
        "181 unique segments, 293 unique candidate buddies of 3096 total pulled for activities [159193656 171314195 154484176 164978987]"
       ]
      },
      {
       "output_type": "stream",
       "stream": "stdout",
       "text": [
        "\n",
        "163 unique segments, 280 unique candidate buddies of 3344 total pulled for activities [147131413 162586449 163520175 183483625]"
       ]
      },
      {
       "output_type": "stream",
       "stream": "stdout",
       "text": [
        "\n",
        "198 unique segments, 326 unique candidate buddies of 2928 total pulled for activities [150229099 179784258 189444942 137452889]"
       ]
      },
      {
       "output_type": "stream",
       "stream": "stdout",
       "text": [
        "\n",
        "135 unique segments, 213 unique candidate buddies of 2380 total pulled for activities [186500943 180780690 183834358 185877350]"
       ]
      },
      {
       "output_type": "stream",
       "stream": "stdout",
       "text": [
        "\n",
        "226 unique segments, 400 unique candidate buddies of 3188 total pulled for activities [166518389 170921074 167355325 134925051]"
       ]
      },
      {
       "output_type": "stream",
       "stream": "stdout",
       "text": [
        "\n",
        "79 unique segments, 148 unique candidate buddies of 1548 total pulled for activities [177776859 159804673 181731079 139628863]"
       ]
      },
      {
       "output_type": "stream",
       "stream": "stdout",
       "text": [
        "\n",
        "193 unique segments, 320 unique candidate buddies of 3756 total pulled for activities [152672369 134925051 154858705 158066624]"
       ]
      },
      {
       "output_type": "stream",
       "stream": "stdout",
       "text": [
        "\n",
        "148 unique segments, 285 unique candidate buddies of 3136 total pulled for activities [189444942 149761369 190726534 181138778]"
       ]
      },
      {
       "output_type": "stream",
       "stream": "stdout",
       "text": [
        "\n",
        "178 unique segments, 259 unique candidate buddies of 2984 total pulled for activities [183873674 161765732 138363842 156948195]"
       ]
      },
      {
       "output_type": "stream",
       "stream": "stdout",
       "text": [
        "\n",
        "164 unique segments, 235 unique candidate buddies of 3284 total pulled for activities [159724740 186133752 138712026 179784258]"
       ]
      },
      {
       "output_type": "stream",
       "stream": "stdout",
       "text": [
        "\n",
        "136 unique segments, 198 unique candidate buddies of 2704 total pulled for activities [150229099 185877350 161288656 135681620]"
       ]
      },
      {
       "output_type": "stream",
       "stream": "stdout",
       "text": [
        "\n",
        "137 unique segments, 243 unique candidate buddies of 1924 total pulled for activities [139628924 150709546 183211751 154484176]"
       ]
      },
      {
       "output_type": "stream",
       "stream": "stdout",
       "text": [
        "\n",
        "123 unique segments, 197 unique candidate buddies of 2124 total pulled for activities [180274516 137120141 155134130 141948440]"
       ]
      },
      {
       "output_type": "stream",
       "stream": "stdout",
       "text": [
        "\n",
        "182 unique segments, 307 unique candidate buddies of 1967 total pulled for activities [144299566 184719106 135859327 137452889]"
       ]
      },
      {
       "output_type": "stream",
       "stream": "stdout",
       "text": [
        "\n",
        "232 unique segments, 399 unique candidate buddies of 3700 total pulled for activities [157577381 139628924 153989258 144299566 161288656]"
       ]
      },
      {
       "output_type": "stream",
       "stream": "stdout",
       "text": [
        "\n",
        "40 unique segments, 48 unique candidate buddies of 932 total pulled for activities [155824031 183521140 142897914 141657997 150709501]"
       ]
      },
      {
       "output_type": "stream",
       "stream": "stdout",
       "text": [
        "\n",
        "195 unique segments, 320 unique candidate buddies of 2720 total pulled for activities [152442271 183873674 179466327 165641562 177776859]"
       ]
      },
      {
       "output_type": "stream",
       "stream": "stdout",
       "text": [
        "\n",
        "222 unique segments, 390 unique candidate buddies of 3572 total pulled for activities [174548540 136175701 138712026 147834570 171619894]"
       ]
      },
      {
       "output_type": "stream",
       "stream": "stdout",
       "text": [
        "\n",
        "158 unique segments, 214 unique candidate buddies of 1104 total pulled for activities [165641558 153557549 180780690 138363842 131592500]"
       ]
      },
      {
       "output_type": "stream",
       "stream": "stdout",
       "text": [
        "\n",
        "230 unique segments, 417 unique candidate buddies of 3872 total pulled for activities [161288656 147834570 159930774 158066624 135681620]"
       ]
      },
      {
       "output_type": "stream",
       "stream": "stdout",
       "text": [
        "\n",
        "222 unique segments, 370 unique candidate buddies of 3900 total pulled for activities [131254030 139048684 159804673 173712297 170748389]"
       ]
      },
      {
       "output_type": "stream",
       "stream": "stdout",
       "text": [
        "\n",
        "280 unique segments, 557 unique candidate buddies of 2960 total pulled for activities [147834570 153207765 183834358 182695592 139628924]"
       ]
      },
      {
       "output_type": "stream",
       "stream": "stdout",
       "text": [
        "\n",
        "204 unique segments, 363 unique candidate buddies of 2910 total pulled for activities [191460703 171619894 188094846 141948440 158766211]"
       ]
      },
      {
       "output_type": "stream",
       "stream": "stdout",
       "text": [
        "\n",
        "260 unique segments, 453 unique candidate buddies of 3920 total pulled for activities [157577381 189444942 147834570 176446726 160583561]"
       ]
      },
      {
       "output_type": "stream",
       "stream": "stdout",
       "text": [
        "\n",
        "138 unique segments, 210 unique candidate buddies of 1892 total pulled for activities [149606943 175057732 165641562 181731079 183873674]"
       ]
      },
      {
       "output_type": "stream",
       "stream": "stdout",
       "text": [
        "\n",
        "202 unique segments, 312 unique candidate buddies of 3196 total pulled for activities [147131413 183521140 174548540 171314195 145067224]"
       ]
      },
      {
       "output_type": "stream",
       "stream": "stdout",
       "text": [
        "\n",
        "242 unique segments, 412 unique candidate buddies of 1460 total pulled for activities [174050208 180684561 133555755 183521140 188094846]"
       ]
      },
      {
       "output_type": "stream",
       "stream": "stdout",
       "text": [
        "\n",
        "253 unique segments, 436 unique candidate buddies of 3924 total pulled for activities [141048529 190726534 159193656 161288656 139628924]"
       ]
      },
      {
       "output_type": "stream",
       "stream": "stdout",
       "text": [
        "\n",
        "110 unique segments, 187 unique candidate buddies of 1808 total pulled for activities [139628863 170921074 154484176 154858705 139628924]"
       ]
      },
      {
       "output_type": "stream",
       "stream": "stdout",
       "text": [
        "\n",
        "209 unique segments, 385 unique candidate buddies of 3740 total pulled for activities [134925051 161765732 152093643 182695592 165641541]"
       ]
      },
      {
       "output_type": "stream",
       "stream": "stdout",
       "text": [
        "\n",
        "177 unique segments, 276 unique candidate buddies of 1172 total pulled for activities [152672369 150709501 164605315 175057732 188624089]"
       ]
      },
      {
       "output_type": "stream",
       "stream": "stdout",
       "text": [
        "\n",
        "129 unique segments, 172 unique candidate buddies of 2360 total pulled for activities [136175701 131592500 170855494 157338936 177776859]"
       ]
      },
      {
       "output_type": "stream",
       "stream": "stdout",
       "text": [
        "\n",
        "257 unique segments, 484 unique candidate buddies of 3832 total pulled for activities [136175701 152672369 147834570 150229099 135859327]"
       ]
      },
      {
       "output_type": "stream",
       "stream": "stdout",
       "text": [
        "\n",
        "254 unique segments, 359 unique candidate buddies of 2520 total pulled for activities [133555755 179466327 150709501 136175701 155134130]"
       ]
      },
      {
       "output_type": "stream",
       "stream": "stdout",
       "text": [
        "\n",
        "266 unique segments, 434 unique candidate buddies of 3292 total pulled for activities [154858705 159193656 174050208 134522741 137452889]"
       ]
      },
      {
       "output_type": "stream",
       "stream": "stdout",
       "text": [
        "\n",
        "182 unique segments, 294 unique candidate buddies of 2328 total pulled for activities [184426519 188624079 138712026 140491602 131254030]"
       ]
      },
      {
       "output_type": "stream",
       "stream": "stdout",
       "text": [
        "\n",
        "340 unique segments, 565 unique candidate buddies of 3292 total pulled for activities [133195370 133555755 168742625 135859327 169998421]"
       ]
      },
      {
       "output_type": "stream",
       "stream": "stdout",
       "text": [
        "\n",
        "176 unique segments, 267 unique candidate buddies of 2686 total pulled for activities [131254030 191460703 176904268 157338936 154858705]"
       ]
      },
      {
       "output_type": "stream",
       "stream": "stdout",
       "text": [
        "\n",
        "127 unique segments, 247 unique candidate buddies of 1712 total pulled for activities [188624079 188624089 175057732 162586449 180684561]"
       ]
      },
      {
       "output_type": "stream",
       "stream": "stdout",
       "text": [
        "\n",
        "202 unique segments, 292 unique candidate buddies of 3852 total pulled for activities [179784258 181138778 156948195 158066624 177776859 169998421]"
       ]
      },
      {
       "output_type": "stream",
       "stream": "stdout",
       "text": [
        "\n",
        "258 unique segments, 361 unique candidate buddies of 3040 total pulled for activities [151088766 180595398 134925051 138363842 157577381 135681620]"
       ]
      },
      {
       "output_type": "stream",
       "stream": "stdout",
       "text": [
        "\n",
        "199 unique segments, 382 unique candidate buddies of 3684 total pulled for activities [137956514 152093643 147834570 183873674 187131382 165641558]"
       ]
      },
      {
       "output_type": "stream",
       "stream": "stdout",
       "text": [
        "\n",
        "219 unique segments, 346 unique candidate buddies of 3572 total pulled for activities [188094846 139048684 181138778 186133752 152093643 155824031]"
       ]
      },
      {
       "output_type": "stream",
       "stream": "stdout",
       "text": [
        "\n",
        "239 unique segments, 406 unique candidate buddies of 3424 total pulled for activities [183483625 145067224 181138761 145614445 185877350 148325894]"
       ]
      },
      {
       "output_type": "stream",
       "stream": "stdout",
       "text": [
        "\n",
        "235 unique segments, 377 unique candidate buddies of 3228 total pulled for activities [134925051 131592500 177776859 151088766 179466327 132399253]"
       ]
      },
      {
       "output_type": "stream",
       "stream": "stdout",
       "text": [
        "\n",
        "145 unique segments, 210 unique candidate buddies of 3128 total pulled for activities [137956514 182695592 152093643 138363842 154858705 155824031]"
       ]
      },
      {
       "output_type": "stream",
       "stream": "stdout",
       "text": [
        "\n",
        "177 unique segments, 278 unique candidate buddies of 2944 total pulled for activities [131254030 183211751 154484176 165641562 181138778 160583561]"
       ]
      },
      {
       "output_type": "stream",
       "stream": "stdout",
       "text": [
        "\n",
        "174 unique segments, 221 unique candidate buddies of 1808 total pulled for activities [137956514 135681620 141657997 162084530 179466327 174050208]"
       ]
      },
      {
       "output_type": "stream",
       "stream": "stdout",
       "text": [
        "\n",
        "209 unique segments, 323 unique candidate buddies of 3507 total pulled for activities [148790344 158066624 133707249 138712026 178769147 184719106]"
       ]
      },
      {
       "output_type": "stream",
       "stream": "stdout",
       "text": [
        "\n",
        "315 unique segments, 598 unique candidate buddies of 3068 total pulled for activities [132083660 142395575 134522741 133555755 183211751 147834570]"
       ]
      },
      {
       "output_type": "stream",
       "stream": "stdout",
       "text": [
        "\n",
        "193 unique segments, 297 unique candidate buddies of 2996 total pulled for activities [175057732 159193656 152672369 181731079 141048529 183521140]"
       ]
      },
      {
       "output_type": "stream",
       "stream": "stdout",
       "text": [
        "\n",
        "248 unique segments, 385 unique candidate buddies of 2332 total pulled for activities [164605315 188624079 180595398 176446726 139048684 142395565]"
       ]
      },
      {
       "output_type": "stream",
       "stream": "stdout",
       "text": [
        "\n",
        "175 unique segments, 275 unique candidate buddies of 3208 total pulled for activities [138712026 142897914 132083660 149761369 169998421 156948195]"
       ]
      },
      {
       "output_type": "stream",
       "stream": "stdout",
       "text": [
        "\n",
        "155 unique segments, 252 unique candidate buddies of 2924 total pulled for activities [181731079 141657997 186500943 178769147 150229099 174548540]"
       ]
      },
      {
       "output_type": "stream",
       "stream": "stdout",
       "text": [
        "\n",
        "179 unique segments, 308 unique candidate buddies of 2160 total pulled for activities [180595398 142395575 186133752 148790344 188624089 137452889]"
       ]
      },
      {
       "output_type": "stream",
       "stream": "stdout",
       "text": [
        "\n",
        "184 unique segments, 305 unique candidate buddies of 4080 total pulled for activities [151088766 142395565 181138761 152093643 139990426 131254030]"
       ]
      },
      {
       "output_type": "stream",
       "stream": "stdout",
       "text": [
        "\n",
        "240 unique segments, 384 unique candidate buddies of 2968 total pulled for activities [134522741 159193656 171619894 139048684 165641558 145614445]"
       ]
      },
      {
       "output_type": "stream",
       "stream": "stdout",
       "text": [
        "\n",
        "322 unique segments, 595 unique candidate buddies of 3484 total pulled for activities [183483625 159930774 142395565 161765732 167355325 133555755]"
       ]
      },
      {
       "output_type": "stream",
       "stream": "stdout",
       "text": [
        "\n",
        "154 unique segments, 265 unique candidate buddies of 2016 total pulled for activities [181138761 132083660 180274516 183834358 188094846 150709546]"
       ]
      },
      {
       "output_type": "stream",
       "stream": "stdout",
       "text": [
        "\n",
        "179 unique segments, 296 unique candidate buddies of 3312 total pulled for activities [142395575 142395565 169998421 152093643 159724740 177101392]"
       ]
      },
      {
       "output_type": "stream",
       "stream": "stdout",
       "text": [
        "\n",
        "151 unique segments, 254 unique candidate buddies of 2136 total pulled for activities [150709546 176110454 152093643 172883242 145614445 162084530]"
       ]
      },
      {
       "output_type": "stream",
       "stream": "stdout",
       "text": [
        "\n",
        "181 unique segments, 318 unique candidate buddies of 2712 total pulled for activities [138712026 165641558 134925051 141048529 176904268 142897914]"
       ]
      },
      {
       "output_type": "stream",
       "stream": "stdout",
       "text": [
        "\n",
        "117 unique segments, 153 unique candidate buddies of 1536 total pulled for activities [150709501 165641558 183958958 180780690 183483625 174548540]"
       ]
      },
      {
       "output_type": "stream",
       "stream": "stdout",
       "text": [
        "\n",
        "128 unique segments, 183 unique candidate buddies of 1963 total pulled for activities [169998421 188624079 190358914 148790344 183521140 181731079]"
       ]
      },
      {
       "output_type": "stream",
       "stream": "stdout",
       "text": [
        "\n",
        "300 unique segments, 473 unique candidate buddies of 3440 total pulled for activities [171314195 180684561 142897914 164605315 188094846 154484176 159193656]"
       ]
      },
      {
       "output_type": "stream",
       "stream": "stdout",
       "text": [
        "\n",
        "365 unique segments, 703 unique candidate buddies of 5492 total pulled for activities [177101392 147834570 153207765 148325894 139990426 176110454 154484176]"
       ]
      },
      {
       "output_type": "stream",
       "stream": "stdout",
       "text": [
        "\n",
        "172 unique segments, 242 unique candidate buddies of 3243 total pulled for activities [139990426 156948195 138363842 149761369 148790344 171619894 184719106]"
       ]
      },
      {
       "output_type": "stream",
       "stream": "stdout",
       "text": [
        "\n",
        "246 unique segments, 353 unique candidate buddies of 3512 total pulled for activities [134522741 185877350 139267236 137120141 170921074 162084530 159193656]"
       ]
      },
      {
       "output_type": "stream",
       "stream": "stdout",
       "text": [
        "\n",
        "202 unique segments, 314 unique candidate buddies of 4628 total pulled for activities [170855494 157338936 185877350 188624089 141048529 155134130 165641558]"
       ]
      },
      {
       "output_type": "stream",
       "stream": "stdout",
       "text": [
        "\n",
        "253 unique segments, 395 unique candidate buddies of 3854 total pulled for activities [181138761 172883242 140491602 191460703 158395136 179784258 145614445]"
       ]
      },
      {
       "output_type": "stream",
       "stream": "stdout",
       "text": [
        "\n",
        "259 unique segments, 437 unique candidate buddies of 4112 total pulled for activities [180274516 161765732 165641562 141657997 180780690 134522741 148790344]"
       ]
      },
      {
       "output_type": "stream",
       "stream": "stdout",
       "text": [
        "\n",
        "250 unique segments, 426 unique candidate buddies of 3236 total pulled for activities [133555755 188624089 188624079 177776859 170921074 159193656 149761369]"
       ]
      },
      {
       "output_type": "stream",
       "stream": "stdout",
       "text": [
        "\n",
        "140 unique segments, 201 unique candidate buddies of 2248 total pulled for activities [183958958 142395575 152672369 133707249 141948440 141048529 160583561]"
       ]
      },
      {
       "output_type": "stream",
       "stream": "stdout",
       "text": [
        "\n",
        "230 unique segments, 378 unique candidate buddies of 3140 total pulled for activities [153557549 141048529 191932307 139628863 166518389 183483625 134522741]"
       ]
      },
      {
       "output_type": "stream",
       "stream": "stdout",
       "text": [
        "\n",
        "200 unique segments, 297 unique candidate buddies of 1764 total pulled for activities [153557549 174050208 181138761 182980558 169998421 172883242 164978987]"
       ]
      },
      {
       "output_type": "stream",
       "stream": "stdout",
       "text": [
        "\n",
        "265 unique segments, 464 unique candidate buddies of 4387 total pulled for activities [153557549 173712297 161765732 160583561 169998421 184719106 180274516]"
       ]
      },
      {
       "output_type": "stream",
       "stream": "stdout",
       "text": [
        "\n",
        "277 unique segments, 447 unique candidate buddies of 3804 total pulled for activities [173712297 180780690 133707249 152093643 175057732 183958958 151470230]"
       ]
      },
      {
       "output_type": "stream",
       "stream": "stdout",
       "text": [
        "\n",
        "241 unique segments, 356 unique candidate buddies of 3647 total pulled for activities [178769147 138363842 188094846 161288656 182228095 148325894 139990426]"
       ]
      },
      {
       "output_type": "stream",
       "stream": "stdout",
       "text": [
        "\n",
        "241 unique segments, 445 unique candidate buddies of 2611 total pulled for activities [159724740 151088766 182228095 133555755 168742625 165824356 165641558]"
       ]
      },
      {
       "output_type": "stream",
       "stream": "stdout",
       "text": [
        "\n",
        "294 unique segments, 513 unique candidate buddies of 4608 total pulled for activities [183958958 145067224 132083660 153989258 151470230 167355325 142395565]"
       ]
      },
      {
       "output_type": "stream",
       "stream": "stdout",
       "text": [
        "\n",
        "198 unique segments, 322 unique candidate buddies of 3024 total pulled for activities [158066624 154484176 188624079 175057732 136175701 165641541 189444942]"
       ]
      },
      {
       "output_type": "stream",
       "stream": "stdout",
       "text": [
        "\n",
        "237 unique segments, 321 unique candidate buddies of 2964 total pulled for activities [172883242 165641541 164605315 179784258 188624089 176904268 159930774]"
       ]
      },
      {
       "output_type": "stream",
       "stream": "stdout",
       "text": [
        "\n",
        "336 unique segments, 587 unique candidate buddies of 4776 total pulled for activities [148325894 152093643 186500943 147834570 132399253 181138778 159193656]"
       ]
      },
      {
       "output_type": "stream",
       "stream": "stdout",
       "text": [
        "\n",
        "304 unique segments, 555 unique candidate buddies of 4048 total pulled for activities [137956514 180595398 139628924 147834570 142897914 145067224 150709501]"
       ]
      },
      {
       "output_type": "stream",
       "stream": "stdout",
       "text": [
        "\n",
        "218 unique segments, 352 unique candidate buddies of 4392 total pulled for activities [174548540 189444942 144299566 182980558 188624079 168742625 170855494]"
       ]
      },
      {
       "output_type": "stream",
       "stream": "stdout",
       "text": [
        "\n",
        "277 unique segments, 461 unique candidate buddies of 4444 total pulled for activities [166518389 155824031 153557549 141657997 145067224 140491602 154484176]"
       ]
      },
      {
       "output_type": "stream",
       "stream": "stdout",
       "text": [
        "\n",
        "210 unique segments, 351 unique candidate buddies of 1884 total pulled for activities [172883242 133555755 177776859 188624079 164978987 166518389 165641558]"
       ]
      },
      {
       "output_type": "stream",
       "stream": "stdout",
       "text": [
        "\n",
        "195 unique segments, 332 unique candidate buddies of 3980 total pulled for activities [168742625 181138778 152672369 131254030 139628863 177101392 154858705]"
       ]
      },
      {
       "output_type": "stream",
       "stream": "stdout",
       "text": [
        "\n",
        "270 unique segments, 463 unique candidate buddies of 4824 total pulled for activities [163839035 159930774 179784258 179466327 140491602 158766211 158395136]"
       ]
      },
      {
       "output_type": "stream",
       "stream": "stdout",
       "text": [
        "\n",
        "348 unique segments, 650 unique candidate buddies of 4520 total pulled for activities [159724740 149761369 147834570 176110454 133555755 160583561 139628863\n",
        " 183483625]"
       ]
      },
      {
       "output_type": "stream",
       "stream": "stdout",
       "text": [
        "\n",
        "302 unique segments, 484 unique candidate buddies of 3276 total pulled for activities [165641541 133195370 164605315 187617485 158766211 150229099 178769147\n",
        " 150709501]"
       ]
      },
      {
       "output_type": "stream",
       "stream": "stdout",
       "text": [
        "\n",
        "219 unique segments, 386 unique candidate buddies of 2860 total pulled for activities [183521140 165824356 187131382 170855494 171314195 161288656 138712026\n",
        " 139628924]"
       ]
      },
      {
       "output_type": "stream",
       "stream": "stdout",
       "text": [
        "\n",
        "224 unique segments, 326 unique candidate buddies of 4516 total pulled for activities [155134130 137956514 159724740 141657997 151088766 141048529 187131382\n",
        " 159193656]"
       ]
      },
      {
       "output_type": "stream",
       "stream": "stdout",
       "text": [
        "\n",
        "271 unique segments, 509 unique candidate buddies of 5112 total pulled for activities [170855494 147834570 170748389 141048529 188624079 183873674 139990426\n",
        " 180595398]"
       ]
      },
      {
       "output_type": "stream",
       "stream": "stdout",
       "text": [
        "\n",
        "294 unique segments, 488 unique candidate buddies of 4412 total pulled for activities [140491602 158766211 161288656 142395565 158395136 153989258 133195370\n",
        " 151470230]"
       ]
      },
      {
       "output_type": "stream",
       "stream": "stdout",
       "text": [
        "\n",
        "312 unique segments, 497 unique candidate buddies of 4820 total pulled for activities [189444942 131592500 134522741 139990426 183483625 152672369 131254030\n",
        " 145067224]"
       ]
      },
      {
       "output_type": "stream",
       "stream": "stdout",
       "text": [
        "\n",
        "191 unique segments, 299 unique candidate buddies of 3352 total pulled for activities [138363842 132083660 170855494 148790344 183483625 159724740 139267236\n",
        " 188624079]"
       ]
      },
      {
       "output_type": "stream",
       "stream": "stdout",
       "text": [
        "\n",
        "263 unique segments, 451 unique candidate buddies of 4588 total pulled for activities [187131382 148790344 159193656 131254030 168742625 141948440 186133752\n",
        " 159724740]"
       ]
      },
      {
       "output_type": "stream",
       "stream": "stdout",
       "text": [
        "\n",
        "200 unique segments, 301 unique candidate buddies of 3320 total pulled for activities [172883242 162084530 131592500 185877350 141657997 150709546 164978987\n",
        " 139628924]"
       ]
      },
      {
       "output_type": "stream",
       "stream": "stdout",
       "text": [
        "\n",
        "419 unique segments, 744 unique candidate buddies of 3839 total pulled for activities [163839035 184719106 152442271 161765732 153557549 162084530 177101392\n",
        " 133555755]"
       ]
      },
      {
       "output_type": "stream",
       "stream": "stdout",
       "text": [
        "\n",
        "243 unique segments, 416 unique candidate buddies of 3460 total pulled for activities [139048684 174548540 152093643 141048529 145614445 153557549 176110454\n",
        " 171619894]"
       ]
      },
      {
       "output_type": "stream",
       "stream": "stdout",
       "text": [
        "\n",
        "267 unique segments, 443 unique candidate buddies of 4060 total pulled for activities [161765732 181138778 157577381 165641558 177776859 165641562 151088766\n",
        " 174050208]"
       ]
      },
      {
       "output_type": "stream",
       "stream": "stdout",
       "text": [
        "\n",
        "239 unique segments, 421 unique candidate buddies of 3196 total pulled for activities [165641558 134925051 186500943 137452889 139628924 181138761 142897914\n",
        " 165641562]"
       ]
      },
      {
       "output_type": "stream",
       "stream": "stdout",
       "text": [
        "\n",
        "222 unique segments, 373 unique candidate buddies of 3728 total pulled for activities [184426519 139628863 159804673 174548540 162586449 164978987 191932307\n",
        " 131592500]"
       ]
      },
      {
       "output_type": "stream",
       "stream": "stdout",
       "text": [
        "\n",
        "252 unique segments, 430 unique candidate buddies of 3846 total pulled for activities [154858705 150229099 159930774 191460703 189444942 171619894 137452889\n",
        " 161765732]"
       ]
      },
      {
       "output_type": "stream",
       "stream": "stdout",
       "text": [
        "\n",
        "253 unique segments, 451 unique candidate buddies of 3159 total pulled for activities [147834570 170921074 182228095 136175701 162084530 153557549 188624089\n",
        " 152672369]"
       ]
      },
      {
       "output_type": "stream",
       "stream": "stdout",
       "text": [
        "\n",
        "269 unique segments, 467 unique candidate buddies of 3606 total pulled for activities [183211751 165824356 137120141 170748389 166518389 191460703 145614445\n",
        " 155824031]"
       ]
      },
      {
       "output_type": "stream",
       "stream": "stdout",
       "text": [
        "\n",
        "287 unique segments, 547 unique candidate buddies of 5448 total pulled for activities [162586449 170748389 159930774 174548540 139267236 147834570 181138761\n",
        " 170855494]"
       ]
      },
      {
       "output_type": "stream",
       "stream": "stdout",
       "text": [
        "\n",
        "200 unique segments, 305 unique candidate buddies of 3432 total pulled for activities [159724740 183483625 183873674 149761369 151088766 179466327 133707249\n",
        " 148790344]"
       ]
      },
      {
       "output_type": "stream",
       "stream": "stdout",
       "text": [
        "\n",
        "377 unique segments, 675 unique candidate buddies of 6052 total pulled for activities [158395136 172883242 139267236 141657997 167355325 134925051 161765732\n",
        " 147834570]"
       ]
      },
      {
       "output_type": "stream",
       "stream": "stdout",
       "text": [
        "\n",
        "322 unique segments, 536 unique candidate buddies of 5344 total pulled for activities [174548540 183211751 180780690 132083660 159724740 151088766 152442271\n",
        " 138712026]"
       ]
      },
      {
       "output_type": "stream",
       "stream": "stdout",
       "text": [
        "\n",
        "365 unique segments, 632 unique candidate buddies of 4440 total pulled for activities [147834570 159804673 165824356 183483625 138363842 131254030 151088766\n",
        " 152442271]"
       ]
      },
      {
       "output_type": "stream",
       "stream": "stdout",
       "text": [
        "\n",
        "238 unique segments, 453 unique candidate buddies of 3539 total pulled for activities [139628863 132399253 184719106 134522741 188624089 177101392 155824031\n",
        " 162586449]"
       ]
      },
      {
       "output_type": "stream",
       "stream": "stdout",
       "text": [
        "\n",
        "242 unique segments, 348 unique candidate buddies of 3731 total pulled for activities [150229099 182228095 144299566 160937630 175057732 141657997 161288656\n",
        " 183873674]"
       ]
      },
      {
       "output_type": "stream",
       "stream": "stdout",
       "text": [
        "\n",
        "225 unique segments, 404 unique candidate buddies of 4556 total pulled for activities [176110454 180684561 138712026 179466327 180274516 169111350 191932307\n",
        " 158766211 177776859]"
       ]
      },
      {
       "output_type": "stream",
       "stream": "stdout",
       "text": [
        "\n",
        "384 unique segments, 625 unique candidate buddies of 3552 total pulled for activities [150709501 134925051 159193656 177101392 152093643 170921074 133555755\n",
        " 132083660 135681620]"
       ]
      },
      {
       "output_type": "stream",
       "stream": "stdout",
       "text": [
        "\n",
        "338 unique segments, 562 unique candidate buddies of 4904 total pulled for activities [177101392 176110454 154858705 136175701 151470230 139628924 132399253\n",
        " 173712297 139267236]"
       ]
      },
      {
       "output_type": "stream",
       "stream": "stdout",
       "text": [
        "\n",
        "311 unique segments, 583 unique candidate buddies of 5375 total pulled for activities [163839035 151088766 158066624 147834570 185877350 135859327 184719106\n",
        " 183521140 142897914]"
       ]
      },
      {
       "output_type": "stream",
       "stream": "stdout",
       "text": [
        "\n",
        "268 unique segments, 406 unique candidate buddies of 4302 total pulled for activities [154484176 161765732 141657997 176904268 139048684 141048529 142395565\n",
        " 161288656 191460703]"
       ]
      },
      {
       "output_type": "stream",
       "stream": "stdout",
       "text": [
        "\n",
        "172 unique segments, 301 unique candidate buddies of 2844 total pulled for activities [145614445 176110454 170921074 132083660 142395575 185170358 147131413\n",
        " 150709501 173712297]"
       ]
      },
      {
       "output_type": "stream",
       "stream": "stdout",
       "text": [
        "\n",
        "286 unique segments, 479 unique candidate buddies of 4347 total pulled for activities [182695592 170748389 174050208 144299566 165641558 137452889 182980558\n",
        " 182228095 139990426]"
       ]
      },
      {
       "output_type": "stream",
       "stream": "stdout",
       "text": [
        "\n",
        "240 unique segments, 391 unique candidate buddies of 3924 total pulled for activities [159930774 187617485 160583561 182695592 148790344 137120141 161288656\n",
        " 159724740 175057732]"
       ]
      },
      {
       "output_type": "stream",
       "stream": "stdout",
       "text": [
        "\n",
        "325 unique segments, 556 unique candidate buddies of 4588 total pulled for activities [163839035 152093643 171314195 131592500 141657997 184426519 158066624\n",
        " 183834358 137452889]"
       ]
      },
      {
       "output_type": "stream",
       "stream": "stdout",
       "text": [
        "\n",
        "236 unique segments, 374 unique candidate buddies of 2076 total pulled for activities [171619894 151088766 175057732 180595398 131254030 153557549 165824356\n",
        " 181138761 165641541]"
       ]
      },
      {
       "output_type": "stream",
       "stream": "stdout",
       "text": [
        "\n",
        "316 unique segments, 529 unique candidate buddies of 3540 total pulled for activities [137120141 185877350 184426519 175057732 171314195 135859327 159804673\n",
        " 139990426 191932307]"
       ]
      },
      {
       "output_type": "stream",
       "stream": "stdout",
       "text": [
        "\n",
        "290 unique segments, 500 unique candidate buddies of 4416 total pulled for activities [180274516 153207765 157338936 161288656 163520175 149606943 162586449\n",
        " 182980558 165641541]"
       ]
      },
      {
       "output_type": "stream",
       "stream": "stdout",
       "text": [
        "\n",
        "336 unique segments, 527 unique candidate buddies of 3808 total pulled for activities [185170358 164605315 179784258 183958958 159930774 134522741 165824356\n",
        " 158066624 153557549]"
       ]
      },
      {
       "output_type": "stream",
       "stream": "stdout",
       "text": [
        "\n",
        "356 unique segments, 627 unique candidate buddies of 5036 total pulled for activities [174050208 186500943 148790344 171314195 149761369 145067224 169111350\n",
        " 191932307 137452889]"
       ]
      },
      {
       "output_type": "stream",
       "stream": "stdout",
       "text": [
        "\n",
        "263 unique segments, 407 unique candidate buddies of 2604 total pulled for activities [165641541 181138761 138363842 148790344 139628924 133707249 141948440\n",
        " 190726534 142897914]"
       ]
      },
      {
       "output_type": "stream",
       "stream": "stdout",
       "text": [
        "\n",
        "272 unique segments, 480 unique candidate buddies of 3764 total pulled for activities [157338936 132399253 142395565 166518389 169998421 180780690 162586449\n",
        " 155824031 154484176]"
       ]
      },
      {
       "output_type": "stream",
       "stream": "stdout",
       "text": [
        "\n",
        "323 unique segments, 586 unique candidate buddies of 3444 total pulled for activities [151088766 170921074 183834358 181138778 166518389 133555755 181138761\n",
        " 147834570 187617485]"
       ]
      },
      {
       "output_type": "stream",
       "stream": "stdout",
       "text": [
        "\n",
        "314 unique segments, 537 unique candidate buddies of 4752 total pulled for activities [170748389 149606943 145067224 181138778 131254030 142395565 134522741\n",
        " 153557549 169111350]"
       ]
      },
      {
       "output_type": "stream",
       "stream": "stdout",
       "text": [
        "\n",
        "284 unique segments, 364 unique candidate buddies of 4612 total pulled for activities [139990426 183873674 136175701 176110454 173712297 154858705 145067224\n",
        " 141948440 155134130]"
       ]
      },
      {
       "output_type": "stream",
       "stream": "stdout",
       "text": [
        "\n",
        "248 unique segments, 305 unique candidate buddies of 4188 total pulled for activities [160937630 136175701 141657997 179466327 187131382 180684561 141948440\n",
        " 138363842 191932307]"
       ]
      },
      {
       "output_type": "stream",
       "stream": "stdout",
       "text": [
        "\n",
        "247 unique segments, 388 unique candidate buddies of 3240 total pulled for activities [183834358 170921074 165641558 134925051 158066624 176110454 134522741\n",
        " 162084530 136175701]"
       ]
      },
      {
       "output_type": "stream",
       "stream": "stdout",
       "text": [
        "\n",
        "338 unique segments, 615 unique candidate buddies of 4124 total pulled for activities [159724740 165641562 170921074 141048529 137452889 178769147 174050208\n",
        " 158766211 188094846]"
       ]
      },
      {
       "output_type": "stream",
       "stream": "stdout",
       "text": [
        "\n",
        "227 unique segments, 293 unique candidate buddies of 3708 total pulled for activities [171619894 169998421 165824356 135681620 156948195 139628863 185877350\n",
        " 180684561 172883242]"
       ]
      },
      {
       "output_type": "stream",
       "stream": "stdout",
       "text": [
        "\n",
        "207 unique segments, 333 unique candidate buddies of 4136 total pulled for activities [150709501 152672369 149606943 178769147 164978987 141657997 163839035\n",
        " 181731079 142395575]"
       ]
      },
      {
       "output_type": "stream",
       "stream": "stdout",
       "text": [
        "\n",
        "388 unique segments, 635 unique candidate buddies of 5080 total pulled for activities [188094846 183958958 176110454 135859327 137956514 184426519 159193656\n",
        " 132399253 153989258]"
       ]
      },
      {
       "output_type": "stream",
       "stream": "stdout",
       "text": [
        "\n",
        "310 unique segments, 452 unique candidate buddies of 4558 total pulled for activities [191460703 159193656 141948440 163520175 152093643 177776859 137120141\n",
        " 148325894 188624089 187131382]"
       ]
      },
      {
       "output_type": "stream",
       "stream": "stdout",
       "text": [
        "\n",
        "306 unique segments, 500 unique candidate buddies of 4676 total pulled for activities [132083660 176904268 134925051 155134130 162084530 182695592 151470230\n",
        " 187617485 158395136 180274516]"
       ]
      },
      {
       "output_type": "stream",
       "stream": "stdout",
       "text": [
        "\n",
        "471 unique segments, 729 unique candidate buddies of 4374 total pulled for activities [133555755 136175701 182980558 153207765 133707249 170748389 148325894\n",
        " 188624079 191460703 160583561]"
       ]
      },
      {
       "output_type": "stream",
       "stream": "stdout",
       "text": [
        "\n",
        "290 unique segments, 562 unique candidate buddies of 4732 total pulled for activities [151470230 141048529 172883242 138712026 161288656 162084530 137452889\n",
        " 158766211 152093643 183834358]"
       ]
      },
      {
       "output_type": "stream",
       "stream": "stdout",
       "text": [
        "\n",
        "245 unique segments, 431 unique candidate buddies of 4047 total pulled for activities [159804673 160583561 171314195 180684561 186133752 182228095 155824031\n",
        " 170748389 165641562 177776859]"
       ]
      },
      {
       "output_type": "stream",
       "stream": "stdout",
       "text": [
        "\n",
        "416 unique segments, 665 unique candidate buddies of 5828 total pulled for activities [177101392 144299566 148790344 149606943 152672369 164605315 180274516\n",
        " 183483625 157577381 176446726]"
       ]
      },
      {
       "output_type": "stream",
       "stream": "stdout",
       "text": [
        "\n",
        "300 unique segments, 488 unique candidate buddies of 4420 total pulled for activities [160583561 140491602 188624079 183521140 183483625 132399253 183873674\n",
        " 141948440 177101392 186133752]"
       ]
      },
      {
       "output_type": "stream",
       "stream": "stdout",
       "text": [
        "\n",
        "393 unique segments, 664 unique candidate buddies of 5388 total pulled for activities [154484176 158766211 135681620 186500943 169111350 161765732 182980558\n",
        " 141048529 154858705 153207765]"
       ]
      },
      {
       "output_type": "stream",
       "stream": "stdout",
       "text": [
        "\n",
        "290 unique segments, 463 unique candidate buddies of 3184 total pulled for activities [176446726 183521140 142395565 187617485 133707249 139048684 155824031\n",
        " 190726534 183483625 179466327]"
       ]
      },
      {
       "output_type": "stream",
       "stream": "stdout",
       "text": [
        "\n",
        "265 unique segments, 404 unique candidate buddies of 3732 total pulled for activities [179784258 139628924 148790344 131592500 159724740 170921074 163839035\n",
        " 142897914 189444942 165641558]"
       ]
      },
      {
       "output_type": "stream",
       "stream": "stdout",
       "text": [
        "\n",
        "380 unique segments, 679 unique candidate buddies of 4284 total pulled for activities [171619894 153207765 177101392 152442271 141948440 151470230 159193656\n",
        " 183958958 135859327 150709546]"
       ]
      },
      {
       "output_type": "stream",
       "stream": "stdout",
       "text": [
        "\n",
        "355 unique segments, 603 unique candidate buddies of 5444 total pulled for activities [180274516 139990426 160583561 169111350 153207765 156948195 134925051\n",
        " 185877350 149606943 131592500]"
       ]
      },
      {
       "output_type": "stream",
       "stream": "stdout",
       "text": [
        "\n",
        "305 unique segments, 532 unique candidate buddies of 5032 total pulled for activities [133707249 180595398 154484176 176904268 171314195 149606943 157577381\n",
        " 183483625 153989258 139990426]"
       ]
      },
      {
       "output_type": "stream",
       "stream": "stdout",
       "text": [
        "\n",
        "369 unique segments, 595 unique candidate buddies of 5372 total pulled for activities [175057732 182695592 178769147 136175701 160583561 190726534 144299566\n",
        " 183873674 148790344 186133752]"
       ]
      },
      {
       "output_type": "stream",
       "stream": "stdout",
       "text": [
        "\n",
        "260 unique segments, 437 unique candidate buddies of 3584 total pulled for activities [165824356 154858705 148790344 164605315 168742625 181731079 147131413\n",
        " 139267236 181138761 183958958]"
       ]
      },
      {
       "output_type": "stream",
       "stream": "stdout",
       "text": [
        "\n",
        "293 unique segments, 518 unique candidate buddies of 5228 total pulled for activities [152672369 183483625 188624089 141048529 159804673 170748389 154484176\n",
        " 150229099 167355325 157577381]"
       ]
      },
      {
       "output_type": "stream",
       "stream": "stdout",
       "text": [
        "\n",
        "373 unique segments, 557 unique candidate buddies of 5796 total pulled for activities [183211751 183873674 131254030 145067224 157577381 137956514 190726534\n",
        " 155134130 172883242 170855494]"
       ]
      },
      {
       "output_type": "stream",
       "stream": "stdout",
       "text": [
        "\n",
        "295 unique segments, 496 unique candidate buddies of 4467 total pulled for activities [165641562 184719106 170855494 142897914 181138761 141048529 137452889\n",
        " 181731079 186133752 153989258]"
       ]
      },
      {
       "output_type": "stream",
       "stream": "stdout",
       "text": [
        "\n",
        "354 unique segments, 632 unique candidate buddies of 5556 total pulled for activities [180780690 182695592 152672369 149761369 158395136 158066624 150709546\n",
        " 153207765 154858705 190726534]"
       ]
      },
      {
       "output_type": "stream",
       "stream": "stdout",
       "text": [
        "\n",
        "175 unique segments, 284 unique candidate buddies of 3475 total pulled for activities [180684561 141948440 154484176 186133752 139267236 158066624 159930774\n",
        " 183873674 165641558 182228095]"
       ]
      },
      {
       "output_type": "stream",
       "stream": "stdout",
       "text": [
        "\n",
        "361 unique segments, 587 unique candidate buddies of 4760 total pulled for activities [145067224 181731079 183958958 137956514 157338936 183483625 131254030\n",
        " 148790344 152442271 139628924]"
       ]
      },
      {
       "output_type": "stream",
       "stream": "stdout",
       "text": [
        "\n",
        "379 unique segments, 649 unique candidate buddies of 5660 total pulled for activities [153557549 166518389 147834570 179784258 147131413 186500943 168742625\n",
        " 155134130 141048529 183211751]"
       ]
      },
      {
       "output_type": "stream",
       "stream": "stdout",
       "text": [
        "\n",
        "204 unique segments, 325 unique candidate buddies of 2887 total pulled for activities [141048529 176904268 173712297 188624079 133195370 170855494 183483625\n",
        " 162586449 170921074 184719106]"
       ]
      },
      {
       "output_type": "stream",
       "stream": "stdout",
       "text": [
        "\n",
        "345 unique segments, 542 unique candidate buddies of 4288 total pulled for activities [189444942 183521140 133707249 150229099 153557549 139048684 187617485\n",
        " 177776859 186500943 188094846]"
       ]
      },
      {
       "output_type": "stream",
       "stream": "stdout",
       "text": [
        "\n",
        "304 unique segments, 372 unique candidate buddies of 4008 total pulled for activities [156948195 135681620 165641541 166518389 137120141 160583561 180684561\n",
        " 186500943 174548540 133195370]"
       ]
      },
      {
       "output_type": "stream",
       "stream": "stdout",
       "text": [
        "\n",
        "381 unique segments, 641 unique candidate buddies of 4607 total pulled for activities [184719106 177101392 153557549 148790344 165824356 175057732 188094846\n",
        " 137120141 189444942 188624089 160937630]"
       ]
      },
      {
       "output_type": "stream",
       "stream": "stdout",
       "text": [
        "\n",
        "415 unique segments, 742 unique candidate buddies of 4792 total pulled for activities [183483625 185170358 171314195 142395565 164605315 180274516 151470230\n",
        " 165824356 186133752 190726534 167355325]"
       ]
      },
      {
       "output_type": "stream",
       "stream": "stdout",
       "text": [
        "\n",
        "281 unique segments, 449 unique candidate buddies of 4164 total pulled for activities [172883242 139990426 188624079 145614445 132083660 144299566 174548540\n",
        " 137956514 173712297 145067224 139628863]"
       ]
      },
      {
       "output_type": "stream",
       "stream": "stdout",
       "text": [
        "\n",
        "362 unique segments, 638 unique candidate buddies of 5264 total pulled for activities [187617485 137956514 139267236 163839035 137452889 162084530 141948440\n",
        " 182980558 139048684 153989258 171314195]"
       ]
      },
      {
       "output_type": "stream",
       "stream": "stdout",
       "text": [
        "\n",
        "303 unique segments, 491 unique candidate buddies of 4615 total pulled for activities [176110454 135859327 139267236 150229099 131254030 133195370 173712297\n",
        " 174548540 190358914 180684561 151470230]"
       ]
      },
      {
       "output_type": "stream",
       "stream": "stdout",
       "text": [
        "\n",
        "273 unique segments, 410 unique candidate buddies of 4818 total pulled for activities [180274516 180684561 184719106 136175701 148325894 177101392 174548540\n",
        " 183521140 190358914 185170358 160937630]"
       ]
      },
      {
       "output_type": "stream",
       "stream": "stdout",
       "text": [
        "\n",
        "428 unique segments, 697 unique candidate buddies of 3868 total pulled for activities [171619894 155134130 164605315 149606943 153207765 132083660 138363842\n",
        " 153557549 183521140 188624079 190726534]"
       ]
      },
      {
       "output_type": "stream",
       "stream": "stdout",
       "text": [
        "\n",
        "408 unique segments, 647 unique candidate buddies of 4960 total pulled for activities [185877350 181138778 140491602 164978987 186500943 164605315 154484176\n",
        " 138712026 179466327 177101392 153207765]"
       ]
      },
      {
       "output_type": "stream",
       "stream": "stdout",
       "text": [
        "\n",
        "334 unique segments, 484 unique candidate buddies of 4875 total pulled for activities [149761369 133707249 135681620 183873674 182228095 158395136 140491602\n",
        " 151470230 145067224 176110454 177776859]"
       ]
      },
      {
       "output_type": "stream",
       "stream": "stdout",
       "text": [
        "\n",
        "349 unique segments, 565 unique candidate buddies of 5540 total pulled for activities [190726534 153989258 176446726 176904268 160583561 147131413 176110454\n",
        " 136175701 138712026 140491602 162084530]"
       ]
      },
      {
       "output_type": "stream",
       "stream": "stdout",
       "text": [
        "\n",
        "270 unique segments, 437 unique candidate buddies of 3392 total pulled for activities [137956514 141948440 161288656 139628863 139628924 177101392 142395565\n",
        " 159804673 182695592 165641562 135681620]"
       ]
      },
      {
       "output_type": "stream",
       "stream": "stdout",
       "text": [
        "\n",
        "393 unique segments, 617 unique candidate buddies of 5272 total pulled for activities [153207765 179466327 140491602 177101392 180780690 174548540 159193656\n",
        " 151088766 163839035 182980558 152093643]"
       ]
      },
      {
       "output_type": "stream",
       "stream": "stdout",
       "text": [
        "\n",
        "343 unique segments, 538 unique candidate buddies of 4276 total pulled for activities [150709546 139048684 163839035 131254030 134522741 177776859 170921074\n",
        " 141048529 187617485 181731079 135859327]"
       ]
      },
      {
       "output_type": "stream",
       "stream": "stdout",
       "text": [
        "\n",
        "343 unique segments, 564 unique candidate buddies of 5580 total pulled for activities [137120141 169111350 187131382 183958958 149761369 148325894 139990426\n",
        " 168742625 177101392 141657997 133707249]"
       ]
      },
      {
       "output_type": "stream",
       "stream": "stdout",
       "text": [
        "\n",
        "177 unique segments, 271 unique candidate buddies of 3603 total pulled for activities [183211751 182228095 183521140 160583561 165641558 185877350 174548540\n",
        " 161288656 173712297 177776859 131592500]"
       ]
      },
      {
       "output_type": "stream",
       "stream": "stdout",
       "text": [
        "\n",
        "348 unique segments, 553 unique candidate buddies of 4324 total pulled for activities [172883242 139628924 159930774 180780690 150709546 165641541 134925051\n",
        " 150709501 139048684 171619894 148325894]"
       ]
      },
      {
       "output_type": "stream",
       "stream": "stdout",
       "text": [
        "\n",
        "391 unique segments, 660 unique candidate buddies of 6032 total pulled for activities [161765732 137120141 176446726 182695592 145067224 174548540 170921074\n",
        " 187131382 159193656 158766211 178769147]"
       ]
      },
      {
       "output_type": "stream",
       "stream": "stdout",
       "text": [
        "\n",
        "381 unique segments, 612 unique candidate buddies of 5680 total pulled for activities [147131413 138363842 141048529 154484176 183483625 153989258 180274516\n",
        " 157338936 131254030 186500943 152442271]"
       ]
      },
      {
       "output_type": "stream",
       "stream": "stdout",
       "text": [
        "\n",
        "397 unique segments, 665 unique candidate buddies of 4244 total pulled for activities [137452889 160937630 150229099 153557549 174050208 163520175 176110454\n",
        " 141948440 163839035 173712297 184426519]"
       ]
      },
      {
       "output_type": "stream",
       "stream": "stdout",
       "text": [
        "\n",
        "438 unique segments, 691 unique candidate buddies of 6568 total pulled for activities [174548540 182980558 179784258 153989258 169998421 149761369 144299566\n",
        " 148790344 160937630 152442271 136175701]"
       ]
      },
      {
       "output_type": "stream",
       "stream": "stdout",
       "text": [
        "\n",
        "357 unique segments, 568 unique candidate buddies of 5056 total pulled for activities [173712297 153557549 165641541 177101392 131254030 170921074 134925051\n",
        " 185877350 187131382 183211751 189444942]"
       ]
      },
      {
       "output_type": "stream",
       "stream": "stdout",
       "text": [
        "\n",
        "264 unique segments, 371 unique candidate buddies of 4004 total pulled for activities [149606943 174548540 186500943 183521140 187617485 158395136 180595398\n",
        " 166518389 152672369 135681620 188624079]"
       ]
      },
      {
       "output_type": "stream",
       "stream": "stdout",
       "text": [
        "\n",
        "367 unique segments, 655 unique candidate buddies of 5396 total pulled for activities [140491602 180684561 168742625 159930774 173712297 142897914 177101392\n",
        " 166518389 153557549 165641558 145614445]"
       ]
      },
      {
       "output_type": "stream",
       "stream": "stdout",
       "text": [
        "\n",
        "380 unique segments, 699 unique candidate buddies of 5028 total pulled for activities [150229099 141048529 147834570 167355325 141948440 154858705 151088766\n",
        " 132083660 152672369 175057732 171314195]"
       ]
      },
      {
       "output_type": "stream",
       "stream": "stdout",
       "text": [
        "\n",
        "287 unique segments, 483 unique candidate buddies of 4420 total pulled for activities [174050208 132083660 171619894 139628863 177101392 131254030 141048529\n",
        " 165641541 183521140 157338936 163839035]"
       ]
      },
      {
       "output_type": "stream",
       "stream": "stdout",
       "text": [
        "\n",
        "337 unique segments, 573 unique candidate buddies of 4332 total pulled for activities [184426519 185877350 141657997 174548540 165824356 159930774 180780690\n",
        " 178769147 179466327 137452889 145614445 139628924]"
       ]
      },
      {
       "output_type": "stream",
       "stream": "stdout",
       "text": [
        "\n",
        "443 unique segments, 817 unique candidate buddies of 5872 total pulled for activities [151470230 134925051 181731079 145614445 161765732 176446726 173712297\n",
        " 176110454 171314195 137120141 150229099 142395575]"
       ]
      },
      {
       "output_type": "stream",
       "stream": "stdout",
       "text": [
        "\n",
        "390 unique segments, 710 unique candidate buddies of 5156 total pulled for activities [147834570 183834358 161765732 165824356 173712297 168742625 180780690\n",
        " 174548540 163520175 132399253 187617485 142395575]"
       ]
      },
      {
       "output_type": "stream",
       "stream": "stdout",
       "text": [
        "\n",
        "306 unique segments, 496 unique candidate buddies of 4785 total pulled for activities [151088766 150229099 139628924 182228095 181138761 180595398 152093643\n",
        " 188624089 191460703 131254030 141657997 191932307]"
       ]
      },
      {
       "output_type": "stream",
       "stream": "stdout",
       "text": [
        "\n",
        "522 unique segments, 929 unique candidate buddies of 7076 total pulled for activities [154484176 191932307 161288656 139267236 153207765 147834570 134925051\n",
        " 153989258 186133752 137120141 171314195 150229099]"
       ]
      },
      {
       "output_type": "stream",
       "stream": "stdout",
       "text": [
        "\n",
        "430 unique segments, 709 unique candidate buddies of 5000 total pulled for activities [158766211 142395575 150709501 182980558 139628924 145614445 133707249\n",
        " 137120141 139267236 165824356 139048684 176110454]"
       ]
      },
      {
       "output_type": "stream",
       "stream": "stdout",
       "text": [
        "\n",
        "406 unique segments, 618 unique candidate buddies of 4811 total pulled for activities [180274516 180684561 180780690 178769147 176446726 133195370 190358914\n",
        " 137120141 173712297 153989258 145614445 144299566]"
       ]
      },
      {
       "output_type": "stream",
       "stream": "stdout",
       "text": [
        "\n",
        "327 unique segments, 522 unique candidate buddies of 5474 total pulled for activities [165641562 191460703 174548540 153989258 159930774 141048529 177776859\n",
        " 170921074 154858705 164978987 167355325 183958958]"
       ]
      },
      {
       "output_type": "stream",
       "stream": "stdout",
       "text": [
        "\n",
        "402 unique segments, 592 unique candidate buddies of 4187 total pulled for activities [183873674 176446726 164605315 164978987 180684561 150229099 188094846\n",
        " 131592500 181138778 175057732 179784258 190358914]"
       ]
      },
      {
       "output_type": "stream",
       "stream": "stdout",
       "text": [
        "\n",
        "320 unique segments, 520 unique candidate buddies of 5588 total pulled for activities [156948195 183834358 187131382 159930774 161288656 139990426 191932307\n",
        " 183211751 175057732 151470230 165641558 180274516]"
       ]
      },
      {
       "output_type": "stream",
       "stream": "stdout",
       "text": [
        "\n",
        "290 unique segments, 382 unique candidate buddies of 4332 total pulled for activities [159193656 170921074 180780690 149606943 187131382 149761369 155134130\n",
        " 165641541 183483625 139628863 181138778 182695592]"
       ]
      },
      {
       "output_type": "stream",
       "stream": "stdout",
       "text": [
        "\n",
        "387 unique segments, 658 unique candidate buddies of 6450 total pulled for activities [142395565 190726534 191460703 188094846 163839035 157577381 149606943\n",
        " 141657997 138712026 185877350 157338936 139267236]"
       ]
      },
      {
       "output_type": "stream",
       "stream": "stdout",
       "text": [
        "\n",
        "273 unique segments, 406 unique candidate buddies of 3055 total pulled for activities [176110454 136175701 176904268 184719106 189444942 180684561 183521140\n",
        " 174050208 171619894 134522741 184426519 185170358]"
       ]
      },
      {
       "output_type": "stream",
       "stream": "stdout",
       "text": [
        "\n",
        "381 unique segments, 636 unique candidate buddies of 4984 total pulled for activities [156948195 159804673 142395565 133555755 131592500 165641541 148790344\n",
        " 174548540 160583561 139048684 171314195 183873674]"
       ]
      },
      {
       "output_type": "stream",
       "stream": "stdout",
       "text": [
        "\n",
        "421 unique segments, 708 unique candidate buddies of 6236 total pulled for activities [159193656 163839035 183834358 147834570 160937630 168742625 154858705\n",
        " 181138778 180780690 150709501 187131382 144299566]"
       ]
      },
      {
       "output_type": "stream",
       "stream": "stdout",
       "text": [
        "\n",
        "398 unique segments, 706 unique candidate buddies of 6016 total pulled for activities [189444942 142395575 176446726 186500943 158766211 149606943 167355325\n",
        " 187131382 153989258 132083660 188624079 163839035]"
       ]
      },
      {
       "output_type": "stream",
       "stream": "stdout",
       "text": [
        "\n",
        "300 unique segments, 451 unique candidate buddies of 4660 total pulled for activities [183873674 139048684 148325894 183958958 138712026 159930774 186133752\n",
        " 166518389 165641541 158066624 187617485 164978987]"
       ]
      },
      {
       "output_type": "stream",
       "stream": "stdout",
       "text": [
        "\n",
        "307 unique segments, 495 unique candidate buddies of 4100 total pulled for activities [135859327 154484176 178769147 188094846 180684561 131254030 149606943\n",
        " 150709546 141048529 148790344 188624079 131592500]"
       ]
      },
      {
       "output_type": "stream",
       "stream": "stdout",
       "text": [
        "\n",
        "282 unique segments, 472 unique candidate buddies of 5008 total pulled for activities [160937630 166518389 182980558 174548540 161288656 168742625 179466327\n",
        " 180595398 165641562 141948440 150229099 150709501]"
       ]
      },
      {
       "output_type": "stream",
       "stream": "stdout",
       "text": [
        "\n",
        "237 unique segments, 393 unique candidate buddies of 4627 total pulled for activities [172883242 157338936 162586449 154484176 158066624 153989258 176904268\n",
        " 179466327 190358914 156948195 187617485 155824031]"
       ]
      },
      {
       "output_type": "stream",
       "stream": "stdout",
       "text": [
        "\n",
        "361 unique segments, 515 unique candidate buddies of 4607 total pulled for activities [132399253 145067224 149606943 157577381 181731079 136175701 182228095\n",
        " 162084530 185170358 160937630 142395575 163520175]"
       ]
      },
      {
       "output_type": "stream",
       "stream": "stdout",
       "text": [
        "\n",
        "239 unique segments, 356 unique candidate buddies of 4343 total pulled for activities [170855494 190358914 133195370 185877350 142395575 142897914 183211751\n",
        " 148325894 165641541 183483625 191932307 152093643]"
       ]
      },
      {
       "output_type": "stream",
       "stream": "stdout",
       "text": [
        "\n",
        "284 unique segments, 508 unique candidate buddies of 5500 total pulled for activities [183873674 191932307 165641541 176446726 138712026 172883242 158766211\n",
        " 170921074 139990426 180274516 187131382 154484176]"
       ]
      },
      {
       "output_type": "stream",
       "stream": "stdout",
       "text": [
        "\n",
        "316 unique segments, 552 unique candidate buddies of 4872 total pulled for activities [173712297 142897914 169998421 153557549 170748389 171619894 157577381\n",
        " 183958958 158766211 170921074 154858705 157338936]"
       ]
      },
      {
       "output_type": "stream",
       "stream": "stdout",
       "text": [
        "\n",
        "507 unique segments, 886 unique candidate buddies of 5496 total pulled for activities [148325894 147834570 169111350 151470230 175057732 180595398 158066624\n",
        " 160583561 181138761 182980558 134925051 133555755]"
       ]
      },
      {
       "output_type": "stream",
       "stream": "stdout",
       "text": [
        "\n",
        "497 unique segments, 798 unique candidate buddies of 6696 total pulled for activities [166518389 153989258 183958958 145614445 145067224 183834358 180274516\n",
        " 186133752 187617485 174548540 133707249 157338936 189444942]"
       ]
      },
      {
       "output_type": "stream",
       "stream": "stdout",
       "text": [
        "\n",
        "529 unique segments, 858 unique candidate buddies of 5896 total pulled for activities [188094846 144299566 183483625 189444942 190726534 174050208 141048529\n",
        " 159193656 134522741 150709501 155134130 153207765 179466327]"
       ]
      },
      {
       "output_type": "stream",
       "stream": "stdout",
       "text": [
        "\n",
        "264 unique segments, 406 unique candidate buddies of 3735 total pulled for activities [182980558 166518389 154858705 153557549 171619894 180684561 183958958\n",
        " 184719106 148790344 139048684 160583561 137956514 164978987]"
       ]
      },
      {
       "output_type": "stream",
       "stream": "stdout",
       "text": [
        "\n",
        "418 unique segments, 698 unique candidate buddies of 5713 total pulled for activities [181138778 151470230 135681620 190726534 152093643 191460703 186500943\n",
        " 187617485 137452889 179784258 184719106 141657997 183834358]"
       ]
      },
      {
       "output_type": "stream",
       "stream": "stdout",
       "text": [
        "\n",
        "342 unique segments, 583 unique candidate buddies of 4471 total pulled for activities [182695592 132399253 154858705 142395575 159724740 141948440 145067224\n",
        " 165641541 187617485 150709501 190358914 142395565 147834570]"
       ]
      },
      {
       "output_type": "stream",
       "stream": "stdout",
       "text": [
        "\n",
        "359 unique segments, 584 unique candidate buddies of 5584 total pulled for activities [149606943 174050208 139267236 179784258 149761369 158766211 183521140\n",
        " 178769147 179466327 148325894 158066624 158395136 154858705]"
       ]
      },
      {
       "output_type": "stream",
       "stream": "stdout",
       "text": [
        "\n",
        "263 unique segments, 433 unique candidate buddies of 3860 total pulled for activities [154858705 165641558 180274516 180684561 161765732 183211751 144299566\n",
        " 170921074 184426519 171619894 155824031 165824356 157338936]"
       ]
      },
      {
       "output_type": "stream",
       "stream": "stdout",
       "text": [
        "\n",
        "457 unique segments, 780 unique candidate buddies of 5852 total pulled for activities [186500943 183483625 185170358 153989258 153207765 170921074 160937630\n",
        " 147834570 183873674 169998421 131592500 183521140 188094846]"
       ]
      },
      {
       "output_type": "stream",
       "stream": "stdout",
       "text": [
        "\n",
        "424 unique segments, 672 unique candidate buddies of 5007 total pulled for activities [159724740 142395565 165641562 162084530 134925051 182228095 137956514\n",
        " 149606943 133707249 153207765 144299566 183873674 163520175]"
       ]
      },
      {
       "output_type": "stream",
       "stream": "stdout",
       "text": [
        "\n",
        "406 unique segments, 609 unique candidate buddies of 4868 total pulled for activities [133195370 179466327 134522741 135681620 137120141 154484176 137956514\n",
        " 182695592 188624079 191932307 159804673 187131382 152442271]"
       ]
      },
      {
       "output_type": "stream",
       "stream": "stdout",
       "text": [
        "\n",
        "353 unique segments, 596 unique candidate buddies of 4980 total pulled for activities [191932307 148325894 133195370 154484176 181138778 162084530 144299566\n",
        " 147834570 159930774 180780690 185170358 142395565 183483625]"
       ]
      },
      {
       "output_type": "stream",
       "stream": "stdout",
       "text": [
        "\n",
        "358 unique segments, 580 unique candidate buddies of 4979 total pulled for activities [161765732 181138778 142897914 190726534 149761369 182228095 151088766\n",
        " 135681620 178769147 147131413 176904268 175057732 170748389]"
       ]
      },
      {
       "output_type": "stream",
       "stream": "stdout",
       "text": [
        "\n",
        "323 unique segments, 480 unique candidate buddies of 4847 total pulled for activities [187617485 165641541 148790344 141948440 135681620 161765732 179784258\n",
        " 152093643 184719106 169998421 156948195 160583561 177776859]"
       ]
      },
      {
       "output_type": "stream",
       "stream": "stdout",
       "text": [
        "\n",
        "401 unique segments, 653 unique candidate buddies of 4871 total pulled for activities [148325894 169998421 174548540 190358914 168742625 133707249 141048529\n",
        " 184426519 171314195 153989258 134925051 172883242 157338936]"
       ]
      },
      {
       "output_type": "stream",
       "stream": "stdout",
       "text": [
        "\n",
        "365 unique segments, 522 unique candidate buddies of 3456 total pulled for activities [135859327 135681620 182228095 184719106 137120141 161288656 181138761\n",
        " 187617485 133195370 165641558 182980558 191460703 174050208]"
       ]
      },
      {
       "output_type": "stream",
       "stream": "stdout",
       "text": [
        "\n",
        "488 unique segments, 816 unique candidate buddies of 6892 total pulled for activities [174548540 181138778 188094846 142395575 158766211 156948195 145067224\n",
        " 134522741 176110454 151470230 150229099 137452889 179784258]"
       ]
      },
      {
       "output_type": "stream",
       "stream": "stdout",
       "text": [
        "\n",
        "432 unique segments, 691 unique candidate buddies of 4931 total pulled for activities [174548540 155824031 190726534 148790344 147834570 165641541 179784258\n",
        " 140491602 174050208 190358914 134522741 171619894 133707249]"
       ]
      },
      {
       "output_type": "stream",
       "stream": "stdout",
       "text": [
        "\n",
        "318 unique segments, 528 unique candidate buddies of 4819 total pulled for activities [179466327 181731079 191932307 152093643 162586449 171314195 187131382\n",
        " 184719106 139990426 165641541 176446726 180684561 155134130]"
       ]
      },
      {
       "output_type": "stream",
       "stream": "stdout",
       "text": [
        "\n",
        "420 unique segments, 680 unique candidate buddies of 5544 total pulled for activities [186133752 158766211 182695592 168742625 188624089 136175701 183958958\n",
        " 132399253 176446726 150709546 172883242 170921074 178769147]"
       ]
      },
      {
       "output_type": "stream",
       "stream": "stdout",
       "text": [
        "\n",
        "464 unique segments, 784 unique candidate buddies of 5948 total pulled for activities [139628863 180595398 153557549 188094846 162586449 152442271 181731079\n",
        " 157338936 156948195 176904268 149761369 171314195 131254030]"
       ]
      },
      {
       "output_type": "stream",
       "stream": "stdout",
       "text": [
        "\n",
        "353 unique segments, 531 unique candidate buddies of 4536 total pulled for activities [140491602 164978987 186133752 152672369 139628863 132399253 139267236\n",
        " 180780690 177776859 182695592 133707249 142395565 157338936]"
       ]
      },
      {
       "output_type": "stream",
       "stream": "stdout",
       "text": [
        "\n",
        "442 unique segments, 787 unique candidate buddies of 4327 total pulled for activities [164605315 133555755 159930774 180274516 161288656 183521140 181731079\n",
        " 149761369 162586449 150709546 184719106 134522741 165824356]"
       ]
      },
      {
       "output_type": "stream",
       "stream": "stdout",
       "text": [
        "\n",
        "397 unique segments, 714 unique candidate buddies of 6480 total pulled for activities [172883242 176110454 139628924 170921074 174050208 154484176 191932307\n",
        " 156948195 168742625 158766211 152672369 178769147 155824031]"
       ]
      },
      {
       "output_type": "stream",
       "stream": "stdout",
       "text": [
        "\n",
        "417 unique segments, 701 unique candidate buddies of 5063 total pulled for activities [150709546 150709501 135859327 145067224 151088766 134925051 138712026\n",
        " 183521140 141948440 137452889 180780690 165641562 190358914]"
       ]
      },
      {
       "output_type": "stream",
       "stream": "stdout",
       "text": [
        "\n",
        "507 unique segments, 782 unique candidate buddies of 5023 total pulled for activities [154484176 160937630 155134130 184426519 157338936 165824356 164605315\n",
        " 153557549 153207765 140491602 182695592 169998421 184719106]"
       ]
      },
      {
       "output_type": "stream",
       "stream": "stdout",
       "text": [
        "\n",
        "391 unique segments, 527 unique candidate buddies of 4598 total pulled for activities [191460703 163520175 159193656 185877350 142395565 155824031 135681620\n",
        " 132083660 165641541 157577381 177776859 144299566 188094846 142897914]"
       ]
      },
      {
       "output_type": "stream",
       "stream": "stdout",
       "text": [
        "\n",
        "266 unique segments, 427 unique candidate buddies of 4232 total pulled for activities [165641541 184426519 141948440 170921074 138712026 141048529 131592500\n",
        " 170748389 163520175 161288656 159724740 157338936 159930774 162586449]"
       ]
      },
      {
       "output_type": "stream",
       "stream": "stdout",
       "text": [
        "\n",
        "506 unique segments, 834 unique candidate buddies of 6056 total pulled for activities [162586449 187131382 170748389 186500943 188624079 132399253 153207765\n",
        " 139628863 135859327 139048684 131254030 137120141 149761369 149606943]"
       ]
      },
      {
       "output_type": "stream",
       "stream": "stdout",
       "text": [
        "\n",
        "355 unique segments, 514 unique candidate buddies of 5111 total pulled for activities [142395575 183483625 182980558 182695592 133195370 185170358 135859327\n",
        " 154484176 170855494 141048529 145067224 157577381 180684561 182228095]"
       ]
      },
      {
       "output_type": "stream",
       "stream": "stdout",
       "text": [
        "\n",
        "530 unique segments, 903 unique candidate buddies of 5888 total pulled for activities [147131413 152442271 133555755 170855494 169998421 180780690 189444942\n",
        " 166518389 176446726 142897914 152093643 165641558 155134130 134522741]"
       ]
      },
      {
       "output_type": "stream",
       "stream": "stdout",
       "text": [
        "\n",
        "335 unique segments, 540 unique candidate buddies of 4976 total pulled for activities [155824031 181731079 137120141 183483625 139628924 137956514 159724740\n",
        " 178769147 191932307 172883242 180684561 183958958 181138761 159804673]"
       ]
      },
      {
       "output_type": "stream",
       "stream": "stdout",
       "text": [
        "\n",
        "518 unique segments, 885 unique candidate buddies of 6303 total pulled for activities [188624079 135681620 180684561 167355325 181731079 162586449 180274516\n",
        " 148790344 174050208 133195370 139990426 147834570 145614445 184719106]"
       ]
      },
      {
       "output_type": "stream",
       "stream": "stdout",
       "text": [
        "\n",
        "397 unique segments, 586 unique candidate buddies of 5171 total pulled for activities [190358914 163520175 184426519 178769147 185877350 183873674 132399253\n",
        " 149606943 161288656 179784258 155824031 139628924 141048529 182980558]"
       ]
      },
      {
       "output_type": "stream",
       "stream": "stdout",
       "text": [
        "\n",
        "392 unique segments, 648 unique candidate buddies of 4372 total pulled for activities [132083660 134925051 138363842 155824031 153557549 147834570 171619894\n",
        " 165641558 158066624 181731079 183873674 190726534 180274516 166518389]"
       ]
      },
      {
       "output_type": "stream",
       "stream": "stdout",
       "text": [
        "\n",
        "345 unique segments, 608 unique candidate buddies of 4891 total pulled for activities [190726534 180595398 165641558 148325894 131592500 163839035 142897914\n",
        " 184719106 141048529 187131382 142395565 177776859 174050208 150229099]"
       ]
      },
      {
       "output_type": "stream",
       "stream": "stdout",
       "text": [
        "\n",
        "389 unique segments, 656 unique candidate buddies of 4235 total pulled for activities [169998421 184719106 188624089 139628863 187131382 165824356 165641562\n",
        " 155134130 163839035 176446726 188094846 158395136 145614445 153557549]"
       ]
      },
      {
       "output_type": "stream",
       "stream": "stdout",
       "text": [
        "\n",
        "451 unique segments, 766 unique candidate buddies of 5996 total pulled for activities [175057732 165824356 180274516 178769147 158395136 177101392 177776859\n",
        " 184426519 156948195 137120141 135859327 182695592 158766211 159930774]"
       ]
      },
      {
       "output_type": "stream",
       "stream": "stdout",
       "text": [
        "\n",
        "537 unique segments, 920 unique candidate buddies of 6400 total pulled for activities [176446726 157338936 132083660 132399253 171314195 134925051 174050208\n",
        " 188624079 155824031 139628924 131254030 160937630 152093643 148325894]"
       ]
      },
      {
       "output_type": "stream",
       "stream": "stdout",
       "text": [
        "\n",
        "417 unique segments, 657 unique candidate buddies of 5211 total pulled for activities [132399253 191932307 182228095 135681620 171619894 176904268 180274516\n",
        " 156948195 153557549 185170358 147834570 178769147 172883242 147131413]"
       ]
      },
      {
       "output_type": "stream",
       "stream": "stdout",
       "text": [
        "\n",
        "354 unique segments, 569 unique candidate buddies of 5440 total pulled for activities [184426519 181138761 176110454 154858705 166518389 135681620 190726534\n",
        " 152672369 180274516 162586449 157338936 158395136 188624089 154484176]"
       ]
      },
      {
       "output_type": "stream",
       "stream": "stdout",
       "text": [
        "\n",
        "381 unique segments, 585 unique candidate buddies of 4924 total pulled for activities [162084530 157338936 181138761 139048684 187617485 169111350 176110454\n",
        " 181731079 183483625 133707249 188094846 155134130 161765732 176904268]"
       ]
      },
      {
       "output_type": "stream",
       "stream": "stdout",
       "text": [
        "\n",
        "458 unique segments, 815 unique candidate buddies of 5724 total pulled for activities [162586449 137452889 184426519 147834570 188624079 161288656 162084530\n",
        " 161765732 178769147 171619894 168742625 153989258 139628863 171314195]"
       ]
      },
      {
       "output_type": "stream",
       "stream": "stdout",
       "text": [
        "\n",
        "477 unique segments, 839 unique candidate buddies of 6764 total pulled for activities [152672369 189444942 142897914 157338936 165824356 162586449 183958958\n",
        " 175057732 171314195 159193656 151470230 160583561 178769147 190726534]"
       ]
      },
      {
       "output_type": "stream",
       "stream": "stdout",
       "text": [
        "\n",
        "464 unique segments, 700 unique candidate buddies of 4359 total pulled for activities [142395565 158395136 160937630 170921074 134522741 166518389 133195370\n",
        " 180274516 139628924 153207765 181731079 171619894 175057732 190358914]"
       ]
      },
      {
       "output_type": "stream",
       "stream": "stdout",
       "text": [
        "\n",
        "321 unique segments, 526 unique candidate buddies of 4900 total pulled for activities [160583561 183958958 165641562 133195370 190726534 177776859 151470230\n",
        " 139048684 179466327 165641541 188624089 152672369 172883242 183873674]"
       ]
      },
      {
       "output_type": "stream",
       "stream": "stdout",
       "text": [
        "\n",
        "335 unique segments, 478 unique candidate buddies of 4720 total pulled for activities [141948440 191932307 188624089 135681620 169998421 155824031 147131413\n",
        " 166518389 159804673 139628863 158395136 138712026 142897914 178769147]"
       ]
      },
      {
       "output_type": "stream",
       "stream": "stdout",
       "text": [
        "\n",
        "373 unique segments, 620 unique candidate buddies of 5471 total pulled for activities [165641558 154858705 166518389 188624079 183211751 159804673 158395136\n",
        " 158066624 178769147 137452889 179784258 142897914 182228095 163839035]"
       ]
      },
      {
       "output_type": "stream",
       "stream": "stdout",
       "text": [
        "\n",
        "375 unique segments, 598 unique candidate buddies of 5496 total pulled for activities [181138778 163839035 185170358 156948195 151470230 155824031 151088766\n",
        " 154858705 159193656 139990426 150709501 153557549 172883242 176446726]"
       ]
      },
      {
       "output_type": "stream",
       "stream": "stdout",
       "text": [
        "\n",
        "227 unique segments, 294 unique candidate buddies of 3723 total pulled for activities [161288656 170921074 186133752 170855494 142395565 141948440 181138761\n",
        " 159724740 169111350 174548540 185170358 190358914 139628863 163520175]"
       ]
      },
      {
       "output_type": "stream",
       "stream": "stdout",
       "text": [
        "\n",
        "498 unique segments, 761 unique candidate buddies of 4908 total pulled for activities [180780690 134925051 139628863 141657997 174050208 131592500 138712026\n",
        " 183958958 162586449 186133752 150709501 164605315 166518389 188094846]"
       ]
      },
      {
       "output_type": "stream",
       "stream": "stdout",
       "text": [
        "\n",
        "417 unique segments, 632 unique candidate buddies of 6164 total pulled for activities [153989258 181731079 163520175 132399253 191932307 170748389 159193656\n",
        " 189444942 172883242 150709501 176110454 170855494 179466327 186133752\n",
        " 165641541]"
       ]
      },
      {
       "output_type": "stream",
       "stream": "stdout",
       "text": [
        "\n",
        "451 unique segments, 750 unique candidate buddies of 6632 total pulled for activities [153989258 165641541 138712026 177101392 157577381 180780690 180684561\n",
        " 161765732 154858705 159804673 176904268 160583561 137120141 190726534\n",
        " 183873674]"
       ]
      },
      {
       "output_type": "stream",
       "stream": "stdout",
       "text": [
        "\n",
        "416 unique segments, 623 unique candidate buddies of 5232 total pulled for activities [180274516 159930774 139628924 150229099 163839035 135681620 182980558\n",
        " 141657997 131254030 142395565 141948440 187131382 132083660 163520175\n",
        " 188094846]"
       ]
      },
      {
       "output_type": "stream",
       "stream": "stdout",
       "text": [
        "\n",
        "368 unique segments, 576 unique candidate buddies of 5036 total pulled for activities [181138778 183958958 136175701 139628924 162084530 161765732 179784258\n",
        " 139048684 163839035 191932307 186500943 150709546 177776859 137120141\n",
        " 154858705]"
       ]
      },
      {
       "output_type": "stream",
       "stream": "stdout",
       "text": [
        "\n",
        "329 unique segments, 545 unique candidate buddies of 5340 total pulled for activities [185170358 190726534 149761369 138712026 180780690 161765732 150709501\n",
        " 161288656 156948195 139990426 159930774 166518389 170921074 171619894\n",
        " 141948440]"
       ]
      },
      {
       "output_type": "stream",
       "stream": "stdout",
       "text": [
        "\n",
        "426 unique segments, 715 unique candidate buddies of 5168 total pulled for activities [163839035 170748389 150229099 164978987 133555755 166518389 165641562\n",
        " 181138761 180595398 141948440 183873674 132083660 176904268 157577381\n",
        " 185877350]"
       ]
      },
      {
       "output_type": "stream",
       "stream": "stdout",
       "text": [
        "\n",
        "327 unique segments, 547 unique candidate buddies of 5944 total pulled for activities [150229099 161288656 183873674 186500943 157577381 161765732 152672369\n",
        " 170921074 173712297 149606943 152093643 183958958 160583561 148325894\n",
        " 158066624]"
       ]
      },
      {
       "output_type": "stream",
       "stream": "stdout",
       "text": [
        "\n",
        "694 unique segments, 1138 unique candidate buddies of 6648 total pulled for activities [181138761 160937630 176110454 153557549 187131382 164605315 167355325\n",
        " 153989258 133555755 141948440 186133752 158395136 133707249 148790344\n",
        " 153207765]"
       ]
      },
      {
       "output_type": "stream",
       "stream": "stdout",
       "text": [
        "\n",
        "552 unique segments, 981 unique candidate buddies of 6916 total pulled for activities [168742625 147834570 133707249 162586449 137452889 152442271 172883242\n",
        " 158066624 155824031 148325894 186133752 188094846 161288656 157338936\n",
        " 188624079]"
       ]
      },
      {
       "output_type": "stream",
       "stream": "stdout",
       "text": [
        "\n",
        "492 unique segments, 845 unique candidate buddies of 6088 total pulled for activities [166518389 141048529 168742625 133555755 181731079 154858705 140491602\n",
        " 147131413 186500943 163520175 180595398 171314195 176904268 148790344\n",
        " 137120141]"
       ]
      },
      {
       "output_type": "stream",
       "stream": "stdout",
       "text": [
        "\n",
        "435 unique segments, 734 unique candidate buddies of 5911 total pulled for activities [190358914 141657997 160583561 174548540 165641562 134522741 153557549\n",
        " 153989258 191932307 137452889 163839035 177776859 152672369 168742625\n",
        " 159804673]"
       ]
      },
      {
       "output_type": "stream",
       "stream": "stdout",
       "text": [
        "\n",
        "400 unique segments, 689 unique candidate buddies of 5919 total pulled for activities [184719106 188624079 167355325 182695592 162084530 180274516 134522741\n",
        " 170748389 177101392 137956514 152672369 183834358 163839035 187617485\n",
        " 163520175]"
       ]
      },
      {
       "output_type": "stream",
       "stream": "stdout",
       "text": [
        "\n",
        "579 unique segments, 910 unique candidate buddies of 6372 total pulled for activities [186500943 135859327 155824031 153989258 183958958 152442271 188624079\n",
        " 157338936 164605315 175057732 160937630 133195370 163839035 144299566\n",
        " 181731079]"
       ]
      },
      {
       "output_type": "stream",
       "stream": "stdout",
       "text": [
        "\n",
        "488 unique segments, 714 unique candidate buddies of 5952 total pulled for activities [142897914 141657997 180780690 152672369 164605315 188094846 161765732\n",
        " 133195370 131254030 182980558 159724740 177101392 157338936 181138761\n",
        " 157577381]"
       ]
      },
      {
       "output_type": "stream",
       "stream": "stdout",
       "text": [
        "\n",
        "425 unique segments, 702 unique candidate buddies of 5631 total pulled for activities [171619894 139267236 184719106 169111350 159804673 160937630 177776859\n",
        " 154858705 136175701 188624079 137452889 133195370 181138778 147834570\n",
        " 150709546]"
       ]
      },
      {
       "output_type": "stream",
       "stream": "stdout",
       "text": [
        "\n",
        "507 unique segments, 836 unique candidate buddies of 5440 total pulled for activities [165641558 153207765 165824356 150709501 181731079 179784258 176446726\n",
        " 188094846 133195370 150709546 162586449 159930774 183483625 174050208\n",
        " 151088766]"
       ]
      },
      {
       "output_type": "stream",
       "stream": "stdout",
       "text": [
        "\n",
        "494 unique segments, 808 unique candidate buddies of 6453 total pulled for activities [160583561 157338936 152442271 159804673 191460703 190358914 172883242\n",
        " 134925051 178769147 158395136 132083660 137452889 131254030 185877350\n",
        " 174548540]"
       ]
      },
      {
       "output_type": "stream",
       "stream": "stdout",
       "text": [
        "\n",
        "380 unique segments, 635 unique candidate buddies of 4843 total pulled for activities [150709501 187131382 176904268 181138761 183521140 162586449 182228095\n",
        " 182695592 135681620 157577381 150709546 187617485 139628924 132083660\n",
        " 171314195]"
       ]
      },
      {
       "output_type": "stream",
       "stream": "stdout",
       "text": [
        "\n",
        "454 unique segments, 688 unique candidate buddies of 4888 total pulled for activities [175057732 159930774 174050208 188624089 169998421 134925051 153989258\n",
        " 170855494 140491602 135681620 181138778 180274516 183958958 151470230\n",
        " 187617485]"
       ]
      },
      {
       "output_type": "stream",
       "stream": "stdout",
       "text": [
        "\n",
        "346 unique segments, 523 unique candidate buddies of 4500 total pulled for activities [183211751 179466327 137956514 180780690 155134130 181138761 183873674\n",
        " 183958958 190726534 139267236 142395575 142395565 139628924 186500943\n",
        " 150709501]"
       ]
      },
      {
       "output_type": "stream",
       "stream": "stdout",
       "text": [
        "\n",
        "389 unique segments, 664 unique candidate buddies of 6256 total pulled for activities [185877350 142897914 144299566 152093643 149606943 147131413 148325894\n",
        " 168742625 158766211 180274516 164978987 137452889 166518389 158066624\n",
        " 173712297]"
       ]
      },
      {
       "output_type": "stream",
       "stream": "stdout",
       "text": [
        "\n",
        "490 unique segments, 799 unique candidate buddies of 6055 total pulled for activities [150229099 178769147 168742625 151470230 164605315 182980558 166518389\n",
        " 175057732 152672369 183834358 190358914 149606943 134522741 151088766\n",
        " 163839035]"
       ]
      },
      {
       "output_type": "stream",
       "stream": "stdout",
       "text": [
        "\n",
        "503 unique segments, 790 unique candidate buddies of 5256 total pulled for activities [132399253 182695592 180274516 149606943 137956514 138363842 177776859\n",
        " 152093643 131592500 145067224 135859327 133555755 158395136 183958958\n",
        " 163520175]"
       ]
      },
      {
       "output_type": "stream",
       "stream": "stdout",
       "text": [
        "\n",
        "384 unique segments, 574 unique candidate buddies of 4012 total pulled for activities [150709501 175057732 187617485 182695592 155824031 135681620 181138778\n",
        " 141948440 174050208 145614445 163520175 171619894 187131382 180684561\n",
        " 189444942]"
       ]
      },
      {
       "output_type": "stream",
       "stream": "stdout",
       "text": [
        "\n",
        "428 unique segments, 610 unique candidate buddies of 5463 total pulled for activities [174050208 139628863 169998421 189444942 183521140 166518389 186500943\n",
        " 141048529 190358914 161288656 169111350 163520175 131254030 149606943\n",
        " 133195370]"
       ]
      },
      {
       "output_type": "stream",
       "stream": "stdout",
       "text": [
        "\n"
       ]
      },
      {
       "html": [
        "<div style=\"max-height:1000px;max-width:1500px;overflow:auto;\">\n",
        "<table border=\"1\" class=\"dataframe\">\n",
        "  <thead>\n",
        "    <tr style=\"text-align: right;\">\n",
        "      <th></th>\n",
        "      <th>fract_below</th>\n",
        "      <th>fract_below_random</th>\n",
        "      <th>median</th>\n",
        "      <th>median_random</th>\n",
        "      <th>miles</th>\n",
        "      <th>min</th>\n",
        "      <th>min_random</th>\n",
        "      <th>n_activities</th>\n",
        "    </tr>\n",
        "  </thead>\n",
        "  <tbody>\n",
        "    <tr>\n",
        "      <th>0</th>\n",
        "      <td> 0.000000</td>\n",
        "      <td> 0.034551</td>\n",
        "      <td>      NaN</td>\n",
        "      <td> 0.148998</td>\n",
        "      <td>  7.65</td>\n",
        "      <td>      NaN</td>\n",
        "      <td> 0.138161</td>\n",
        "      <td> 1</td>\n",
        "    </tr>\n",
        "    <tr>\n",
        "      <th>1</th>\n",
        "      <td> 0.797369</td>\n",
        "      <td> 0.034551</td>\n",
        "      <td> 0.256523</td>\n",
        "      <td> 0.148998</td>\n",
        "      <td> 17.11</td>\n",
        "      <td> 0.173924</td>\n",
        "      <td> 0.138161</td>\n",
        "      <td> 1</td>\n",
        "    </tr>\n",
        "    <tr>\n",
        "      <th>2</th>\n",
        "      <td> 0.964147</td>\n",
        "      <td> 0.034551</td>\n",
        "      <td> 0.328959</td>\n",
        "      <td> 0.148998</td>\n",
        "      <td> 51.36</td>\n",
        "      <td> 0.268146</td>\n",
        "      <td> 0.138161</td>\n",
        "      <td> 1</td>\n",
        "    </tr>\n",
        "    <tr>\n",
        "      <th>3</th>\n",
        "      <td> 0.000000</td>\n",
        "      <td> 0.034551</td>\n",
        "      <td>      NaN</td>\n",
        "      <td> 0.148998</td>\n",
        "      <td>  5.25</td>\n",
        "      <td>      NaN</td>\n",
        "      <td> 0.138161</td>\n",
        "      <td> 1</td>\n",
        "    </tr>\n",
        "    <tr>\n",
        "      <th>4</th>\n",
        "      <td> 0.936307</td>\n",
        "      <td> 0.034551</td>\n",
        "      <td> 0.325916</td>\n",
        "      <td> 0.148998</td>\n",
        "      <td> 37.91</td>\n",
        "      <td> 0.230309</td>\n",
        "      <td> 0.138161</td>\n",
        "      <td> 1</td>\n",
        "    </tr>\n",
        "  </tbody>\n",
        "</table>\n",
        "</div>"
       ],
       "metadata": {},
       "output_type": "pyout",
       "prompt_number": 102,
       "text": [
        "   fract_below  fract_below_random    median  median_random  miles       min  \\\n",
        "0     0.000000            0.034551       NaN       0.148998   7.65       NaN   \n",
        "1     0.797369            0.034551  0.256523       0.148998  17.11  0.173924   \n",
        "2     0.964147            0.034551  0.328959       0.148998  51.36  0.268146   \n",
        "3     0.000000            0.034551       NaN       0.148998   5.25       NaN   \n",
        "4     0.936307            0.034551  0.325916       0.148998  37.91  0.230309   \n",
        "\n",
        "   min_random  n_activities  \n",
        "0    0.138161             1  \n",
        "1    0.138161             1  \n",
        "2    0.138161             1  \n",
        "3    0.138161             1  \n",
        "4    0.138161             1  "
       ]
      }
     ],
     "prompt_number": 102
    },
    {
     "cell_type": "code",
     "collapsed": false,
     "input": [
      "result.tail()"
     ],
     "language": "python",
     "metadata": {},
     "outputs": [
      {
       "html": [
        "<div style=\"max-height:1000px;max-width:1500px;overflow:auto;\">\n",
        "<table border=\"1\" class=\"dataframe\">\n",
        "  <thead>\n",
        "    <tr style=\"text-align: right;\">\n",
        "      <th></th>\n",
        "      <th>fract_below</th>\n",
        "      <th>fract_below_random</th>\n",
        "      <th>median</th>\n",
        "      <th>median_random</th>\n",
        "      <th>miles</th>\n",
        "      <th>min</th>\n",
        "      <th>min_random</th>\n",
        "      <th>n_activities</th>\n",
        "    </tr>\n",
        "  </thead>\n",
        "  <tbody>\n",
        "    <tr>\n",
        "      <th>370</th>\n",
        "      <td> 0.990519</td>\n",
        "      <td> 0.034551</td>\n",
        "      <td> 0.423315</td>\n",
        "      <td> 0.148998</td>\n",
        "      <td> 480.51</td>\n",
        "      <td> 0.390957</td>\n",
        "      <td> 0.138161</td>\n",
        "      <td> 15</td>\n",
        "    </tr>\n",
        "    <tr>\n",
        "      <th>371</th>\n",
        "      <td> 0.990920</td>\n",
        "      <td> 0.034551</td>\n",
        "      <td> 0.456518</td>\n",
        "      <td> 0.148998</td>\n",
        "      <td> 505.42</td>\n",
        "      <td> 0.395897</td>\n",
        "      <td> 0.138161</td>\n",
        "      <td> 15</td>\n",
        "    </tr>\n",
        "    <tr>\n",
        "      <th>372</th>\n",
        "      <td> 0.990786</td>\n",
        "      <td> 0.034551</td>\n",
        "      <td> 0.489749</td>\n",
        "      <td> 0.148998</td>\n",
        "      <td> 437.79</td>\n",
        "      <td> 0.394092</td>\n",
        "      <td> 0.138161</td>\n",
        "      <td> 15</td>\n",
        "    </tr>\n",
        "    <tr>\n",
        "      <th>373</th>\n",
        "      <td> 0.989852</td>\n",
        "      <td> 0.034551</td>\n",
        "      <td> 0.432731</td>\n",
        "      <td> 0.148998</td>\n",
        "      <td> 447.97</td>\n",
        "      <td> 0.381458</td>\n",
        "      <td> 0.138161</td>\n",
        "      <td> 15</td>\n",
        "    </tr>\n",
        "    <tr>\n",
        "      <th>374</th>\n",
        "      <td> 0.992255</td>\n",
        "      <td> 0.034551</td>\n",
        "      <td> 0.495169</td>\n",
        "      <td> 0.148998</td>\n",
        "      <td> 464.49</td>\n",
        "      <td> 0.415876</td>\n",
        "      <td> 0.138161</td>\n",
        "      <td> 15</td>\n",
        "    </tr>\n",
        "  </tbody>\n",
        "</table>\n",
        "</div>"
       ],
       "metadata": {},
       "output_type": "pyout",
       "prompt_number": 103,
       "text": [
        "     fract_below  fract_below_random    median  median_random   miles  \\\n",
        "370     0.990519            0.034551  0.423315       0.148998  480.51   \n",
        "371     0.990920            0.034551  0.456518       0.148998  505.42   \n",
        "372     0.990786            0.034551  0.489749       0.148998  437.79   \n",
        "373     0.989852            0.034551  0.432731       0.148998  447.97   \n",
        "374     0.992255            0.034551  0.495169       0.148998  464.49   \n",
        "\n",
        "          min  min_random  n_activities  \n",
        "370  0.390957    0.138161            15  \n",
        "371  0.395897    0.138161            15  \n",
        "372  0.394092    0.138161            15  \n",
        "373  0.381458    0.138161            15  \n",
        "374  0.415876    0.138161            15  "
       ]
      }
     ],
     "prompt_number": 103
    },
    {
     "cell_type": "code",
     "collapsed": false,
     "input": [
      "result_nona = result.dropna()"
     ],
     "language": "python",
     "metadata": {},
     "outputs": [],
     "prompt_number": 106
    },
    {
     "cell_type": "code",
     "collapsed": false,
     "input": [
      "result_nona.plot(kind=\"scatter\", x=\"miles\", y=\"fract_below\")"
     ],
     "language": "python",
     "metadata": {},
     "outputs": [
      {
       "metadata": {},
       "output_type": "pyout",
       "prompt_number": 108,
       "text": [
        "<matplotlib.axes.AxesSubplot at 0x10e0fffd0>"
       ]
      },
      {
       "metadata": {},
       "output_type": "display_data",
       "png": "[encoded data removed]",
       "text": [
        "<matplotlib.figure.Figure at 0x10c42af50>"
       ]
      }
     ],
     "prompt_number": 108
    },
    {
     "cell_type": "code",
     "collapsed": false,
     "input": [
      "result_nona.plot(kind=\"scatter\", x=\"n_activities\", y=\"fract_below\")"
     ],
     "language": "python",
     "metadata": {},
     "outputs": [
      {
       "metadata": {},
       "output_type": "pyout",
       "prompt_number": 109,
       "text": [
        "<matplotlib.axes.AxesSubplot at 0x10c633150>"
       ]
      },
      {
       "metadata": {},
       "output_type": "display_data",
       "png": "[encoded data removed]",
       "text": [
        "<matplotlib.figure.Figure at 0x10c806210>"
       ]
      }
     ],
     "prompt_number": 109
    },
    {
     "cell_type": "code",
     "collapsed": false,
     "input": [
      "plt.figure()\n",
      "result_nona.plot(kind=\"scatter\", x=\"n_activities\", y=\"fract_below\", color='k').plot(kind=\"scatter\", x=\"n_activities\", y=\"fract_below_random\", color=\"r\")\n",
      "result_nona.plot(kind=\"scatter\", x=\"n_activities\", y=\"fract_below_random\", color=\"r\")"
     ],
     "language": "python",
     "metadata": {},
     "outputs": [
      {
       "metadata": {},
       "output_type": "pyout",
       "prompt_number": 114,
       "text": [
        "[]"
       ]
      },
      {
       "metadata": {},
       "output_type": "display_data",
       "text": [
        "<matplotlib.figure.Figure at 0x10c806510>"
       ]
      },
      {
       "metadata": {},
       "output_type": "display_data",
       "png": "[encoded data removed]",
       "text": [
        "<matplotlib.figure.Figure at 0x10df44a90>"
       ]
      }
     ],
     "prompt_number": 114
    },
    {
     "cell_type": "code",
     "collapsed": false,
     "input": [
      "result_nona.to_csv(\"validation.csv\")"
     ],
     "language": "python",
     "metadata": {},
     "outputs": [],
     "prompt_number": 115
    },
    {
     "cell_type": "code",
     "collapsed": false,
     "input": [
      "\t## useful for all athletes\\\n",
      "\t\t## conn\n",
      "\t\t## get norm data 1x\n",
      "\t\n",
      "\t## each athlete\n",
      "\t\t## get connections\n",
      "\t\t## get user ndata for scores, and remove user\n",
      "\t\t\n",
      "        # get all activity ids, and mileage for user\n",
      "        \n",
      "\t\t# compute similarity for all vs user \n",
      "\t\t\t# sample activity ids (try block)\n",
      "\t\t\t# get candidate buddies\n",
      "\t\t\t\t# compute min sim for 20\n",
      "\t\t\t\t# compute median sim for 20\n",
      "\t\t\t\t# compute % athletes below min\n",
      "\t\t\t\t# 100x sampling athletes, median sim "
     ],
     "language": "python",
     "metadata": {},
     "outputs": []
    }
   ],
   "metadata": {}
  }
 ]
}