{
 "metadata": {
  "name": ""
 },
 "nbformat": 3,
 "nbformat_minor": 0,
 "worksheets": [
  {
   "cells": [
    {
     "cell_type": "code",
     "collapsed": false,
     "input": [
      "import cookielib\n",
      "import time\n",
      "import urllib\n",
      "import urllib2\n",
      "\n",
      "from BeautifulSoup import BeautifulSoup\n",
      "from credentials import *\n",
      "\n",
      "TIME_BT_REQUESTS = 2\n",
      "\n",
      "def main():\n",
      "\tprint \"Logging in...\"\n",
      "\tcj = cookielib.CookieJar()\n",
      "\topener = urllib2.build_opener(urllib2.HTTPCookieProcessor(cj))\n",
      "\n",
      "\tf = opener.open('https://www.strava.com/login')\n",
      "\tsoup = BeautifulSoup(f.read())\n",
      "\n",
      "\ttime.sleep(TIME_BT_REQUESTS)\n",
      "\n",
      "\tutf8 = soup.findAll('input', {'name': 'utf8'})[0].get('value').encode('utf-8')\n",
      "\ttoken = soup.findAll('input', {'name': 'authenticity_token'})[0].get('value')\n",
      "\n",
      "\tvalues = {\n",
      "\t\t'utf8': utf8,\n",
      "\t\t'authenticity_token': token,\n",
      "\t\t'email': EMAIL,\n",
      "\t\t'password': PASSWORD,\n",
      "\t}\n",
      "\tdata = urllib.urlencode(values)\n",
      "\turl = 'https://www.strava.com/session'\n",
      "\tresponse = opener.open(url, data)\n",
      "\tsoup = BeautifulSoup(response.read())\n",
      "\n",
      "\tprint \"Logged in, let's see what's good...\"\n",
      "\n",
      "\ttime.sleep(TIME_BT_REQUESTS)\n",
      "\n",
      "\tf = opener.open('http://app.strava.com/challenges/rapha-rising-circle-of-death/')\n",
      "\tsoup = BeautifulSoup(f.read())\n",
      "\n",
      "\tprint soup\n",
      "\n",
      "main()"
     ],
     "language": "python",
     "metadata": {},
     "outputs": []
    }
   ],
   "metadata": {}
  }
 ]
}