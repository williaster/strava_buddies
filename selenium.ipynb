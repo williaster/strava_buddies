{
 "metadata": {
  "name": ""
 },
 "nbformat": 3,
 "nbformat_minor": 0,
 "worksheets": [
  {
   "cells": [
    {
     "cell_type": "code",
     "collapsed": false,
     "input": [
      "from selenium import webdriver\n",
      "from selenium.webdriver.common.keys import Keys"
     ],
     "language": "python",
     "metadata": {},
     "outputs": [
      {
       "ename": "ImportError",
       "evalue": "cannot import name ActionChains",
       "output_type": "pyerr",
       "traceback": [
        "\u001b[0;31m---------------------------------------------------------------------------\u001b[0m\n\u001b[0;31mImportError\u001b[0m                               Traceback (most recent call last)",
        "\u001b[0;32m<ipython-input-11-0fc41af0ff34>\u001b[0m in \u001b[0;36m<module>\u001b[0;34m()\u001b[0m\n\u001b[1;32m      1\u001b[0m \u001b[0;32mfrom\u001b[0m \u001b[0mselenium\u001b[0m \u001b[0;32mimport\u001b[0m \u001b[0mwebdriver\u001b[0m\u001b[0;34m\u001b[0m\u001b[0m\n\u001b[0;32m----> 2\u001b[0;31m \u001b[0;32mfrom\u001b[0m \u001b[0mselenium\u001b[0m \u001b[0;32mimport\u001b[0m \u001b[0mActionChains\u001b[0m\u001b[0;34m\u001b[0m\u001b[0m\n\u001b[0m\u001b[1;32m      3\u001b[0m \u001b[0;32mfrom\u001b[0m \u001b[0mselenium\u001b[0m\u001b[0;34m.\u001b[0m\u001b[0mwebdriver\u001b[0m\u001b[0;34m.\u001b[0m\u001b[0mcommon\u001b[0m\u001b[0;34m.\u001b[0m\u001b[0mkeys\u001b[0m \u001b[0;32mimport\u001b[0m \u001b[0mKeys\u001b[0m\u001b[0;34m\u001b[0m\u001b[0m\n",
        "\u001b[0;31mImportError\u001b[0m: cannot import name ActionChains"
       ]
      }
     ],
     "prompt_number": 11
    },
    {
     "cell_type": "code",
     "collapsed": false,
     "input": [
      "# user name and pw\n",
      "user = \"ustas06@hotmail.com\"\n",
      "pw   = \"tomgreen\""
     ],
     "language": "python",
     "metadata": {},
     "outputs": [],
     "prompt_number": 22
    },
    {
     "cell_type": "code",
     "collapsed": false,
     "input": [
      "driver = webdriver.Firefox() # chrome throws error ..."
     ],
     "language": "python",
     "metadata": {},
     "outputs": [],
     "prompt_number": 29
    },
    {
     "cell_type": "code",
     "collapsed": false,
     "input": [
      "driver.get(\"http://www.strava.com/login\")\n",
      "assert \"Strava\" in driver.title"
     ],
     "language": "python",
     "metadata": {},
     "outputs": [],
     "prompt_number": 25
    },
    {
     "cell_type": "code",
     "collapsed": false,
     "input": [
      "form_email    = driver.find_element_by_id(\"email\")\n",
      "form_pw       = driver.find_element_by_id(\"password\")\n",
      "button_submit = driver.find_element_by_id(\"login-button\")"
     ],
     "language": "python",
     "metadata": {},
     "outputs": [],
     "prompt_number": 26
    },
    {
     "cell_type": "code",
     "collapsed": false,
     "input": [
      "form_email.send_keys(user)\n",
      "form_pw.send_keys(pw)\n",
      "button_submit.click()"
     ],
     "language": "python",
     "metadata": {},
     "outputs": [],
     "prompt_number": 27
    },
    {
     "cell_type": "code",
     "collapsed": false,
     "input": [
      "driver.get(\"https://www.strava.com/register/free?utm_source=home-page\")"
     ],
     "language": "python",
     "metadata": {},
     "outputs": [],
     "prompt_number": 4
    },
    {
     "cell_type": "code",
     "collapsed": false,
     "input": [
      "menu   = driver.find_element_by_css_selector(\"li.user-menu\")\n",
      "logout = driver.find_element_by_xpath(\"//a[@href='/session']\")\n",
      "webdriver.ActionChains(driver).move_to_element(menu).click(logout).perform()"
     ],
     "language": "python",
     "metadata": {},
     "outputs": [],
     "prompt_number": 25
    },
    {
     "cell_type": "code",
     "collapsed": false,
     "input": [
      "driver.find_element_by_id(\"signup-button\").click()"
     ],
     "language": "python",
     "metadata": {},
     "outputs": [],
     "prompt_number": 27
    },
    {
     "cell_type": "code",
     "collapsed": false,
     "input": [
      "driver = webdriver.Firefox() # chrome throws error ..."
     ],
     "language": "python",
     "metadata": {},
     "outputs": [],
     "prompt_number": 109
    },
    {
     "cell_type": "code",
     "collapsed": false,
     "input": [
      "driver.get(\"http://www.strava.com/developers\")"
     ],
     "language": "python",
     "metadata": {},
     "outputs": [],
     "prompt_number": 110
    },
    {
     "cell_type": "code",
     "collapsed": false,
     "input": [
      "# login\n",
      "driver.find_element_by_xpath(\"//div[@class='instructions panel-content']//a[@href='/login']\").click()\n",
      "driver.find_element_by_id(\"email\").send_keys(\"ustas06@hotmail.com\") \n",
      "driver.find_element_by_id(\"password\").send_keys(\"tomgreen\")\n",
      "driver.find_element_by_id(\"login-button\").click()\n",
      "\n",
      "# make api\n",
      "#driver.find_element_by_xpath(\"//div[@class='instructions panel-content']//a[@href='/settings/api']\").click()\n",
      "#driver.find_element_by_id(\"app-name\").send_keys(\"test application\")\n",
      "#driver.find_element_by_id(\"app-user_support_url\").send_keys(\"NA\")\n",
      "#driver.find_element_by_id(\"app-description\").send_keys(\"todo: update\")\n",
      "#driver.find_element_by_id(\"app-domain\").send_keys(\"williaster.com\")\n",
      "#driver.find_element_by_id(\"tos\").click()\n",
      "#driver.find_element_by_xpath(\"//input[@value='Create']\").click()"
     ],
     "language": "python",
     "metadata": {},
     "outputs": [],
     "prompt_number": 111
    },
    {
     "cell_type": "code",
     "collapsed": false,
     "input": [
      "#driver.find_element_by_id(\"show-secret\").click()\n",
      "#driver.find_element_by_id(\"show-token\").click()\n",
      "client_id     = int(driver.find_element_by_xpath(\"//div[@id='API']/table/tbody/tr[1]/td[2]\").text.split(\"\\n\")[1])\n",
      "client_secret = driver.find_element_by_xpath(\"//div[@id='API']/table/tbody/tr[2]/td[2]/span\").text.encode(\"ascii\")\n",
      "my_token      = driver.find_element_by_xpath(\"//div[@id='API']/table/tbody/tr[3]/td[2]/span\").text.encode(\"ascii\")\n",
      "\n",
      "print \"%i\\t%s\\t%s\\n\" % (client_id, client_secret, my_token) \n",
      "#driver.find_element_by_xpath(\"//span[@data-secret]\")"
     ],
     "language": "python",
     "metadata": {},
     "outputs": [
      {
       "output_type": "stream",
       "stream": "stdout",
       "text": [
        "2826\t0ce1197ef390982ea0d10d3d6b234ce994313031\t1ea68b72721de1795005a392ed78b7aaa161c230\n",
        "\n"
       ]
      }
     ],
     "prompt_number": 119
    },
    {
     "cell_type": "code",
     "collapsed": false,
     "input": [
      "range(0)"
     ],
     "language": "python",
     "metadata": {},
     "outputs": [
      {
       "metadata": {},
       "output_type": "pyout",
       "prompt_number": 108,
       "text": [
        "[]"
       ]
      }
     ],
     "prompt_number": 108
    }
   ],
   "metadata": {}
  }
 ]
}