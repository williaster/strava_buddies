{
 "metadata": {
  "name": ""
 },
 "nbformat": 3,
 "nbformat_minor": 0,
 "worksheets": [
  {
   "cells": [
    {
     "cell_type": "code",
     "collapsed": false,
     "input": [
      "from stravalib import Client, unithelper\n",
      "import pandas as pd\n",
      "import pymysql as mdb"
     ],
     "language": "python",
     "metadata": {},
     "outputs": [],
     "prompt_number": 1
    },
    {
     "cell_type": "code",
     "collapsed": false,
     "input": [
      "from py.strava_athlete_id_prober import get_access_token"
     ],
     "language": "python",
     "metadata": {},
     "outputs": [],
     "prompt_number": 2
    },
    {
     "cell_type": "code",
     "collapsed": false,
     "input": [
      "DB     = \"accts_and_apps\"\n",
      "conn   = mdb.connect('localhost', 'root', '', DB,\n",
      "                     autocommit=True, charset=\"utf8\") \n",
      "APP_ID = 102\n",
      "token  = get_access_token(conn, APP_ID)\n",
      "nicole_token = \"f1a1a9300e7855b67508b489943df4f40a0e5526\"\n",
      "dylan_token  = \"cef07a0c9507188155b3337fd131fdf3d062ff0c\"\n",
      "robz_token   = \"31ffc84e937c9e769a0a73bf02159444325508e8\"\n",
      "davidg_token = \"fe5245083a5c0c717e546a37fe20bdbbc5cdffce\""
     ],
     "language": "python",
     "metadata": {},
     "outputs": [],
     "prompt_number": 3
    },
    {
     "cell_type": "code",
     "collapsed": false,
     "input": [
      "client = Client()\n",
      "client.access_token = token"
     ],
     "language": "python",
     "metadata": {},
     "outputs": [],
     "prompt_number": 4
    },
    {
     "cell_type": "code",
     "collapsed": false,
     "input": [
      "token"
     ],
     "language": "python",
     "metadata": {},
     "outputs": [
      {
       "metadata": {},
       "output_type": "pyout",
       "prompt_number": 5,
       "text": [
        "u'e21378aea6e4971836150bab87dcfe3edc09291f'"
       ]
      }
     ],
     "prompt_number": 5
    },
    {
     "cell_type": "code",
     "collapsed": false,
     "input": [
      "athlete = client.get_athlete()"
     ],
     "language": "python",
     "metadata": {},
     "outputs": [],
     "prompt_number": 6
    },
    {
     "cell_type": "code",
     "collapsed": false,
     "input": [
      "athlete.firstname"
     ],
     "language": "python",
     "metadata": {},
     "outputs": [
      {
       "metadata": {},
       "output_type": "pyout",
       "prompt_number": 7,
       "text": [
        "u'christophee'"
       ]
      }
     ],
     "prompt_number": 7
    },
    {
     "cell_type": "code",
     "collapsed": false,
     "input": [
      "#all_activities = [activity for activity in client.get_activities()]"
     ],
     "language": "python",
     "metadata": {},
     "outputs": [],
     "prompt_number": 8
    },
    {
     "cell_type": "code",
     "collapsed": false,
     "input": [
      "#len(all_activities)"
     ],
     "language": "python",
     "metadata": {},
     "outputs": [],
     "prompt_number": 9
    },
    {
     "cell_type": "code",
     "collapsed": false,
     "input": [
      "#activities_subset = all_activities[:10]"
     ],
     "language": "python",
     "metadata": {},
     "outputs": [],
     "prompt_number": 10
    },
    {
     "cell_type": "code",
     "collapsed": false,
     "input": [
      "#activities_subset"
     ],
     "language": "python",
     "metadata": {},
     "outputs": [],
     "prompt_number": 11
    },
    {
     "cell_type": "code",
     "collapsed": false,
     "input": [
      "#activity_trainer = activities_subset[0]\n",
      "#activity_commute = activities_subset[1]\n",
      "#activity_swim    = activities_subset[2]\n",
      "#activity_ride    = activities_subset[6]"
     ],
     "language": "python",
     "metadata": {},
     "outputs": [],
     "prompt_number": 12
    },
    {
     "cell_type": "code",
     "collapsed": false,
     "input": [
      "#activity_trainer.type == \"Ride\""
     ],
     "language": "python",
     "metadata": {},
     "outputs": [],
     "prompt_number": 13
    },
    {
     "cell_type": "code",
     "collapsed": false,
     "input": [
      "%load_ext autoreload\n",
      "%autoreload 2"
     ],
     "language": "python",
     "metadata": {},
     "outputs": [],
     "prompt_number": 7
    },
    {
     "cell_type": "code",
     "collapsed": false,
     "input": [
      "import datetime\n",
      "dt = datetime.datetime(2014, 8, 1)"
     ],
     "language": "python",
     "metadata": {},
     "outputs": [
      {
       "output_type": "stream",
       "stream": "stderr",
       "text": [
        "[autoreload of email.Message failed: Traceback (most recent call last):\n",
        "  File \"/Users/christopherwilliams/dotfiles/virtualenvs/.virtualenvs/lighttable/lib/python2.7/site-packages/IPython/extensions/autoreload.py\", line 229, in check\n",
        "    superreload(m, reload, self.old_objects)\n",
        "TypeError: reload() argument must be module\n",
        "]\n"
       ]
      }
     ],
     "prompt_number": 15
    },
    {
     "cell_type": "code",
     "collapsed": false,
     "input": [
      "activities = client.get_activities(limit=40)"
     ],
     "language": "python",
     "metadata": {},
     "outputs": [],
     "prompt_number": 15
    },
    {
     "cell_type": "code",
     "collapsed": false,
     "input": [
      "from app.filters import ActivityFilter, filter_segment_efforts"
     ],
     "language": "python",
     "metadata": {},
     "outputs": [],
     "prompt_number": 11
    },
    {
     "cell_type": "code",
     "collapsed": false,
     "input": [
      "activity_filt = ActivityFilter(activities, **{\"ids\":True})"
     ],
     "language": "python",
     "metadata": {},
     "outputs": [],
     "prompt_number": 16
    },
    {
     "cell_type": "code",
     "collapsed": false,
     "input": [
      "filtered_ids = [act for act in activity_filt]\n",
      "filtered_ids"
     ],
     "language": "python",
     "metadata": {},
     "outputs": [
      {
       "output_type": "stream",
       "stream": "stderr",
       "text": [
        "WARNING:stravalib.model.Activity:No such attribute device_watts on entity <Activity id=None name=None resource_state=None>\n"
       ]
      },
      {
       "output_type": "stream",
       "stream": "stderr",
       "text": [
        "stravalib.model.Activity: WARNING  No such attribute device_watts on entity <Activity id=None name=None resource_state=None>\n"
       ]
      },
      {
       "output_type": "stream",
       "stream": "stderr",
       "text": [
        "WARNING:stravalib.model.Activity:No such attribute device_watts on entity <Activity id=None name=None resource_state=None>\n"
       ]
      },
      {
       "output_type": "stream",
       "stream": "stderr",
       "text": [
        "stravalib.model.Activity: WARNING  No such attribute device_watts on entity <Activity id=None name=None resource_state=None>\n"
       ]
      },
      {
       "output_type": "stream",
       "stream": "stderr",
       "text": [
        "WARNING:stravalib.model.Activity:No such attribute device_watts on entity <Activity id=None name=None resource_state=None>\n"
       ]
      },
      {
       "output_type": "stream",
       "stream": "stderr",
       "text": [
        "stravalib.model.Activity: WARNING  No such attribute device_watts on entity <Activity id=None name=None resource_state=None>\n"
       ]
      },
      {
       "output_type": "stream",
       "stream": "stderr",
       "text": [
        "WARNING:stravalib.model.Activity:No such attribute device_watts on entity <Activity id=None name=None resource_state=None>\n"
       ]
      },
      {
       "output_type": "stream",
       "stream": "stderr",
       "text": [
        "stravalib.model.Activity: WARNING  No such attribute device_watts on entity <Activity id=None name=None resource_state=None>\n"
       ]
      },
      {
       "output_type": "stream",
       "stream": "stderr",
       "text": [
        "WARNING:stravalib.model.Activity:No such attribute device_watts on entity <Activity id=None name=None resource_state=None>\n"
       ]
      },
      {
       "output_type": "stream",
       "stream": "stderr",
       "text": [
        "stravalib.model.Activity: WARNING  No such attribute device_watts on entity <Activity id=None name=None resource_state=None>\n"
       ]
      },
      {
       "output_type": "stream",
       "stream": "stderr",
       "text": [
        "WARNING:stravalib.model.Activity:No such attribute device_watts on entity <Activity id=None name=None resource_state=None>\n"
       ]
      },
      {
       "output_type": "stream",
       "stream": "stderr",
       "text": [
        "stravalib.model.Activity: WARNING  No such attribute device_watts on entity <Activity id=None name=None resource_state=None>\n"
       ]
      },
      {
       "output_type": "stream",
       "stream": "stderr",
       "text": [
        "WARNING:stravalib.model.Activity:No such attribute device_watts on entity <Activity id=None name=None resource_state=None>\n"
       ]
      },
      {
       "output_type": "stream",
       "stream": "stderr",
       "text": [
        "stravalib.model.Activity: WARNING  No such attribute device_watts on entity <Activity id=None name=None resource_state=None>\n"
       ]
      },
      {
       "output_type": "stream",
       "stream": "stderr",
       "text": [
        "WARNING:stravalib.model.Activity:No such attribute device_watts on entity <Activity id=None name=None resource_state=None>\n"
       ]
      },
      {
       "output_type": "stream",
       "stream": "stderr",
       "text": [
        "stravalib.model.Activity: WARNING  No such attribute device_watts on entity <Activity id=None name=None resource_state=None>\n"
       ]
      },
      {
       "output_type": "stream",
       "stream": "stderr",
       "text": [
        "WARNING:stravalib.model.Activity:No such attribute device_watts on entity <Activity id=None name=None resource_state=None>\n"
       ]
      },
      {
       "output_type": "stream",
       "stream": "stderr",
       "text": [
        "stravalib.model.Activity: WARNING  No such attribute device_watts on entity <Activity id=None name=None resource_state=None>\n"
       ]
      },
      {
       "output_type": "stream",
       "stream": "stderr",
       "text": [
        "WARNING:stravalib.model.Activity:No such attribute device_watts on entity <Activity id=None name=None resource_state=None>\n"
       ]
      },
      {
       "output_type": "stream",
       "stream": "stderr",
       "text": [
        "stravalib.model.Activity: WARNING  No such attribute device_watts on entity <Activity id=None name=None resource_state=None>\n"
       ]
      },
      {
       "output_type": "stream",
       "stream": "stderr",
       "text": [
        "WARNING:stravalib.model.Activity:No such attribute device_watts on entity <Activity id=None name=None resource_state=None>\n"
       ]
      },
      {
       "output_type": "stream",
       "stream": "stderr",
       "text": [
        "stravalib.model.Activity: WARNING  No such attribute device_watts on entity <Activity id=None name=None resource_state=None>\n"
       ]
      },
      {
       "output_type": "stream",
       "stream": "stderr",
       "text": [
        "WARNING:stravalib.model.Activity:No such attribute device_watts on entity <Activity id=None name=None resource_state=None>\n"
       ]
      },
      {
       "output_type": "stream",
       "stream": "stderr",
       "text": [
        "stravalib.model.Activity: WARNING  No such attribute device_watts on entity <Activity id=None name=None resource_state=None>\n"
       ]
      },
      {
       "output_type": "stream",
       "stream": "stderr",
       "text": [
        "WARNING:stravalib.model.Activity:No such attribute device_watts on entity <Activity id=None name=None resource_state=None>\n"
       ]
      },
      {
       "output_type": "stream",
       "stream": "stderr",
       "text": [
        "stravalib.model.Activity: WARNING  No such attribute device_watts on entity <Activity id=None name=None resource_state=None>\n"
       ]
      },
      {
       "output_type": "stream",
       "stream": "stderr",
       "text": [
        "WARNING:stravalib.model.Activity:No such attribute device_watts on entity <Activity id=None name=None resource_state=None>\n"
       ]
      },
      {
       "output_type": "stream",
       "stream": "stderr",
       "text": [
        "stravalib.model.Activity: WARNING  No such attribute device_watts on entity <Activity id=None name=None resource_state=None>\n"
       ]
      },
      {
       "output_type": "stream",
       "stream": "stderr",
       "text": [
        "WARNING:stravalib.model.Activity:No such attribute device_watts on entity <Activity id=None name=None resource_state=None>\n"
       ]
      },
      {
       "output_type": "stream",
       "stream": "stderr",
       "text": [
        "stravalib.model.Activity: WARNING  No such attribute device_watts on entity <Activity id=None name=None resource_state=None>\n"
       ]
      },
      {
       "output_type": "stream",
       "stream": "stderr",
       "text": [
        "WARNING:stravalib.model.Activity:No such attribute device_watts on entity <Activity id=None name=None resource_state=None>\n"
       ]
      },
      {
       "output_type": "stream",
       "stream": "stderr",
       "text": [
        "stravalib.model.Activity: WARNING  No such attribute device_watts on entity <Activity id=None name=None resource_state=None>\n"
       ]
      },
      {
       "output_type": "stream",
       "stream": "stderr",
       "text": [
        "WARNING:stravalib.model.Activity:No such attribute device_watts on entity <Activity id=None name=None resource_state=None>\n"
       ]
      },
      {
       "output_type": "stream",
       "stream": "stderr",
       "text": [
        "stravalib.model.Activity: WARNING  No such attribute device_watts on entity <Activity id=None name=None resource_state=None>\n"
       ]
      },
      {
       "output_type": "stream",
       "stream": "stderr",
       "text": [
        "WARNING:stravalib.model.Activity:No such attribute device_watts on entity <Activity id=None name=None resource_state=None>\n"
       ]
      },
      {
       "output_type": "stream",
       "stream": "stderr",
       "text": [
        "stravalib.model.Activity: WARNING  No such attribute device_watts on entity <Activity id=None name=None resource_state=None>\n"
       ]
      },
      {
       "output_type": "stream",
       "stream": "stderr",
       "text": [
        "WARNING:stravalib.model.Activity:No such attribute device_watts on entity <Activity id=None name=None resource_state=None>\n"
       ]
      },
      {
       "output_type": "stream",
       "stream": "stderr",
       "text": [
        "stravalib.model.Activity: WARNING  No such attribute device_watts on entity <Activity id=None name=None resource_state=None>\n"
       ]
      },
      {
       "output_type": "stream",
       "stream": "stderr",
       "text": [
        "WARNING:stravalib.model.Activity:No such attribute device_watts on entity <Activity id=None name=None resource_state=None>\n"
       ]
      },
      {
       "output_type": "stream",
       "stream": "stderr",
       "text": [
        "stravalib.model.Activity: WARNING  No such attribute device_watts on entity <Activity id=None name=None resource_state=None>\n"
       ]
      },
      {
       "output_type": "stream",
       "stream": "stderr",
       "text": [
        "WARNING:stravalib.model.Activity:No such attribute device_watts on entity <Activity id=None name=None resource_state=None>\n"
       ]
      },
      {
       "output_type": "stream",
       "stream": "stderr",
       "text": [
        "stravalib.model.Activity: WARNING  No such attribute device_watts on entity <Activity id=None name=None resource_state=None>\n"
       ]
      },
      {
       "output_type": "stream",
       "stream": "stderr",
       "text": [
        "WARNING:stravalib.model.Activity:No such attribute device_watts on entity <Activity id=None name=None resource_state=None>\n"
       ]
      },
      {
       "output_type": "stream",
       "stream": "stderr",
       "text": [
        "stravalib.model.Activity: WARNING  No such attribute device_watts on entity <Activity id=None name=None resource_state=None>\n"
       ]
      },
      {
       "output_type": "stream",
       "stream": "stderr",
       "text": [
        "WARNING:stravalib.model.Activity:No such attribute device_watts on entity <Activity id=None name=None resource_state=None>\n"
       ]
      },
      {
       "output_type": "stream",
       "stream": "stderr",
       "text": [
        "stravalib.model.Activity: WARNING  No such attribute device_watts on entity <Activity id=None name=None resource_state=None>\n"
       ]
      },
      {
       "output_type": "stream",
       "stream": "stderr",
       "text": [
        "WARNING:stravalib.model.Activity:No such attribute device_watts on entity <Activity id=None name=None resource_state=None>\n"
       ]
      },
      {
       "output_type": "stream",
       "stream": "stderr",
       "text": [
        "stravalib.model.Activity: WARNING  No such attribute device_watts on entity <Activity id=None name=None resource_state=None>\n"
       ]
      },
      {
       "output_type": "stream",
       "stream": "stderr",
       "text": [
        "WARNING:stravalib.model.Activity:No such attribute device_watts on entity <Activity id=None name=None resource_state=None>\n"
       ]
      },
      {
       "output_type": "stream",
       "stream": "stderr",
       "text": [
        "stravalib.model.Activity: WARNING  No such attribute device_watts on entity <Activity id=None name=None resource_state=None>\n"
       ]
      },
      {
       "output_type": "stream",
       "stream": "stderr",
       "text": [
        "WARNING:stravalib.model.Activity:No such attribute device_watts on entity <Activity id=None name=None resource_state=None>\n"
       ]
      },
      {
       "output_type": "stream",
       "stream": "stderr",
       "text": [
        "stravalib.model.Activity: WARNING  No such attribute device_watts on entity <Activity id=None name=None resource_state=None>\n"
       ]
      },
      {
       "output_type": "stream",
       "stream": "stderr",
       "text": [
        "WARNING:stravalib.model.Activity:No such attribute device_watts on entity <Activity id=None name=None resource_state=None>\n"
       ]
      },
      {
       "output_type": "stream",
       "stream": "stderr",
       "text": [
        "stravalib.model.Activity: WARNING  No such attribute device_watts on entity <Activity id=None name=None resource_state=None>\n"
       ]
      },
      {
       "output_type": "stream",
       "stream": "stderr",
       "text": [
        "WARNING:stravalib.model.Activity:No such attribute device_watts on entity <Activity id=None name=None resource_state=None>\n"
       ]
      },
      {
       "output_type": "stream",
       "stream": "stderr",
       "text": [
        "stravalib.model.Activity: WARNING  No such attribute device_watts on entity <Activity id=None name=None resource_state=None>\n"
       ]
      },
      {
       "output_type": "stream",
       "stream": "stderr",
       "text": [
        "WARNING:stravalib.model.Activity:No such attribute device_watts on entity <Activity id=None name=None resource_state=None>\n"
       ]
      },
      {
       "output_type": "stream",
       "stream": "stderr",
       "text": [
        "stravalib.model.Activity: WARNING  No such attribute device_watts on entity <Activity id=None name=None resource_state=None>\n"
       ]
      },
      {
       "output_type": "stream",
       "stream": "stderr",
       "text": [
        "WARNING:stravalib.model.Activity:No such attribute device_watts on entity <Activity id=None name=None resource_state=None>\n"
       ]
      },
      {
       "output_type": "stream",
       "stream": "stderr",
       "text": [
        "stravalib.model.Activity: WARNING  No such attribute device_watts on entity <Activity id=None name=None resource_state=None>\n"
       ]
      },
      {
       "output_type": "stream",
       "stream": "stderr",
       "text": [
        "WARNING:stravalib.model.Activity:No such attribute device_watts on entity <Activity id=None name=None resource_state=None>\n"
       ]
      },
      {
       "output_type": "stream",
       "stream": "stderr",
       "text": [
        "stravalib.model.Activity: WARNING  No such attribute device_watts on entity <Activity id=None name=None resource_state=None>\n"
       ]
      },
      {
       "output_type": "stream",
       "stream": "stderr",
       "text": [
        "WARNING:stravalib.model.Activity:No such attribute device_watts on entity <Activity id=None name=None resource_state=None>\n"
       ]
      },
      {
       "output_type": "stream",
       "stream": "stderr",
       "text": [
        "stravalib.model.Activity: WARNING  No such attribute device_watts on entity <Activity id=None name=None resource_state=None>\n"
       ]
      },
      {
       "output_type": "stream",
       "stream": "stderr",
       "text": [
        "WARNING:stravalib.model.Activity:No such attribute device_watts on entity <Activity id=None name=None resource_state=None>\n"
       ]
      },
      {
       "output_type": "stream",
       "stream": "stderr",
       "text": [
        "stravalib.model.Activity: WARNING  No such attribute device_watts on entity <Activity id=None name=None resource_state=None>\n"
       ]
      },
      {
       "output_type": "stream",
       "stream": "stderr",
       "text": [
        "WARNING:stravalib.model.Activity:No such attribute device_watts on entity <Activity id=None name=None resource_state=None>\n"
       ]
      },
      {
       "output_type": "stream",
       "stream": "stderr",
       "text": [
        "stravalib.model.Activity: WARNING  No such attribute device_watts on entity <Activity id=None name=None resource_state=None>\n"
       ]
      },
      {
       "output_type": "stream",
       "stream": "stderr",
       "text": [
        "WARNING:stravalib.model.Activity:No such attribute device_watts on entity <Activity id=None name=None resource_state=None>\n"
       ]
      },
      {
       "output_type": "stream",
       "stream": "stderr",
       "text": [
        "stravalib.model.Activity: WARNING  No such attribute device_watts on entity <Activity id=None name=None resource_state=None>\n"
       ]
      },
      {
       "output_type": "stream",
       "stream": "stderr",
       "text": [
        "WARNING:stravalib.model.Activity:No such attribute device_watts on entity <Activity id=None name=None resource_state=None>\n"
       ]
      },
      {
       "output_type": "stream",
       "stream": "stderr",
       "text": [
        "stravalib.model.Activity: WARNING  No such attribute device_watts on entity <Activity id=None name=None resource_state=None>\n"
       ]
      },
      {
       "output_type": "stream",
       "stream": "stderr",
       "text": [
        "WARNING:stravalib.model.Activity:No such attribute device_watts on entity <Activity id=None name=None resource_state=None>\n"
       ]
      },
      {
       "output_type": "stream",
       "stream": "stderr",
       "text": [
        "stravalib.model.Activity: WARNING  No such attribute device_watts on entity <Activity id=None name=None resource_state=None>\n"
       ]
      },
      {
       "output_type": "stream",
       "stream": "stderr",
       "text": [
        "WARNING:stravalib.model.Activity:No such attribute device_watts on entity <Activity id=None name=None resource_state=None>\n"
       ]
      },
      {
       "output_type": "stream",
       "stream": "stderr",
       "text": [
        "stravalib.model.Activity: WARNING  No such attribute device_watts on entity <Activity id=None name=None resource_state=None>\n"
       ]
      },
      {
       "output_type": "stream",
       "stream": "stderr",
       "text": [
        "WARNING:stravalib.model.Activity:No such attribute device_watts on entity <Activity id=None name=None resource_state=None>\n"
       ]
      },
      {
       "output_type": "stream",
       "stream": "stderr",
       "text": [
        "stravalib.model.Activity: WARNING  No such attribute device_watts on entity <Activity id=None name=None resource_state=None>\n"
       ]
      },
      {
       "output_type": "stream",
       "stream": "stderr",
       "text": [
        "WARNING:stravalib.model.Activity:No such attribute device_watts on entity <Activity id=None name=None resource_state=None>\n"
       ]
      },
      {
       "output_type": "stream",
       "stream": "stderr",
       "text": [
        "stravalib.model.Activity: WARNING  No such attribute device_watts on entity <Activity id=None name=None resource_state=None>\n"
       ]
      },
      {
       "output_type": "stream",
       "stream": "stderr",
       "text": [
        "WARNING:stravalib.model.Activity:No such attribute device_watts on entity <Activity id=None name=None resource_state=None>\n"
       ]
      },
      {
       "output_type": "stream",
       "stream": "stderr",
       "text": [
        "stravalib.model.Activity: WARNING  No such attribute device_watts on entity <Activity id=None name=None resource_state=None>\n"
       ]
      },
      {
       "output_type": "stream",
       "stream": "stderr",
       "text": [
        "WARNING:stravalib.model.Activity:No such attribute device_watts on entity <Activity id=None name=None resource_state=None>\n"
       ]
      },
      {
       "output_type": "stream",
       "stream": "stderr",
       "text": [
        "stravalib.model.Activity: WARNING  No such attribute device_watts on entity <Activity id=None name=None resource_state=None>\n"
       ]
      },
      {
       "output_type": "stream",
       "stream": "stderr",
       "text": [
        "WARNING:stravalib.model.Activity:No such attribute device_watts on entity <Activity id=None name=None resource_state=None>\n"
       ]
      },
      {
       "output_type": "stream",
       "stream": "stderr",
       "text": [
        "stravalib.model.Activity: WARNING  No such attribute device_watts on entity <Activity id=None name=None resource_state=None>\n"
       ]
      },
      {
       "output_type": "stream",
       "stream": "stderr",
       "text": [
        "WARNING:stravalib.model.Activity:No such attribute device_watts on entity <Activity id=None name=None resource_state=None>\n"
       ]
      },
      {
       "output_type": "stream",
       "stream": "stderr",
       "text": [
        "stravalib.model.Activity: WARNING  No such attribute device_watts on entity <Activity id=None name=None resource_state=None>\n"
       ]
      },
      {
       "output_type": "stream",
       "stream": "stderr",
       "text": [
        "WARNING:stravalib.model.Activity:No such attribute device_watts on entity <Activity id=None name=None resource_state=None>\n"
       ]
      },
      {
       "output_type": "stream",
       "stream": "stderr",
       "text": [
        "stravalib.model.Activity: WARNING  No such attribute device_watts on entity <Activity id=None name=None resource_state=None>\n"
       ]
      },
      {
       "output_type": "stream",
       "stream": "stderr",
       "text": [
        "WARNING:stravalib.model.Activity:No such attribute device_watts on entity <Activity id=None name=None resource_state=None>\n"
       ]
      },
      {
       "output_type": "stream",
       "stream": "stderr",
       "text": [
        "stravalib.model.Activity: WARNING  No such attribute device_watts on entity <Activity id=None name=None resource_state=None>\n"
       ]
      },
      {
       "output_type": "stream",
       "stream": "stderr",
       "text": [
        "WARNING:stravalib.model.Activity:No such attribute device_watts on entity <Activity id=None name=None resource_state=None>\n"
       ]
      },
      {
       "output_type": "stream",
       "stream": "stderr",
       "text": [
        "stravalib.model.Activity: WARNING  No such attribute device_watts on entity <Activity id=None name=None resource_state=None>\n"
       ]
      },
      {
       "output_type": "stream",
       "stream": "stderr",
       "text": [
        "WARNING:stravalib.model.Activity:No such attribute device_watts on entity <Activity id=None name=None resource_state=None>\n"
       ]
      },
      {
       "output_type": "stream",
       "stream": "stderr",
       "text": [
        "stravalib.model.Activity: WARNING  No such attribute device_watts on entity <Activity id=None name=None resource_state=None>\n"
       ]
      },
      {
       "output_type": "stream",
       "stream": "stderr",
       "text": [
        "WARNING:stravalib.model.Activity:No such attribute device_watts on entity <Activity id=None name=None resource_state=None>\n"
       ]
      },
      {
       "output_type": "stream",
       "stream": "stderr",
       "text": [
        "stravalib.model.Activity: WARNING  No such attribute device_watts on entity <Activity id=None name=None resource_state=None>\n"
       ]
      },
      {
       "output_type": "stream",
       "stream": "stderr",
       "text": [
        "WARNING:stravalib.model.Activity:No such attribute device_watts on entity <Activity id=None name=None resource_state=None>\n"
       ]
      },
      {
       "output_type": "stream",
       "stream": "stderr",
       "text": [
        "stravalib.model.Activity: WARNING  No such attribute device_watts on entity <Activity id=None name=None resource_state=None>\n"
       ]
      },
      {
       "output_type": "stream",
       "stream": "stderr",
       "text": [
        "WARNING:stravalib.model.Activity:No such attribute device_watts on entity <Activity id=None name=None resource_state=None>\n"
       ]
      },
      {
       "output_type": "stream",
       "stream": "stderr",
       "text": [
        "stravalib.model.Activity: WARNING  No such attribute device_watts on entity <Activity id=None name=None resource_state=None>\n"
       ]
      },
      {
       "output_type": "stream",
       "stream": "stderr",
       "text": [
        "WARNING:stravalib.model.Activity:No such attribute device_watts on entity <Activity id=None name=None resource_state=None>\n"
       ]
      },
      {
       "output_type": "stream",
       "stream": "stderr",
       "text": [
        "stravalib.model.Activity: WARNING  No such attribute device_watts on entity <Activity id=None name=None resource_state=None>\n"
       ]
      },
      {
       "output_type": "stream",
       "stream": "stderr",
       "text": [
        "WARNING:stravalib.model.Activity:No such attribute device_watts on entity <Activity id=None name=None resource_state=None>\n"
       ]
      },
      {
       "output_type": "stream",
       "stream": "stderr",
       "text": [
        "stravalib.model.Activity: WARNING  No such attribute device_watts on entity <Activity id=None name=None resource_state=None>\n"
       ]
      },
      {
       "output_type": "stream",
       "stream": "stderr",
       "text": [
        "WARNING:stravalib.model.Activity:No such attribute device_watts on entity <Activity id=None name=None resource_state=None>\n"
       ]
      },
      {
       "output_type": "stream",
       "stream": "stderr",
       "text": [
        "stravalib.model.Activity: WARNING  No such attribute device_watts on entity <Activity id=None name=None resource_state=None>\n"
       ]
      },
      {
       "output_type": "stream",
       "stream": "stderr",
       "text": [
        "WARNING:stravalib.model.Activity:No such attribute device_watts on entity <Activity id=None name=None resource_state=None>\n"
       ]
      },
      {
       "output_type": "stream",
       "stream": "stderr",
       "text": [
        "stravalib.model.Activity: WARNING  No such attribute device_watts on entity <Activity id=None name=None resource_state=None>\n"
       ]
      },
      {
       "output_type": "stream",
       "stream": "stderr",
       "text": [
        "WARNING:stravalib.model.Activity:No such attribute device_watts on entity <Activity id=None name=None resource_state=None>\n"
       ]
      },
      {
       "output_type": "stream",
       "stream": "stderr",
       "text": [
        "stravalib.model.Activity: WARNING  No such attribute device_watts on entity <Activity id=None name=None resource_state=None>\n"
       ]
      },
      {
       "output_type": "stream",
       "stream": "stderr",
       "text": [
        "WARNING:stravalib.model.Activity:No such attribute device_watts on entity <Activity id=None name=None resource_state=None>\n"
       ]
      },
      {
       "output_type": "stream",
       "stream": "stderr",
       "text": [
        "stravalib.model.Activity: WARNING  No such attribute device_watts on entity <Activity id=None name=None resource_state=None>\n"
       ]
      },
      {
       "output_type": "stream",
       "stream": "stderr",
       "text": [
        "WARNING:stravalib.model.Activity:No such attribute device_watts on entity <Activity id=None name=None resource_state=None>\n"
       ]
      },
      {
       "output_type": "stream",
       "stream": "stderr",
       "text": [
        "stravalib.model.Activity: WARNING  No such attribute device_watts on entity <Activity id=None name=None resource_state=None>\n"
       ]
      },
      {
       "output_type": "stream",
       "stream": "stderr",
       "text": [
        "WARNING:stravalib.model.Activity:No such attribute device_watts on entity <Activity id=None name=None resource_state=None>\n"
       ]
      },
      {
       "output_type": "stream",
       "stream": "stderr",
       "text": [
        "stravalib.model.Activity: WARNING  No such attribute device_watts on entity <Activity id=None name=None resource_state=None>\n"
       ]
      },
      {
       "output_type": "stream",
       "stream": "stderr",
       "text": [
        "WARNING:stravalib.model.Activity:No such attribute device_watts on entity <Activity id=None name=None resource_state=None>\n"
       ]
      },
      {
       "output_type": "stream",
       "stream": "stderr",
       "text": [
        "stravalib.model.Activity: WARNING  No such attribute device_watts on entity <Activity id=None name=None resource_state=None>\n"
       ]
      },
      {
       "output_type": "stream",
       "stream": "stderr",
       "text": [
        "WARNING:stravalib.model.Activity:No such attribute device_watts on entity <Activity id=None name=None resource_state=None>\n"
       ]
      },
      {
       "output_type": "stream",
       "stream": "stderr",
       "text": [
        "stravalib.model.Activity: WARNING  No such attribute device_watts on entity <Activity id=None name=None resource_state=None>\n"
       ]
      },
      {
       "output_type": "stream",
       "stream": "stderr",
       "text": [
        "WARNING:stravalib.model.Activity:No such attribute device_watts on entity <Activity id=None name=None resource_state=None>\n"
       ]
      },
      {
       "output_type": "stream",
       "stream": "stderr",
       "text": [
        "stravalib.model.Activity: WARNING  No such attribute device_watts on entity <Activity id=None name=None resource_state=None>\n"
       ]
      },
      {
       "output_type": "stream",
       "stream": "stderr",
       "text": [
        "WARNING:stravalib.model.Activity:No such attribute device_watts on entity <Activity id=None name=None resource_state=None>\n"
       ]
      },
      {
       "output_type": "stream",
       "stream": "stderr",
       "text": [
        "stravalib.model.Activity: WARNING  No such attribute device_watts on entity <Activity id=None name=None resource_state=None>\n"
       ]
      },
      {
       "output_type": "stream",
       "stream": "stderr",
       "text": [
        "WARNING:stravalib.model.Activity:No such attribute device_watts on entity <Activity id=None name=None resource_state=None>\n"
       ]
      },
      {
       "output_type": "stream",
       "stream": "stderr",
       "text": [
        "stravalib.model.Activity: WARNING  No such attribute device_watts on entity <Activity id=None name=None resource_state=None>\n"
       ]
      },
      {
       "output_type": "stream",
       "stream": "stderr",
       "text": [
        "WARNING:stravalib.model.Activity:No such attribute device_watts on entity <Activity id=None name=None resource_state=None>\n"
       ]
      },
      {
       "output_type": "stream",
       "stream": "stderr",
       "text": [
        "stravalib.model.Activity: WARNING  No such attribute device_watts on entity <Activity id=None name=None resource_state=None>\n"
       ]
      },
      {
       "output_type": "stream",
       "stream": "stderr",
       "text": [
        "WARNING:stravalib.model.Activity:No such attribute device_watts on entity <Activity id=None name=None resource_state=None>\n"
       ]
      },
      {
       "output_type": "stream",
       "stream": "stderr",
       "text": [
        "stravalib.model.Activity: WARNING  No such attribute device_watts on entity <Activity id=None name=None resource_state=None>\n"
       ]
      },
      {
       "output_type": "stream",
       "stream": "stderr",
       "text": [
        "WARNING:stravalib.model.Activity:No such attribute device_watts on entity <Activity id=None name=None resource_state=None>\n"
       ]
      },
      {
       "output_type": "stream",
       "stream": "stderr",
       "text": [
        "stravalib.model.Activity: WARNING  No such attribute device_watts on entity <Activity id=None name=None resource_state=None>\n"
       ]
      },
      {
       "output_type": "stream",
       "stream": "stderr",
       "text": [
        "WARNING:stravalib.model.Activity:No such attribute device_watts on entity <Activity id=None name=None resource_state=None>\n"
       ]
      },
      {
       "output_type": "stream",
       "stream": "stderr",
       "text": [
        "stravalib.model.Activity: WARNING  No such attribute device_watts on entity <Activity id=None name=None resource_state=None>\n"
       ]
      },
      {
       "output_type": "stream",
       "stream": "stderr",
       "text": [
        "WARNING:stravalib.model.Activity:No such attribute device_watts on entity <Activity id=None name=None resource_state=None>\n"
       ]
      },
      {
       "output_type": "stream",
       "stream": "stderr",
       "text": [
        "stravalib.model.Activity: WARNING  No such attribute device_watts on entity <Activity id=None name=None resource_state=None>\n"
       ]
      },
      {
       "output_type": "stream",
       "stream": "stderr",
       "text": [
        "WARNING:stravalib.model.Activity:No such attribute device_watts on entity <Activity id=None name=None resource_state=None>\n"
       ]
      },
      {
       "output_type": "stream",
       "stream": "stderr",
       "text": [
        "stravalib.model.Activity: WARNING  No such attribute device_watts on entity <Activity id=None name=None resource_state=None>\n"
       ]
      },
      {
       "output_type": "stream",
       "stream": "stderr",
       "text": [
        "WARNING:stravalib.model.Activity:No such attribute device_watts on entity <Activity id=None name=None resource_state=None>\n"
       ]
      },
      {
       "output_type": "stream",
       "stream": "stderr",
       "text": [
        "stravalib.model.Activity: WARNING  No such attribute device_watts on entity <Activity id=None name=None resource_state=None>\n"
       ]
      },
      {
       "output_type": "stream",
       "stream": "stderr",
       "text": [
        "WARNING:stravalib.model.Activity:No such attribute device_watts on entity <Activity id=None name=None resource_state=None>\n"
       ]
      },
      {
       "output_type": "stream",
       "stream": "stderr",
       "text": [
        "stravalib.model.Activity: WARNING  No such attribute device_watts on entity <Activity id=None name=None resource_state=None>\n"
       ]
      },
      {
       "output_type": "stream",
       "stream": "stderr",
       "text": [
        "WARNING:stravalib.model.Activity:No such attribute device_watts on entity <Activity id=None name=None resource_state=None>\n"
       ]
      },
      {
       "output_type": "stream",
       "stream": "stderr",
       "text": [
        "stravalib.model.Activity: WARNING  No such attribute device_watts on entity <Activity id=None name=None resource_state=None>\n"
       ]
      },
      {
       "output_type": "stream",
       "stream": "stderr",
       "text": [
        "WARNING:stravalib.model.Activity:No such attribute device_watts on entity <Activity id=None name=None resource_state=None>\n"
       ]
      },
      {
       "output_type": "stream",
       "stream": "stderr",
       "text": [
        "stravalib.model.Activity: WARNING  No such attribute device_watts on entity <Activity id=None name=None resource_state=None>\n"
       ]
      },
      {
       "output_type": "stream",
       "stream": "stderr",
       "text": [
        "WARNING:stravalib.model.Activity:No such attribute device_watts on entity <Activity id=None name=None resource_state=None>\n"
       ]
      },
      {
       "output_type": "stream",
       "stream": "stderr",
       "text": [
        "stravalib.model.Activity: WARNING  No such attribute device_watts on entity <Activity id=None name=None resource_state=None>\n"
       ]
      },
      {
       "output_type": "stream",
       "stream": "stderr",
       "text": [
        "WARNING:stravalib.model.Activity:No such attribute device_watts on entity <Activity id=None name=None resource_state=None>\n"
       ]
      },
      {
       "output_type": "stream",
       "stream": "stderr",
       "text": [
        "stravalib.model.Activity: WARNING  No such attribute device_watts on entity <Activity id=None name=None resource_state=None>\n"
       ]
      },
      {
       "output_type": "stream",
       "stream": "stderr",
       "text": [
        "WARNING:stravalib.model.Activity:No such attribute device_watts on entity <Activity id=None name=None resource_state=None>\n"
       ]
      },
      {
       "output_type": "stream",
       "stream": "stderr",
       "text": [
        "stravalib.model.Activity: WARNING  No such attribute device_watts on entity <Activity id=None name=None resource_state=None>\n"
       ]
      },
      {
       "output_type": "stream",
       "stream": "stderr",
       "text": [
        "WARNING:stravalib.model.Activity:No such attribute device_watts on entity <Activity id=None name=None resource_state=None>\n"
       ]
      },
      {
       "output_type": "stream",
       "stream": "stderr",
       "text": [
        "stravalib.model.Activity: WARNING  No such attribute device_watts on entity <Activity id=None name=None resource_state=None>\n"
       ]
      },
      {
       "output_type": "stream",
       "stream": "stderr",
       "text": [
        "WARNING:stravalib.model.Activity:No such attribute device_watts on entity <Activity id=None name=None resource_state=None>\n"
       ]
      },
      {
       "output_type": "stream",
       "stream": "stderr",
       "text": [
        "stravalib.model.Activity: WARNING  No such attribute device_watts on entity <Activity id=None name=None resource_state=None>\n"
       ]
      },
      {
       "output_type": "stream",
       "stream": "stderr",
       "text": [
        "WARNING:stravalib.model.Activity:No such attribute device_watts on entity <Activity id=None name=None resource_state=None>\n"
       ]
      },
      {
       "output_type": "stream",
       "stream": "stderr",
       "text": [
        "stravalib.model.Activity: WARNING  No such attribute device_watts on entity <Activity id=None name=None resource_state=None>\n"
       ]
      },
      {
       "output_type": "stream",
       "stream": "stderr",
       "text": [
        "WARNING:stravalib.model.Activity:No such attribute device_watts on entity <Activity id=None name=None resource_state=None>\n"
       ]
      },
      {
       "output_type": "stream",
       "stream": "stderr",
       "text": [
        "stravalib.model.Activity: WARNING  No such attribute device_watts on entity <Activity id=None name=None resource_state=None>\n"
       ]
      },
      {
       "output_type": "stream",
       "stream": "stderr",
       "text": [
        "WARNING:stravalib.model.Activity:No such attribute device_watts on entity <Activity id=None name=None resource_state=None>\n"
       ]
      },
      {
       "output_type": "stream",
       "stream": "stderr",
       "text": [
        "stravalib.model.Activity: WARNING  No such attribute device_watts on entity <Activity id=None name=None resource_state=None>\n"
       ]
      },
      {
       "output_type": "stream",
       "stream": "stderr",
       "text": [
        "WARNING:stravalib.model.Activity:No such attribute device_watts on entity <Activity id=None name=None resource_state=None>\n"
       ]
      },
      {
       "output_type": "stream",
       "stream": "stderr",
       "text": [
        "stravalib.model.Activity: WARNING  No such attribute device_watts on entity <Activity id=None name=None resource_state=None>\n"
       ]
      },
      {
       "output_type": "stream",
       "stream": "stderr",
       "text": [
        "WARNING:stravalib.model.Activity:No such attribute device_watts on entity <Activity id=None name=None resource_state=None>\n"
       ]
      },
      {
       "output_type": "stream",
       "stream": "stderr",
       "text": [
        "stravalib.model.Activity: WARNING  No such attribute device_watts on entity <Activity id=None name=None resource_state=None>\n"
       ]
      },
      {
       "output_type": "stream",
       "stream": "stderr",
       "text": [
        "WARNING:stravalib.model.Activity:No such attribute device_watts on entity <Activity id=None name=None resource_state=None>\n"
       ]
      },
      {
       "output_type": "stream",
       "stream": "stderr",
       "text": [
        "stravalib.model.Activity: WARNING  No such attribute device_watts on entity <Activity id=None name=None resource_state=None>\n"
       ]
      },
      {
       "output_type": "stream",
       "stream": "stderr",
       "text": [
        "WARNING:stravalib.model.Activity:No such attribute device_watts on entity <Activity id=None name=None resource_state=None>\n"
       ]
      },
      {
       "output_type": "stream",
       "stream": "stderr",
       "text": [
        "stravalib.model.Activity: WARNING  No such attribute device_watts on entity <Activity id=None name=None resource_state=None>\n"
       ]
      },
      {
       "output_type": "stream",
       "stream": "stderr",
       "text": [
        "WARNING:stravalib.model.Activity:No such attribute device_watts on entity <Activity id=None name=None resource_state=None>\n"
       ]
      },
      {
       "output_type": "stream",
       "stream": "stderr",
       "text": [
        "stravalib.model.Activity: WARNING  No such attribute device_watts on entity <Activity id=None name=None resource_state=None>\n"
       ]
      },
      {
       "output_type": "stream",
       "stream": "stderr",
       "text": [
        "WARNING:stravalib.model.Activity:No such attribute device_watts on entity <Activity id=None name=None resource_state=None>\n"
       ]
      },
      {
       "output_type": "stream",
       "stream": "stderr",
       "text": [
        "stravalib.model.Activity: WARNING  No such attribute device_watts on entity <Activity id=None name=None resource_state=None>\n"
       ]
      },
      {
       "output_type": "stream",
       "stream": "stderr",
       "text": [
        "WARNING:stravalib.model.Activity:No such attribute device_watts on entity <Activity id=None name=None resource_state=None>\n"
       ]
      },
      {
       "output_type": "stream",
       "stream": "stderr",
       "text": [
        "stravalib.model.Activity: WARNING  No such attribute device_watts on entity <Activity id=None name=None resource_state=None>\n"
       ]
      },
      {
       "output_type": "stream",
       "stream": "stderr",
       "text": [
        "WARNING:stravalib.model.Activity:No such attribute device_watts on entity <Activity id=None name=None resource_state=None>\n"
       ]
      },
      {
       "output_type": "stream",
       "stream": "stderr",
       "text": [
        "stravalib.model.Activity: WARNING  No such attribute device_watts on entity <Activity id=None name=None resource_state=None>\n"
       ]
      },
      {
       "output_type": "stream",
       "stream": "stderr",
       "text": [
        "WARNING:stravalib.model.Activity:No such attribute device_watts on entity <Activity id=None name=None resource_state=None>\n"
       ]
      },
      {
       "output_type": "stream",
       "stream": "stderr",
       "text": [
        "stravalib.model.Activity: WARNING  No such attribute device_watts on entity <Activity id=None name=None resource_state=None>\n"
       ]
      },
      {
       "output_type": "stream",
       "stream": "stderr",
       "text": [
        "WARNING:stravalib.model.Activity:No such attribute device_watts on entity <Activity id=None name=None resource_state=None>\n"
       ]
      },
      {
       "output_type": "stream",
       "stream": "stderr",
       "text": [
        "stravalib.model.Activity: WARNING  No such attribute device_watts on entity <Activity id=None name=None resource_state=None>\n"
       ]
      },
      {
       "output_type": "stream",
       "stream": "stderr",
       "text": [
        "WARNING:stravalib.model.Activity:No such attribute device_watts on entity <Activity id=None name=None resource_state=None>\n"
       ]
      },
      {
       "output_type": "stream",
       "stream": "stderr",
       "text": [
        "stravalib.model.Activity: WARNING  No such attribute device_watts on entity <Activity id=None name=None resource_state=None>\n"
       ]
      },
      {
       "output_type": "stream",
       "stream": "stderr",
       "text": [
        "WARNING:stravalib.model.Activity:No such attribute device_watts on entity <Activity id=None name=None resource_state=None>\n"
       ]
      },
      {
       "output_type": "stream",
       "stream": "stderr",
       "text": [
        "stravalib.model.Activity: WARNING  No such attribute device_watts on entity <Activity id=None name=None resource_state=None>\n"
       ]
      },
      {
       "output_type": "stream",
       "stream": "stderr",
       "text": [
        "WARNING:stravalib.model.Activity:No such attribute device_watts on entity <Activity id=None name=None resource_state=None>\n"
       ]
      },
      {
       "output_type": "stream",
       "stream": "stderr",
       "text": [
        "stravalib.model.Activity: WARNING  No such attribute device_watts on entity <Activity id=None name=None resource_state=None>\n"
       ]
      },
      {
       "output_type": "stream",
       "stream": "stderr",
       "text": [
        "WARNING:stravalib.model.Activity:No such attribute device_watts on entity <Activity id=None name=None resource_state=None>\n"
       ]
      },
      {
       "output_type": "stream",
       "stream": "stderr",
       "text": [
        "stravalib.model.Activity: WARNING  No such attribute device_watts on entity <Activity id=None name=None resource_state=None>\n"
       ]
      },
      {
       "output_type": "stream",
       "stream": "stderr",
       "text": [
        "WARNING:stravalib.model.Activity:No such attribute device_watts on entity <Activity id=None name=None resource_state=None>\n"
       ]
      },
      {
       "output_type": "stream",
       "stream": "stderr",
       "text": [
        "stravalib.model.Activity: WARNING  No such attribute device_watts on entity <Activity id=None name=None resource_state=None>\n"
       ]
      },
      {
       "output_type": "stream",
       "stream": "stderr",
       "text": [
        "WARNING:stravalib.model.Activity:No such attribute device_watts on entity <Activity id=None name=None resource_state=None>\n"
       ]
      },
      {
       "output_type": "stream",
       "stream": "stderr",
       "text": [
        "stravalib.model.Activity: WARNING  No such attribute device_watts on entity <Activity id=None name=None resource_state=None>\n"
       ]
      },
      {
       "output_type": "stream",
       "stream": "stderr",
       "text": [
        "WARNING:stravalib.model.Activity:No such attribute device_watts on entity <Activity id=None name=None resource_state=None>\n"
       ]
      },
      {
       "output_type": "stream",
       "stream": "stderr",
       "text": [
        "stravalib.model.Activity: WARNING  No such attribute device_watts on entity <Activity id=None name=None resource_state=None>\n"
       ]
      },
      {
       "output_type": "stream",
       "stream": "stderr",
       "text": [
        "WARNING:stravalib.model.Activity:No such attribute device_watts on entity <Activity id=None name=None resource_state=None>\n"
       ]
      },
      {
       "output_type": "stream",
       "stream": "stderr",
       "text": [
        "stravalib.model.Activity: WARNING  No such attribute device_watts on entity <Activity id=None name=None resource_state=None>\n"
       ]
      },
      {
       "output_type": "stream",
       "stream": "stderr",
       "text": [
        "WARNING:stravalib.model.Activity:No such attribute device_watts on entity <Activity id=None name=None resource_state=None>\n"
       ]
      },
      {
       "output_type": "stream",
       "stream": "stderr",
       "text": [
        "stravalib.model.Activity: WARNING  No such attribute device_watts on entity <Activity id=None name=None resource_state=None>\n"
       ]
      },
      {
       "output_type": "stream",
       "stream": "stderr",
       "text": [
        "WARNING:stravalib.model.Activity:No such attribute device_watts on entity <Activity id=None name=None resource_state=None>\n"
       ]
      },
      {
       "output_type": "stream",
       "stream": "stderr",
       "text": [
        "stravalib.model.Activity: WARNING  No such attribute device_watts on entity <Activity id=None name=None resource_state=None>\n"
       ]
      },
      {
       "output_type": "stream",
       "stream": "stderr",
       "text": [
        "WARNING:stravalib.model.Activity:No such attribute device_watts on entity <Activity id=None name=None resource_state=None>\n"
       ]
      },
      {
       "output_type": "stream",
       "stream": "stderr",
       "text": [
        "stravalib.model.Activity: WARNING  No such attribute device_watts on entity <Activity id=None name=None resource_state=None>\n"
       ]
      },
      {
       "output_type": "stream",
       "stream": "stderr",
       "text": [
        "WARNING:stravalib.model.Activity:No such attribute device_watts on entity <Activity id=None name=None resource_state=None>\n"
       ]
      },
      {
       "output_type": "stream",
       "stream": "stderr",
       "text": [
        "stravalib.model.Activity: WARNING  No such attribute device_watts on entity <Activity id=None name=None resource_state=None>\n"
       ]
      },
      {
       "output_type": "stream",
       "stream": "stderr",
       "text": [
        "WARNING:stravalib.model.Activity:No such attribute device_watts on entity <Activity id=None name=None resource_state=None>\n"
       ]
      },
      {
       "output_type": "stream",
       "stream": "stderr",
       "text": [
        "stravalib.model.Activity: WARNING  No such attribute device_watts on entity <Activity id=None name=None resource_state=None>\n"
       ]
      },
      {
       "output_type": "stream",
       "stream": "stderr",
       "text": [
        "WARNING:stravalib.model.Activity:No such attribute device_watts on entity <Activity id=None name=None resource_state=None>\n"
       ]
      },
      {
       "output_type": "stream",
       "stream": "stderr",
       "text": [
        "stravalib.model.Activity: WARNING  No such attribute device_watts on entity <Activity id=None name=None resource_state=None>\n"
       ]
      },
      {
       "output_type": "stream",
       "stream": "stderr",
       "text": [
        "WARNING:stravalib.model.Activity:No such attribute device_watts on entity <Activity id=None name=None resource_state=None>\n"
       ]
      },
      {
       "output_type": "stream",
       "stream": "stderr",
       "text": [
        "stravalib.model.Activity: WARNING  No such attribute device_watts on entity <Activity id=None name=None resource_state=None>\n"
       ]
      },
      {
       "output_type": "stream",
       "stream": "stderr",
       "text": [
        "WARNING:stravalib.model.Activity:No such attribute device_watts on entity <Activity id=None name=None resource_state=None>\n"
       ]
      },
      {
       "output_type": "stream",
       "stream": "stderr",
       "text": [
        "stravalib.model.Activity: WARNING  No such attribute device_watts on entity <Activity id=None name=None resource_state=None>\n"
       ]
      },
      {
       "output_type": "stream",
       "stream": "stderr",
       "text": [
        "WARNING:stravalib.model.Activity:No such attribute device_watts on entity <Activity id=None name=None resource_state=None>\n"
       ]
      },
      {
       "output_type": "stream",
       "stream": "stderr",
       "text": [
        "stravalib.model.Activity: WARNING  No such attribute device_watts on entity <Activity id=None name=None resource_state=None>\n"
       ]
      },
      {
       "output_type": "stream",
       "stream": "stderr",
       "text": [
        "WARNING:stravalib.model.Activity:No such attribute device_watts on entity <Activity id=None name=None resource_state=None>\n"
       ]
      },
      {
       "output_type": "stream",
       "stream": "stderr",
       "text": [
        "stravalib.model.Activity: WARNING  No such attribute device_watts on entity <Activity id=None name=None resource_state=None>\n"
       ]
      },
      {
       "output_type": "stream",
       "stream": "stderr",
       "text": [
        "WARNING:stravalib.model.Activity:No such attribute device_watts on entity <Activity id=None name=None resource_state=None>\n"
       ]
      },
      {
       "output_type": "stream",
       "stream": "stderr",
       "text": [
        "stravalib.model.Activity: WARNING  No such attribute device_watts on entity <Activity id=None name=None resource_state=None>\n"
       ]
      },
      {
       "output_type": "stream",
       "stream": "stderr",
       "text": [
        "WARNING:stravalib.model.Activity:No such attribute device_watts on entity <Activity id=None name=None resource_state=None>\n"
       ]
      },
      {
       "output_type": "stream",
       "stream": "stderr",
       "text": [
        "stravalib.model.Activity: WARNING  No such attribute device_watts on entity <Activity id=None name=None resource_state=None>\n"
       ]
      },
      {
       "output_type": "stream",
       "stream": "stderr",
       "text": [
        "WARNING:stravalib.model.Activity:No such attribute device_watts on entity <Activity id=None name=None resource_state=None>\n"
       ]
      },
      {
       "output_type": "stream",
       "stream": "stderr",
       "text": [
        "stravalib.model.Activity: WARNING  No such attribute device_watts on entity <Activity id=None name=None resource_state=None>\n"
       ]
      },
      {
       "output_type": "stream",
       "stream": "stderr",
       "text": [
        "WARNING:stravalib.model.Activity:No such attribute device_watts on entity <Activity id=None name=None resource_state=None>\n"
       ]
      },
      {
       "output_type": "stream",
       "stream": "stderr",
       "text": [
        "stravalib.model.Activity: WARNING  No such attribute device_watts on entity <Activity id=None name=None resource_state=None>\n"
       ]
      },
      {
       "output_type": "stream",
       "stream": "stderr",
       "text": [
        "WARNING:stravalib.model.Activity:No such attribute device_watts on entity <Activity id=None name=None resource_state=None>\n"
       ]
      },
      {
       "output_type": "stream",
       "stream": "stderr",
       "text": [
        "stravalib.model.Activity: WARNING  No such attribute device_watts on entity <Activity id=None name=None resource_state=None>\n"
       ]
      },
      {
       "output_type": "stream",
       "stream": "stderr",
       "text": [
        "WARNING:stravalib.model.Activity:No such attribute device_watts on entity <Activity id=None name=None resource_state=None>\n"
       ]
      },
      {
       "output_type": "stream",
       "stream": "stderr",
       "text": [
        "stravalib.model.Activity: WARNING  No such attribute device_watts on entity <Activity id=None name=None resource_state=None>\n"
       ]
      },
      {
       "output_type": "stream",
       "stream": "stderr",
       "text": [
        "WARNING:stravalib.model.Activity:No such attribute device_watts on entity <Activity id=None name=None resource_state=None>\n"
       ]
      },
      {
       "output_type": "stream",
       "stream": "stderr",
       "text": [
        "stravalib.model.Activity: WARNING  No such attribute device_watts on entity <Activity id=None name=None resource_state=None>\n"
       ]
      },
      {
       "output_type": "stream",
       "stream": "stderr",
       "text": [
        "WARNING:stravalib.model.Activity:No such attribute device_watts on entity <Activity id=None name=None resource_state=None>\n"
       ]
      },
      {
       "output_type": "stream",
       "stream": "stderr",
       "text": [
        "stravalib.model.Activity: WARNING  No such attribute device_watts on entity <Activity id=None name=None resource_state=None>\n"
       ]
      },
      {
       "output_type": "stream",
       "stream": "stderr",
       "text": [
        "WARNING:stravalib.model.Activity:No such attribute device_watts on entity <Activity id=None name=None resource_state=None>\n"
       ]
      },
      {
       "output_type": "stream",
       "stream": "stderr",
       "text": [
        "stravalib.model.Activity: WARNING  No such attribute device_watts on entity <Activity id=None name=None resource_state=None>\n"
       ]
      },
      {
       "output_type": "stream",
       "stream": "stderr",
       "text": [
        "WARNING:stravalib.model.Activity:No such attribute device_watts on entity <Activity id=None name=None resource_state=None>\n"
       ]
      },
      {
       "output_type": "stream",
       "stream": "stderr",
       "text": [
        "stravalib.model.Activity: WARNING  No such attribute device_watts on entity <Activity id=None name=None resource_state=None>\n"
       ]
      },
      {
       "output_type": "stream",
       "stream": "stderr",
       "text": [
        "WARNING:stravalib.model.Activity:No such attribute device_watts on entity <Activity id=None name=None resource_state=None>\n"
       ]
      },
      {
       "output_type": "stream",
       "stream": "stderr",
       "text": [
        "stravalib.model.Activity: WARNING  No such attribute device_watts on entity <Activity id=None name=None resource_state=None>\n"
       ]
      },
      {
       "output_type": "stream",
       "stream": "stderr",
       "text": [
        "WARNING:stravalib.model.Activity:No such attribute device_watts on entity <Activity id=None name=None resource_state=None>\n"
       ]
      },
      {
       "output_type": "stream",
       "stream": "stderr",
       "text": [
        "stravalib.model.Activity: WARNING  No such attribute device_watts on entity <Activity id=None name=None resource_state=None>\n"
       ]
      },
      {
       "output_type": "stream",
       "stream": "stderr",
       "text": [
        "WARNING:stravalib.model.Activity:No such attribute device_watts on entity <Activity id=None name=None resource_state=None>\n"
       ]
      },
      {
       "output_type": "stream",
       "stream": "stderr",
       "text": [
        "stravalib.model.Activity: WARNING  No such attribute device_watts on entity <Activity id=None name=None resource_state=None>\n"
       ]
      },
      {
       "output_type": "stream",
       "stream": "stderr",
       "text": [
        "WARNING:stravalib.model.Activity:No such attribute device_watts on entity <Activity id=None name=None resource_state=None>\n"
       ]
      },
      {
       "output_type": "stream",
       "stream": "stderr",
       "text": [
        "stravalib.model.Activity: WARNING  No such attribute device_watts on entity <Activity id=None name=None resource_state=None>\n"
       ]
      },
      {
       "output_type": "stream",
       "stream": "stderr",
       "text": [
        "WARNING:stravalib.model.Activity:No such attribute device_watts on entity <Activity id=None name=None resource_state=None>\n"
       ]
      },
      {
       "output_type": "stream",
       "stream": "stderr",
       "text": [
        "stravalib.model.Activity: WARNING  No such attribute device_watts on entity <Activity id=None name=None resource_state=None>\n"
       ]
      },
      {
       "output_type": "stream",
       "stream": "stderr",
       "text": [
        "WARNING:stravalib.model.Activity:No such attribute device_watts on entity <Activity id=None name=None resource_state=None>\n"
       ]
      },
      {
       "output_type": "stream",
       "stream": "stderr",
       "text": [
        "stravalib.model.Activity: WARNING  No such attribute device_watts on entity <Activity id=None name=None resource_state=None>\n"
       ]
      },
      {
       "output_type": "stream",
       "stream": "stderr",
       "text": [
        "WARNING:stravalib.model.Activity:No such attribute device_watts on entity <Activity id=None name=None resource_state=None>\n"
       ]
      },
      {
       "output_type": "stream",
       "stream": "stderr",
       "text": [
        "stravalib.model.Activity: WARNING  No such attribute device_watts on entity <Activity id=None name=None resource_state=None>\n"
       ]
      },
      {
       "output_type": "stream",
       "stream": "stderr",
       "text": [
        "WARNING:stravalib.model.Activity:No such attribute device_watts on entity <Activity id=None name=None resource_state=None>\n"
       ]
      },
      {
       "output_type": "stream",
       "stream": "stderr",
       "text": [
        "stravalib.model.Activity: WARNING  No such attribute device_watts on entity <Activity id=None name=None resource_state=None>\n"
       ]
      },
      {
       "output_type": "stream",
       "stream": "stderr",
       "text": [
        "WARNING:stravalib.model.Activity:No such attribute device_watts on entity <Activity id=None name=None resource_state=None>\n"
       ]
      },
      {
       "output_type": "stream",
       "stream": "stderr",
       "text": [
        "stravalib.model.Activity: WARNING  No such attribute device_watts on entity <Activity id=None name=None resource_state=None>\n"
       ]
      },
      {
       "output_type": "stream",
       "stream": "stderr",
       "text": [
        "WARNING:stravalib.model.Activity:No such attribute device_watts on entity <Activity id=None name=None resource_state=None>\n"
       ]
      },
      {
       "output_type": "stream",
       "stream": "stderr",
       "text": [
        "stravalib.model.Activity: WARNING  No such attribute device_watts on entity <Activity id=None name=None resource_state=None>\n"
       ]
      },
      {
       "output_type": "stream",
       "stream": "stderr",
       "text": [
        "WARNING:stravalib.model.Activity:No such attribute device_watts on entity <Activity id=None name=None resource_state=None>\n"
       ]
      },
      {
       "output_type": "stream",
       "stream": "stderr",
       "text": [
        "stravalib.model.Activity: WARNING  No such attribute device_watts on entity <Activity id=None name=None resource_state=None>\n"
       ]
      },
      {
       "output_type": "stream",
       "stream": "stderr",
       "text": [
        "WARNING:stravalib.model.Activity:No such attribute device_watts on entity <Activity id=None name=None resource_state=None>\n"
       ]
      },
      {
       "output_type": "stream",
       "stream": "stderr",
       "text": [
        "stravalib.model.Activity: WARNING  No such attribute device_watts on entity <Activity id=None name=None resource_state=None>\n"
       ]
      },
      {
       "output_type": "stream",
       "stream": "stderr",
       "text": [
        "WARNING:stravalib.model.Activity:No such attribute device_watts on entity <Activity id=None name=None resource_state=None>\n"
       ]
      },
      {
       "output_type": "stream",
       "stream": "stderr",
       "text": [
        "stravalib.model.Activity: WARNING  No such attribute device_watts on entity <Activity id=None name=None resource_state=None>\n"
       ]
      },
      {
       "output_type": "stream",
       "stream": "stderr",
       "text": [
        "WARNING:stravalib.model.Activity:No such attribute device_watts on entity <Activity id=None name=None resource_state=None>\n"
       ]
      },
      {
       "output_type": "stream",
       "stream": "stderr",
       "text": [
        "stravalib.model.Activity: WARNING  No such attribute device_watts on entity <Activity id=None name=None resource_state=None>\n"
       ]
      },
      {
       "output_type": "stream",
       "stream": "stderr",
       "text": [
        "WARNING:stravalib.model.Activity:No such attribute device_watts on entity <Activity id=None name=None resource_state=None>\n"
       ]
      },
      {
       "output_type": "stream",
       "stream": "stderr",
       "text": [
        "stravalib.model.Activity: WARNING  No such attribute device_watts on entity <Activity id=None name=None resource_state=None>\n"
       ]
      },
      {
       "output_type": "stream",
       "stream": "stderr",
       "text": [
        "WARNING:stravalib.model.Activity:No such attribute device_watts on entity <Activity id=None name=None resource_state=None>\n"
       ]
      },
      {
       "output_type": "stream",
       "stream": "stderr",
       "text": [
        "stravalib.model.Activity: WARNING  No such attribute device_watts on entity <Activity id=None name=None resource_state=None>\n"
       ]
      },
      {
       "output_type": "stream",
       "stream": "stderr",
       "text": [
        "WARNING:stravalib.model.Activity:No such attribute device_watts on entity <Activity id=None name=None resource_state=None>\n"
       ]
      },
      {
       "output_type": "stream",
       "stream": "stderr",
       "text": [
        "stravalib.model.Activity: WARNING  No such attribute device_watts on entity <Activity id=None name=None resource_state=None>\n"
       ]
      },
      {
       "output_type": "stream",
       "stream": "stderr",
       "text": [
        "WARNING:stravalib.model.Activity:No such attribute device_watts on entity <Activity id=None name=None resource_state=None>\n"
       ]
      },
      {
       "output_type": "stream",
       "stream": "stderr",
       "text": [
        "stravalib.model.Activity: WARNING  No such attribute device_watts on entity <Activity id=None name=None resource_state=None>\n"
       ]
      },
      {
       "output_type": "stream",
       "stream": "stderr",
       "text": [
        "WARNING:stravalib.model.Activity:No such attribute device_watts on entity <Activity id=None name=None resource_state=None>\n"
       ]
      },
      {
       "output_type": "stream",
       "stream": "stderr",
       "text": [
        "stravalib.model.Activity: WARNING  No such attribute device_watts on entity <Activity id=None name=None resource_state=None>\n"
       ]
      },
      {
       "output_type": "stream",
       "stream": "stderr",
       "text": [
        "WARNING:stravalib.model.Activity:No such attribute device_watts on entity <Activity id=None name=None resource_state=None>\n"
       ]
      },
      {
       "output_type": "stream",
       "stream": "stderr",
       "text": [
        "stravalib.model.Activity: WARNING  No such attribute device_watts on entity <Activity id=None name=None resource_state=None>\n"
       ]
      },
      {
       "output_type": "stream",
       "stream": "stderr",
       "text": [
        "WARNING:stravalib.model.Activity:No such attribute device_watts on entity <Activity id=None name=None resource_state=None>\n"
       ]
      },
      {
       "output_type": "stream",
       "stream": "stderr",
       "text": [
        "stravalib.model.Activity: WARNING  No such attribute device_watts on entity <Activity id=None name=None resource_state=None>\n"
       ]
      },
      {
       "output_type": "stream",
       "stream": "stderr",
       "text": [
        "WARNING:stravalib.model.Activity:No such attribute device_watts on entity <Activity id=None name=None resource_state=None>\n"
       ]
      },
      {
       "output_type": "stream",
       "stream": "stderr",
       "text": [
        "stravalib.model.Activity: WARNING  No such attribute device_watts on entity <Activity id=None name=None resource_state=None>\n"
       ]
      },
      {
       "output_type": "stream",
       "stream": "stderr",
       "text": [
        "WARNING:stravalib.model.Activity:No such attribute device_watts on entity <Activity id=None name=None resource_state=None>\n"
       ]
      },
      {
       "output_type": "stream",
       "stream": "stderr",
       "text": [
        "stravalib.model.Activity: WARNING  No such attribute device_watts on entity <Activity id=None name=None resource_state=None>\n"
       ]
      },
      {
       "output_type": "stream",
       "stream": "stderr",
       "text": [
        "WARNING:stravalib.model.Activity:No such attribute device_watts on entity <Activity id=None name=None resource_state=None>\n"
       ]
      },
      {
       "output_type": "stream",
       "stream": "stderr",
       "text": [
        "stravalib.model.Activity: WARNING  No such attribute device_watts on entity <Activity id=None name=None resource_state=None>\n"
       ]
      },
      {
       "output_type": "stream",
       "stream": "stderr",
       "text": [
        "WARNING:stravalib.model.Activity:No such attribute device_watts on entity <Activity id=None name=None resource_state=None>\n"
       ]
      },
      {
       "output_type": "stream",
       "stream": "stderr",
       "text": [
        "stravalib.model.Activity: WARNING  No such attribute device_watts on entity <Activity id=None name=None resource_state=None>\n"
       ]
      },
      {
       "output_type": "stream",
       "stream": "stderr",
       "text": [
        "WARNING:stravalib.model.Activity:No such attribute device_watts on entity <Activity id=None name=None resource_state=None>\n"
       ]
      },
      {
       "output_type": "stream",
       "stream": "stderr",
       "text": [
        "stravalib.model.Activity: WARNING  No such attribute device_watts on entity <Activity id=None name=None resource_state=None>\n"
       ]
      },
      {
       "output_type": "stream",
       "stream": "stderr",
       "text": [
        "WARNING:stravalib.model.Activity:No such attribute device_watts on entity <Activity id=None name=None resource_state=None>\n"
       ]
      },
      {
       "output_type": "stream",
       "stream": "stderr",
       "text": [
        "stravalib.model.Activity: WARNING  No such attribute device_watts on entity <Activity id=None name=None resource_state=None>\n"
       ]
      },
      {
       "output_type": "stream",
       "stream": "stderr",
       "text": [
        "WARNING:stravalib.model.Activity:No such attribute device_watts on entity <Activity id=None name=None resource_state=None>\n"
       ]
      },
      {
       "output_type": "stream",
       "stream": "stderr",
       "text": [
        "stravalib.model.Activity: WARNING  No such attribute device_watts on entity <Activity id=None name=None resource_state=None>\n"
       ]
      },
      {
       "output_type": "stream",
       "stream": "stderr",
       "text": [
        "WARNING:stravalib.model.Activity:No such attribute device_watts on entity <Activity id=None name=None resource_state=None>\n"
       ]
      },
      {
       "output_type": "stream",
       "stream": "stderr",
       "text": [
        "stravalib.model.Activity: WARNING  No such attribute device_watts on entity <Activity id=None name=None resource_state=None>\n"
       ]
      },
      {
       "output_type": "stream",
       "stream": "stderr",
       "text": [
        "WARNING:stravalib.model.Activity:No such attribute device_watts on entity <Activity id=None name=None resource_state=None>\n"
       ]
      },
      {
       "output_type": "stream",
       "stream": "stderr",
       "text": [
        "stravalib.model.Activity: WARNING  No such attribute device_watts on entity <Activity id=None name=None resource_state=None>\n"
       ]
      },
      {
       "output_type": "stream",
       "stream": "stderr",
       "text": [
        "WARNING:stravalib.model.Activity:No such attribute device_watts on entity <Activity id=None name=None resource_state=None>\n"
       ]
      },
      {
       "output_type": "stream",
       "stream": "stderr",
       "text": [
        "stravalib.model.Activity: WARNING  No such attribute device_watts on entity <Activity id=None name=None resource_state=None>\n"
       ]
      },
      {
       "output_type": "stream",
       "stream": "stderr",
       "text": [
        "WARNING:stravalib.model.Activity:No such attribute device_watts on entity <Activity id=None name=None resource_state=None>\n"
       ]
      },
      {
       "output_type": "stream",
       "stream": "stderr",
       "text": [
        "stravalib.model.Activity: WARNING  No such attribute device_watts on entity <Activity id=None name=None resource_state=None>\n"
       ]
      },
      {
       "output_type": "stream",
       "stream": "stderr",
       "text": [
        "WARNING:stravalib.model.Activity:No such attribute device_watts on entity <Activity id=None name=None resource_state=None>\n"
       ]
      },
      {
       "output_type": "stream",
       "stream": "stderr",
       "text": [
        "stravalib.model.Activity: WARNING  No such attribute device_watts on entity <Activity id=None name=None resource_state=None>\n"
       ]
      },
      {
       "output_type": "stream",
       "stream": "stderr",
       "text": [
        "WARNING:stravalib.model.Activity:No such attribute device_watts on entity <Activity id=None name=None resource_state=None>\n"
       ]
      },
      {
       "output_type": "stream",
       "stream": "stderr",
       "text": [
        "stravalib.model.Activity: WARNING  No such attribute device_watts on entity <Activity id=None name=None resource_state=None>\n"
       ]
      },
      {
       "output_type": "stream",
       "stream": "stderr",
       "text": [
        "WARNING:stravalib.model.Activity:No such attribute device_watts on entity <Activity id=None name=None resource_state=None>\n"
       ]
      },
      {
       "output_type": "stream",
       "stream": "stderr",
       "text": [
        "stravalib.model.Activity: WARNING  No such attribute device_watts on entity <Activity id=None name=None resource_state=None>\n"
       ]
      },
      {
       "output_type": "stream",
       "stream": "stderr",
       "text": [
        "WARNING:stravalib.model.Activity:No such attribute device_watts on entity <Activity id=None name=None resource_state=None>\n"
       ]
      },
      {
       "output_type": "stream",
       "stream": "stderr",
       "text": [
        "stravalib.model.Activity: WARNING  No such attribute device_watts on entity <Activity id=None name=None resource_state=None>\n"
       ]
      },
      {
       "output_type": "stream",
       "stream": "stderr",
       "text": [
        "WARNING:stravalib.model.Activity:No such attribute device_watts on entity <Activity id=None name=None resource_state=None>\n"
       ]
      },
      {
       "output_type": "stream",
       "stream": "stderr",
       "text": [
        "stravalib.model.Activity: WARNING  No such attribute device_watts on entity <Activity id=None name=None resource_state=None>\n"
       ]
      },
      {
       "output_type": "stream",
       "stream": "stderr",
       "text": [
        "WARNING:stravalib.model.Activity:No such attribute device_watts on entity <Activity id=None name=None resource_state=None>\n"
       ]
      },
      {
       "output_type": "stream",
       "stream": "stderr",
       "text": [
        "stravalib.model.Activity: WARNING  No such attribute device_watts on entity <Activity id=None name=None resource_state=None>\n"
       ]
      },
      {
       "output_type": "stream",
       "stream": "stderr",
       "text": [
        "WARNING:stravalib.model.Activity:No such attribute device_watts on entity <Activity id=None name=None resource_state=None>\n"
       ]
      },
      {
       "output_type": "stream",
       "stream": "stderr",
       "text": [
        "stravalib.model.Activity: WARNING  No such attribute device_watts on entity <Activity id=None name=None resource_state=None>\n"
       ]
      },
      {
       "output_type": "stream",
       "stream": "stderr",
       "text": [
        "WARNING:stravalib.model.Activity:No such attribute device_watts on entity <Activity id=None name=None resource_state=None>\n"
       ]
      },
      {
       "output_type": "stream",
       "stream": "stderr",
       "text": [
        "stravalib.model.Activity: WARNING  No such attribute device_watts on entity <Activity id=None name=None resource_state=None>\n"
       ]
      },
      {
       "output_type": "stream",
       "stream": "stderr",
       "text": [
        "WARNING:stravalib.model.Activity:No such attribute device_watts on entity <Activity id=None name=None resource_state=None>\n"
       ]
      },
      {
       "output_type": "stream",
       "stream": "stderr",
       "text": [
        "stravalib.model.Activity: WARNING  No such attribute device_watts on entity <Activity id=None name=None resource_state=None>\n"
       ]
      },
      {
       "output_type": "stream",
       "stream": "stderr",
       "text": [
        "WARNING:stravalib.model.Activity:No such attribute device_watts on entity <Activity id=None name=None resource_state=None>\n"
       ]
      },
      {
       "output_type": "stream",
       "stream": "stderr",
       "text": [
        "stravalib.model.Activity: WARNING  No such attribute device_watts on entity <Activity id=None name=None resource_state=None>\n"
       ]
      },
      {
       "output_type": "stream",
       "stream": "stderr",
       "text": [
        "WARNING:stravalib.model.Activity:No such attribute device_watts on entity <Activity id=None name=None resource_state=None>\n"
       ]
      },
      {
       "output_type": "stream",
       "stream": "stderr",
       "text": [
        "stravalib.model.Activity: WARNING  No such attribute device_watts on entity <Activity id=None name=None resource_state=None>\n"
       ]
      },
      {
       "output_type": "stream",
       "stream": "stderr",
       "text": [
        "WARNING:stravalib.model.Activity:No such attribute device_watts on entity <Activity id=None name=None resource_state=None>\n"
       ]
      },
      {
       "output_type": "stream",
       "stream": "stderr",
       "text": [
        "stravalib.model.Activity: WARNING  No such attribute device_watts on entity <Activity id=None name=None resource_state=None>\n"
       ]
      },
      {
       "output_type": "stream",
       "stream": "stderr",
       "text": [
        "WARNING:stravalib.model.Activity:No such attribute device_watts on entity <Activity id=None name=None resource_state=None>\n"
       ]
      },
      {
       "output_type": "stream",
       "stream": "stderr",
       "text": [
        "stravalib.model.Activity: WARNING  No such attribute device_watts on entity <Activity id=None name=None resource_state=None>\n"
       ]
      },
      {
       "output_type": "stream",
       "stream": "stderr",
       "text": [
        "WARNING:stravalib.model.Activity:No such attribute device_watts on entity <Activity id=None name=None resource_state=None>\n"
       ]
      },
      {
       "output_type": "stream",
       "stream": "stderr",
       "text": [
        "stravalib.model.Activity: WARNING  No such attribute device_watts on entity <Activity id=None name=None resource_state=None>\n"
       ]
      },
      {
       "output_type": "stream",
       "stream": "stderr",
       "text": [
        "WARNING:stravalib.model.Activity:No such attribute device_watts on entity <Activity id=None name=None resource_state=None>\n"
       ]
      },
      {
       "output_type": "stream",
       "stream": "stderr",
       "text": [
        "stravalib.model.Activity: WARNING  No such attribute device_watts on entity <Activity id=None name=None resource_state=None>\n"
       ]
      },
      {
       "output_type": "stream",
       "stream": "stderr",
       "text": [
        "WARNING:stravalib.model.Activity:No such attribute device_watts on entity <Activity id=None name=None resource_state=None>\n"
       ]
      },
      {
       "output_type": "stream",
       "stream": "stderr",
       "text": [
        "stravalib.model.Activity: WARNING  No such attribute device_watts on entity <Activity id=None name=None resource_state=None>\n"
       ]
      },
      {
       "output_type": "stream",
       "stream": "stderr",
       "text": [
        "WARNING:stravalib.model.Activity:No such attribute device_watts on entity <Activity id=None name=None resource_state=None>\n"
       ]
      },
      {
       "output_type": "stream",
       "stream": "stderr",
       "text": [
        "stravalib.model.Activity: WARNING  No such attribute device_watts on entity <Activity id=None name=None resource_state=None>\n"
       ]
      },
      {
       "output_type": "stream",
       "stream": "stderr",
       "text": [
        "WARNING:stravalib.model.Activity:No such attribute device_watts on entity <Activity id=None name=None resource_state=None>\n"
       ]
      },
      {
       "output_type": "stream",
       "stream": "stderr",
       "text": [
        "stravalib.model.Activity: WARNING  No such attribute device_watts on entity <Activity id=None name=None resource_state=None>\n"
       ]
      },
      {
       "output_type": "stream",
       "stream": "stderr",
       "text": [
        "WARNING:stravalib.model.Activity:No such attribute device_watts on entity <Activity id=None name=None resource_state=None>\n"
       ]
      },
      {
       "output_type": "stream",
       "stream": "stderr",
       "text": [
        "stravalib.model.Activity: WARNING  No such attribute device_watts on entity <Activity id=None name=None resource_state=None>\n"
       ]
      },
      {
       "output_type": "stream",
       "stream": "stderr",
       "text": [
        "WARNING:stravalib.model.Activity:No such attribute device_watts on entity <Activity id=None name=None resource_state=None>\n"
       ]
      },
      {
       "output_type": "stream",
       "stream": "stderr",
       "text": [
        "stravalib.model.Activity: WARNING  No such attribute device_watts on entity <Activity id=None name=None resource_state=None>\n"
       ]
      },
      {
       "output_type": "stream",
       "stream": "stderr",
       "text": [
        "WARNING:stravalib.model.Activity:No such attribute device_watts on entity <Activity id=None name=None resource_state=None>\n"
       ]
      },
      {
       "output_type": "stream",
       "stream": "stderr",
       "text": [
        "stravalib.model.Activity: WARNING  No such attribute device_watts on entity <Activity id=None name=None resource_state=None>\n"
       ]
      },
      {
       "output_type": "stream",
       "stream": "stderr",
       "text": [
        "WARNING:stravalib.model.Activity:No such attribute device_watts on entity <Activity id=None name=None resource_state=None>\n"
       ]
      },
      {
       "output_type": "stream",
       "stream": "stderr",
       "text": [
        "stravalib.model.Activity: WARNING  No such attribute device_watts on entity <Activity id=None name=None resource_state=None>\n"
       ]
      },
      {
       "output_type": "stream",
       "stream": "stderr",
       "text": [
        "WARNING:stravalib.model.Activity:No such attribute device_watts on entity <Activity id=None name=None resource_state=None>\n"
       ]
      },
      {
       "output_type": "stream",
       "stream": "stderr",
       "text": [
        "stravalib.model.Activity: WARNING  No such attribute device_watts on entity <Activity id=None name=None resource_state=None>\n"
       ]
      },
      {
       "output_type": "stream",
       "stream": "stderr",
       "text": [
        "WARNING:stravalib.model.Activity:No such attribute device_watts on entity <Activity id=None name=None resource_state=None>\n"
       ]
      },
      {
       "output_type": "stream",
       "stream": "stderr",
       "text": [
        "stravalib.model.Activity: WARNING  No such attribute device_watts on entity <Activity id=None name=None resource_state=None>\n"
       ]
      },
      {
       "output_type": "stream",
       "stream": "stderr",
       "text": [
        "WARNING:stravalib.model.Activity:No such attribute device_watts on entity <Activity id=None name=None resource_state=None>\n"
       ]
      },
      {
       "output_type": "stream",
       "stream": "stderr",
       "text": [
        "stravalib.model.Activity: WARNING  No such attribute device_watts on entity <Activity id=None name=None resource_state=None>\n"
       ]
      },
      {
       "output_type": "stream",
       "stream": "stderr",
       "text": [
        "WARNING:stravalib.model.Activity:No such attribute device_watts on entity <Activity id=None name=None resource_state=None>\n"
       ]
      },
      {
       "output_type": "stream",
       "stream": "stderr",
       "text": [
        "stravalib.model.Activity: WARNING  No such attribute device_watts on entity <Activity id=None name=None resource_state=None>\n"
       ]
      },
      {
       "output_type": "stream",
       "stream": "stderr",
       "text": [
        "WARNING:stravalib.model.Activity:No such attribute device_watts on entity <Activity id=None name=None resource_state=None>\n"
       ]
      },
      {
       "output_type": "stream",
       "stream": "stderr",
       "text": [
        "stravalib.model.Activity: WARNING  No such attribute device_watts on entity <Activity id=None name=None resource_state=None>\n"
       ]
      },
      {
       "output_type": "stream",
       "stream": "stderr",
       "text": [
        "WARNING:stravalib.model.Activity:No such attribute device_watts on entity <Activity id=None name=None resource_state=None>\n"
       ]
      },
      {
       "output_type": "stream",
       "stream": "stderr",
       "text": [
        "stravalib.model.Activity: WARNING  No such attribute device_watts on entity <Activity id=None name=None resource_state=None>\n"
       ]
      },
      {
       "output_type": "stream",
       "stream": "stderr",
       "text": [
        "WARNING:stravalib.model.Activity:No such attribute device_watts on entity <Activity id=None name=None resource_state=None>\n"
       ]
      },
      {
       "output_type": "stream",
       "stream": "stderr",
       "text": [
        "stravalib.model.Activity: WARNING  No such attribute device_watts on entity <Activity id=None name=None resource_state=None>\n"
       ]
      },
      {
       "output_type": "stream",
       "stream": "stderr",
       "text": [
        "WARNING:stravalib.model.Activity:No such attribute device_watts on entity <Activity id=None name=None resource_state=None>\n"
       ]
      },
      {
       "output_type": "stream",
       "stream": "stderr",
       "text": [
        "stravalib.model.Activity: WARNING  No such attribute device_watts on entity <Activity id=None name=None resource_state=None>\n"
       ]
      },
      {
       "output_type": "stream",
       "stream": "stderr",
       "text": [
        "WARNING:stravalib.model.Activity:No such attribute device_watts on entity <Activity id=None name=None resource_state=None>\n"
       ]
      },
      {
       "output_type": "stream",
       "stream": "stderr",
       "text": [
        "stravalib.model.Activity: WARNING  No such attribute device_watts on entity <Activity id=None name=None resource_state=None>\n"
       ]
      },
      {
       "output_type": "stream",
       "stream": "stderr",
       "text": [
        "WARNING:stravalib.model.Activity:No such attribute device_watts on entity <Activity id=None name=None resource_state=None>\n"
       ]
      },
      {
       "output_type": "stream",
       "stream": "stderr",
       "text": [
        "stravalib.model.Activity: WARNING  No such attribute device_watts on entity <Activity id=None name=None resource_state=None>\n"
       ]
      },
      {
       "output_type": "stream",
       "stream": "stderr",
       "text": [
        "WARNING:stravalib.model.Activity:No such attribute device_watts on entity <Activity id=None name=None resource_state=None>\n"
       ]
      },
      {
       "output_type": "stream",
       "stream": "stderr",
       "text": [
        "stravalib.model.Activity: WARNING  No such attribute device_watts on entity <Activity id=None name=None resource_state=None>\n"
       ]
      },
      {
       "output_type": "stream",
       "stream": "stderr",
       "text": [
        "WARNING:stravalib.model.Activity:No such attribute device_watts on entity <Activity id=None name=None resource_state=None>\n"
       ]
      },
      {
       "output_type": "stream",
       "stream": "stderr",
       "text": [
        "stravalib.model.Activity: WARNING  No such attribute device_watts on entity <Activity id=None name=None resource_state=None>\n"
       ]
      },
      {
       "output_type": "stream",
       "stream": "stderr",
       "text": [
        "WARNING:stravalib.model.Activity:No such attribute device_watts on entity <Activity id=None name=None resource_state=None>\n"
       ]
      },
      {
       "output_type": "stream",
       "stream": "stderr",
       "text": [
        "stravalib.model.Activity: WARNING  No such attribute device_watts on entity <Activity id=None name=None resource_state=None>\n"
       ]
      },
      {
       "output_type": "stream",
       "stream": "stderr",
       "text": [
        "WARNING:stravalib.model.Activity:No such attribute device_watts on entity <Activity id=None name=None resource_state=None>\n"
       ]
      },
      {
       "output_type": "stream",
       "stream": "stderr",
       "text": [
        "stravalib.model.Activity: WARNING  No such attribute device_watts on entity <Activity id=None name=None resource_state=None>\n"
       ]
      },
      {
       "output_type": "stream",
       "stream": "stderr",
       "text": [
        "WARNING:stravalib.model.Activity:No such attribute device_watts on entity <Activity id=None name=None resource_state=None>\n"
       ]
      },
      {
       "output_type": "stream",
       "stream": "stderr",
       "text": [
        "stravalib.model.Activity: WARNING  No such attribute device_watts on entity <Activity id=None name=None resource_state=None>\n"
       ]
      },
      {
       "output_type": "stream",
       "stream": "stderr",
       "text": [
        "WARNING:stravalib.model.Activity:No such attribute device_watts on entity <Activity id=None name=None resource_state=None>\n"
       ]
      },
      {
       "output_type": "stream",
       "stream": "stderr",
       "text": [
        "stravalib.model.Activity: WARNING  No such attribute device_watts on entity <Activity id=None name=None resource_state=None>\n"
       ]
      },
      {
       "output_type": "stream",
       "stream": "stderr",
       "text": [
        "WARNING:stravalib.model.Activity:No such attribute device_watts on entity <Activity id=None name=None resource_state=None>\n"
       ]
      },
      {
       "output_type": "stream",
       "stream": "stderr",
       "text": [
        "stravalib.model.Activity: WARNING  No such attribute device_watts on entity <Activity id=None name=None resource_state=None>\n"
       ]
      },
      {
       "output_type": "stream",
       "stream": "stderr",
       "text": [
        "WARNING:stravalib.model.Activity:No such attribute device_watts on entity <Activity id=None name=None resource_state=None>\n"
       ]
      },
      {
       "output_type": "stream",
       "stream": "stderr",
       "text": [
        "stravalib.model.Activity: WARNING  No such attribute device_watts on entity <Activity id=None name=None resource_state=None>\n"
       ]
      },
      {
       "output_type": "stream",
       "stream": "stderr",
       "text": [
        "WARNING:stravalib.model.Activity:No such attribute device_watts on entity <Activity id=None name=None resource_state=None>\n"
       ]
      },
      {
       "output_type": "stream",
       "stream": "stderr",
       "text": [
        "stravalib.model.Activity: WARNING  No such attribute device_watts on entity <Activity id=None name=None resource_state=None>\n"
       ]
      },
      {
       "output_type": "stream",
       "stream": "stderr",
       "text": [
        "WARNING:stravalib.model.Activity:No such attribute device_watts on entity <Activity id=None name=None resource_state=None>\n"
       ]
      },
      {
       "output_type": "stream",
       "stream": "stderr",
       "text": [
        "stravalib.model.Activity: WARNING  No such attribute device_watts on entity <Activity id=None name=None resource_state=None>\n"
       ]
      },
      {
       "output_type": "stream",
       "stream": "stderr",
       "text": [
        "WARNING:stravalib.model.Activity:No such attribute device_watts on entity <Activity id=None name=None resource_state=None>\n"
       ]
      },
      {
       "output_type": "stream",
       "stream": "stderr",
       "text": [
        "stravalib.model.Activity: WARNING  No such attribute device_watts on entity <Activity id=None name=None resource_state=None>\n"
       ]
      },
      {
       "metadata": {},
       "output_type": "pyout",
       "prompt_number": 17,
       "text": [
        "[184416264,\n",
        " 184000910,\n",
        " 184000908,\n",
        " 178588161,\n",
        " 174577746,\n",
        " 172338246,\n",
        " 172338173,\n",
        " 168689897,\n",
        " 165016597,\n",
        " 165016728,\n",
        " 165016596,\n",
        " 159348922]"
       ]
      }
     ],
     "prompt_number": 17
    },
    {
     "cell_type": "code",
     "collapsed": false,
     "input": [
      "print len(filtered_ids)\n",
      "print len(activity_filt.filtered)"
     ],
     "language": "python",
     "metadata": {},
     "outputs": [
      {
       "output_type": "stream",
       "stream": "stdout",
       "text": [
        "12\n",
        "28"
       ]
      },
      {
       "output_type": "stream",
       "stream": "stdout",
       "text": [
        "\n"
       ]
      }
     ],
     "prompt_number": 19
    },
    {
     "cell_type": "code",
     "collapsed": false,
     "input": [
      "filtered = [client.get_activity(id) for id in filtered_ids] "
     ],
     "language": "python",
     "metadata": {},
     "outputs": [
      {
       "output_type": "stream",
       "stream": "stderr",
       "text": [
        "WARNING:stravalib.model.Activity:No such attribute device_watts on entity <Activity id=None name=None resource_state=None>\n"
       ]
      },
      {
       "output_type": "stream",
       "stream": "stderr",
       "text": [
        "stravalib.model.Activity: WARNING  No such attribute device_watts on entity <Activity id=None name=None resource_state=None>\n"
       ]
      },
      {
       "output_type": "stream",
       "stream": "stderr",
       "text": [
        "WARNING:stravalib.model.Activity:No such attribute device_watts on entity <Activity id=None name=None resource_state=None>\n"
       ]
      },
      {
       "output_type": "stream",
       "stream": "stderr",
       "text": [
        "stravalib.model.Activity: WARNING  No such attribute device_watts on entity <Activity id=None name=None resource_state=None>\n"
       ]
      },
      {
       "output_type": "stream",
       "stream": "stderr",
       "text": [
        "WARNING:stravalib.model.Activity:No such attribute device_watts on entity <Activity id=None name=None resource_state=None>\n"
       ]
      },
      {
       "output_type": "stream",
       "stream": "stderr",
       "text": [
        "stravalib.model.Activity: WARNING  No such attribute device_watts on entity <Activity id=None name=None resource_state=None>\n"
       ]
      },
      {
       "output_type": "stream",
       "stream": "stderr",
       "text": [
        "WARNING:stravalib.model.Activity:No such attribute device_watts on entity <Activity id=None name=None resource_state=None>\n"
       ]
      },
      {
       "output_type": "stream",
       "stream": "stderr",
       "text": [
        "stravalib.model.Activity: WARNING  No such attribute device_watts on entity <Activity id=None name=None resource_state=None>\n"
       ]
      },
      {
       "output_type": "stream",
       "stream": "stderr",
       "text": [
        "WARNING:stravalib.model.Activity:No such attribute device_watts on entity <Activity id=None name=None resource_state=None>\n"
       ]
      },
      {
       "output_type": "stream",
       "stream": "stderr",
       "text": [
        "stravalib.model.Activity: WARNING  No such attribute device_watts on entity <Activity id=None name=None resource_state=None>\n"
       ]
      },
      {
       "output_type": "stream",
       "stream": "stderr",
       "text": [
        "WARNING:stravalib.model.Activity:No such attribute device_watts on entity <Activity id=None name=None resource_state=None>\n"
       ]
      },
      {
       "output_type": "stream",
       "stream": "stderr",
       "text": [
        "stravalib.model.Activity: WARNING  No such attribute device_watts on entity <Activity id=None name=None resource_state=None>\n"
       ]
      },
      {
       "output_type": "stream",
       "stream": "stderr",
       "text": [
        "WARNING:stravalib.model.Activity:No such attribute device_watts on entity <Activity id=None name=None resource_state=None>\n"
       ]
      },
      {
       "output_type": "stream",
       "stream": "stderr",
       "text": [
        "stravalib.model.Activity: WARNING  No such attribute device_watts on entity <Activity id=None name=None resource_state=None>\n"
       ]
      },
      {
       "output_type": "stream",
       "stream": "stderr",
       "text": [
        "WARNING:stravalib.model.Activity:No such attribute device_watts on entity <Activity id=None name=None resource_state=None>\n"
       ]
      },
      {
       "output_type": "stream",
       "stream": "stderr",
       "text": [
        "stravalib.model.Activity: WARNING  No such attribute device_watts on entity <Activity id=None name=None resource_state=None>\n"
       ]
      },
      {
       "output_type": "stream",
       "stream": "stderr",
       "text": [
        "WARNING:stravalib.model.Activity:No such attribute device_watts on entity <Activity id=None name=None resource_state=None>\n"
       ]
      },
      {
       "output_type": "stream",
       "stream": "stderr",
       "text": [
        "stravalib.model.Activity: WARNING  No such attribute device_watts on entity <Activity id=None name=None resource_state=None>\n"
       ]
      },
      {
       "output_type": "stream",
       "stream": "stderr",
       "text": [
        "WARNING:stravalib.model.Activity:No such attribute device_watts on entity <Activity id=None name=None resource_state=None>\n"
       ]
      },
      {
       "output_type": "stream",
       "stream": "stderr",
       "text": [
        "stravalib.model.Activity: WARNING  No such attribute device_watts on entity <Activity id=None name=None resource_state=None>\n"
       ]
      },
      {
       "output_type": "stream",
       "stream": "stderr",
       "text": [
        "WARNING:stravalib.model.Activity:No such attribute device_watts on entity <Activity id=None name=None resource_state=None>\n"
       ]
      },
      {
       "output_type": "stream",
       "stream": "stderr",
       "text": [
        "stravalib.model.Activity: WARNING  No such attribute device_watts on entity <Activity id=None name=None resource_state=None>\n"
       ]
      },
      {
       "output_type": "stream",
       "stream": "stderr",
       "text": [
        "WARNING:stravalib.model.Activity:No such attribute device_watts on entity <Activity id=None name=None resource_state=None>\n"
       ]
      },
      {
       "output_type": "stream",
       "stream": "stderr",
       "text": [
        "stravalib.model.Activity: WARNING  No such attribute device_watts on entity <Activity id=None name=None resource_state=None>\n"
       ]
      }
     ],
     "prompt_number": 20
    },
    {
     "cell_type": "code",
     "collapsed": false,
     "input": [
      "print len(filtered)\n",
      "act1 = filtered[0]\n",
      "filtered"
     ],
     "language": "python",
     "metadata": {},
     "outputs": [
      {
       "output_type": "stream",
       "stream": "stdout",
       "text": [
        "12\n"
       ]
      },
      {
       "metadata": {},
       "output_type": "pyout",
       "prompt_number": 22,
       "text": [
        "[<Activity id=184416264 name=u'rough. because of drinking.' resource_state=3>,\n",
        " <Activity id=184000910 name=u'08/20/2014 San Francisco, CA' resource_state=3>,\n",
        " <Activity id=184000908 name=u'08/18/2014 San Francisco, CA' resource_state=3>,\n",
        " <Activity id=178588161 name=u'tourists, mostly out of the way #win' resource_state=3>,\n",
        " <Activity id=174577746 name=u\"I've definitely done more leisurely things on Saturdays\" resource_state=3>,\n",
        " <Activity id=172338246 name=u'HH -> fairfax -> 8 mi mtn bike -> fairfax -> HH, aka ass kicking' resource_state=3>,\n",
        " <Activity id=172338173 name=u'8 days until pain' resource_state=3>,\n",
        " <Activity id=168689897 name=u'dodging flock bombs' resource_state=3>,\n",
        " <Activity id=165016597 name=u'2 girls walking their pinarellos up hawk hill. tsk tsk.' resource_state=3>,\n",
        " <Activity id=165016728 name=u'mt tam + old bike = bad' resource_state=3>,\n",
        " <Activity id=165016596 name=u\"bike 'bout to break\" resource_state=3>,\n",
        " <Activity id=159348922 name=u\"ron vale's pool cleaner\" resource_state=3>]"
       ]
      }
     ],
     "prompt_number": 22
    },
    {
     "cell_type": "code",
     "collapsed": false,
     "input": [
      "def test(**kwargs):\n",
      "    kwargs[\"t\"]=1\n",
      "    print kwargs\n",
      "\n",
      "test()"
     ],
     "language": "python",
     "metadata": {},
     "outputs": [
      {
       "output_type": "stream",
       "stream": "stdout",
       "text": [
        "{'t': 1}\n"
       ]
      }
     ],
     "prompt_number": 23
    },
    {
     "cell_type": "code",
     "collapsed": false,
     "input": [
      "segment_efforts = act1.segment_efforts\n",
      "seg_effort1 = segment_efforts[0]\n",
      "seg_effort1"
     ],
     "language": "python",
     "metadata": {},
     "outputs": [
      {
       "metadata": {},
       "output_type": "pyout",
       "prompt_number": 24,
       "text": [
        "<SegmentEffort id=4315479227 name=u'Conservatory Dr. West Climb' resource_state=2>"
       ]
      }
     ],
     "prompt_number": 24
    },
    {
     "cell_type": "code",
     "collapsed": false,
     "input": [
      "activities_unique = [ filtered[i] for i in [0,4,7,8,11] ]\n",
      "activities_unique"
     ],
     "language": "python",
     "metadata": {},
     "outputs": [
      {
       "metadata": {},
       "output_type": "pyout",
       "prompt_number": 25,
       "text": [
        "[<Activity id=184416264 name=u'rough. because of drinking.' resource_state=3>,\n",
        " <Activity id=174577746 name=u\"I've definitely done more leisurely things on Saturdays\" resource_state=3>,\n",
        " <Activity id=168689897 name=u'dodging flock bombs' resource_state=3>,\n",
        " <Activity id=165016597 name=u'2 girls walking their pinarellos up hawk hill. tsk tsk.' resource_state=3>,\n",
        " <Activity id=159348922 name=u\"ron vale's pool cleaner\" resource_state=3>]"
       ]
      }
     ],
     "prompt_number": 25
    },
    {
     "cell_type": "code",
     "collapsed": false,
     "input": [
      "from dateutil import tz\n",
      "tz_local = tz.tzlocal()\n",
      "def get_activity_summary(activity, tz_local):\n",
      "    \"\"\"Pulls activity metrics and returns an html <option> elment \n",
      "       with summary metric text\n",
      "    \"\"\"\n",
      "    text = \"%s, distance: %i miles (on %s)\" % \\\n",
      "        (activity.name, \n",
      "         unithelper.miles(activity.distance),\n",
      "         activity.start_date.replace(tzinfo=tz_local).strftime(\"%m/%d\"))\n",
      "        \n",
      "    return \"<option>%s</option>\" % text"
     ],
     "language": "python",
     "metadata": {},
     "outputs": [],
     "prompt_number": 26
    },
    {
     "cell_type": "code",
     "collapsed": false,
     "input": [
      "for activity in activities_unique:\n",
      "    print get_activity_summary(activity, tz_local)"
     ],
     "language": "python",
     "metadata": {},
     "outputs": [
      {
       "output_type": "stream",
       "stream": "stdout",
       "text": [
        "<option>rough. because of drinking., distance: 48 miles (on 08/23)</option>\n",
        "<option>I've definitely done more leisurely things on Saturdays, distance: 131 miles (on 08/02)</option>\n",
        "<option>dodging flock bombs, distance: 42 miles (on 07/20)</option>\n",
        "<option>2 girls walking their pinarellos up hawk hill. tsk tsk., distance: 26 miles (on 07/12)</option>\n",
        "<option>ron vale's pool cleaner, distance: 51 miles (on 06/28)</option>\n"
       ]
      }
     ],
     "prompt_number": 27
    },
    {
     "cell_type": "code",
     "collapsed": false,
     "input": [
      "segments = [ seg_effort.segment for seg_effort in segment_efforts]\n",
      "seg1 = segments[0]\n",
      "seg1"
     ],
     "language": "python",
     "metadata": {},
     "outputs": [
      {
       "metadata": {},
       "output_type": "pyout",
       "prompt_number": 28,
       "text": [
        "<Segment id=808129 name=u'Conservatory Dr. West Climb' resource_state=2>"
       ]
      }
     ],
     "prompt_number": 28
    },
    {
     "cell_type": "code",
     "collapsed": false,
     "input": [
      "seg1.average_grade"
     ],
     "language": "python",
     "metadata": {},
     "outputs": [
      {
       "metadata": {},
       "output_type": "pyout",
       "prompt_number": 29,
       "text": [
        "2.6"
       ]
      }
     ],
     "prompt_number": 29
    },
    {
     "cell_type": "code",
     "collapsed": false,
     "input": [],
     "language": "python",
     "metadata": {},
     "outputs": [],
     "prompt_number": 30
    },
    {
     "cell_type": "code",
     "collapsed": false,
     "input": [
      "def get_all_segments(activities):\n",
      "    segs = []\n",
      "    for activity in activities:\n",
      "        for segment_effort in activity.segment_efforts:\n",
      "            segs.append( segment_effort.segment )\n",
      "    return segs\n",
      "\n",
      "def get_all_segment_ids(activities):\n",
      "    seg_ids = []\n",
      "    for activity in activities:\n",
      "        for segment_effort in activity.segment_efforts:\n",
      "            seg_ids.append( segment_effort.segment.id )\n",
      "    return seg_ids\n",
      "\n",
      "def get_all_segment_dists(activities, unique=True):\n",
      "    \"\"\"Unique ensures unique segment ids\n",
      "    \"\"\"\n",
      "    dists = []\n",
      "    ids   = set()\n",
      "    for activity in activities:\n",
      "        for segment_effort in activity.segment_efforts:\n",
      "            if unique and segment_effort.segment.id in ids: \n",
      "                continue\n",
      "            else:\n",
      "                dists.append(float( unithelper.miles( segment_effort.segment.distance ) ))\n",
      "                ids.add(segment_effort.segment.id)\n",
      "    return dists \n",
      "\n",
      "def get_all_segment_grades(activities, unique=True):\n",
      "    \"\"\"Unique ensures unique segment ids\n",
      "    \"\"\"\n",
      "    grades = []\n",
      "    ids    = set()\n",
      "    for activity in activities:\n",
      "        for segment_effort in activity.segment_efforts:\n",
      "            if unique and segment_effort.segment.id in ids: \n",
      "                continue\n",
      "            else:\n",
      "                grades.append( segment_effort.segment.average_grade )\n",
      "                ids.add(segment_effort.segment.id)\n",
      "    return grades "
     ],
     "language": "python",
     "metadata": {},
     "outputs": [],
     "prompt_number": 31
    },
    {
     "cell_type": "code",
     "collapsed": false,
     "input": [
      "all_seg_ids = get_all_segment_ids( filtered )\n",
      "unique_seg_ids = set(all_seg_ids)\n",
      "\n",
      "print filtered\n",
      "print \"total segs:\", len(all_seg_ids)\n",
      "print \"unique segs:\", len(unique_seg_ids)\n",
      "print \"unique segs / activity:\", len(unique_seg_ids) / float(len(filtered))"
     ],
     "language": "python",
     "metadata": {},
     "outputs": [
      {
       "output_type": "stream",
       "stream": "stdout",
       "text": [
        "[<Activity id=184416264 name=u'rough. because of drinking.' resource_state=3>, <Activity id=184000910 name=u'08/20/2014 San Francisco, CA' resource_state=3>, <Activity id=184000908 name=u'08/18/2014 San Francisco, CA' resource_state=3>, <Activity id=178588161 name=u'tourists, mostly out of the way #win' resource_state=3>, <Activity id=174577746 name=u\"I've definitely done more leisurely things on Saturdays\" resource_state=3>, <Activity id=172338246 name=u'HH -> fairfax -> 8 mi mtn bike -> fairfax -> HH, aka ass kicking' resource_state=3>, <Activity id=172338173 name=u'8 days until pain' resource_state=3>, <Activity id=168689897 name=u'dodging flock bombs' resource_state=3>, <Activity id=165016597 name=u'2 girls walking their pinarellos up hawk hill. tsk tsk.' resource_state=3>, <Activity id=165016728 name=u'mt tam + old bike = bad' resource_state=3>, <Activity id=165016596 name=u\"bike 'bout to break\" resource_state=3>, <Activity id=159348922 name=u\"ron vale's pool cleaner\" resource_state=3>]\n",
        "total segs:"
       ]
      },
      {
       "output_type": "stream",
       "stream": "stdout",
       "text": [
        " 1045\n",
        "unique segs:"
       ]
      },
      {
       "output_type": "stream",
       "stream": "stdout",
       "text": [
        " 496\n",
        "unique segs / activity:"
       ]
      },
      {
       "output_type": "stream",
       "stream": "stdout",
       "text": [
        " 41.3333333333\n"
       ]
      }
     ],
     "prompt_number": 34
    },
    {
     "cell_type": "code",
     "collapsed": false,
     "input": [
      "# look at avg distance of segments (cycling), \n",
      "# each of these rides should be unique route\n",
      "for activity in activities_unique:\n",
      "    plt.figure()\n",
      "    dists = pd.Series( get_all_segment_dists( [activity] ) )\n",
      "    dists.hist(bins=50)\n",
      "    print len(dists[dists >= 1]), len(dists[dists >= 1])*4\n",
      "    "
     ],
     "language": "python",
     "metadata": {},
     "outputs": [
      {
       "output_type": "stream",
       "stream": "stdout",
       "text": [
        "55 220\n",
        "79"
       ]
      },
      {
       "output_type": "stream",
       "stream": "stdout",
       "text": [
        " 316\n",
        "35"
       ]
      },
      {
       "output_type": "stream",
       "stream": "stdout",
       "text": [
        " 140\n",
        "26"
       ]
      },
      {
       "output_type": "stream",
       "stream": "stdout",
       "text": [
        " 104\n",
        "38"
       ]
      },
      {
       "output_type": "stream",
       "stream": "stdout",
       "text": [
        " 152\n"
       ]
      },
      {
       "metadata": {},
       "output_type": "display_data",
       "png": "[encoded data removed]",
       "text": [
        "<matplotlib.figure.Figure at 0x10532b150>"
       ]
      },
      {
       "metadata": {},
       "output_type": "display_data",
       "png": "[encoded data removed]",
       "text": [
        "<matplotlib.figure.Figure at 0x105159f10>"
       ]
      },
      {
       "metadata": {},
       "output_type": "display_data",
       "png": "[encoded data removed]",
       "text": [
        "<matplotlib.figure.Figure at 0x1050fe490>"
       ]
      },
      {
       "metadata": {},
       "output_type": "display_data",
       "png": "[encoded data removed]",
       "text": [
        "<matplotlib.figure.Figure at 0x105140350>"
       ]
      },
      {
       "metadata": {},
       "output_type": "display_data",
       "png": "[encoded data removed]",
       "text": [
        "<matplotlib.figure.Figure at 0x105491d90>"
       ]
      }
     ],
     "prompt_number": 63
    },
    {
     "cell_type": "code",
     "collapsed": false,
     "input": [
      "# look at avg grade of segments (cycling)\n",
      "for activity in activities_unique:\n",
      "    plt.figure()\n",
      "    grades = pd.Series( get_all_segment_grades([activity]) )\n",
      "    grades.hist(bins=50)\n",
      " "
     ],
     "language": "python",
     "metadata": {},
     "outputs": [
      {
       "metadata": {},
       "output_type": "display_data",
       "png": "[encoded data removed]",
       "text": [
        "<matplotlib.figure.Figure at 0x105175b10>"
       ]
      },
      {
       "metadata": {},
       "output_type": "display_data",
       "png": "[encoded data removed]",
       "text": [
        "<matplotlib.figure.Figure at 0x105147f50>"
       ]
      },
      {
       "metadata": {},
       "output_type": "display_data",
       "png": "[encoded data removed]",
       "text": [
        "<matplotlib.figure.Figure at 0x1053f2810>"
       ]
      },
      {
       "metadata": {},
       "output_type": "display_data",
       "png": "[encoded data removed]",
       "text": [
        "<matplotlib.figure.Figure at 0x105154cd0>"
       ]
      },
      {
       "metadata": {},
       "output_type": "display_data",
       "png": "[encoded data removed]",
       "text": [
        "<matplotlib.figure.Figure at 0x105133f90>"
       ]
      }
     ],
     "prompt_number": 71
    },
    {
     "cell_type": "code",
     "collapsed": false,
     "input": [
      "short_pos = segment_efforts[0] # <1mi, +grade\n",
      "print short_pos.segment.id\n",
      "print short_pos.segment.average_grade\n",
      "print unithelper.miles( short_pos.segment.distance )"
     ],
     "language": "python",
     "metadata": {},
     "outputs": [
      {
       "output_type": "stream",
       "stream": "stdout",
       "text": [
        "808129\n",
        "2.6"
       ]
      },
      {
       "output_type": "stream",
       "stream": "stdout",
       "text": [
        "\n",
        "0.19 mi"
       ]
      },
      {
       "output_type": "stream",
       "stream": "stdout",
       "text": [
        "\n"
       ]
      }
     ],
     "prompt_number": 36
    },
    {
     "cell_type": "code",
     "collapsed": false,
     "input": [
      "long_neg = segment_efforts[11] # <1mi, +grade\n",
      "print long_neg.segment.id\n",
      "print long_neg.segment.average_grade\n",
      "print unithelper.miles( long_neg.segment.distance )"
     ],
     "language": "python",
     "metadata": {},
     "outputs": [
      {
       "output_type": "stream",
       "stream": "stdout",
       "text": [
        "5517300\n",
        "-1.3"
       ]
      },
      {
       "output_type": "stream",
       "stream": "stdout",
       "text": [
        "\n",
        "3.77 mi"
       ]
      },
      {
       "output_type": "stream",
       "stream": "stdout",
       "text": [
        "\n"
       ]
      }
     ],
     "prompt_number": 35
    },
    {
     "cell_type": "code",
     "collapsed": false,
     "input": [
      "# test variations \n",
      "print [ id for id in filter_segment_efforts([short_pos, long_neg], unithelper, ids_only=True) ] # none\n",
      "print [ id for id in filter_segment_efforts([short_pos, long_neg], unithelper, min_grade=-10, ids_only=True) ] # long\n",
      "print [ id for id in filter_segment_efforts([short_pos, long_neg], unithelper, min_miles=0, ids_only=True) ] # neg\n",
      "print [ id for id in filter_segment_efforts([short_pos, long_neg], unithelper, min_miles=0, min_grade=-2, ids_only=True) ] # both"
     ],
     "language": "python",
     "metadata": {},
     "outputs": [
      {
       "output_type": "stream",
       "stream": "stdout",
       "text": [
        "[]\n",
        "[5517300]"
       ]
      },
      {
       "output_type": "stream",
       "stream": "stdout",
       "text": [
        "\n",
        "[808129]"
       ]
      },
      {
       "output_type": "stream",
       "stream": "stdout",
       "text": [
        "\n",
        "[808129, 5517300]"
       ]
      },
      {
       "output_type": "stream",
       "stream": "stdout",
       "text": [
        "\n"
       ]
      }
     ],
     "prompt_number": 39
    },
    {
     "cell_type": "code",
     "collapsed": false,
     "input": [
      "seg_id  = long_neg.segment.id\n",
      "seg_ids = [ segeff.segment.id for segeff in segment_efforts[-10:] ]"
     ],
     "language": "python",
     "metadata": {},
     "outputs": [],
     "prompt_number": 60
    },
    {
     "cell_type": "code",
     "collapsed": false,
     "input": [
      "leaderboard = client.get_segment_leaderboard(seg_id)\n",
      "leaderboard.entries"
     ],
     "language": "python",
     "metadata": {},
     "outputs": [
      {
       "metadata": {},
       "output_type": "pyout",
       "prompt_number": 44,
       "text": [
        "[<SegmentLeaderboardEntry rank=1 athlete_name=u'Joe Lambe'>,\n",
        " <SegmentLeaderboardEntry rank=1 athlete_name=u'Bremner Morris'>,\n",
        " <SegmentLeaderboardEntry rank=3 athlete_name=u'Crosby Freeman'>,\n",
        " <SegmentLeaderboardEntry rank=4 athlete_name=u'R B'>,\n",
        " <SegmentLeaderboardEntry rank=4 athlete_name=u'Z Gingnar'>,\n",
        " <SegmentLeaderboardEntry rank=6 athlete_name=u'Bingo .'>,\n",
        " <SegmentLeaderboardEntry rank=6 athlete_name=u'Ryan Toohey'>,\n",
        " <SegmentLeaderboardEntry rank=8 athlete_name=u'Pigoor  .'>,\n",
        " <SegmentLeaderboardEntry rank=9 athlete_name=u'Herb Bool'>,\n",
        " <SegmentLeaderboardEntry rank=10 athlete_name=u'Scott McKinley'>,\n",
        " <SegmentLeaderboardEntry rank=836 athlete_name=u'christophee williama'>,\n",
        " <SegmentLeaderboardEntry rank=836 athlete_name=u'Ryan LaBarre'>,\n",
        " <SegmentLeaderboardEntry rank=836 athlete_name=u'Matt Leo'>,\n",
        " <SegmentLeaderboardEntry rank=836 athlete_name=u'Christopher Smith'>,\n",
        " <SegmentLeaderboardEntry rank=836 athlete_name=u'Tom Haggerty'>]"
       ]
      }
     ],
     "prompt_number": 44
    },
    {
     "cell_type": "code",
     "collapsed": false,
     "input": [
      "leaderboard_limit20 = client.get_segment_leaderboard(seg_id, top_results_limit=20)\n",
      "leaderboard_limit20.entries"
     ],
     "language": "python",
     "metadata": {},
     "outputs": [
      {
       "metadata": {},
       "output_type": "pyout",
       "prompt_number": 45,
       "text": [
        "[<SegmentLeaderboardEntry rank=1 athlete_name=u'Joe Lambe'>,\n",
        " <SegmentLeaderboardEntry rank=1 athlete_name=u'Bremner Morris'>,\n",
        " <SegmentLeaderboardEntry rank=3 athlete_name=u'Crosby Freeman'>,\n",
        " <SegmentLeaderboardEntry rank=4 athlete_name=u'Z Gingnar'>,\n",
        " <SegmentLeaderboardEntry rank=4 athlete_name=u'R B'>,\n",
        " <SegmentLeaderboardEntry rank=6 athlete_name=u'Ryan Toohey'>,\n",
        " <SegmentLeaderboardEntry rank=6 athlete_name=u'Bingo .'>,\n",
        " <SegmentLeaderboardEntry rank=8 athlete_name=u'Pigoor  .'>,\n",
        " <SegmentLeaderboardEntry rank=9 athlete_name=u'Herb Bool'>,\n",
        " <SegmentLeaderboardEntry rank=10 athlete_name=u'Jason Lokkesmoe'>,\n",
        " <SegmentLeaderboardEntry rank=10 athlete_name=u'Scott McKinley'>,\n",
        " <SegmentLeaderboardEntry rank=12 athlete_name=u'Mark Smethers'>,\n",
        " <SegmentLeaderboardEntry rank=13 athlete_name=u'Owen McGrath'>,\n",
        " <SegmentLeaderboardEntry rank=13 athlete_name=u'Paul Veugen'>,\n",
        " <SegmentLeaderboardEntry rank=15 athlete_name=u'Kyle Bockwoldt'>,\n",
        " <SegmentLeaderboardEntry rank=15 athlete_name=u'Adriano Castro'>,\n",
        " <SegmentLeaderboardEntry rank=17 athlete_name=u'Michael Rycroft'>,\n",
        " <SegmentLeaderboardEntry rank=18 athlete_name=u'Henry (Hank) Scholz'>,\n",
        " <SegmentLeaderboardEntry rank=19 athlete_name=u'Caleb Bushner'>,\n",
        " <SegmentLeaderboardEntry rank=20 athlete_name=u'Andreas B-H'>,\n",
        " <SegmentLeaderboardEntry rank=836 athlete_name=u'christophee williama'>,\n",
        " <SegmentLeaderboardEntry rank=836 athlete_name=u'Ryan LaBarre'>,\n",
        " <SegmentLeaderboardEntry rank=836 athlete_name=u'Matt Leo'>,\n",
        " <SegmentLeaderboardEntry rank=836 athlete_name=u'Christopher Smith'>,\n",
        " <SegmentLeaderboardEntry rank=836 athlete_name=u'Tom Haggerty'>]"
       ]
      }
     ],
     "prompt_number": 45
    },
    {
     "cell_type": "code",
     "collapsed": false,
     "input": [
      "leaderboard_limit0 = client.get_segment_leaderboard(seg_id, top_results_limit=1)\n",
      "leaderboard_limit0.entries"
     ],
     "language": "python",
     "metadata": {},
     "outputs": [
      {
       "metadata": {},
       "output_type": "pyout",
       "prompt_number": 49,
       "text": [
        "[<SegmentLeaderboardEntry rank=1 athlete_name=u'Joe Lambe'>,\n",
        " <SegmentLeaderboardEntry rank=836 athlete_name=u'christophee williama'>,\n",
        " <SegmentLeaderboardEntry rank=836 athlete_name=u'Ryan LaBarre'>,\n",
        " <SegmentLeaderboardEntry rank=836 athlete_name=u'Matt Leo'>,\n",
        " <SegmentLeaderboardEntry rank=836 athlete_name=u'Christopher Smith'>,\n",
        " <SegmentLeaderboardEntry rank=836 athlete_name=u'Tom Haggerty'>]"
       ]
      }
     ],
     "prompt_number": 49
    },
    {
     "cell_type": "code",
     "collapsed": false,
     "input": [
      "leader_ids = [ entry.athlete_id for entry in leaderboard_limit0 ]\n",
      "leader_ids"
     ],
     "language": "python",
     "metadata": {},
     "outputs": [
      {
       "metadata": {},
       "output_type": "pyout",
       "prompt_number": 54,
       "text": [
        "[4568, 1153632, 1163267, 1241417, 1102898, 114173]"
       ]
      }
     ],
     "prompt_number": 54
    },
    {
     "cell_type": "code",
     "collapsed": false,
     "input": [
      "leaderboards = [ client.get_segment_leaderboard(seg_id, top_results_limit=1) for seg_id in seg_ids ]"
     ],
     "language": "python",
     "metadata": {},
     "outputs": [],
     "prompt_number": 61
    },
    {
     "cell_type": "code",
     "collapsed": false,
     "input": [
      "entries = [ board.entries for board in leaderboards ]\n",
      "entries"
     ],
     "language": "python",
     "metadata": {},
     "outputs": [
      {
       "metadata": {},
       "output_type": "pyout",
       "prompt_number": 65,
       "text": [
        "[[<SegmentLeaderboardEntry rank=1 athlete_name=u'Kyle Wong'>,\n",
        "  <SegmentLeaderboardEntry rank=367 athlete_name=u'Daniel Mark\\xf3'>,\n",
        "  <SegmentLeaderboardEntry rank=367 athlete_name=u'Mateo A. Ortega'>,\n",
        "  <SegmentLeaderboardEntry rank=367 athlete_name=u'jeff louie'>,\n",
        "  <SegmentLeaderboardEntry rank=367 athlete_name=u'Jim Whimpey'>,\n",
        "  <SegmentLeaderboardEntry rank=367 athlete_name=u'christophee williama'>],\n",
        " [<SegmentLeaderboardEntry rank=1 athlete_name=u'Robby Welch     III'>,\n",
        "  <SegmentLeaderboardEntry rank=89 athlete_name=u'Kevin LaKritz'>,\n",
        "  <SegmentLeaderboardEntry rank=89 athlete_name=u'Chris Merola'>,\n",
        "  <SegmentLeaderboardEntry rank=93 athlete_name=u'Jared \\u0651'>,\n",
        "  <SegmentLeaderboardEntry rank=93 athlete_name=u'Michael Baushke'>,\n",
        "  <SegmentLeaderboardEntry rank=93 athlete_name=u'christophee williama'>],\n",
        " [<SegmentLeaderboardEntry rank=1 athlete_name=u'Joe Lambe'>,\n",
        "  <SegmentLeaderboardEntry rank=171 athlete_name=u'Doug Hanson'>,\n",
        "  <SegmentLeaderboardEntry rank=171 athlete_name=u'Mike Haggerty'>,\n",
        "  <SegmentLeaderboardEntry rank=171 athlete_name=u'Alex De Simone'>,\n",
        "  <SegmentLeaderboardEntry rank=171 athlete_name=u'Roger Thomas'>,\n",
        "  <SegmentLeaderboardEntry rank=171 athlete_name=u'christophee williama'>],\n",
        " [<SegmentLeaderboardEntry rank=1 athlete_name=u'Wayne Rickenbacker'>,\n",
        "  <SegmentLeaderboardEntry rank=168 athlete_name=u'Wade Hall'>,\n",
        "  <SegmentLeaderboardEntry rank=168 athlete_name=u'Chris Voltz'>,\n",
        "  <SegmentLeaderboardEntry rank=168 athlete_name=u'christophee williama'>,\n",
        "  <SegmentLeaderboardEntry rank=168 athlete_name=u'Seth Sternberg'>,\n",
        "  <SegmentLeaderboardEntry rank=168 athlete_name=u'Bryan Davis'>],\n",
        " [<SegmentLeaderboardEntry rank=1 athlete_name=u'Cliff Goldstein'>,\n",
        "  <SegmentLeaderboardEntry rank=317 athlete_name=u'Neil McKay'>,\n",
        "  <SegmentLeaderboardEntry rank=317 athlete_name=u'Youenn _'>,\n",
        "  <SegmentLeaderboardEntry rank=317 athlete_name=u'Tyler Swartz'>,\n",
        "  <SegmentLeaderboardEntry rank=317 athlete_name=u'christophee williama'>,\n",
        "  <SegmentLeaderboardEntry rank=317 athlete_name=u'Bryan Davis'>],\n",
        " [<SegmentLeaderboardEntry rank=1 athlete_name=u'Randy  Bramblett'>,\n",
        "  <SegmentLeaderboardEntry rank=422 athlete_name=u'Michael Kopp'>,\n",
        "  <SegmentLeaderboardEntry rank=422 athlete_name=u'Carlin Eng'>,\n",
        "  <SegmentLeaderboardEntry rank=422 athlete_name=u'christophee williama'>,\n",
        "  <SegmentLeaderboardEntry rank=422 athlete_name=u'Eugene Berson'>,\n",
        "  <SegmentLeaderboardEntry rank=422 athlete_name=u'Alex Leanse'>],\n",
        " [<SegmentLeaderboardEntry rank=1 athlete_name=u'Kyle Mach'>,\n",
        "  <SegmentLeaderboardEntry rank=2 athlete_name=u'Chris Furgiuele'>,\n",
        "  <SegmentLeaderboardEntry rank=4 athlete_name=u'Justin Lawrance'>,\n",
        "  <SegmentLeaderboardEntry rank=4 athlete_name=u'christophee williama'>,\n",
        "  <SegmentLeaderboardEntry rank=6 athlete_name=u'Erik Tomasson'>,\n",
        "  <SegmentLeaderboardEntry rank=6 athlete_name=u'Robert Easley'>],\n",
        " [<SegmentLeaderboardEntry rank=1 athlete_name=u'Mike Skalnik'>,\n",
        "  <SegmentLeaderboardEntry rank=1016 athlete_name=u'christophee williama'>,\n",
        "  <SegmentLeaderboardEntry rank=1016 athlete_name=u'tim bezold'>,\n",
        "  <SegmentLeaderboardEntry rank=1016 athlete_name=u'martin stadtmueller'>,\n",
        "  <SegmentLeaderboardEntry rank=1016 athlete_name=u'Marcel Appelman'>,\n",
        "  <SegmentLeaderboardEntry rank=1016 athlete_name=u'Julian Bill'>],\n",
        " [<SegmentLeaderboardEntry rank=1 athlete_name=u'Raja Bisharat'>,\n",
        "  <SegmentLeaderboardEntry rank=369 athlete_name=u'Marcel Appelman'>,\n",
        "  <SegmentLeaderboardEntry rank=369 athlete_name=u'christophee williama'>,\n",
        "  <SegmentLeaderboardEntry rank=369 athlete_name=u'John-Paul Rutledge'>,\n",
        "  <SegmentLeaderboardEntry rank=369 athlete_name=u'Seth Callahan'>,\n",
        "  <SegmentLeaderboardEntry rank=369 athlete_name=u'Matt K'>],\n",
        " [<SegmentLeaderboardEntry rank=1 athlete_name=u'Jared \\u0651'>,\n",
        "  <SegmentLeaderboardEntry rank=11 athlete_name=u'Evana Massey'>,\n",
        "  <SegmentLeaderboardEntry rank=11 athlete_name=u'Darren Key'>,\n",
        "  <SegmentLeaderboardEntry rank=13 athlete_name=u'christophee williama'>,\n",
        "  <SegmentLeaderboardEntry rank=13 athlete_name=u'Nathaniel Ng'>,\n",
        "  <SegmentLeaderboardEntry rank=15 athlete_name=u'Patrick Briney'>]]"
       ]
      }
     ],
     "prompt_number": 65
    },
    {
     "cell_type": "code",
     "collapsed": false,
     "input": [
      "t = []\n",
      "for entry_list in entries:\n",
      "    t.extend(entry_list[1:])\n",
      "t"
     ],
     "language": "python",
     "metadata": {},
     "outputs": [
      {
       "metadata": {},
       "output_type": "pyout",
       "prompt_number": 67,
       "text": [
        "[<SegmentLeaderboardEntry rank=367 athlete_name=u'Daniel Mark\\xf3'>,\n",
        " <SegmentLeaderboardEntry rank=367 athlete_name=u'Mateo A. Ortega'>,\n",
        " <SegmentLeaderboardEntry rank=367 athlete_name=u'jeff louie'>,\n",
        " <SegmentLeaderboardEntry rank=367 athlete_name=u'Jim Whimpey'>,\n",
        " <SegmentLeaderboardEntry rank=367 athlete_name=u'christophee williama'>,\n",
        " <SegmentLeaderboardEntry rank=89 athlete_name=u'Kevin LaKritz'>,\n",
        " <SegmentLeaderboardEntry rank=89 athlete_name=u'Chris Merola'>,\n",
        " <SegmentLeaderboardEntry rank=93 athlete_name=u'Jared \\u0651'>,\n",
        " <SegmentLeaderboardEntry rank=93 athlete_name=u'Michael Baushke'>,\n",
        " <SegmentLeaderboardEntry rank=93 athlete_name=u'christophee williama'>,\n",
        " <SegmentLeaderboardEntry rank=171 athlete_name=u'Doug Hanson'>,\n",
        " <SegmentLeaderboardEntry rank=171 athlete_name=u'Mike Haggerty'>,\n",
        " <SegmentLeaderboardEntry rank=171 athlete_name=u'Alex De Simone'>,\n",
        " <SegmentLeaderboardEntry rank=171 athlete_name=u'Roger Thomas'>,\n",
        " <SegmentLeaderboardEntry rank=171 athlete_name=u'christophee williama'>,\n",
        " <SegmentLeaderboardEntry rank=168 athlete_name=u'Wade Hall'>,\n",
        " <SegmentLeaderboardEntry rank=168 athlete_name=u'Chris Voltz'>,\n",
        " <SegmentLeaderboardEntry rank=168 athlete_name=u'christophee williama'>,\n",
        " <SegmentLeaderboardEntry rank=168 athlete_name=u'Seth Sternberg'>,\n",
        " <SegmentLeaderboardEntry rank=168 athlete_name=u'Bryan Davis'>,\n",
        " <SegmentLeaderboardEntry rank=317 athlete_name=u'Neil McKay'>,\n",
        " <SegmentLeaderboardEntry rank=317 athlete_name=u'Youenn _'>,\n",
        " <SegmentLeaderboardEntry rank=317 athlete_name=u'Tyler Swartz'>,\n",
        " <SegmentLeaderboardEntry rank=317 athlete_name=u'christophee williama'>,\n",
        " <SegmentLeaderboardEntry rank=317 athlete_name=u'Bryan Davis'>,\n",
        " <SegmentLeaderboardEntry rank=422 athlete_name=u'Michael Kopp'>,\n",
        " <SegmentLeaderboardEntry rank=422 athlete_name=u'Carlin Eng'>,\n",
        " <SegmentLeaderboardEntry rank=422 athlete_name=u'christophee williama'>,\n",
        " <SegmentLeaderboardEntry rank=422 athlete_name=u'Eugene Berson'>,\n",
        " <SegmentLeaderboardEntry rank=422 athlete_name=u'Alex Leanse'>,\n",
        " <SegmentLeaderboardEntry rank=2 athlete_name=u'Chris Furgiuele'>,\n",
        " <SegmentLeaderboardEntry rank=4 athlete_name=u'Justin Lawrance'>,\n",
        " <SegmentLeaderboardEntry rank=4 athlete_name=u'christophee williama'>,\n",
        " <SegmentLeaderboardEntry rank=6 athlete_name=u'Erik Tomasson'>,\n",
        " <SegmentLeaderboardEntry rank=6 athlete_name=u'Robert Easley'>,\n",
        " <SegmentLeaderboardEntry rank=1016 athlete_name=u'christophee williama'>,\n",
        " <SegmentLeaderboardEntry rank=1016 athlete_name=u'tim bezold'>,\n",
        " <SegmentLeaderboardEntry rank=1016 athlete_name=u'martin stadtmueller'>,\n",
        " <SegmentLeaderboardEntry rank=1016 athlete_name=u'Marcel Appelman'>,\n",
        " <SegmentLeaderboardEntry rank=1016 athlete_name=u'Julian Bill'>,\n",
        " <SegmentLeaderboardEntry rank=369 athlete_name=u'Marcel Appelman'>,\n",
        " <SegmentLeaderboardEntry rank=369 athlete_name=u'christophee williama'>,\n",
        " <SegmentLeaderboardEntry rank=369 athlete_name=u'John-Paul Rutledge'>,\n",
        " <SegmentLeaderboardEntry rank=369 athlete_name=u'Seth Callahan'>,\n",
        " <SegmentLeaderboardEntry rank=369 athlete_name=u'Matt K'>,\n",
        " <SegmentLeaderboardEntry rank=11 athlete_name=u'Evana Massey'>,\n",
        " <SegmentLeaderboardEntry rank=11 athlete_name=u'Darren Key'>,\n",
        " <SegmentLeaderboardEntry rank=13 athlete_name=u'christophee williama'>,\n",
        " <SegmentLeaderboardEntry rank=13 athlete_name=u'Nathaniel Ng'>,\n",
        " <SegmentLeaderboardEntry rank=15 athlete_name=u'Patrick Briney'>]"
       ]
      }
     ],
     "prompt_number": 67
    },
    {
     "cell_type": "code",
     "collapsed": false,
     "input": [
      "t[0].rank"
     ],
     "language": "python",
     "metadata": {},
     "outputs": [
      {
       "metadata": {},
       "output_type": "pyout",
       "prompt_number": 71,
       "text": [
        "367"
       ]
      }
     ],
     "prompt_number": 71
    },
    {
     "cell_type": "code",
     "collapsed": false,
     "input": [
      "me = client.get_athlete()"
     ],
     "language": "python",
     "metadata": {},
     "outputs": [],
     "prompt_number": 69
    },
    {
     "cell_type": "code",
     "collapsed": false,
     "input": [
      "me.id"
     ],
     "language": "python",
     "metadata": {},
     "outputs": [
      {
       "metadata": {},
       "output_type": "pyout",
       "prompt_number": 70,
       "text": [
        "1153632"
       ]
      }
     ],
     "prompt_number": 70
    },
    {
     "cell_type": "code",
     "collapsed": false,
     "input": [],
     "language": "python",
     "metadata": {},
     "outputs": []
    }
   ],
   "metadata": {}
  }
 ]
}