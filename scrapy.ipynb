{
 "metadata": {
  "name": ""
 },
 "nbformat": 3,
 "nbformat_minor": 0,
 "worksheets": [
  {
   "cells": [
    {
     "cell_type": "code",
     "collapsed": false,
     "input": [
      "import scrapy"
     ],
     "language": "python",
     "metadata": {},
     "outputs": [],
     "prompt_number": 2
    },
    {
     "cell_type": "code",
     "collapsed": false,
     "input": [
      "test = '<input name=\"utf8\" type=\"hidden\" value=\"&#x2713;\" /><input name=\"authenticity_token\" type=\"hidden\" value=\"AHy5li1HN3zSiixtwQKNTETiR1ruUrzx+90hjBtN184=\" />'"
     ],
     "language": "python",
     "metadata": {},
     "outputs": [],
     "prompt_number": 24
    },
    {
     "cell_type": "code",
     "collapsed": false,
     "input": [
      "sele = scrapy.selector.Selector(text=test)"
     ],
     "language": "python",
     "metadata": {},
     "outputs": [],
     "prompt_number": 26
    },
    {
     "cell_type": "code",
     "collapsed": false,
     "input": [
      "utf8 = sele.xpath('//input[@name=\"utf8\"]/@value').extract()[0]\n",
      "auth = sele.xpath('//input[@name=\"authenticity_token\"]/@value').extract()[0]\n",
      "print utf8, auth"
     ],
     "language": "python",
     "metadata": {},
     "outputs": [
      {
       "output_type": "stream",
       "stream": "stdout",
       "text": [
        "\u2713 AHy5li1HN3zSiixtwQKNTETiR1ruUrzx+90hjBtN184=\n"
       ]
      }
     ],
     "prompt_number": 27
    },
    {
     "cell_type": "code",
     "collapsed": false,
     "input": [
      "# Must define item, can assign values to the item like a dict\n",
      "class DmozItem(scrapy.Item):\n",
      "    title = scrapy.Field()\n",
      "    link  = scrapy.Field()\n",
      "    desc  = scrapy.Field()\n",
      "\n",
      "# example item pipeline\n",
      "class DuplicatesPipeline(object):\n",
      "\n",
      "    def __init__(self):\n",
      "        self.ids_seen = set()\n",
      "\n",
      "    def process_item(self, item, spider):\n",
      "        if item['id'] in self.ids_seen:\n",
      "            raise DropItem(\"Duplicate item found: %s\" % item)\n",
      "        else:\n",
      "            self.ids_seen.add(item['id'])\n",
      "            return item\n",
      "        \n",
      "ITEM_PIPELINES = {\n",
      "    'myproject.pipelines.PricePipeline': 300, # 0-1000, exectued in order lowest first\n",
      "    'myproject.pipelines.JsonWriterPipeline': 800,\n",
      "}"
     ],
     "language": "python",
     "metadata": {},
     "outputs": []
    }
   ],
   "metadata": {}
  }
 ]
}