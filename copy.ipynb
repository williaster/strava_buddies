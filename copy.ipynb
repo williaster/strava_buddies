{
 "metadata": {
  "name": ""
 },
 "nbformat": 3,
 "nbformat_minor": 0,
 "worksheets": [
  {
   "cells": [
    {
     "cell_type": "code",
     "collapsed": false,
     "input": [
      "import cookielib\n",
      "import time\n",
      "import urllib\n",
      "import urllib2\n",
      "import random\n",
      "\n",
      "from BeautifulSoup import BeautifulSoup\n",
      "#from credentials import *\n",
      "\n",
      "TIME_BT_REQUESTS = 2"
     ],
     "language": "python",
     "metadata": {},
     "outputs": [],
     "prompt_number": 3
    },
    {
     "cell_type": "code",
     "collapsed": false,
     "input": [
      "print \"Logging in...\"\n",
      "cj = cookielib.CookieJar()\n",
      "opener = urllib2.build_opener(urllib2.HTTPCookieProcessor(cj))\n",
      "\n",
      "f = opener.open('https://www.strava.com/login')\n",
      "soup = BeautifulSoup(f.read())\n",
      "f.\n",
      "\n",
      "time.sleep(random.randint(2,5))\n",
      "\n",
      "utf8 = soup.findAll('input', {'name': 'utf8'})[0].get('value').encode('utf-8')\n",
      "token = soup.findAll('input', {'name': 'authenticity_token'})[0].get('value')\n",
      "\n",
      "values = {\n",
      "    'utf8': utf8,\n",
      "    'authenticity_token': token,\n",
      "    'email': \"tomgreen@hotmail.com\",\n",
      "    'password': \"tomgreen\",\n",
      "    'plan' : \n",
      "}\n",
      "print values\n",
      "\n",
      "data = urllib.urlencode(values)\n",
      "url = 'https://www.strava.com/session'\n",
      "response = opener.open(url, data)\n",
      "soup = BeautifulSoup(response.read())\n",
      "\n",
      "print \"Logged in, let's see what's good...\"\n",
      "\n",
      "time.sleep(random.randint(2,5))\n",
      "\n",
      "f = opener.open('http://www.strava.com/dashboard')\n",
      "soup = BeautifulSoup(f.read())\n",
      "\n",
      "print soup\n"
     ],
     "language": "python",
     "metadata": {},
     "outputs": [
      {
       "ename": "SyntaxError",
       "evalue": "invalid syntax (<ipython-input-9-e4579526ba13>, line 7)",
       "output_type": "pyerr",
       "traceback": [
        "\u001b[0;36m  File \u001b[0;32m\"<ipython-input-9-e4579526ba13>\"\u001b[0;36m, line \u001b[0;32m7\u001b[0m\n\u001b[0;31m    f.\u001b[0m\n\u001b[0m      ^\u001b[0m\n\u001b[0;31mSyntaxError\u001b[0m\u001b[0;31m:\u001b[0m invalid syntax\n"
       ]
      }
     ],
     "prompt_number": 9
    },
    {
     "cell_type": "code",
     "collapsed": false,
     "input": [
      "print f.headers"
     ],
     "language": "python",
     "metadata": {},
     "outputs": [
      {
       "output_type": "stream",
       "stream": "stdout",
       "text": [
        "Cache-Control: must-revalidate, private, max-age=0\r\n",
        "Content-Type: text/html; charset=utf-8\r\n",
        "Date: Fri, 05 Sep 2014 04:06:36 GMT\r\n",
        "ETag: \"c0a153e9c13379c8e9cb7d5cb478e757\"\r\n",
        "Server: nginx/1.6.1 + Phusion Passenger 4.0.48\r\n",
        "Set-Cookie: _strava3_session=BAh7CkkiD3Nlc3Npb25faWQGOgZFRkkiJTc4ZjFjODJhNjQ2N2U3MGIyOTA1ODhjMWVhNmRiZjcyBjsAVEkiEGNsZWFyX2NsaWNrBjsARlRJIhBfY3NyZl90b2tlbgY7AEZJIjF2VjFCRStNeENPOXBOaUUwMUg5bmk2SmpOM0lMYTdkd2o0ZEIrS3V1YWg4PQY7AEZJIgpmbGFzaAY7AEZvOiVBY3Rpb25EaXNwYXRjaDo6Rmxhc2g6OkZsYXNoSGFzaAk6CkB1c2VkbzoIU2V0BjoKQGhhc2h7BjoKZXJyb3JUOgxAY2xvc2VkRjoNQGZsYXNoZXN7BjsKMDoJQG5vdzBJIhxyZWRpcmVjdF90b19hZnRlcl9sb2dpbgY7AEYiDy9kYXNoYm9hcmQ%3D--c6caa5d9ccb8d71a55647ff8ff3643fe66fa1d6f; domain=strava.com; path=/; HttpOnly\r\n",
        "Status: 200 OK\r\n",
        "X-Powered-By: Phusion Passenger 4.0.48\r\n",
        "X-Rack-Cache: miss\r\n",
        "X-Runtime: 0.060700\r\n",
        "X-UA-Compatible: IE=Edge,chrome=1\r\n",
        "transfer-encoding: chunked\r\n",
        "Connection: Close\r\n",
        "\n"
       ]
      }
     ],
     "prompt_number": 10
    }
   ],
   "metadata": {}
  }
 ]
}